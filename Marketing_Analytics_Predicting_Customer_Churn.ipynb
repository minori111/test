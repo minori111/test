{
  "nbformat": 4,
  "nbformat_minor": 0,
  "metadata": {
    "colab": {
      "name": "Marketing Analytics: Predicting Customer Churn",
      "provenance": [],
      "authorship_tag": "ABX9TyPvSUZUBYj3AiO0MqR57HFj",
      "include_colab_link": true
    },
    "kernelspec": {
      "name": "python3",
      "display_name": "Python 3"
    }
  },
  "cells": [
    {
      "cell_type": "markdown",
      "metadata": {
        "id": "view-in-github",
        "colab_type": "text"
      },
      "source": [
        "<a href=\"https://colab.research.google.com/github/randy-tsukemen/Data_science_roadmap/blob/master/Marketing_Analytics_Predicting_Customer_Churn.ipynb\" target=\"_parent\"><img src=\"https://colab.research.google.com/assets/colab-badge.svg\" alt=\"Open In Colab\"/></a>"
      ]
    },
    {
      "cell_type": "markdown",
      "metadata": {
        "id": "oBGZP03d8Rsd",
        "colab_type": "text"
      },
      "source": [
        "#  Exploratory Data Analysis"
      ]
    },
    {
      "cell_type": "markdown",
      "metadata": {
        "id": "vLVSfAl-8Ndr",
        "colab_type": "text"
      },
      "source": [
        "##  Customer churn\n",
        "When an existing customer stops doing business with a company"
      ]
    },
    {
      "cell_type": "markdown",
      "metadata": {
        "id": "kkltiVZe8Yp5",
        "colab_type": "text"
      },
      "source": [
        "Contractual churn\n",
        "Voluntary churn\n",
        "Non-contractual churn\n",
        "Involuntary churn: Credit card expiration"
      ]
    },
    {
      "cell_type": "markdown",
      "metadata": {
        "id": "6bmP7iJb8il-",
        "colab_type": "text"
      },
      "source": [
        "Utilizing your experience\n",
        "- Customer\n",
        "  - Lack of usage\n",
        "  - Poor Service\n",
        "  - Better Price\n",
        "- Domain/industry knowledge"
      ]
    },
    {
      "cell_type": "markdown",
      "metadata": {
        "id": "5bgCGNAZ84DA",
        "colab_type": "text"
      },
      "source": [
        "Features of interest\n",
        "- Voice mail\n",
        "- International calling\n",
        "- Cost for the service\n",
        "- Customer usage\n",
        "- Customer churn"
      ]
    },
    {
      "cell_type": "markdown",
      "metadata": {
        "id": "4poi42xf88XT",
        "colab_type": "text"
      },
      "source": [
        "How churn is defined here\n",
        "\n",
        "Customer cancelling their cellular plan at a given point in time\n",
        "- \"no\"\n",
        "- \"yes\""
      ]
    },
    {
      "cell_type": "markdown",
      "metadata": {
        "id": "-6KhHXbD9L7T",
        "colab_type": "text"
      },
      "source": [
        "Exploratory data analysis using pandas\n",
        "- Understand the features of the dataset\n",
        "- Compute summary statistics"
      ]
    },
    {
      "cell_type": "markdown",
      "metadata": {
        "id": "_jscc3sQ9asu",
        "colab_type": "text"
      },
      "source": [
        "Defining customer churn\n",
        "\n",
        "- Cancelled a service that is under contract.\n",
        "- Expiration of credit card.\n",
        "- Left a service not under contract.\n",
        "- Purchase from a different store."
      ]
    },
    {
      "cell_type": "code",
      "metadata": {
        "id": "y7jHXSx37Mm8",
        "colab_type": "code",
        "colab": {}
      },
      "source": [
        "import pandas as pd"
      ],
      "execution_count": 0,
      "outputs": []
    },
    {
      "cell_type": "code",
      "metadata": {
        "id": "2YWIoZw29wZf",
        "colab_type": "code",
        "colab": {}
      },
      "source": [
        "telco = pd.read_csv('https://assets.datacamp.com/production/repositories/1764/datasets/79c5446a4a753e728e32b4a67138344847b8f131/Churn.csv')"
      ],
      "execution_count": 0,
      "outputs": []
    },
    {
      "cell_type": "code",
      "metadata": {
        "id": "BuchzN9597ko",
        "colab_type": "code",
        "colab": {
          "base_uri": "https://localhost:8080/",
          "height": 514
        },
        "outputId": "4fb96393-4791-493b-dc1c-a6176b780030"
      },
      "source": [
        "telco.info()"
      ],
      "execution_count": 3,
      "outputs": [
        {
          "output_type": "stream",
          "text": [
            "<class 'pandas.core.frame.DataFrame'>\n",
            "RangeIndex: 3333 entries, 0 to 3332\n",
            "Data columns (total 21 columns):\n",
            " #   Column          Non-Null Count  Dtype  \n",
            "---  ------          --------------  -----  \n",
            " 0   Account_Length  3333 non-null   int64  \n",
            " 1   Vmail_Message   3333 non-null   int64  \n",
            " 2   Day_Mins        3333 non-null   float64\n",
            " 3   Eve_Mins        3333 non-null   float64\n",
            " 4   Night_Mins      3333 non-null   float64\n",
            " 5   Intl_Mins       3333 non-null   float64\n",
            " 6   CustServ_Calls  3333 non-null   int64  \n",
            " 7   Churn           3333 non-null   object \n",
            " 8   Intl_Plan       3333 non-null   object \n",
            " 9   Vmail_Plan      3333 non-null   object \n",
            " 10  Day_Calls       3333 non-null   int64  \n",
            " 11  Day_Charge      3333 non-null   float64\n",
            " 12  Eve_Calls       3333 non-null   int64  \n",
            " 13  Eve_Charge      3333 non-null   float64\n",
            " 14  Night_Calls     3333 non-null   int64  \n",
            " 15  Night_Charge    3333 non-null   float64\n",
            " 16  Intl_Calls      3333 non-null   int64  \n",
            " 17  Intl_Charge     3333 non-null   float64\n",
            " 18  State           3333 non-null   object \n",
            " 19  Area_Code       3333 non-null   int64  \n",
            " 20  Phone           3333 non-null   object \n",
            "dtypes: float64(8), int64(8), object(5)\n",
            "memory usage: 546.9+ KB\n"
          ],
          "name": "stdout"
        }
      ]
    },
    {
      "cell_type": "markdown",
      "metadata": {
        "id": "Ry2G9Gvn-GfG",
        "colab_type": "text"
      },
      "source": [
        "Exploring customer churn\n",
        "\n",
        "It looks like there are far more Non-Churners than Churners in our dataset."
      ]
    },
    {
      "cell_type": "code",
      "metadata": {
        "id": "221lVeWX-AKc",
        "colab_type": "code",
        "colab": {
          "base_uri": "https://localhost:8080/",
          "height": 70
        },
        "outputId": "218517c3-c177-430a-8e08-95da88efaf09"
      },
      "source": [
        "telco['Churn'].value_counts()"
      ],
      "execution_count": 4,
      "outputs": [
        {
          "output_type": "execute_result",
          "data": {
            "text/plain": [
              "no     2850\n",
              "yes     483\n",
              "Name: Churn, dtype: int64"
            ]
          },
          "metadata": {
            "tags": []
          },
          "execution_count": 4
        }
      ]
    },
    {
      "cell_type": "markdown",
      "metadata": {
        "id": "ZEIcaaYT-lJs",
        "colab_type": "text"
      },
      "source": [
        "Differences between churners and non-churners\n",
        "- Do churners call customer service more often?\n",
        "- Does one state have more churners compared to another?"
      ]
    },
    {
      "cell_type": "markdown",
      "metadata": {
        "id": "o11U9TLj-rnL",
        "colab_type": "text"
      },
      "source": [
        "Summary statistics for both classes"
      ]
    },
    {
      "cell_type": "markdown",
      "metadata": {
        "id": "e9_zCojV_M-x",
        "colab_type": "text"
      },
      "source": [
        "Churners make more customer service calls than non-churners."
      ]
    },
    {
      "cell_type": "code",
      "metadata": {
        "id": "ZXXzwsQ9-C6F",
        "colab_type": "code",
        "colab": {
          "base_uri": "https://localhost:8080/",
          "height": 230
        },
        "outputId": "bc20ae97-1def-4ac4-d5b8-b3c1b92e3814"
      },
      "source": [
        "# Group telco by 'Churn' and compute the mean\n",
        "print(telco.groupby(['Churn']).mean())\n",
        "# Adapt your code to compute the standard deviation\n",
        "print(telco.groupby(['Churn']).std())\n"
      ],
      "execution_count": 5,
      "outputs": [
        {
          "output_type": "stream",
          "text": [
            "       Account_Length  Vmail_Message  ...  Intl_Charge   Area_Code\n",
            "Churn                                 ...                         \n",
            "no         100.793684       8.604561  ...     2.743404  437.074737\n",
            "yes        102.664596       5.115942  ...     2.889545  437.817805\n",
            "\n",
            "[2 rows x 16 columns]\n",
            "       Account_Length  Vmail_Message  ...  Intl_Charge  Area_Code\n",
            "Churn                                 ...                        \n",
            "no           39.88235      13.913125  ...     0.751784  42.306156\n",
            "yes          39.46782      11.860138  ...     0.754152  42.792270\n",
            "\n",
            "[2 rows x 16 columns]\n"
          ],
          "name": "stdout"
        }
      ]
    },
    {
      "cell_type": "markdown",
      "metadata": {
        "id": "Jqrlvnxv_aww",
        "colab_type": "text"
      },
      "source": [
        "Churn by State\n",
        "\n",
        "When dealing with customer data, geographic regions may play an important part in determining whether a customer will cancel their service or not. "
      ]
    },
    {
      "cell_type": "code",
      "metadata": {
        "id": "_-1rdwBK_X1z",
        "colab_type": "code",
        "colab": {
          "base_uri": "https://localhost:8080/",
          "height": 248
        },
        "outputId": "7779a1cd-45d3-4c2f-c94a-7cbd2b163725"
      },
      "source": [
        "# Count the number of churners and non-churners by State\n",
        "print(telco.groupby('State')['Churn'].value_counts())\n"
      ],
      "execution_count": 6,
      "outputs": [
        {
          "output_type": "stream",
          "text": [
            "State  Churn\n",
            "AK     no       49\n",
            "       yes       3\n",
            "AL     no       72\n",
            "       yes       8\n",
            "AR     no       44\n",
            "                ..\n",
            "WI     yes       7\n",
            "WV     no       96\n",
            "       yes      10\n",
            "WY     no       68\n",
            "       yes       9\n",
            "Name: Churn, Length: 102, dtype: int64\n"
          ],
          "name": "stdout"
        }
      ]
    },
    {
      "cell_type": "markdown",
      "metadata": {
        "id": "3KtONs_tAQzB",
        "colab_type": "text"
      },
      "source": [
        "Exploring feature distributions\n",
        "\n",
        "Important to understand how your variables are distributed"
      ]
    },
    {
      "cell_type": "markdown",
      "metadata": {
        "id": "5D3ch2XNA5zg",
        "colab_type": "text"
      },
      "source": [
        "All of these features appear to be well approximated by the normal distribution. If this were not the case, we would have to consider applying a feature transformation of some kind."
      ]
    },
    {
      "cell_type": "code",
      "metadata": {
        "id": "mQjuJSZIAWMO",
        "colab_type": "code",
        "colab": {
          "base_uri": "https://localhost:8080/",
          "height": 1000
        },
        "outputId": "95bc84ac-57f0-4531-e843-01462be69f64"
      },
      "source": [
        "# Import matplotlib and seaborn\n",
        "import matplotlib.pyplot as plt\n",
        "import seaborn as sns\n",
        "\n",
        "# Visualize the distribution of 'Day_Mins'\n",
        "sns.distplot(telco['Day_Mins'])\n",
        "\n",
        "# Display the plot\n",
        "plt.show()\n",
        "\n",
        "# Visualize the distribution of 'Eve_Mins'\n",
        "sns.distplot(telco['Eve_Mins'])\n",
        "\n",
        "# Display the plot\n",
        "plt.show()\n",
        "\n",
        "# Visualize the distribution of 'Night_Mins'\n",
        "sns.distplot(telco['Night_Mins'])\n",
        "\n",
        "# Display the plot\n",
        "plt.show()\n",
        "\n",
        "# Visualize the distribution of 'Intl_Mins'\n",
        "sns.distplot(telco['Intl_Mins'])\n",
        "\n",
        "# Display the plot\n",
        "plt.show()"
      ],
      "execution_count": 9,
      "outputs": [
        {
          "output_type": "display_data",
          "data": {
            "image/png": "[encoded data removed]",
            "text/plain": [
              "<Figure size 432x288 with 1 Axes>"
            ]
          },
          "metadata": {
            "tags": [],
            "needs_background": "light"
          }
        },
        {
          "output_type": "display_data",
          "data": {
            "image/png": "[encoded data removed]",
            "text/plain": [
              "<Figure size 432x288 with 1 Axes>"
            ]
          },
          "metadata": {
            "tags": [],
            "needs_background": "light"
          }
        },
        {
          "output_type": "display_data",
          "data": {
            "image/png": "[encoded data removed]",
            "text/plain": [
              "<Figure size 432x288 with 1 Axes>"
            ]
          },
          "metadata": {
            "tags": [],
            "needs_background": "light"
          }
        },
        {
          "output_type": "display_data",
          "data": {
            "image/png": "[encoded data removed]",
            "text/plain": [
              "<Figure size 432x288 with 1 Axes>"
            ]
          },
          "metadata": {
            "tags": [],
            "needs_background": "light"
          }
        }
      ]
    },
    {
      "cell_type": "markdown",
      "metadata": {
        "id": "Rc6RiwNWA7EP",
        "colab_type": "text"
      },
      "source": [
        "Customer service calls and churn\n",
        "\n",
        "there's not much of a difference in account lengths between churners and non-churners, but that there is a difference in the number of customer service calls left by churners. "
      ]
    },
    {
      "cell_type": "markdown",
      "metadata": {
        "id": "zFLQ-zt4CAcB",
        "colab_type": "text"
      },
      "source": [
        "There are some very interesting insights here. It looks like customers who do churn end up leaving more customer service calls, unless these customers also have an international plan, in which case they leave fewer customer service calls. This type of information is really useful in better understanding the drivers of churn."
      ]
    },
    {
      "cell_type": "code",
      "metadata": {
        "id": "bTyZSR_PBDu0",
        "colab_type": "code",
        "colab": {
          "base_uri": "https://localhost:8080/",
          "height": 541
        },
        "outputId": "04284ecf-95d6-4e89-d35b-bac33ee4962b"
      },
      "source": [
        "# Add \"Vmail_Plan\" as a third variable\n",
        "sns.boxplot(x = 'Churn',\n",
        "            y = 'CustServ_Calls',\n",
        "            data = telco,\n",
        "            sym = \"\",\n",
        "            hue = \"Vmail_Plan\")\n",
        "\n",
        "# Display the plot\n",
        "plt.show()\n",
        "\n",
        "# Add \"Intl_Plan\" as a third variable\n",
        "sns.boxplot(x = 'Churn',\n",
        "            y = 'CustServ_Calls',\n",
        "            data = telco,\n",
        "            sym = \"\",\n",
        "            hue = \"Intl_Plan\")\n",
        "\n",
        "# Display the plot\n",
        "plt.show()"
      ],
      "execution_count": 11,
      "outputs": [
        {
          "output_type": "display_data",
          "data": {
            "image/png": "[encoded data removed]",
            "text/plain": [
              "<Figure size 432x288 with 1 Axes>"
            ]
          },
          "metadata": {
            "tags": [],
            "needs_background": "light"
          }
        },
        {
          "output_type": "display_data",
          "data": {
            "image/png": "[encoded data removed]",
            "text/plain": [
              "<Figure size 432x288 with 1 Axes>"
            ]
          },
          "metadata": {
            "tags": [],
            "needs_background": "light"
          }
        }
      ]
    },
    {
      "cell_type": "markdown",
      "metadata": {
        "id": "gtzjAeAuCEw_",
        "colab_type": "text"
      },
      "source": [
        "#  Preprocessing for Churn Modeling"
      ]
    },
    {
      "cell_type": "markdown",
      "metadata": {
        "id": "DzEa0VK-CxqY",
        "colab_type": "text"
      },
      "source": [
        "Model assumptions\n",
        "- Some assumptions that models make:\n",
        "  - That the features are normally distributed\n",
        "  - That the features are on the same scale"
      ]
    },
    {
      "cell_type": "markdown",
      "metadata": {
        "id": "yWzXw-XNC3QM",
        "colab_type": "text"
      },
      "source": [
        "Data types\n",
        "- Machine learning algorithms require numeric data types\n",
        "  - Need to encode categorical variables as numeric"
      ]
    },
    {
      "cell_type": "markdown",
      "metadata": {
        "id": "sP51JxdvC8bN",
        "colab_type": "text"
      },
      "source": [
        "Feature scaling\n",
        "- Features should be on the same scale\n",
        "- Rarely true of real-world data"
      ]
    },
    {
      "cell_type": "markdown",
      "metadata": {
        "id": "oHIti4DHDDV_",
        "colab_type": "text"
      },
      "source": [
        "Standardization\n",
        "- Centers the distribution around the mean\n",
        "- Calculates the number of standard deviations away from the mean each point is"
      ]
    },
    {
      "cell_type": "markdown",
      "metadata": {
        "id": "nLQ_2jATDI3l",
        "colab_type": "text"
      },
      "source": [
        "Identifying features to convert\n",
        "\n",
        "Churn, Vmail_Plan, and Intl_Plan, in particular, are binary features that can easily be converted into 0s and 1s."
      ]
    },
    {
      "cell_type": "code",
      "metadata": {
        "id": "bwJIRQY6DRgG",
        "colab_type": "code",
        "colab": {
          "base_uri": "https://localhost:8080/",
          "height": 408
        },
        "outputId": "18bcef61-831e-4edd-daa0-846875e4f0a2"
      },
      "source": [
        "telco.dtypes"
      ],
      "execution_count": 12,
      "outputs": [
        {
          "output_type": "execute_result",
          "data": {
            "text/plain": [
              "Account_Length      int64\n",
              "Vmail_Message       int64\n",
              "Day_Mins          float64\n",
              "Eve_Mins          float64\n",
              "Night_Mins        float64\n",
              "Intl_Mins         float64\n",
              "CustServ_Calls      int64\n",
              "Churn              object\n",
              "Intl_Plan          object\n",
              "Vmail_Plan         object\n",
              "Day_Calls           int64\n",
              "Day_Charge        float64\n",
              "Eve_Calls           int64\n",
              "Eve_Charge        float64\n",
              "Night_Calls         int64\n",
              "Night_Charge      float64\n",
              "Intl_Calls          int64\n",
              "Intl_Charge       float64\n",
              "State              object\n",
              "Area_Code           int64\n",
              "Phone              object\n",
              "dtype: object"
            ]
          },
          "metadata": {
            "tags": []
          },
          "execution_count": 12
        }
      ]
    },
    {
      "cell_type": "markdown",
      "metadata": {
        "id": "940y_omhDRGr",
        "colab_type": "text"
      },
      "source": [
        "Encoding binary features\n",
        "\n",
        "With these features encoded as 0 and 1, you can now use them in machine learning algorithms."
      ]
    },
    {
      "cell_type": "code",
      "metadata": {
        "id": "xsb9_b7oDc1x",
        "colab_type": "code",
        "colab": {
          "base_uri": "https://localhost:8080/",
          "height": 230
        },
        "outputId": "e3567ba3-52fc-4f49-b774-1606d032a543"
      },
      "source": [
        "# Replace 'no' with 0 and 'yes' with 1 in 'Vmail_Plan'\n",
        "telco['Vmail_Plan'] = telco['Vmail_Plan'].replace({'no':0 , 'yes':1})\n",
        "\n",
        "# Replace 'no' with 0 and 'yes' with 1 in 'Churn'\n",
        "telco['Churn'] = telco['Churn'].replace({'no':0 , 'yes':1})\n",
        "\n",
        "# Print the results to verify\n",
        "print(telco['Vmail_Plan'].head())\n",
        "print(telco['Churn'].head())"
      ],
      "execution_count": 13,
      "outputs": [
        {
          "output_type": "stream",
          "text": [
            "0    1\n",
            "1    1\n",
            "2    0\n",
            "3    0\n",
            "4    0\n",
            "Name: Vmail_Plan, dtype: int64\n",
            "0    0\n",
            "1    0\n",
            "2    0\n",
            "3    0\n",
            "4    0\n",
            "Name: Churn, dtype: int64\n"
          ],
          "name": "stdout"
        }
      ]
    },
    {
      "cell_type": "code",
      "metadata": {
        "id": "05nOYjcgF0o_",
        "colab_type": "code",
        "colab": {
          "base_uri": "https://localhost:8080/",
          "height": 124
        },
        "outputId": "9dca34b6-4e9c-4a4a-df13-accdabc51817"
      },
      "source": [
        "from sklearn.preprocessing import LabelEncoder\n",
        "telco['Intl_Plan'] = LabelEncoder().fit_transform(telco[\"Intl_Plan\"])\n",
        "telco['Intl_Plan'].head()"
      ],
      "execution_count": 19,
      "outputs": [
        {
          "output_type": "execute_result",
          "data": {
            "text/plain": [
              "0    0\n",
              "1    0\n",
              "2    0\n",
              "3    1\n",
              "4    1\n",
              "Name: Intl_Plan, dtype: int64"
            ]
          },
          "metadata": {
            "tags": []
          },
          "execution_count": 19
        }
      ]
    },
    {
      "cell_type": "markdown",
      "metadata": {
        "id": "aAygdkV1Dxlw",
        "colab_type": "text"
      },
      "source": [
        "One hot encoding\n",
        "\n",
        "Notice that this creates an entirely new DataFrame. Once you merge this back into the original telco DataFrame, you can begin using these state features in your models. Do note, however, that we now have many more features in our dataset, so we should consider dropping any that are unnecessary."
      ]
    },
    {
      "cell_type": "code",
      "metadata": {
        "id": "KIopNfpaE77h",
        "colab_type": "code",
        "colab": {
          "base_uri": "https://localhost:8080/",
          "height": 159
        },
        "outputId": "1d5b5033-57ae-4d07-f150-9f275e95c11a"
      },
      "source": [
        "# Perform one hot encoding on 'State'\n",
        "telco_state = pd.get_dummies(telco['State'])\n",
        "\n",
        "# Print the head of telco_state\n",
        "print(telco_state.head())"
      ],
      "execution_count": 14,
      "outputs": [
        {
          "output_type": "stream",
          "text": [
            "   AK  AL  AR  AZ  CA  CO  CT  DC  DE  ...  TN  TX  UT  VA  VT  WA  WI  WV  WY\n",
            "0   0   0   0   0   0   0   0   0   0  ...   0   0   0   0   0   0   0   0   0\n",
            "1   0   0   0   0   0   0   0   0   0  ...   0   0   0   0   0   0   0   0   0\n",
            "2   0   0   0   0   0   0   0   0   0  ...   0   0   0   0   0   0   0   0   0\n",
            "3   0   0   0   0   0   0   0   0   0  ...   0   0   0   0   0   0   0   0   0\n",
            "4   0   0   0   0   0   0   0   0   0  ...   0   0   0   0   0   0   0   0   0\n",
            "\n",
            "[5 rows x 51 columns]\n"
          ],
          "name": "stdout"
        }
      ]
    },
    {
      "cell_type": "markdown",
      "metadata": {
        "id": "hWdMyL2tFTG-",
        "colab_type": "text"
      },
      "source": [
        "Feature scaling\n",
        "\n",
        "Both features are now on the same scale. In practice, you'll need to carefully ensure this is the case for all features of interest."
      ]
    },
    {
      "cell_type": "code",
      "metadata": {
        "id": "JJ2lfyXXFTfc",
        "colab_type": "code",
        "colab": {
          "base_uri": "https://localhost:8080/",
          "height": 177
        },
        "outputId": "87d98183-3e8c-4a76-ecd4-5c6275648343"
      },
      "source": [
        "# Import StandardScaler\n",
        "from sklearn.preprocessing import StandardScaler\n",
        "\n",
        "# Scale telco using StandardScaler\n",
        "telco_scaled = StandardScaler().fit_transform(telco[[\"Intl_Calls\", \"Night_Mins\"]])\n",
        "\n",
        "# Add column names back for readability\n",
        "telco_scaled_df = pd.DataFrame(telco_scaled, columns=[\"Intl_Calls\", \"Night_Mins\"])\n",
        "\n",
        "# Print summary statistics\n",
        "print(telco_scaled_df.describe())"
      ],
      "execution_count": 21,
      "outputs": [
        {
          "output_type": "stream",
          "text": [
            "         Intl_Calls    Night_Mins\n",
            "count  3.333000e+03  3.333000e+03\n",
            "mean  -1.264615e-16  6.602046e-17\n",
            "std    1.000150e+00  1.000150e+00\n",
            "min   -1.820289e+00 -3.513648e+00\n",
            "25%   -6.011951e-01 -6.698545e-01\n",
            "50%   -1.948306e-01  6.485803e-03\n",
            "75%    6.178983e-01  6.808485e-01\n",
            "max    6.307001e+00  3.839081e+00\n"
          ],
          "name": "stdout"
        }
      ]
    }
  ]
}