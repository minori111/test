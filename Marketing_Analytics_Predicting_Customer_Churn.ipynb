{
  "nbformat": 4,
  "nbformat_minor": 0,
  "metadata": {
    "colab": {
      "name": "Marketing Analytics: Predicting Customer Churn",
      "provenance": [],
      "toc_visible": true,
      "authorship_tag": "ABX9TyO6mYr5PQkDKkhz6pPNpOBM",
      "include_colab_link": true
    },
    "kernelspec": {
      "name": "python3",
      "display_name": "Python 3"
    }
  },
  "cells": [
    {
      "cell_type": "markdown",
      "metadata": {
        "id": "view-in-github",
        "colab_type": "text"
      },
      "source": [
        "<a href=\"https://colab.research.google.com/github/randy-tsukemen/Data_science_roadmap/blob/master/Marketing_Analytics_Predicting_Customer_Churn.ipynb\" target=\"_parent\"><img src=\"https://colab.research.google.com/assets/colab-badge.svg\" alt=\"Open In Colab\"/></a>"
      ]
    },
    {
      "cell_type": "markdown",
      "metadata": {
        "id": "oBGZP03d8Rsd",
        "colab_type": "text"
      },
      "source": [
        "#  Exploratory Data Analysis"
      ]
    },
    {
      "cell_type": "markdown",
      "metadata": {
        "id": "vLVSfAl-8Ndr",
        "colab_type": "text"
      },
      "source": [
        "Customer churn\n",
        "\n",
        "When an existing customer stops doing business with a company"
      ]
    },
    {
      "cell_type": "markdown",
      "metadata": {
        "id": "kkltiVZe8Yp5",
        "colab_type": "text"
      },
      "source": [
        "Contractual churn\n",
        "Voluntary churn\n",
        "Non-contractual churn\n",
        "Involuntary churn: Credit card expiration"
      ]
    },
    {
      "cell_type": "markdown",
      "metadata": {
        "id": "6bmP7iJb8il-",
        "colab_type": "text"
      },
      "source": [
        "Utilizing your experience\n",
        "- Customer\n",
        "  - Lack of usage\n",
        "  - Poor Service\n",
        "  - Better Price\n",
        "- Domain/industry knowledge"
      ]
    },
    {
      "cell_type": "markdown",
      "metadata": {
        "id": "5bgCGNAZ84DA",
        "colab_type": "text"
      },
      "source": [
        "Features of interest\n",
        "- Voice mail\n",
        "- International calling\n",
        "- Cost for the service\n",
        "- Customer usage\n",
        "- Customer churn"
      ]
    },
    {
      "cell_type": "markdown",
      "metadata": {
        "id": "4poi42xf88XT",
        "colab_type": "text"
      },
      "source": [
        "How churn is defined here\n",
        "\n",
        "Customer cancelling their cellular plan at a given point in time\n",
        "- \"no\"\n",
        "- \"yes\""
      ]
    },
    {
      "cell_type": "markdown",
      "metadata": {
        "id": "-6KhHXbD9L7T",
        "colab_type": "text"
      },
      "source": [
        "Exploratory data analysis using pandas\n",
        "- Understand the features of the dataset\n",
        "- Compute summary statistics"
      ]
    },
    {
      "cell_type": "markdown",
      "metadata": {
        "id": "_jscc3sQ9asu",
        "colab_type": "text"
      },
      "source": [
        "Defining customer churn\n",
        "\n",
        "- Cancelled a service that is under contract.\n",
        "- Expiration of credit card.\n",
        "- Left a service not under contract.\n",
        "- Purchase from a different store."
      ]
    },
    {
      "cell_type": "code",
      "metadata": {
        "id": "y7jHXSx37Mm8",
        "colab_type": "code",
        "colab": {}
      },
      "source": [
        "import pandas as pd"
      ],
      "execution_count": 0,
      "outputs": []
    },
    {
      "cell_type": "code",
      "metadata": {
        "id": "2YWIoZw29wZf",
        "colab_type": "code",
        "colab": {}
      },
      "source": [
        "telco = pd.read_csv('https://assets.datacamp.com/production/repositories/1764/datasets/79c5446a4a753e728e32b4a67138344847b8f131/Churn.csv')"
      ],
      "execution_count": 0,
      "outputs": []
    },
    {
      "cell_type": "code",
      "metadata": {
        "id": "BuchzN9597ko",
        "colab_type": "code",
        "colab": {
          "base_uri": "https://localhost:8080/",
          "height": 514
        },
        "outputId": "5930853a-a250-417e-de6d-9869072184de"
      },
      "source": [
        "telco.info()"
      ],
      "execution_count": 3,
      "outputs": [
        {
          "output_type": "stream",
          "text": [
            "<class 'pandas.core.frame.DataFrame'>\n",
            "RangeIndex: 3333 entries, 0 to 3332\n",
            "Data columns (total 21 columns):\n",
            " #   Column          Non-Null Count  Dtype  \n",
            "---  ------          --------------  -----  \n",
            " 0   Account_Length  3333 non-null   int64  \n",
            " 1   Vmail_Message   3333 non-null   int64  \n",
            " 2   Day_Mins        3333 non-null   float64\n",
            " 3   Eve_Mins        3333 non-null   float64\n",
            " 4   Night_Mins      3333 non-null   float64\n",
            " 5   Intl_Mins       3333 non-null   float64\n",
            " 6   CustServ_Calls  3333 non-null   int64  \n",
            " 7   Churn           3333 non-null   object \n",
            " 8   Intl_Plan       3333 non-null   object \n",
            " 9   Vmail_Plan      3333 non-null   object \n",
            " 10  Day_Calls       3333 non-null   int64  \n",
            " 11  Day_Charge      3333 non-null   float64\n",
            " 12  Eve_Calls       3333 non-null   int64  \n",
            " 13  Eve_Charge      3333 non-null   float64\n",
            " 14  Night_Calls     3333 non-null   int64  \n",
            " 15  Night_Charge    3333 non-null   float64\n",
            " 16  Intl_Calls      3333 non-null   int64  \n",
            " 17  Intl_Charge     3333 non-null   float64\n",
            " 18  State           3333 non-null   object \n",
            " 19  Area_Code       3333 non-null   int64  \n",
            " 20  Phone           3333 non-null   object \n",
            "dtypes: float64(8), int64(8), object(5)\n",
            "memory usage: 546.9+ KB\n"
          ],
          "name": "stdout"
        }
      ]
    },
    {
      "cell_type": "markdown",
      "metadata": {
        "id": "Ry2G9Gvn-GfG",
        "colab_type": "text"
      },
      "source": [
        "Exploring customer churn\n",
        "\n",
        "It looks like there are far more Non-Churners than Churners in our dataset."
      ]
    },
    {
      "cell_type": "code",
      "metadata": {
        "id": "221lVeWX-AKc",
        "colab_type": "code",
        "colab": {
          "base_uri": "https://localhost:8080/",
          "height": 70
        },
        "outputId": "9d770e94-48a3-4e21-c1db-6f3ed906d1bd"
      },
      "source": [
        "telco['Churn'].value_counts()"
      ],
      "execution_count": 4,
      "outputs": [
        {
          "output_type": "execute_result",
          "data": {
            "text/plain": [
              "no     2850\n",
              "yes     483\n",
              "Name: Churn, dtype: int64"
            ]
          },
          "metadata": {
            "tags": []
          },
          "execution_count": 4
        }
      ]
    },
    {
      "cell_type": "markdown",
      "metadata": {
        "id": "ZEIcaaYT-lJs",
        "colab_type": "text"
      },
      "source": [
        "Differences between churners and non-churners\n",
        "- Do churners call customer service more often?\n",
        "- Does one state have more churners compared to another?"
      ]
    },
    {
      "cell_type": "markdown",
      "metadata": {
        "id": "o11U9TLj-rnL",
        "colab_type": "text"
      },
      "source": [
        "Summary statistics for both classes"
      ]
    },
    {
      "cell_type": "markdown",
      "metadata": {
        "id": "e9_zCojV_M-x",
        "colab_type": "text"
      },
      "source": [
        "Churners make more customer service calls than non-churners."
      ]
    },
    {
      "cell_type": "code",
      "metadata": {
        "id": "ZXXzwsQ9-C6F",
        "colab_type": "code",
        "colab": {
          "base_uri": "https://localhost:8080/",
          "height": 230
        },
        "outputId": "b4ced9d5-1139-4424-dcf1-7c99c5af13ba"
      },
      "source": [
        "# Group telco by 'Churn' and compute the mean\n",
        "print(telco.groupby(['Churn']).mean())\n",
        "# Adapt your code to compute the standard deviation\n",
        "print(telco.groupby(['Churn']).std())\n"
      ],
      "execution_count": 5,
      "outputs": [
        {
          "output_type": "stream",
          "text": [
            "       Account_Length  Vmail_Message  ...  Intl_Charge   Area_Code\n",
            "Churn                                 ...                         \n",
            "no         100.793684       8.604561  ...     2.743404  437.074737\n",
            "yes        102.664596       5.115942  ...     2.889545  437.817805\n",
            "\n",
            "[2 rows x 16 columns]\n",
            "       Account_Length  Vmail_Message  ...  Intl_Charge  Area_Code\n",
            "Churn                                 ...                        \n",
            "no           39.88235      13.913125  ...     0.751784  42.306156\n",
            "yes          39.46782      11.860138  ...     0.754152  42.792270\n",
            "\n",
            "[2 rows x 16 columns]\n"
          ],
          "name": "stdout"
        }
      ]
    },
    {
      "cell_type": "markdown",
      "metadata": {
        "id": "Jqrlvnxv_aww",
        "colab_type": "text"
      },
      "source": [
        "Churn by State\n",
        "\n",
        "When dealing with customer data, geographic regions may play an important part in determining whether a customer will cancel their service or not. "
      ]
    },
    {
      "cell_type": "code",
      "metadata": {
        "id": "_-1rdwBK_X1z",
        "colab_type": "code",
        "colab": {
          "base_uri": "https://localhost:8080/",
          "height": 248
        },
        "outputId": "412639e5-0ae1-4ce9-957e-7d22c3643522"
      },
      "source": [
        "# Count the number of churners and non-churners by State\n",
        "print(telco.groupby('State')['Churn'].value_counts())\n"
      ],
      "execution_count": 6,
      "outputs": [
        {
          "output_type": "stream",
          "text": [
            "State  Churn\n",
            "AK     no       49\n",
            "       yes       3\n",
            "AL     no       72\n",
            "       yes       8\n",
            "AR     no       44\n",
            "                ..\n",
            "WI     yes       7\n",
            "WV     no       96\n",
            "       yes      10\n",
            "WY     no       68\n",
            "       yes       9\n",
            "Name: Churn, Length: 102, dtype: int64\n"
          ],
          "name": "stdout"
        }
      ]
    },
    {
      "cell_type": "markdown",
      "metadata": {
        "id": "3KtONs_tAQzB",
        "colab_type": "text"
      },
      "source": [
        "Exploring feature distributions\n",
        "\n",
        "Important to understand how your variables are distributed"
      ]
    },
    {
      "cell_type": "markdown",
      "metadata": {
        "id": "5D3ch2XNA5zg",
        "colab_type": "text"
      },
      "source": [
        "All of these features appear to be well approximated by the normal distribution. If this were not the case, we would have to consider applying a feature transformation of some kind."
      ]
    },
    {
      "cell_type": "code",
      "metadata": {
        "id": "mQjuJSZIAWMO",
        "colab_type": "code",
        "colab": {
          "base_uri": "https://localhost:8080/",
          "height": 1000
        },
        "outputId": "4afd6a09-ade6-4a8b-8c30-957230f22af1"
      },
      "source": [
        "# Import matplotlib and seaborn\n",
        "import matplotlib.pyplot as plt\n",
        "import seaborn as sns\n",
        "\n",
        "# Visualize the distribution of 'Day_Mins'\n",
        "sns.distplot(telco['Day_Mins'])\n",
        "\n",
        "# Display the plot\n",
        "plt.show()\n",
        "\n",
        "# Visualize the distribution of 'Eve_Mins'\n",
        "sns.distplot(telco['Eve_Mins'])\n",
        "\n",
        "# Display the plot\n",
        "plt.show()\n",
        "\n",
        "# Visualize the distribution of 'Night_Mins'\n",
        "sns.distplot(telco['Night_Mins'])\n",
        "\n",
        "# Display the plot\n",
        "plt.show()\n",
        "\n",
        "# Visualize the distribution of 'Intl_Mins'\n",
        "sns.distplot(telco['Intl_Mins'])\n",
        "\n",
        "# Display the plot\n",
        "plt.show()"
      ],
      "execution_count": 7,
      "outputs": [
        {
          "output_type": "stream",
          "text": [
            "/usr/local/lib/python3.6/dist-packages/statsmodels/tools/_testing.py:19: FutureWarning: pandas.util.testing is deprecated. Use the functions in the public API at pandas.testing instead.\n",
            "  import pandas.util.testing as tm\n"
          ],
          "name": "stderr"
        },
        {
          "output_type": "display_data",
          "data": {
            "image/png": "[encoded data removed]",
            "text/plain": [
              "<Figure size 432x288 with 1 Axes>"
            ]
          },
          "metadata": {
            "tags": [],
            "needs_background": "light"
          }
        },
        {
          "output_type": "display_data",
          "data": {
            "image/png": "[encoded data removed]",
            "text/plain": [
              "<Figure size 432x288 with 1 Axes>"
            ]
          },
          "metadata": {
            "tags": [],
            "needs_background": "light"
          }
        },
        {
          "output_type": "display_data",
          "data": {
            "image/png": "[encoded data removed]",
            "text/plain": [
              "<Figure size 432x288 with 1 Axes>"
            ]
          },
          "metadata": {
            "tags": [],
            "needs_background": "light"
          }
        },
        {
          "output_type": "display_data",
          "data": {
            "image/png": "[encoded data removed]",
            "text/plain": [
              "<Figure size 432x288 with 1 Axes>"
            ]
          },
          "metadata": {
            "tags": [],
            "needs_background": "light"
          }
        }
      ]
    },
    {
      "cell_type": "markdown",
      "metadata": {
        "id": "Rc6RiwNWA7EP",
        "colab_type": "text"
      },
      "source": [
        "Customer service calls and churn\n",
        "\n",
        "there's not much of a difference in account lengths between churners and non-churners, but that there is a difference in the number of customer service calls left by churners. "
      ]
    },
    {
      "cell_type": "markdown",
      "metadata": {
        "id": "zFLQ-zt4CAcB",
        "colab_type": "text"
      },
      "source": [
        "There are some very interesting insights here. It looks like customers who do churn end up leaving more customer service calls, unless these customers also have an international plan, in which case they leave fewer customer service calls. This type of information is really useful in better understanding the drivers of churn."
      ]
    },
    {
      "cell_type": "code",
      "metadata": {
        "id": "bTyZSR_PBDu0",
        "colab_type": "code",
        "colab": {
          "base_uri": "https://localhost:8080/",
          "height": 541
        },
        "outputId": "de0cf2e2-76a4-4c91-9cb5-9eb02923c5f2"
      },
      "source": [
        "# Add \"Vmail_Plan\" as a third variable\n",
        "sns.boxplot(x = 'Churn',\n",
        "            y = 'CustServ_Calls',\n",
        "            data = telco,\n",
        "            sym = \"\",\n",
        "            hue = \"Vmail_Plan\")\n",
        "\n",
        "# Display the plot\n",
        "plt.show()\n",
        "\n",
        "# Add \"Intl_Plan\" as a third variable\n",
        "sns.boxplot(x = 'Churn',\n",
        "            y = 'CustServ_Calls',\n",
        "            data = telco,\n",
        "            sym = \"\",\n",
        "            hue = \"Intl_Plan\")\n",
        "\n",
        "# Display the plot\n",
        "plt.show()"
      ],
      "execution_count": 8,
      "outputs": [
        {
          "output_type": "display_data",
          "data": {
            "image/png": "[encoded data removed]",
            "text/plain": [
              "<Figure size 432x288 with 1 Axes>"
            ]
          },
          "metadata": {
            "tags": [],
            "needs_background": "light"
          }
        },
        {
          "output_type": "display_data",
          "data": {
            "image/png": "[encoded data removed]",
            "text/plain": [
              "<Figure size 432x288 with 1 Axes>"
            ]
          },
          "metadata": {
            "tags": [],
            "needs_background": "light"
          }
        }
      ]
    },
    {
      "cell_type": "markdown",
      "metadata": {
        "id": "gtzjAeAuCEw_",
        "colab_type": "text"
      },
      "source": [
        "#  Preprocessing for Churn Modeling"
      ]
    },
    {
      "cell_type": "markdown",
      "metadata": {
        "id": "DzEa0VK-CxqY",
        "colab_type": "text"
      },
      "source": [
        "Model assumptions\n",
        "- Some assumptions that models make:\n",
        "  - That the features are normally distributed\n",
        "  - That the features are on the same scale"
      ]
    },
    {
      "cell_type": "markdown",
      "metadata": {
        "id": "yWzXw-XNC3QM",
        "colab_type": "text"
      },
      "source": [
        "Data types\n",
        "- Machine learning algorithms require numeric data types\n",
        "  - Need to encode categorical variables as numeric"
      ]
    },
    {
      "cell_type": "markdown",
      "metadata": {
        "id": "sP51JxdvC8bN",
        "colab_type": "text"
      },
      "source": [
        "Feature scaling\n",
        "- Features should be on the same scale\n",
        "- Rarely true of real-world data"
      ]
    },
    {
      "cell_type": "markdown",
      "metadata": {
        "id": "oHIti4DHDDV_",
        "colab_type": "text"
      },
      "source": [
        "Standardization\n",
        "- Centers the distribution around the mean\n",
        "- Calculates the number of standard deviations away from the mean each point is"
      ]
    },
    {
      "cell_type": "markdown",
      "metadata": {
        "id": "9bHSBtKkN8vQ",
        "colab_type": "text"
      },
      "source": [
        "Dropping unnecessary features\n",
        "- Unique identifiers\n",
        "- Phone numbers\n",
        "- Social security numbers\n",
        "- Account numbers"
      ]
    },
    {
      "cell_type": "markdown",
      "metadata": {
        "id": "clUtsxg4OEqi",
        "colab_type": "text"
      },
      "source": [
        "Dropping correlated features\n",
        "- Highly correlated features can be dropped\n",
        "- They provide no additional information to the model"
      ]
    },
    {
      "cell_type": "markdown",
      "metadata": {
        "id": "NwSjVQD5OGZh",
        "colab_type": "text"
      },
      "source": [
        "Feature engineering\n",
        "- Creating new features to help improve model performance\n",
        "- Should consult with business and subject matter experts"
      ]
    },
    {
      "cell_type": "markdown",
      "metadata": {
        "id": "nLQ_2jATDI3l",
        "colab_type": "text"
      },
      "source": [
        "Identifying features to convert\n",
        "\n",
        "Churn, Vmail_Plan, and Intl_Plan, in particular, are binary features that can easily be converted into 0s and 1s."
      ]
    },
    {
      "cell_type": "code",
      "metadata": {
        "id": "bwJIRQY6DRgG",
        "colab_type": "code",
        "colab": {
          "base_uri": "https://localhost:8080/",
          "height": 408
        },
        "outputId": "6d9280bd-9898-4ad8-8d18-d14802c83599"
      },
      "source": [
        "telco.dtypes"
      ],
      "execution_count": 9,
      "outputs": [
        {
          "output_type": "execute_result",
          "data": {
            "text/plain": [
              "Account_Length      int64\n",
              "Vmail_Message       int64\n",
              "Day_Mins          float64\n",
              "Eve_Mins          float64\n",
              "Night_Mins        float64\n",
              "Intl_Mins         float64\n",
              "CustServ_Calls      int64\n",
              "Churn              object\n",
              "Intl_Plan          object\n",
              "Vmail_Plan         object\n",
              "Day_Calls           int64\n",
              "Day_Charge        float64\n",
              "Eve_Calls           int64\n",
              "Eve_Charge        float64\n",
              "Night_Calls         int64\n",
              "Night_Charge      float64\n",
              "Intl_Calls          int64\n",
              "Intl_Charge       float64\n",
              "State              object\n",
              "Area_Code           int64\n",
              "Phone              object\n",
              "dtype: object"
            ]
          },
          "metadata": {
            "tags": []
          },
          "execution_count": 9
        }
      ]
    },
    {
      "cell_type": "markdown",
      "metadata": {
        "id": "940y_omhDRGr",
        "colab_type": "text"
      },
      "source": [
        "Encoding binary features\n",
        "\n",
        "With these features encoded as 0 and 1, you can now use them in machine learning algorithms."
      ]
    },
    {
      "cell_type": "code",
      "metadata": {
        "id": "xsb9_b7oDc1x",
        "colab_type": "code",
        "colab": {
          "base_uri": "https://localhost:8080/",
          "height": 230
        },
        "outputId": "039d65e8-0dba-4192-f14f-bab889c71b25"
      },
      "source": [
        "# Replace 'no' with 0 and 'yes' with 1 in 'Vmail_Plan'\n",
        "telco['Vmail_Plan'] = telco['Vmail_Plan'].replace({'no':0 , 'yes':1})\n",
        "\n",
        "# Replace 'no' with 0 and 'yes' with 1 in 'Churn'\n",
        "telco['Churn'] = telco['Churn'].replace({'no':0 , 'yes':1})\n",
        "\n",
        "# Print the results to verify\n",
        "print(telco['Vmail_Plan'].head())\n",
        "print(telco['Churn'].head())"
      ],
      "execution_count": 10,
      "outputs": [
        {
          "output_type": "stream",
          "text": [
            "0    1\n",
            "1    1\n",
            "2    0\n",
            "3    0\n",
            "4    0\n",
            "Name: Vmail_Plan, dtype: int64\n",
            "0    0\n",
            "1    0\n",
            "2    0\n",
            "3    0\n",
            "4    0\n",
            "Name: Churn, dtype: int64\n"
          ],
          "name": "stdout"
        }
      ]
    },
    {
      "cell_type": "code",
      "metadata": {
        "id": "05nOYjcgF0o_",
        "colab_type": "code",
        "colab": {
          "base_uri": "https://localhost:8080/",
          "height": 124
        },
        "outputId": "bbf2a5cd-3cb0-461e-f6ac-f316bf993d4c"
      },
      "source": [
        "from sklearn.preprocessing import LabelEncoder\n",
        "telco['Intl_Plan'] = LabelEncoder().fit_transform(telco[\"Intl_Plan\"])\n",
        "telco['Intl_Plan'].head()"
      ],
      "execution_count": 11,
      "outputs": [
        {
          "output_type": "execute_result",
          "data": {
            "text/plain": [
              "0    0\n",
              "1    0\n",
              "2    0\n",
              "3    1\n",
              "4    1\n",
              "Name: Intl_Plan, dtype: int64"
            ]
          },
          "metadata": {
            "tags": []
          },
          "execution_count": 11
        }
      ]
    },
    {
      "cell_type": "markdown",
      "metadata": {
        "id": "aAygdkV1Dxlw",
        "colab_type": "text"
      },
      "source": [
        "One hot encoding\n",
        "\n",
        "Notice that this creates an entirely new DataFrame. Once you merge this back into the original telco DataFrame, you can begin using these state features in your models. Do note, however, that we now have many more features in our dataset, so we should consider dropping any that are unnecessary."
      ]
    },
    {
      "cell_type": "code",
      "metadata": {
        "id": "KIopNfpaE77h",
        "colab_type": "code",
        "colab": {
          "base_uri": "https://localhost:8080/",
          "height": 159
        },
        "outputId": "346e7cec-6bc6-4000-fa4a-cc6caca0f802"
      },
      "source": [
        "# Perform one hot encoding on 'State'\n",
        "telco_state = pd.get_dummies(telco['State'])\n",
        "\n",
        "# Print the head of telco_state\n",
        "print(telco_state.head())"
      ],
      "execution_count": 12,
      "outputs": [
        {
          "output_type": "stream",
          "text": [
            "   AK  AL  AR  AZ  CA  CO  CT  DC  DE  ...  TN  TX  UT  VA  VT  WA  WI  WV  WY\n",
            "0   0   0   0   0   0   0   0   0   0  ...   0   0   0   0   0   0   0   0   0\n",
            "1   0   0   0   0   0   0   0   0   0  ...   0   0   0   0   0   0   0   0   0\n",
            "2   0   0   0   0   0   0   0   0   0  ...   0   0   0   0   0   0   0   0   0\n",
            "3   0   0   0   0   0   0   0   0   0  ...   0   0   0   0   0   0   0   0   0\n",
            "4   0   0   0   0   0   0   0   0   0  ...   0   0   0   0   0   0   0   0   0\n",
            "\n",
            "[5 rows x 51 columns]\n"
          ],
          "name": "stdout"
        }
      ]
    },
    {
      "cell_type": "markdown",
      "metadata": {
        "id": "hWdMyL2tFTG-",
        "colab_type": "text"
      },
      "source": [
        "Feature scaling\n",
        "\n",
        "Both features are now on the same scale. In practice, you'll need to carefully ensure this is the case for all features of interest."
      ]
    },
    {
      "cell_type": "code",
      "metadata": {
        "id": "JJ2lfyXXFTfc",
        "colab_type": "code",
        "colab": {
          "base_uri": "https://localhost:8080/",
          "height": 177
        },
        "outputId": "dad4375c-dd81-47db-8b7a-f9048202dc78"
      },
      "source": [
        "# Import StandardScaler\n",
        "from sklearn.preprocessing import StandardScaler\n",
        "\n",
        "# Scale telco using StandardScaler\n",
        "telco_scaled = StandardScaler().fit_transform(telco[[\"Intl_Calls\", \"Night_Mins\"]])\n",
        "\n",
        "# Add column names back for readability\n",
        "telco_scaled_df = pd.DataFrame(telco_scaled, columns=[\"Intl_Calls\", \"Night_Mins\"])\n",
        "\n",
        "# Print summary statistics\n",
        "print(telco_scaled_df.describe())"
      ],
      "execution_count": 13,
      "outputs": [
        {
          "output_type": "stream",
          "text": [
            "         Intl_Calls    Night_Mins\n",
            "count  3.333000e+03  3.333000e+03\n",
            "mean  -1.264615e-16  6.602046e-17\n",
            "std    1.000150e+00  1.000150e+00\n",
            "min   -1.820289e+00 -3.513648e+00\n",
            "25%   -6.011951e-01 -6.698545e-01\n",
            "50%   -1.948306e-01  6.485803e-03\n",
            "75%    6.178983e-01  6.808485e-01\n",
            "max    6.307001e+00  3.839081e+00\n"
          ],
          "name": "stdout"
        }
      ]
    },
    {
      "cell_type": "markdown",
      "metadata": {
        "id": "0JReg_x7Gles",
        "colab_type": "text"
      },
      "source": [
        "Dropping unnecessary features\n",
        "\n",
        "Some features such as 'Area_Code' and 'Phone' are not useful when it comes to predicting customer churn, and they need to be dropped prior to modeling.\n",
        "\n",
        "Why don't we use unique identifiers such as phone numbers in our churn model? They don't provide any predictive power."
      ]
    },
    {
      "cell_type": "code",
      "metadata": {
        "id": "l42whIXUGmip",
        "colab_type": "code",
        "colab": {
          "base_uri": "https://localhost:8080/",
          "height": 106
        },
        "outputId": "f653e0f9-79e5-4eed-d502-01363fc6a774"
      },
      "source": [
        "# Drop the unnecessary features\n",
        "telco = telco.drop(telco[['Area_Code','Phone']], axis=1)\n",
        "\n",
        "# Verify dropped features\n",
        "print(telco.columns)"
      ],
      "execution_count": 14,
      "outputs": [
        {
          "output_type": "stream",
          "text": [
            "Index(['Account_Length', 'Vmail_Message', 'Day_Mins', 'Eve_Mins', 'Night_Mins',\n",
            "       'Intl_Mins', 'CustServ_Calls', 'Churn', 'Intl_Plan', 'Vmail_Plan',\n",
            "       'Day_Calls', 'Day_Charge', 'Eve_Calls', 'Eve_Charge', 'Night_Calls',\n",
            "       'Night_Charge', 'Intl_Calls', 'Intl_Charge', 'State'],\n",
            "      dtype='object')\n"
          ],
          "name": "stdout"
        }
      ]
    },
    {
      "cell_type": "markdown",
      "metadata": {
        "id": "SVJpsUsoG7UJ",
        "colab_type": "text"
      },
      "source": [
        "Engineering a new column\n",
        "\n",
        "Leveraging domain knowledge to engineer new features is an essential part of modeling. This quote from Andrew Ng summarizes the importance of feature engineering:\n",
        "\n",
        "Coming up with features is difficult, time-consuming, requires expert knowledge. \"Applied machine learning\" is basically feature engineering."
      ]
    },
    {
      "cell_type": "code",
      "metadata": {
        "id": "KMNEE571G9Su",
        "colab_type": "code",
        "colab": {
          "base_uri": "https://localhost:8080/",
          "height": 124
        },
        "outputId": "97335f1a-f354-408b-cba2-b851598dbfbe"
      },
      "source": [
        "# Create the new feature\n",
        "telco['Avg_Night_Calls'] = telco['Night_Mins'] / telco['Night_Calls']\n",
        "\n",
        "# Print the first five rows of 'Avg_Night_Calls'\n",
        "print(telco['Avg_Night_Calls'].head())"
      ],
      "execution_count": 15,
      "outputs": [
        {
          "output_type": "stream",
          "text": [
            "0    2.689011\n",
            "1    2.469903\n",
            "2    1.563462\n",
            "3    2.212360\n",
            "4    1.544628\n",
            "Name: Avg_Night_Calls, dtype: float64\n"
          ],
          "name": "stdout"
        }
      ]
    },
    {
      "cell_type": "markdown",
      "metadata": {
        "id": "5Nt4o10VMGfb",
        "colab_type": "text"
      },
      "source": [
        "# Churn Prediction"
      ]
    },
    {
      "cell_type": "markdown",
      "metadata": {
        "id": "YAKdW7VLOUyu",
        "colab_type": "text"
      },
      "source": [
        "(Supervised) Machine Learning Primer\n",
        "- Goal: Predict whether or not a customer will churn\n",
        "- Target Variable: 'Churn'\n",
        "- Supervised Machine Learning\n",
        "- Learn from historical (training) data to make new - predictions"
      ]
    },
    {
      "cell_type": "markdown",
      "metadata": {
        "id": "i556nEuzOgVF",
        "colab_type": "text"
      },
      "source": [
        "Model Selection\n",
        "- Which model to use?\n",
        "- ... it depends!\n",
        "- Logistic regression: Good baseline\n",
        "  - Offers simplicity and interpretability\n",
        "  - Cannot capture more complex relationships\n",
        "- Random forests\n",
        "- Support vector machines"
      ]
    },
    {
      "cell_type": "markdown",
      "metadata": {
        "id": "1b8sNkvXOv--",
        "colab_type": "text"
      },
      "source": [
        "Accuracy\n",
        "- One possible metric: Accuracy\n",
        "  - Total Number of Correct Predictions / Total Number of Data Points\n",
        "- What data to use?\n",
        "  - Training data not representative of new data"
      ]
    },
    {
      "cell_type": "markdown",
      "metadata": {
        "id": "GN6UZMY3O3Vy",
        "colab_type": "text"
      },
      "source": [
        "Training and Test Sets\n",
        "- Fit your classi?er to the training set\n",
        "- Make predictions using the test set"
      ]
    },
    {
      "cell_type": "markdown",
      "metadata": {
        "id": "i1aKhr40O6xa",
        "colab_type": "text"
      },
      "source": [
        "Improving your model\n",
        "- Overfitting: Model fits the training data too closely\n",
        "- Underfitting: Does not capture trends in the training data\n",
        "- Need to find the right balance between overfitting and underfitting"
      ]
    },
    {
      "cell_type": "markdown",
      "metadata": {
        "id": "iKFIa06xS4mc",
        "colab_type": "text"
      },
      "source": [
        "Probability thresholds\n",
        "- Every prediction your classifier makes has an associated probability\n",
        "- Default probability threshold in scikit-learn: 50%\n",
        "- What if we vary this threshold?"
      ]
    },
    {
      "cell_type": "markdown",
      "metadata": {
        "id": "E7vb7jcUMKE4",
        "colab_type": "text"
      },
      "source": [
        "Predicting whether a new customer will churn"
      ]
    },
    {
      "cell_type": "code",
      "metadata": {
        "id": "cRXUjJkPMVh0",
        "colab_type": "code",
        "colab": {
          "base_uri": "https://localhost:8080/",
          "height": 177
        },
        "outputId": "3a3fcc42-55bf-4ea6-de3a-c7aece9e3407"
      },
      "source": [
        "# Import LogisticRegression\n",
        "from sklearn.linear_model import LogisticRegression\n",
        "\n",
        "\n",
        "features = ['Account_Length', 'Vmail_Message', 'Day_Mins', 'Eve_Mins', 'Night_Mins', 'Intl_Mins', 'CustServ_Calls', 'Intl_Plan', 'Vmail_Plan', 'Day_Calls', 'Day_Charge', 'Eve_Calls', 'Eve_Charge',\n",
        "       'Night_Calls', 'Night_Charge', 'Intl_Calls', 'Intl_Charge']\n",
        "# Instantiate the classifier\n",
        "clf = LogisticRegression()\n",
        "\n",
        "# Fit the classifier\n",
        "clf.fit(telco[features], telco['Churn'])\n",
        "\n",
        "# Predict the label of new_customer\n",
        "print(clf.predict(telco[features].iloc[:1, :]))"
      ],
      "execution_count": 23,
      "outputs": [
        {
          "output_type": "stream",
          "text": [
            "[0]\n"
          ],
          "name": "stdout"
        },
        {
          "output_type": "stream",
          "text": [
            "/usr/local/lib/python3.6/dist-packages/sklearn/linear_model/_logistic.py:940: ConvergenceWarning: lbfgs failed to converge (status=1):\n",
            "STOP: TOTAL NO. of ITERATIONS REACHED LIMIT.\n",
            "\n",
            "Increase the number of iterations (max_iter) or scale the data as shown in:\n",
            "    https://scikit-learn.org/stable/modules/preprocessing.html\n",
            "Please also refer to the documentation for alternative solver options:\n",
            "    https://scikit-learn.org/stable/modules/linear_model.html#logistic-regression\n",
            "  extra_warning_msg=_LOGISTIC_SOLVER_CONVERGENCE_MSG)\n"
          ],
          "name": "stderr"
        }
      ]
    },
    {
      "cell_type": "code",
      "metadata": {
        "id": "ywzEKHZGMyQo",
        "colab_type": "code",
        "colab": {
          "base_uri": "https://localhost:8080/",
          "height": 35
        },
        "outputId": "ea51e510-f598-4ce7-bb67-04791c409723"
      },
      "source": [
        "# Import DecisionTreeClassifier\n",
        "from sklearn.tree import DecisionTreeClassifier\n",
        "\n",
        "# Instantiate the classifier\n",
        "clf = DecisionTreeClassifier()\n",
        "\n",
        "# Fit the classifier\n",
        "clf.fit(telco[features], telco['Churn'])\n",
        "\n",
        "# Predict the label of new_customer\n",
        "print(clf.predict(telco[features].iloc[:1, :]))"
      ],
      "execution_count": 25,
      "outputs": [
        {
          "output_type": "stream",
          "text": [
            "[0]\n"
          ],
          "name": "stdout"
        }
      ]
    },
    {
      "cell_type": "markdown",
      "metadata": {
        "id": "RZC9Z9QWPMjA",
        "colab_type": "text"
      },
      "source": [
        "Creating training and test sets"
      ]
    },
    {
      "cell_type": "code",
      "metadata": {
        "id": "65JDtDr2M9g-",
        "colab_type": "code",
        "colab": {}
      },
      "source": [
        "# Import train_test_split\n",
        "from sklearn.model_selection import train_test_split\n",
        "\n",
        "# Create feature variable\n",
        "X = telco.drop('Churn', axis=1)\n",
        "\n",
        "# Create target variable\n",
        "y = telco['Churn']\n",
        "\n",
        "# Create training and testing sets\n",
        "X_train, X_test, y_train, y_test = train_test_split(X[features], y, test_size=0.3)"
      ],
      "execution_count": 0,
      "outputs": []
    },
    {
      "cell_type": "markdown",
      "metadata": {
        "id": "kkuGIHF8P0Xp",
        "colab_type": "text"
      },
      "source": [
        "Computing accuracy"
      ]
    },
    {
      "cell_type": "code",
      "metadata": {
        "id": "56qLQWxqPyZP",
        "colab_type": "code",
        "colab": {
          "base_uri": "https://localhost:8080/",
          "height": 35
        },
        "outputId": "a22d0ee8-c1f5-48d7-e01c-81ae7606fb30"
      },
      "source": [
        "# Import RandomForestClassifier\n",
        "from sklearn.ensemble import RandomForestClassifier\n",
        "\n",
        "# Instantiate the classifier\n",
        "clf = RandomForestClassifier()\n",
        "\n",
        "# Fit to the training data\n",
        "clf.fit(X_train, y_train)\n",
        "\n",
        "# Compute accuracy\n",
        "print(clf.score(X_test, y_test))"
      ],
      "execution_count": 29,
      "outputs": [
        {
          "output_type": "stream",
          "text": [
            "0.938\n"
          ],
          "name": "stdout"
        }
      ]
    },
    {
      "cell_type": "markdown",
      "metadata": {
        "id": "kXN_1faVQWcb",
        "colab_type": "text"
      },
      "source": [
        "Imbalanced classes"
      ]
    },
    {
      "cell_type": "markdown",
      "metadata": {
        "id": "qAc2kTM2QWwx",
        "colab_type": "text"
      },
      "source": [
        "Precision\n",
        "\n",
        "- A model with high precision indicates:\n",
        "  - Few false positives (\"false alarms\")\n",
        "  - Not many non-churners were classi?ed as churners"
      ]
    },
    {
      "cell_type": "markdown",
      "metadata": {
        "id": "WABF001FQeES",
        "colab_type": "text"
      },
      "source": [
        "Recall\n",
        "\n",
        "-  A model with high recall indicates that it correctly classified most churners"
      ]
    },
    {
      "cell_type": "markdown",
      "metadata": {
        "id": "ub4r7DURQ7Rv",
        "colab_type": "text"
      },
      "source": [
        "Confusion matrix\n",
        "\n",
        "There are 8 false positives in your classifier's predictions.\n",
        "\n"
      ]
    },
    {
      "cell_type": "code",
      "metadata": {
        "id": "zRbddtb8RIP5",
        "colab_type": "code",
        "colab": {
          "base_uri": "https://localhost:8080/",
          "height": 53
        },
        "outputId": "c3e68f66-0da1-4675-c293-f6c48c771386"
      },
      "source": [
        "# Import confusion_matrix\n",
        "from sklearn.metrics import confusion_matrix\n",
        "\n",
        "y_pred = clf.predict(X_test)\n",
        "# Print the confusion matrix\n",
        "print(confusion_matrix(y_test, y_pred))"
      ],
      "execution_count": 35,
      "outputs": [
        {
          "output_type": "stream",
          "text": [
            "[[822   8]\n",
            " [ 54 116]]\n"
          ],
          "name": "stdout"
        }
      ]
    },
    {
      "cell_type": "markdown",
      "metadata": {
        "id": "sJ8GmR83Rwq6",
        "colab_type": "text"
      },
      "source": [
        "Computing precision and recall"
      ]
    },
    {
      "cell_type": "code",
      "metadata": {
        "id": "_pQZz-d4ShcB",
        "colab_type": "code",
        "colab": {
          "base_uri": "https://localhost:8080/",
          "height": 53
        },
        "outputId": "a679ee99-2b12-491c-f542-5cf611bf9f31"
      },
      "source": [
        "# Import precision_score\n",
        "from sklearn.metrics import precision_score\n",
        "# Import recall_score\n",
        "from sklearn.metrics import recall_score\n",
        "\n",
        "# Print the precision\n",
        "print(precision_score(y_test, y_pred))\n",
        "# Print the recall\n",
        "print(recall_score(y_test, y_pred))"
      ],
      "execution_count": 36,
      "outputs": [
        {
          "output_type": "stream",
          "text": [
            "0.9354838709677419\n",
            "0.6823529411764706\n"
          ],
          "name": "stdout"
        }
      ]
    },
    {
      "cell_type": "markdown",
      "metadata": {
        "id": "AuCnGoWgTtMC",
        "colab_type": "text"
      },
      "source": [
        "ROC curve"
      ]
    },
    {
      "cell_type": "code",
      "metadata": {
        "id": "Km2VqJ6cSpHW",
        "colab_type": "code",
        "colab": {
          "base_uri": "https://localhost:8080/",
          "height": 279
        },
        "outputId": "9a23bb22-00a5-4ba4-9ee6-93b6b6dea23b"
      },
      "source": [
        "# Generate the probabilities\n",
        "y_pred_prob = clf.predict_proba(X_test)[:, 1]\n",
        "\n",
        "# Import roc_curve\n",
        "from sklearn.metrics import roc_curve\n",
        "\n",
        "# Calculate the roc metrics\n",
        "fpr, tpr, thresholds = roc_curve(y_test, y_pred_prob)\n",
        "\n",
        "# Plot the ROC curve\n",
        "plt.plot(fpr, tpr)\n",
        "\n",
        "# Add labels and diagonal line\n",
        "plt.xlabel(\"False Positive Rate\")\n",
        "plt.ylabel(\"True Positive Rate\")\n",
        "plt.plot([0, 1], [0, 1], \"k--\")\n",
        "plt.show()"
      ],
      "execution_count": 37,
      "outputs": [
        {
          "output_type": "display_data",
          "data": {
            "image/png": "[encoded data removed]",
            "text/plain": [
              "<Figure size 432x288 with 1 Axes>"
            ]
          },
          "metadata": {
            "tags": [],
            "needs_background": "light"
          }
        }
      ]
    },
    {
      "cell_type": "markdown",
      "metadata": {
        "id": "5kiIFzfCUpNl",
        "colab_type": "text"
      },
      "source": [
        "Area under the curve\n",
        "\n",
        "This indicates that this baseline random forest classifier is quite good!"
      ]
    },
    {
      "cell_type": "code",
      "metadata": {
        "id": "AGGmbJD6UpfQ",
        "colab_type": "code",
        "colab": {
          "base_uri": "https://localhost:8080/",
          "height": 35
        },
        "outputId": "e9f316f2-a90d-4615-a1e9-b20074424c4e"
      },
      "source": [
        "# Import roc_auc_score\n",
        "from sklearn.metrics import roc_auc_score\n",
        "\n",
        "# Print the AUC\n",
        "print(roc_auc_score(y_test, y_pred_prob))"
      ],
      "execution_count": 38,
      "outputs": [
        {
          "output_type": "stream",
          "text": [
            "0.8859107016300496\n"
          ],
          "name": "stdout"
        }
      ]
    }
  ]
}