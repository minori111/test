{
  "nbformat": 4,
  "nbformat_minor": 0,
  "metadata": {
    "colab": {
      "name": "Dimensionality Reduction in Python",
      "provenance": [],
      "authorship_tag": "ABX9TyOXMS5lkAeH5p+dz75iM6Jh",
      "include_colab_link": true
    },
    "kernelspec": {
      "name": "python3",
      "display_name": "Python 3"
    }
  },
  "cells": [
    {
      "cell_type": "markdown",
      "metadata": {
        "id": "view-in-github",
        "colab_type": "text"
      },
      "source": [
        "<a href=\"https://colab.research.google.com/github/randy-tsukemen/Data_science_roadmap/blob/master/Dimensionality_Reduction_in_Python.ipynb\" target=\"_parent\"><img src=\"https://colab.research.google.com/assets/colab-badge.svg\" alt=\"Open In Colab\"/></a>"
      ]
    },
    {
      "cell_type": "markdown",
      "metadata": {
        "id": "ovwWocCioWD2",
        "colab_type": "text"
      },
      "source": [
        "# Exploring high dimensional data"
      ]
    },
    {
      "cell_type": "markdown",
      "metadata": {
        "id": "XyMv3JXTn_Ql",
        "colab_type": "text"
      },
      "source": [
        "## Why reduce dimensionality?\n",
        "Your dataset will:\n",
        "- be less complex\n",
        "- require less disk space\n",
        "- require less computation time\n",
        "- have lower chance of model over?tting"
      ]
    },
    {
      "cell_type": "code",
      "metadata": {
        "id": "Ecri7RIRlclT",
        "colab_type": "code",
        "outputId": "b730d2e7-07bf-4d8f-cfc8-8f0124eb11ef",
        "colab": {
          "base_uri": "https://localhost:8080/",
          "height": 72
        }
      },
      "source": [
        "import pandas as pd\n",
        "import matplotlib.pyplot as plt\n",
        "import seaborn as sns\n",
        "import numpy as np\n",
        "\n",
        "# load data\n",
        "url = \"https://assets.datacamp.com/production/repositories/3515/datasets/9b0682ecacc5a3429f62947794d1adbeecbd5a11/pokemon.csv\"\n",
        "pokemon_df = pd.read_csv(url)\n",
        "url = \"https://assets.datacamp.com/production/repositories/3515/datasets/28edd853c0a6aa7316b0d84a21f8e0d821e5010d/ANSUR_II_MALE.csv\"\n",
        "ansur_df_1 = pd.read_csv(url)\n",
        "url = \"https://assets.datacamp.com/production/repositories/3515/datasets/28edd853c0a6aa7316b0d84a21f8e0d821e5010d/ANSUR_II_MALE.csv\"\n",
        "ansur_df_1 = pd.read_csv(url)"
      ],
      "execution_count": 0,
      "outputs": [
        {
          "output_type": "stream",
          "text": [
            "/usr/local/lib/python3.6/dist-packages/statsmodels/tools/_testing.py:19: FutureWarning: pandas.util.testing is deprecated. Use the functions in the public API at pandas.testing instead.\n",
            "  import pandas.util.testing as tm\n"
          ],
          "name": "stderr"
        }
      ]
    },
    {
      "cell_type": "code",
      "metadata": {
        "id": "5q9B62MjvGfH",
        "colab_type": "code",
        "outputId": "cad7ce52-e8f8-45c7-cacc-bb2f4b49319e",
        "colab": {
          "base_uri": "https://localhost:8080/",
          "height": 206
        }
      },
      "source": [
        "pokemon_df.head()"
      ],
      "execution_count": 0,
      "outputs": [
        {
          "output_type": "execute_result",
          "data": {
            "text/html": [
              "<div>\n",
              "<style scoped>\n",
              "    .dataframe tbody tr th:only-of-type {\n",
              "        vertical-align: middle;\n",
              "    }\n",
              "\n",
              "    .dataframe tbody tr th {\n",
              "        vertical-align: top;\n",
              "    }\n",
              "\n",
              "    .dataframe thead th {\n",
              "        text-align: right;\n",
              "    }\n",
              "</style>\n",
              "<table border=\"1\" class=\"dataframe\">\n",
              "  <thead>\n",
              "    <tr style=\"text-align: right;\">\n",
              "      <th></th>\n",
              "      <th>#</th>\n",
              "      <th>Name</th>\n",
              "      <th>Type 1</th>\n",
              "      <th>Type 2</th>\n",
              "      <th>Total</th>\n",
              "      <th>HP</th>\n",
              "      <th>Attack</th>\n",
              "      <th>Defense</th>\n",
              "      <th>Sp. Atk</th>\n",
              "      <th>Sp. Def</th>\n",
              "      <th>Speed</th>\n",
              "      <th>Generation</th>\n",
              "      <th>Legendary</th>\n",
              "    </tr>\n",
              "  </thead>\n",
              "  <tbody>\n",
              "    <tr>\n",
              "      <th>0</th>\n",
              "      <td>1</td>\n",
              "      <td>Bulbasaur</td>\n",
              "      <td>Grass</td>\n",
              "      <td>Poison</td>\n",
              "      <td>318</td>\n",
              "      <td>45</td>\n",
              "      <td>49</td>\n",
              "      <td>49</td>\n",
              "      <td>65</td>\n",
              "      <td>65</td>\n",
              "      <td>45</td>\n",
              "      <td>1</td>\n",
              "      <td>False</td>\n",
              "    </tr>\n",
              "    <tr>\n",
              "      <th>1</th>\n",
              "      <td>2</td>\n",
              "      <td>Ivysaur</td>\n",
              "      <td>Grass</td>\n",
              "      <td>Poison</td>\n",
              "      <td>405</td>\n",
              "      <td>60</td>\n",
              "      <td>62</td>\n",
              "      <td>63</td>\n",
              "      <td>80</td>\n",
              "      <td>80</td>\n",
              "      <td>60</td>\n",
              "      <td>1</td>\n",
              "      <td>False</td>\n",
              "    </tr>\n",
              "    <tr>\n",
              "      <th>2</th>\n",
              "      <td>3</td>\n",
              "      <td>Venusaur</td>\n",
              "      <td>Grass</td>\n",
              "      <td>Poison</td>\n",
              "      <td>525</td>\n",
              "      <td>80</td>\n",
              "      <td>82</td>\n",
              "      <td>83</td>\n",
              "      <td>100</td>\n",
              "      <td>100</td>\n",
              "      <td>80</td>\n",
              "      <td>1</td>\n",
              "      <td>False</td>\n",
              "    </tr>\n",
              "    <tr>\n",
              "      <th>3</th>\n",
              "      <td>3</td>\n",
              "      <td>VenusaurMega Venusaur</td>\n",
              "      <td>Grass</td>\n",
              "      <td>Poison</td>\n",
              "      <td>625</td>\n",
              "      <td>80</td>\n",
              "      <td>100</td>\n",
              "      <td>123</td>\n",
              "      <td>122</td>\n",
              "      <td>120</td>\n",
              "      <td>80</td>\n",
              "      <td>1</td>\n",
              "      <td>False</td>\n",
              "    </tr>\n",
              "    <tr>\n",
              "      <th>4</th>\n",
              "      <td>4</td>\n",
              "      <td>Charmander</td>\n",
              "      <td>Fire</td>\n",
              "      <td>NaN</td>\n",
              "      <td>309</td>\n",
              "      <td>39</td>\n",
              "      <td>52</td>\n",
              "      <td>43</td>\n",
              "      <td>60</td>\n",
              "      <td>50</td>\n",
              "      <td>65</td>\n",
              "      <td>1</td>\n",
              "      <td>False</td>\n",
              "    </tr>\n",
              "  </tbody>\n",
              "</table>\n",
              "</div>"
            ],
            "text/plain": [
              "   #                   Name Type 1  ... Speed  Generation  Legendary\n",
              "0  1              Bulbasaur  Grass  ...    45           1      False\n",
              "1  2                Ivysaur  Grass  ...    60           1      False\n",
              "2  3               Venusaur  Grass  ...    80           1      False\n",
              "3  3  VenusaurMega Venusaur  Grass  ...    80           1      False\n",
              "4  4             Charmander   Fire  ...    65           1      False\n",
              "\n",
              "[5 rows x 13 columns]"
            ]
          },
          "metadata": {
            "tags": []
          },
          "execution_count": 3
        }
      ]
    },
    {
      "cell_type": "code",
      "metadata": {
        "id": "f8oNrkNvn3lJ",
        "colab_type": "code",
        "outputId": "4ae6ba1e-8d4d-475b-ed4c-64184522a71b",
        "colab": {
          "base_uri": "https://localhost:8080/",
          "height": 300
        }
      },
      "source": [
        "pokemon_df.describe()"
      ],
      "execution_count": 0,
      "outputs": [
        {
          "output_type": "execute_result",
          "data": {
            "text/html": [
              "<div>\n",
              "<style scoped>\n",
              "    .dataframe tbody tr th:only-of-type {\n",
              "        vertical-align: middle;\n",
              "    }\n",
              "\n",
              "    .dataframe tbody tr th {\n",
              "        vertical-align: top;\n",
              "    }\n",
              "\n",
              "    .dataframe thead th {\n",
              "        text-align: right;\n",
              "    }\n",
              "</style>\n",
              "<table border=\"1\" class=\"dataframe\">\n",
              "  <thead>\n",
              "    <tr style=\"text-align: right;\">\n",
              "      <th></th>\n",
              "      <th>#</th>\n",
              "      <th>Total</th>\n",
              "      <th>HP</th>\n",
              "      <th>Attack</th>\n",
              "      <th>Defense</th>\n",
              "      <th>Sp. Atk</th>\n",
              "      <th>Sp. Def</th>\n",
              "      <th>Speed</th>\n",
              "      <th>Generation</th>\n",
              "    </tr>\n",
              "  </thead>\n",
              "  <tbody>\n",
              "    <tr>\n",
              "      <th>count</th>\n",
              "      <td>800.000000</td>\n",
              "      <td>800.00000</td>\n",
              "      <td>800.000000</td>\n",
              "      <td>800.000000</td>\n",
              "      <td>800.000000</td>\n",
              "      <td>800.000000</td>\n",
              "      <td>800.000000</td>\n",
              "      <td>800.000000</td>\n",
              "      <td>800.00000</td>\n",
              "    </tr>\n",
              "    <tr>\n",
              "      <th>mean</th>\n",
              "      <td>362.813750</td>\n",
              "      <td>435.10250</td>\n",
              "      <td>69.258750</td>\n",
              "      <td>79.001250</td>\n",
              "      <td>73.842500</td>\n",
              "      <td>72.820000</td>\n",
              "      <td>71.902500</td>\n",
              "      <td>68.277500</td>\n",
              "      <td>3.32375</td>\n",
              "    </tr>\n",
              "    <tr>\n",
              "      <th>std</th>\n",
              "      <td>208.343798</td>\n",
              "      <td>119.96304</td>\n",
              "      <td>25.534669</td>\n",
              "      <td>32.457366</td>\n",
              "      <td>31.183501</td>\n",
              "      <td>32.722294</td>\n",
              "      <td>27.828916</td>\n",
              "      <td>29.060474</td>\n",
              "      <td>1.66129</td>\n",
              "    </tr>\n",
              "    <tr>\n",
              "      <th>min</th>\n",
              "      <td>1.000000</td>\n",
              "      <td>180.00000</td>\n",
              "      <td>1.000000</td>\n",
              "      <td>5.000000</td>\n",
              "      <td>5.000000</td>\n",
              "      <td>10.000000</td>\n",
              "      <td>20.000000</td>\n",
              "      <td>5.000000</td>\n",
              "      <td>1.00000</td>\n",
              "    </tr>\n",
              "    <tr>\n",
              "      <th>25%</th>\n",
              "      <td>184.750000</td>\n",
              "      <td>330.00000</td>\n",
              "      <td>50.000000</td>\n",
              "      <td>55.000000</td>\n",
              "      <td>50.000000</td>\n",
              "      <td>49.750000</td>\n",
              "      <td>50.000000</td>\n",
              "      <td>45.000000</td>\n",
              "      <td>2.00000</td>\n",
              "    </tr>\n",
              "    <tr>\n",
              "      <th>50%</th>\n",
              "      <td>364.500000</td>\n",
              "      <td>450.00000</td>\n",
              "      <td>65.000000</td>\n",
              "      <td>75.000000</td>\n",
              "      <td>70.000000</td>\n",
              "      <td>65.000000</td>\n",
              "      <td>70.000000</td>\n",
              "      <td>65.000000</td>\n",
              "      <td>3.00000</td>\n",
              "    </tr>\n",
              "    <tr>\n",
              "      <th>75%</th>\n",
              "      <td>539.250000</td>\n",
              "      <td>515.00000</td>\n",
              "      <td>80.000000</td>\n",
              "      <td>100.000000</td>\n",
              "      <td>90.000000</td>\n",
              "      <td>95.000000</td>\n",
              "      <td>90.000000</td>\n",
              "      <td>90.000000</td>\n",
              "      <td>5.00000</td>\n",
              "    </tr>\n",
              "    <tr>\n",
              "      <th>max</th>\n",
              "      <td>721.000000</td>\n",
              "      <td>780.00000</td>\n",
              "      <td>255.000000</td>\n",
              "      <td>190.000000</td>\n",
              "      <td>230.000000</td>\n",
              "      <td>194.000000</td>\n",
              "      <td>230.000000</td>\n",
              "      <td>180.000000</td>\n",
              "      <td>6.00000</td>\n",
              "    </tr>\n",
              "  </tbody>\n",
              "</table>\n",
              "</div>"
            ],
            "text/plain": [
              "                #      Total          HP  ...     Sp. Def       Speed  Generation\n",
              "count  800.000000  800.00000  800.000000  ...  800.000000  800.000000   800.00000\n",
              "mean   362.813750  435.10250   69.258750  ...   71.902500   68.277500     3.32375\n",
              "std    208.343798  119.96304   25.534669  ...   27.828916   29.060474     1.66129\n",
              "min      1.000000  180.00000    1.000000  ...   20.000000    5.000000     1.00000\n",
              "25%    184.750000  330.00000   50.000000  ...   50.000000   45.000000     2.00000\n",
              "50%    364.500000  450.00000   65.000000  ...   70.000000   65.000000     3.00000\n",
              "75%    539.250000  515.00000   80.000000  ...   90.000000   90.000000     5.00000\n",
              "max    721.000000  780.00000  255.000000  ...  230.000000  180.000000     6.00000\n",
              "\n",
              "[8 rows x 9 columns]"
            ]
          },
          "metadata": {
            "tags": []
          },
          "execution_count": 4
        }
      ]
    },
    {
      "cell_type": "code",
      "metadata": {
        "id": "6KiUAyIan3BP",
        "colab_type": "code",
        "outputId": "a752ddad-db27-449c-880a-37e5823a6f0d",
        "colab": {
          "base_uri": "https://localhost:8080/",
          "height": 175
        }
      },
      "source": [
        "pokemon_df.describe(exclude='number')"
      ],
      "execution_count": 0,
      "outputs": [
        {
          "output_type": "execute_result",
          "data": {
            "text/html": [
              "<div>\n",
              "<style scoped>\n",
              "    .dataframe tbody tr th:only-of-type {\n",
              "        vertical-align: middle;\n",
              "    }\n",
              "\n",
              "    .dataframe tbody tr th {\n",
              "        vertical-align: top;\n",
              "    }\n",
              "\n",
              "    .dataframe thead th {\n",
              "        text-align: right;\n",
              "    }\n",
              "</style>\n",
              "<table border=\"1\" class=\"dataframe\">\n",
              "  <thead>\n",
              "    <tr style=\"text-align: right;\">\n",
              "      <th></th>\n",
              "      <th>Name</th>\n",
              "      <th>Type 1</th>\n",
              "      <th>Type 2</th>\n",
              "      <th>Legendary</th>\n",
              "    </tr>\n",
              "  </thead>\n",
              "  <tbody>\n",
              "    <tr>\n",
              "      <th>count</th>\n",
              "      <td>800</td>\n",
              "      <td>800</td>\n",
              "      <td>414</td>\n",
              "      <td>800</td>\n",
              "    </tr>\n",
              "    <tr>\n",
              "      <th>unique</th>\n",
              "      <td>800</td>\n",
              "      <td>18</td>\n",
              "      <td>18</td>\n",
              "      <td>2</td>\n",
              "    </tr>\n",
              "    <tr>\n",
              "      <th>top</th>\n",
              "      <td>Hoothoot</td>\n",
              "      <td>Water</td>\n",
              "      <td>Flying</td>\n",
              "      <td>False</td>\n",
              "    </tr>\n",
              "    <tr>\n",
              "      <th>freq</th>\n",
              "      <td>1</td>\n",
              "      <td>112</td>\n",
              "      <td>97</td>\n",
              "      <td>735</td>\n",
              "    </tr>\n",
              "  </tbody>\n",
              "</table>\n",
              "</div>"
            ],
            "text/plain": [
              "            Name Type 1  Type 2 Legendary\n",
              "count        800    800     414       800\n",
              "unique       800     18      18         2\n",
              "top     Hoothoot  Water  Flying     False\n",
              "freq           1    112      97       735"
            ]
          },
          "metadata": {
            "tags": []
          },
          "execution_count": 5
        }
      ]
    },
    {
      "cell_type": "code",
      "metadata": {
        "id": "7lipi2oVm6a0",
        "colab_type": "code",
        "outputId": "8fbba932-666f-4054-92e3-b555829d766f",
        "colab": {
          "base_uri": "https://localhost:8080/",
          "height": 123
        }
      },
      "source": [
        "# Leave this list as is\n",
        "number_cols = ['HP', 'Attack', 'Defense']\n",
        "\n",
        "# Remove the feature without variance from this list\n",
        "non_number_cols = ['Name', 'Type 1']\n",
        "\n",
        "# Create a new dataframe by subselecting the chosen features\n",
        "df_selected = pokemon_df[number_cols + non_number_cols]\n",
        "\n",
        "# Prints the first 5 lines of the new dataframe\n",
        "print(df_selected.head())"
      ],
      "execution_count": 0,
      "outputs": [
        {
          "output_type": "stream",
          "text": [
            "   HP  Attack  Defense                   Name Type 1\n",
            "0  45      49       49              Bulbasaur  Grass\n",
            "1  60      62       63                Ivysaur  Grass\n",
            "2  80      82       83               Venusaur  Grass\n",
            "3  80     100      123  VenusaurMega Venusaur  Grass\n",
            "4  39      52       43             Charmander   Fire\n"
          ],
          "name": "stdout"
        }
      ]
    },
    {
      "cell_type": "code",
      "metadata": {
        "id": "81u3b23ewkFT",
        "colab_type": "code",
        "outputId": "4efb5125-38a2-4da8-c191-8bb9c3da1fac",
        "colab": {
          "base_uri": "https://localhost:8080/",
          "height": 377
        }
      },
      "source": [
        "ansur_df_1.head()"
      ],
      "execution_count": 0,
      "outputs": [
        {
          "output_type": "execute_result",
          "data": {
            "text/html": [
              "<div>\n",
              "<style scoped>\n",
              "    .dataframe tbody tr th:only-of-type {\n",
              "        vertical-align: middle;\n",
              "    }\n",
              "\n",
              "    .dataframe tbody tr th {\n",
              "        vertical-align: top;\n",
              "    }\n",
              "\n",
              "    .dataframe thead th {\n",
              "        text-align: right;\n",
              "    }\n",
              "</style>\n",
              "<table border=\"1\" class=\"dataframe\">\n",
              "  <thead>\n",
              "    <tr style=\"text-align: right;\">\n",
              "      <th></th>\n",
              "      <th>Branch</th>\n",
              "      <th>Component</th>\n",
              "      <th>Gender</th>\n",
              "      <th>abdominalextensiondepthsitting</th>\n",
              "      <th>acromialheight</th>\n",
              "      <th>acromionradialelength</th>\n",
              "      <th>anklecircumference</th>\n",
              "      <th>axillaheight</th>\n",
              "      <th>balloffootcircumference</th>\n",
              "      <th>balloffootlength</th>\n",
              "      <th>biacromialbreadth</th>\n",
              "      <th>bicepscircumferenceflexed</th>\n",
              "      <th>bicristalbreadth</th>\n",
              "      <th>bideltoidbreadth</th>\n",
              "      <th>bimalleolarbreadth</th>\n",
              "      <th>bitragionchinarc</th>\n",
              "      <th>bitragionsubmandibulararc</th>\n",
              "      <th>bizygomaticbreadth</th>\n",
              "      <th>buttockcircumference</th>\n",
              "      <th>buttockdepth</th>\n",
              "      <th>buttockheight</th>\n",
              "      <th>buttockkneelength</th>\n",
              "      <th>buttockpopliteallength</th>\n",
              "      <th>calfcircumference</th>\n",
              "      <th>cervicaleheight</th>\n",
              "      <th>chestbreadth</th>\n",
              "      <th>chestcircumference</th>\n",
              "      <th>chestdepth</th>\n",
              "      <th>chestheight</th>\n",
              "      <th>crotchheight</th>\n",
              "      <th>crotchlengthomphalion</th>\n",
              "      <th>crotchlengthposterioromphalion</th>\n",
              "      <th>earbreadth</th>\n",
              "      <th>earlength</th>\n",
              "      <th>earprotrusion</th>\n",
              "      <th>elbowrestheight</th>\n",
              "      <th>eyeheightsitting</th>\n",
              "      <th>footbreadthhorizontal</th>\n",
              "      <th>footlength</th>\n",
              "      <th>forearmcenterofgriplength</th>\n",
              "      <th>...</th>\n",
              "      <th>kneeheightsitting</th>\n",
              "      <th>lateralfemoralepicondyleheight</th>\n",
              "      <th>lateralmalleolusheight</th>\n",
              "      <th>lowerthighcircumference</th>\n",
              "      <th>mentonsellionlength</th>\n",
              "      <th>neckcircumference</th>\n",
              "      <th>neckcircumferencebase</th>\n",
              "      <th>overheadfingertipreachsitting</th>\n",
              "      <th>palmlength</th>\n",
              "      <th>poplitealheight</th>\n",
              "      <th>radialestylionlength</th>\n",
              "      <th>shouldercircumference</th>\n",
              "      <th>shoulderelbowlength</th>\n",
              "      <th>shoulderlength</th>\n",
              "      <th>sittingheight</th>\n",
              "      <th>sleevelengthspinewrist</th>\n",
              "      <th>sleeveoutseam</th>\n",
              "      <th>span</th>\n",
              "      <th>suprasternaleheight</th>\n",
              "      <th>tenthribheight</th>\n",
              "      <th>thighcircumference</th>\n",
              "      <th>thighclearance</th>\n",
              "      <th>thumbtipreach</th>\n",
              "      <th>tibialheight</th>\n",
              "      <th>tragiontopofhead</th>\n",
              "      <th>trochanterionheight</th>\n",
              "      <th>verticaltrunkcircumferenceusa</th>\n",
              "      <th>waistbacklength</th>\n",
              "      <th>waistbreadth</th>\n",
              "      <th>waistcircumference</th>\n",
              "      <th>waistdepth</th>\n",
              "      <th>waistfrontlengthsitting</th>\n",
              "      <th>waistheightomphalion</th>\n",
              "      <th>wristcircumference</th>\n",
              "      <th>wristheight</th>\n",
              "      <th>weight_kg</th>\n",
              "      <th>stature_m</th>\n",
              "      <th>BMI</th>\n",
              "      <th>BMI_class</th>\n",
              "      <th>Height_class</th>\n",
              "    </tr>\n",
              "  </thead>\n",
              "  <tbody>\n",
              "    <tr>\n",
              "      <th>0</th>\n",
              "      <td>Combat Arms</td>\n",
              "      <td>Regular Army</td>\n",
              "      <td>Male</td>\n",
              "      <td>266</td>\n",
              "      <td>1467</td>\n",
              "      <td>337</td>\n",
              "      <td>222</td>\n",
              "      <td>1347</td>\n",
              "      <td>253</td>\n",
              "      <td>202</td>\n",
              "      <td>401</td>\n",
              "      <td>369</td>\n",
              "      <td>274</td>\n",
              "      <td>493</td>\n",
              "      <td>71</td>\n",
              "      <td>319</td>\n",
              "      <td>291</td>\n",
              "      <td>142</td>\n",
              "      <td>979</td>\n",
              "      <td>240</td>\n",
              "      <td>882</td>\n",
              "      <td>619</td>\n",
              "      <td>509</td>\n",
              "      <td>373</td>\n",
              "      <td>1535</td>\n",
              "      <td>291</td>\n",
              "      <td>1074</td>\n",
              "      <td>259</td>\n",
              "      <td>1292</td>\n",
              "      <td>877</td>\n",
              "      <td>607</td>\n",
              "      <td>351</td>\n",
              "      <td>36</td>\n",
              "      <td>71</td>\n",
              "      <td>19</td>\n",
              "      <td>247</td>\n",
              "      <td>802</td>\n",
              "      <td>101</td>\n",
              "      <td>273</td>\n",
              "      <td>349</td>\n",
              "      <td>...</td>\n",
              "      <td>560</td>\n",
              "      <td>500</td>\n",
              "      <td>77</td>\n",
              "      <td>391</td>\n",
              "      <td>118</td>\n",
              "      <td>400</td>\n",
              "      <td>436</td>\n",
              "      <td>1447</td>\n",
              "      <td>113</td>\n",
              "      <td>437</td>\n",
              "      <td>273</td>\n",
              "      <td>1151</td>\n",
              "      <td>368</td>\n",
              "      <td>145</td>\n",
              "      <td>928</td>\n",
              "      <td>883</td>\n",
              "      <td>600</td>\n",
              "      <td>1782</td>\n",
              "      <td>1449</td>\n",
              "      <td>1092</td>\n",
              "      <td>610</td>\n",
              "      <td>164</td>\n",
              "      <td>786</td>\n",
              "      <td>491</td>\n",
              "      <td>140</td>\n",
              "      <td>919</td>\n",
              "      <td>1700</td>\n",
              "      <td>501</td>\n",
              "      <td>329</td>\n",
              "      <td>933</td>\n",
              "      <td>240</td>\n",
              "      <td>440</td>\n",
              "      <td>1054</td>\n",
              "      <td>175</td>\n",
              "      <td>853</td>\n",
              "      <td>81.5</td>\n",
              "      <td>1.776</td>\n",
              "      <td>25.838761</td>\n",
              "      <td>Overweight</td>\n",
              "      <td>Tall</td>\n",
              "    </tr>\n",
              "    <tr>\n",
              "      <th>1</th>\n",
              "      <td>Combat Support</td>\n",
              "      <td>Regular Army</td>\n",
              "      <td>Male</td>\n",
              "      <td>233</td>\n",
              "      <td>1395</td>\n",
              "      <td>326</td>\n",
              "      <td>220</td>\n",
              "      <td>1293</td>\n",
              "      <td>245</td>\n",
              "      <td>193</td>\n",
              "      <td>394</td>\n",
              "      <td>338</td>\n",
              "      <td>257</td>\n",
              "      <td>479</td>\n",
              "      <td>67</td>\n",
              "      <td>344</td>\n",
              "      <td>320</td>\n",
              "      <td>135</td>\n",
              "      <td>944</td>\n",
              "      <td>232</td>\n",
              "      <td>870</td>\n",
              "      <td>584</td>\n",
              "      <td>468</td>\n",
              "      <td>357</td>\n",
              "      <td>1471</td>\n",
              "      <td>269</td>\n",
              "      <td>1021</td>\n",
              "      <td>253</td>\n",
              "      <td>1244</td>\n",
              "      <td>851</td>\n",
              "      <td>615</td>\n",
              "      <td>376</td>\n",
              "      <td>33</td>\n",
              "      <td>62</td>\n",
              "      <td>18</td>\n",
              "      <td>232</td>\n",
              "      <td>781</td>\n",
              "      <td>98</td>\n",
              "      <td>263</td>\n",
              "      <td>348</td>\n",
              "      <td>...</td>\n",
              "      <td>540</td>\n",
              "      <td>488</td>\n",
              "      <td>73</td>\n",
              "      <td>371</td>\n",
              "      <td>131</td>\n",
              "      <td>380</td>\n",
              "      <td>420</td>\n",
              "      <td>1380</td>\n",
              "      <td>118</td>\n",
              "      <td>417</td>\n",
              "      <td>254</td>\n",
              "      <td>1119</td>\n",
              "      <td>353</td>\n",
              "      <td>141</td>\n",
              "      <td>884</td>\n",
              "      <td>868</td>\n",
              "      <td>564</td>\n",
              "      <td>1745</td>\n",
              "      <td>1387</td>\n",
              "      <td>1076</td>\n",
              "      <td>572</td>\n",
              "      <td>169</td>\n",
              "      <td>822</td>\n",
              "      <td>476</td>\n",
              "      <td>120</td>\n",
              "      <td>918</td>\n",
              "      <td>1627</td>\n",
              "      <td>432</td>\n",
              "      <td>316</td>\n",
              "      <td>870</td>\n",
              "      <td>225</td>\n",
              "      <td>371</td>\n",
              "      <td>1054</td>\n",
              "      <td>167</td>\n",
              "      <td>815</td>\n",
              "      <td>72.6</td>\n",
              "      <td>1.702</td>\n",
              "      <td>25.062103</td>\n",
              "      <td>Overweight</td>\n",
              "      <td>Normal</td>\n",
              "    </tr>\n",
              "    <tr>\n",
              "      <th>2</th>\n",
              "      <td>Combat Support</td>\n",
              "      <td>Regular Army</td>\n",
              "      <td>Male</td>\n",
              "      <td>287</td>\n",
              "      <td>1430</td>\n",
              "      <td>341</td>\n",
              "      <td>230</td>\n",
              "      <td>1327</td>\n",
              "      <td>256</td>\n",
              "      <td>196</td>\n",
              "      <td>427</td>\n",
              "      <td>408</td>\n",
              "      <td>261</td>\n",
              "      <td>544</td>\n",
              "      <td>75</td>\n",
              "      <td>345</td>\n",
              "      <td>330</td>\n",
              "      <td>135</td>\n",
              "      <td>1054</td>\n",
              "      <td>258</td>\n",
              "      <td>901</td>\n",
              "      <td>623</td>\n",
              "      <td>506</td>\n",
              "      <td>412</td>\n",
              "      <td>1501</td>\n",
              "      <td>288</td>\n",
              "      <td>1120</td>\n",
              "      <td>267</td>\n",
              "      <td>1288</td>\n",
              "      <td>854</td>\n",
              "      <td>636</td>\n",
              "      <td>359</td>\n",
              "      <td>40</td>\n",
              "      <td>61</td>\n",
              "      <td>23</td>\n",
              "      <td>237</td>\n",
              "      <td>810</td>\n",
              "      <td>103</td>\n",
              "      <td>270</td>\n",
              "      <td>355</td>\n",
              "      <td>...</td>\n",
              "      <td>556</td>\n",
              "      <td>482</td>\n",
              "      <td>72</td>\n",
              "      <td>409</td>\n",
              "      <td>123</td>\n",
              "      <td>403</td>\n",
              "      <td>434</td>\n",
              "      <td>1447</td>\n",
              "      <td>121</td>\n",
              "      <td>431</td>\n",
              "      <td>268</td>\n",
              "      <td>1276</td>\n",
              "      <td>367</td>\n",
              "      <td>167</td>\n",
              "      <td>917</td>\n",
              "      <td>910</td>\n",
              "      <td>604</td>\n",
              "      <td>1867</td>\n",
              "      <td>1438</td>\n",
              "      <td>1105</td>\n",
              "      <td>685</td>\n",
              "      <td>198</td>\n",
              "      <td>807</td>\n",
              "      <td>477</td>\n",
              "      <td>125</td>\n",
              "      <td>918</td>\n",
              "      <td>1678</td>\n",
              "      <td>472</td>\n",
              "      <td>329</td>\n",
              "      <td>964</td>\n",
              "      <td>255</td>\n",
              "      <td>411</td>\n",
              "      <td>1041</td>\n",
              "      <td>180</td>\n",
              "      <td>831</td>\n",
              "      <td>92.9</td>\n",
              "      <td>1.735</td>\n",
              "      <td>30.861480</td>\n",
              "      <td>Overweight</td>\n",
              "      <td>Normal</td>\n",
              "    </tr>\n",
              "    <tr>\n",
              "      <th>3</th>\n",
              "      <td>Combat Service Support</td>\n",
              "      <td>Regular Army</td>\n",
              "      <td>Male</td>\n",
              "      <td>234</td>\n",
              "      <td>1347</td>\n",
              "      <td>310</td>\n",
              "      <td>230</td>\n",
              "      <td>1239</td>\n",
              "      <td>262</td>\n",
              "      <td>199</td>\n",
              "      <td>401</td>\n",
              "      <td>359</td>\n",
              "      <td>262</td>\n",
              "      <td>518</td>\n",
              "      <td>73</td>\n",
              "      <td>328</td>\n",
              "      <td>309</td>\n",
              "      <td>143</td>\n",
              "      <td>991</td>\n",
              "      <td>242</td>\n",
              "      <td>821</td>\n",
              "      <td>560</td>\n",
              "      <td>437</td>\n",
              "      <td>395</td>\n",
              "      <td>1423</td>\n",
              "      <td>296</td>\n",
              "      <td>1114</td>\n",
              "      <td>262</td>\n",
              "      <td>1205</td>\n",
              "      <td>769</td>\n",
              "      <td>590</td>\n",
              "      <td>341</td>\n",
              "      <td>39</td>\n",
              "      <td>66</td>\n",
              "      <td>25</td>\n",
              "      <td>272</td>\n",
              "      <td>794</td>\n",
              "      <td>106</td>\n",
              "      <td>267</td>\n",
              "      <td>352</td>\n",
              "      <td>...</td>\n",
              "      <td>511</td>\n",
              "      <td>452</td>\n",
              "      <td>76</td>\n",
              "      <td>393</td>\n",
              "      <td>106</td>\n",
              "      <td>407</td>\n",
              "      <td>446</td>\n",
              "      <td>1357</td>\n",
              "      <td>118</td>\n",
              "      <td>393</td>\n",
              "      <td>249</td>\n",
              "      <td>1155</td>\n",
              "      <td>330</td>\n",
              "      <td>148</td>\n",
              "      <td>903</td>\n",
              "      <td>848</td>\n",
              "      <td>550</td>\n",
              "      <td>1708</td>\n",
              "      <td>1346</td>\n",
              "      <td>1021</td>\n",
              "      <td>604</td>\n",
              "      <td>180</td>\n",
              "      <td>803</td>\n",
              "      <td>445</td>\n",
              "      <td>127</td>\n",
              "      <td>847</td>\n",
              "      <td>1625</td>\n",
              "      <td>461</td>\n",
              "      <td>315</td>\n",
              "      <td>857</td>\n",
              "      <td>205</td>\n",
              "      <td>399</td>\n",
              "      <td>968</td>\n",
              "      <td>176</td>\n",
              "      <td>793</td>\n",
              "      <td>79.4</td>\n",
              "      <td>1.655</td>\n",
              "      <td>28.988417</td>\n",
              "      <td>Overweight</td>\n",
              "      <td>Normal</td>\n",
              "    </tr>\n",
              "    <tr>\n",
              "      <th>4</th>\n",
              "      <td>Combat Service Support</td>\n",
              "      <td>Regular Army</td>\n",
              "      <td>Male</td>\n",
              "      <td>250</td>\n",
              "      <td>1585</td>\n",
              "      <td>372</td>\n",
              "      <td>247</td>\n",
              "      <td>1478</td>\n",
              "      <td>267</td>\n",
              "      <td>224</td>\n",
              "      <td>435</td>\n",
              "      <td>356</td>\n",
              "      <td>263</td>\n",
              "      <td>524</td>\n",
              "      <td>80</td>\n",
              "      <td>340</td>\n",
              "      <td>310</td>\n",
              "      <td>138</td>\n",
              "      <td>1029</td>\n",
              "      <td>275</td>\n",
              "      <td>1080</td>\n",
              "      <td>706</td>\n",
              "      <td>567</td>\n",
              "      <td>425</td>\n",
              "      <td>1684</td>\n",
              "      <td>304</td>\n",
              "      <td>1048</td>\n",
              "      <td>232</td>\n",
              "      <td>1452</td>\n",
              "      <td>1014</td>\n",
              "      <td>682</td>\n",
              "      <td>382</td>\n",
              "      <td>32</td>\n",
              "      <td>56</td>\n",
              "      <td>19</td>\n",
              "      <td>188</td>\n",
              "      <td>814</td>\n",
              "      <td>111</td>\n",
              "      <td>305</td>\n",
              "      <td>399</td>\n",
              "      <td>...</td>\n",
              "      <td>666</td>\n",
              "      <td>585</td>\n",
              "      <td>85</td>\n",
              "      <td>458</td>\n",
              "      <td>135</td>\n",
              "      <td>398</td>\n",
              "      <td>430</td>\n",
              "      <td>1572</td>\n",
              "      <td>132</td>\n",
              "      <td>523</td>\n",
              "      <td>302</td>\n",
              "      <td>1231</td>\n",
              "      <td>400</td>\n",
              "      <td>180</td>\n",
              "      <td>919</td>\n",
              "      <td>995</td>\n",
              "      <td>641</td>\n",
              "      <td>2035</td>\n",
              "      <td>1596</td>\n",
              "      <td>1292</td>\n",
              "      <td>672</td>\n",
              "      <td>194</td>\n",
              "      <td>962</td>\n",
              "      <td>584</td>\n",
              "      <td>122</td>\n",
              "      <td>1090</td>\n",
              "      <td>1679</td>\n",
              "      <td>467</td>\n",
              "      <td>303</td>\n",
              "      <td>868</td>\n",
              "      <td>214</td>\n",
              "      <td>379</td>\n",
              "      <td>1245</td>\n",
              "      <td>188</td>\n",
              "      <td>954</td>\n",
              "      <td>94.6</td>\n",
              "      <td>1.914</td>\n",
              "      <td>25.823034</td>\n",
              "      <td>Overweight</td>\n",
              "      <td>Tall</td>\n",
              "    </tr>\n",
              "  </tbody>\n",
              "</table>\n",
              "<p>5 rows × 99 columns</p>\n",
              "</div>"
            ],
            "text/plain": [
              "                   Branch     Component  ...   BMI_class  Height_class\n",
              "0             Combat Arms  Regular Army  ...  Overweight          Tall\n",
              "1          Combat Support  Regular Army  ...  Overweight        Normal\n",
              "2          Combat Support  Regular Army  ...  Overweight        Normal\n",
              "3  Combat Service Support  Regular Army  ...  Overweight        Normal\n",
              "4  Combat Service Support  Regular Army  ...  Overweight          Tall\n",
              "\n",
              "[5 rows x 99 columns]"
            ]
          },
          "metadata": {
            "tags": []
          },
          "execution_count": 7
        }
      ]
    },
    {
      "cell_type": "code",
      "metadata": {
        "id": "ZyRjMk2Wvkuj",
        "colab_type": "code",
        "outputId": "fc7211e5-75b4-4748-b37a-fb6156b9dfcf",
        "colab": {
          "base_uri": "https://localhost:8080/",
          "height": 602
        }
      },
      "source": [
        "ansur_df_1.columns"
      ],
      "execution_count": 0,
      "outputs": [
        {
          "output_type": "execute_result",
          "data": {
            "text/plain": [
              "Index(['Branch', 'Component', 'Gender', 'abdominalextensiondepthsitting',\n",
              "       'acromialheight', 'acromionradialelength', 'anklecircumference',\n",
              "       'axillaheight', 'balloffootcircumference', 'balloffootlength',\n",
              "       'biacromialbreadth', 'bicepscircumferenceflexed', 'bicristalbreadth',\n",
              "       'bideltoidbreadth', 'bimalleolarbreadth', 'bitragionchinarc',\n",
              "       'bitragionsubmandibulararc', 'bizygomaticbreadth',\n",
              "       'buttockcircumference', 'buttockdepth', 'buttockheight',\n",
              "       'buttockkneelength', 'buttockpopliteallength', 'calfcircumference',\n",
              "       'cervicaleheight', 'chestbreadth', 'chestcircumference', 'chestdepth',\n",
              "       'chestheight', 'crotchheight', 'crotchlengthomphalion',\n",
              "       'crotchlengthposterioromphalion', 'earbreadth', 'earlength',\n",
              "       'earprotrusion', 'elbowrestheight', 'eyeheightsitting',\n",
              "       'footbreadthhorizontal', 'footlength', 'forearmcenterofgriplength',\n",
              "       'forearmcircumferenceflexed', 'forearmforearmbreadth',\n",
              "       'forearmhandlength', 'functionalleglength', 'handbreadth',\n",
              "       'handcircumference', 'handlength', 'headbreadth', 'headcircumference',\n",
              "       'headlength', 'heelanklecircumference', 'heelbreadth', 'hipbreadth',\n",
              "       'hipbreadthsitting', 'iliocristaleheight', 'interpupillarybreadth',\n",
              "       'interscyei', 'interscyeii', 'kneeheightmidpatella',\n",
              "       'kneeheightsitting', 'lateralfemoralepicondyleheight',\n",
              "       'lateralmalleolusheight', 'lowerthighcircumference',\n",
              "       'mentonsellionlength', 'neckcircumference', 'neckcircumferencebase',\n",
              "       'overheadfingertipreachsitting', 'palmlength', 'poplitealheight',\n",
              "       'radialestylionlength', 'shouldercircumference', 'shoulderelbowlength',\n",
              "       'shoulderlength', 'sittingheight', 'sleevelengthspinewrist',\n",
              "       'sleeveoutseam', 'span', 'suprasternaleheight', 'tenthribheight',\n",
              "       'thighcircumference', 'thighclearance', 'thumbtipreach', 'tibialheight',\n",
              "       'tragiontopofhead', 'trochanterionheight',\n",
              "       'verticaltrunkcircumferenceusa', 'waistbacklength', 'waistbreadth',\n",
              "       'waistcircumference', 'waistdepth', 'waistfrontlengthsitting',\n",
              "       'waistheightomphalion', 'wristcircumference', 'wristheight',\n",
              "       'weight_kg', 'stature_m', 'BMI', 'BMI_class', 'Height_class'],\n",
              "      dtype='object')"
            ]
          },
          "metadata": {
            "tags": []
          },
          "execution_count": 8
        }
      ]
    },
    {
      "cell_type": "markdown",
      "metadata": {
        "id": "EjzZz4ZcNJMJ",
        "colab_type": "text"
      },
      "source": [
        "#### Visually detecting redundant features\n",
        "#### Removing features without variance"
      ]
    },
    {
      "cell_type": "markdown",
      "metadata": {
        "id": "9jXOqSNePoW-",
        "colab_type": "text"
      },
      "source": [
        "#### Advantage of feature selection\n",
        "The selected features remain unchanged, and are therefore easy to interpret."
      ]
    },
    {
      "cell_type": "code",
      "metadata": {
        "id": "RTLqPnH_t_hi",
        "colab_type": "code",
        "outputId": "5fca304b-78c0-4e1d-c423-de36c34cd183",
        "colab": {
          "base_uri": "https://localhost:8080/",
          "height": 387
        }
      },
      "source": [
        "# Create a pairplot and color the points using the 'Gender' feature\n",
        "sns.pairplot(ansur_df_1[['weight_kg', 'stature_m', 'Gender']], hue='Gender', diag_kind='hist')\n",
        "\n",
        "# Show the plot\n",
        "plt.show()"
      ],
      "execution_count": 0,
      "outputs": [
        {
          "output_type": "display_data",
          "data": {
            "image/png": "[encoded data removed]",
            "text/plain": [
              "<Figure size 419.75x360 with 6 Axes>"
            ]
          },
          "metadata": {
            "tags": [],
            "needs_background": "light"
          }
        }
      ]
    },
    {
      "cell_type": "markdown",
      "metadata": {
        "id": "E9HpM75WJW_i",
        "colab_type": "text"
      },
      "source": [
        "### t-SNE visualization of high-dimensional data\n",
        "What is a good use case to use t-SNE?\n",
        "- When you want to visually explore the patterns in a high dimensional dataset.\n",
        "\n",
        "Not a good case:\n",
        "- When you want to visually check if two groups within your dataset differ significantly.\n",
        "\n",
        "- When you want to know the importance of specific features in a dataset.\n",
        "\n",
        "- When you want to sub-select the two most important features present in your dataset."
      ]
    },
    {
      "cell_type": "code",
      "metadata": {
        "id": "Bxsn9Y5TwjGK",
        "colab_type": "code",
        "outputId": "c5b4da69-e9d0-4eb6-ecae-65eb3ce96c04",
        "colab": {
          "base_uri": "https://localhost:8080/",
          "height": 35
        }
      },
      "source": [
        "from sklearn.manifold import TSNE\n",
        "# Non-numerical columns in the dataset\n",
        "non_numeric = ['Branch', 'Gender', 'Component']\n",
        "\n",
        "# Drop the non-numerical columns from df\n",
        "# df_numeric = ansur_df_1.drop(non_numeric, axis=1)\n",
        "df_numeric = ansur_df_1.select_dtypes(include=[np.number])\n",
        "\n",
        "# Create a t-SNE model with learning rate 50\n",
        "m = TSNE(learning_rate=50)\n",
        "\n",
        "# Fit and transform the t-SNE model on the numeric dataset\n",
        "tsne_features = m.fit_transform(df_numeric.iloc[:,:3])\n",
        "print(tsne_features.shape)"
      ],
      "execution_count": 0,
      "outputs": [
        {
          "output_type": "stream",
          "text": [
            "(4082, 2)\n"
          ],
          "name": "stdout"
        }
      ]
    },
    {
      "cell_type": "code",
      "metadata": {
        "id": "0_tbD5DOJ_Tu",
        "colab_type": "code",
        "outputId": "7f70e15e-ae40-45fc-d518-05682f6be616",
        "colab": {
          "base_uri": "https://localhost:8080/",
          "height": 265
        }
      },
      "source": [
        "# Color the points by Gender\n",
        "sns.scatterplot(x=tsne_features[:,0], y=tsne_features[:,1], hue=ansur_df_1['Component'])\n",
        "\n",
        "# Show the plot\n",
        "plt.show()"
      ],
      "execution_count": 0,
      "outputs": [
        {
          "output_type": "display_data",
          "data": {
            "image/png": "[encoded data removed]",
            "text/plain": [
              "<Figure size 432x288 with 1 Axes>"
            ]
          },
          "metadata": {
            "tags": [],
            "needs_background": "light"
          }
        }
      ]
    },
    {
      "cell_type": "code",
      "metadata": {
        "id": "xU13vwLkSF2o",
        "colab_type": "code",
        "outputId": "f3c25716-b142-45e5-9504-6fb5d345f312",
        "colab": {
          "base_uri": "https://localhost:8080/",
          "height": 239
        }
      },
      "source": [
        "# Import train_test_split()\n",
        "from sklearn.model_selection import train_test_split\n",
        "\n",
        "# Select the Gender column as the feature to be predicted (y)\n",
        "y = ansur_df['Gender']\n",
        "\n",
        "# Remove the Gender column to create the training data\n",
        "X = ansur_df.drop('Gender', axis=1)\n",
        "\n",
        "# Perform a 70% train and 30% test data split\n",
        "X_train, X_test, y_train, y_test = train_test_split(X, y, test_size=0.3)\n",
        "\n",
        "print(\"{} rows in test set vs. {} in training set. {} Features.\".format(X_test.shape[0], X_train.shape[0], X_test.shape[1]))"
      ],
      "execution_count": 0,
      "outputs": [
        {
          "output_type": "error",
          "ename": "NameError",
          "evalue": "ignored",
          "traceback": [
            "\u001b[0;31m---------------------------------------------------------------------------\u001b[0m",
            "\u001b[0;31mNameError\u001b[0m                                 Traceback (most recent call last)",
            "\u001b[0;32m<ipython-input-19-ab306ba551b5>\u001b[0m in \u001b[0;36m<module>\u001b[0;34m()\u001b[0m\n\u001b[1;32m      3\u001b[0m \u001b[0;34m\u001b[0m\u001b[0m\n\u001b[1;32m      4\u001b[0m \u001b[0;31m# Select the Gender column as the feature to be predicted (y)\u001b[0m\u001b[0;34m\u001b[0m\u001b[0;34m\u001b[0m\u001b[0;34m\u001b[0m\u001b[0m\n\u001b[0;32m----> 5\u001b[0;31m \u001b[0my\u001b[0m \u001b[0;34m=\u001b[0m \u001b[0mansur_df\u001b[0m\u001b[0;34m[\u001b[0m\u001b[0;34m'Gender'\u001b[0m\u001b[0;34m]\u001b[0m\u001b[0;34m\u001b[0m\u001b[0;34m\u001b[0m\u001b[0m\n\u001b[0m\u001b[1;32m      6\u001b[0m \u001b[0;34m\u001b[0m\u001b[0m\n\u001b[1;32m      7\u001b[0m \u001b[0;31m# Remove the Gender column to create the training data\u001b[0m\u001b[0;34m\u001b[0m\u001b[0;34m\u001b[0m\u001b[0;34m\u001b[0m\u001b[0m\n",
            "\u001b[0;31mNameError\u001b[0m: name 'ansur_df' is not defined"
          ]
        }
      ]
    },
    {
      "cell_type": "code",
      "metadata": {
        "id": "oJS70C_7SYQ9",
        "colab_type": "code",
        "colab": {}
      },
      "source": [
        "# Import SVC from sklearn.svm and accuracy_score from sklearn.metrics\n",
        "from sklearn.svm import SVC\n",
        "from sklearn.metrics import accuracy_score\n",
        "\n",
        "# Create an instance of the Support Vector Classification class\n",
        "svc = SVC()\n",
        "\n",
        "# Fit the model to the training data\n",
        "svc.fit(X_train, y_train)\n",
        "\n",
        "# Calculate accuracy scores on both train and test data\n",
        "accuracy_train = accuracy_score(y_train, svc.predict(X_train))\n",
        "accuracy_test = accuracy_score(y_test, svc.predict(X_test))\n",
        "\n",
        "print(\"{0:.1%} accuracy on test set vs. {1:.1%} on training set\".format(accuracy_test, accuracy_train))"
      ],
      "execution_count": 0,
      "outputs": []
    },
    {
      "cell_type": "code",
      "metadata": {
        "id": "LSsQxks0S4Ff",
        "colab_type": "code",
        "colab": {}
      },
      "source": [
        "# Assign just the 'neckcircumferencebase' column from ansur_df to X\n",
        "X = ansur_df[['neckcircumferencebase']]\n",
        "\n",
        "# Split the data, instantiate a classifier and fit the data\n",
        "X_train, X_test, y_train, y_test = train_test_split(X, y, test_size=0.3)\n",
        "svc = SVC()\n",
        "svc.fit(X_train, y_train)\n",
        "\n",
        "# Calculate accuracy scores on both train and test data\n",
        "accuracy_train = accuracy_score(y_train, svc.predict(X_train))\n",
        "accuracy_test = accuracy_score(y_test, svc.predict(X_test))\n",
        "\n",
        "print(\"{0:.1%} accuracy on test set vs. {1:.1%} on training set\".format(accuracy_test, accuracy_train))"
      ],
      "execution_count": 0,
      "outputs": []
    },
    {
      "cell_type": "markdown",
      "metadata": {
        "id": "I2vvnYLrTEmy",
        "colab_type": "text"
      },
      "source": [
        "Wow, what just happened!? On the full dataset the model is rubbish but with a single feature we can make good predictions? This is an example of the curse of dimensionality! The model badly overfits when we feed it too many features. It overlooks that neck circumference by itself is pretty different for males and females."
      ]
    },
    {
      "cell_type": "markdown",
      "metadata": {
        "id": "ZNWd2KVbTOdM",
        "colab_type": "text"
      },
      "source": [
        "#### Features with missing values or little variance\n"
      ]
    },
    {
      "cell_type": "code",
      "metadata": {
        "id": "36D6GjUrULn4",
        "colab_type": "code",
        "colab": {}
      },
      "source": [
        "# Create the boxplot\n",
        "head_df.boxplot()\n",
        "\n",
        "plt.show()"
      ],
      "execution_count": 0,
      "outputs": []
    },
    {
      "cell_type": "code",
      "metadata": {
        "id": "b8NudyH3UW5G",
        "colab_type": "code",
        "colab": {}
      },
      "source": [
        "# Normalize the data\n",
        "normalized_df = head_df / head_df.mean()\n",
        "\n",
        "normalized_df.boxplot()\n",
        "plt.show()"
      ],
      "execution_count": 0,
      "outputs": []
    },
    {
      "cell_type": "code",
      "metadata": {
        "id": "SJl5gJtpUeAj",
        "colab_type": "code",
        "colab": {}
      },
      "source": [
        "# Print the variances of the normalized data\n",
        "print(normalized_df.var())"
      ],
      "execution_count": 0,
      "outputs": []
    },
    {
      "cell_type": "markdown",
      "metadata": {
        "id": "WeUDVFnlU68T",
        "colab_type": "text"
      },
      "source": [
        "Features with low variance\n",
        "\n",
        "In the previous exercise you established that 0.001 is a good threshold to filter out low variance features in head_df after normalization. Now use the VarianceThreshold feature selector to remove these features."
      ]
    },
    {
      "cell_type": "code",
      "metadata": {
        "id": "g9bUT57-U2sg",
        "colab_type": "code",
        "colab": {}
      },
      "source": [
        "from sklearn.feature_selection import VarianceThreshold\n",
        "\n",
        "# Create a VarianceThreshold feature selector\n",
        "sel = VarianceThreshold(threshold=0.001)\n",
        "\n",
        "# Fit the selector to normalized head_df\n",
        "sel.fit(head_df / head_df.mean())\n",
        "\n",
        "# Create a boolean mask\n",
        "mask = sel.get_support()\n",
        "\n",
        "# Apply the mask to create a reduced dataframe\n",
        "reduced_df = head_df.loc[:, mask]\n",
        "\n",
        "print(\"Dimensionality reduced from {} to {}.\".format(head_df.shape[1], reduced_df.shape[1]))"
      ],
      "execution_count": 0,
      "outputs": []
    },
    {
      "cell_type": "markdown",
      "metadata": {
        "id": "RNGvO4S5VZFe",
        "colab_type": "text"
      },
      "source": [
        "Removing features with many missing values\n",
        "\n",
        "You'll apply feature selection on the Boston Public Schools dataset which has been pre-loaded as school_df. Calculate the missing value ratio per feature and then create a mask to remove features with many missing values."
      ]
    },
    {
      "cell_type": "code",
      "metadata": {
        "id": "T8vxmoxEVZmh",
        "colab_type": "code",
        "colab": {}
      },
      "source": [
        "school_df.isna().sum() / len(school_df)"
      ],
      "execution_count": 0,
      "outputs": []
    },
    {
      "cell_type": "code",
      "metadata": {
        "id": "C-xSQdZeV0cO",
        "colab_type": "code",
        "colab": {}
      },
      "source": [
        "# Create a boolean mask on whether each feature less than 50% missing values.\n",
        "mask = school_df.isna().sum() / len(school_df) < 0.5\n",
        "\n",
        "# Create a reduced dataset by applying the mask\n",
        "reduced_df = school_df.loc[:,mask]\n",
        "\n",
        "print(school_df.shape)\n",
        "print(reduced_df.shape)"
      ],
      "execution_count": 0,
      "outputs": []
    },
    {
      "cell_type": "markdown",
      "metadata": {
        "id": "aS6o7hZyL7rY",
        "colab_type": "text"
      },
      "source": [
        "#### Pairwise correlation"
      ]
    },
    {
      "cell_type": "code",
      "metadata": {
        "id": "X5FSfTLwKvtK",
        "colab_type": "code",
        "colab": {}
      },
      "source": [
        "# Create the correlation matrix\n",
        "corr = ansur_df.corr()\n",
        "\n",
        "# Draw the heatmap\n",
        "sns.heatmap(corr,  cmap=cmap, center=0, linewidths=1, annot=True, fmt=\".2f\")\n",
        "plt.show()"
      ],
      "execution_count": 0,
      "outputs": []
    },
    {
      "cell_type": "code",
      "metadata": {
        "id": "oBR7bOxiLHa0",
        "colab_type": "code",
        "colab": {}
      },
      "source": [
        "# Create the correlation matrix\n",
        "corr = ansur_df.corr()\n",
        "\n",
        "# Generate a mask for the upper triangle \n",
        "mask = np.triu(np.ones_like(corr, dtype=bool))\n",
        "\n",
        "# Add the mask to the heatmap\n",
        "sns.heatmap(corr, mask=mask, cmap=cmap, center=0, linewidths=1, annot=True, fmt=\".2f\")\n",
        "plt.show()"
      ],
      "execution_count": 0,
      "outputs": []
    },
    {
      "cell_type": "markdown",
      "metadata": {
        "id": "usiafOnvMyCv",
        "colab_type": "text"
      },
      "source": [
        "#### Removing highly correlated features"
      ]
    },
    {
      "cell_type": "code",
      "metadata": {
        "id": "gWTZDpYLM0Cd",
        "colab_type": "code",
        "colab": {}
      },
      "source": [
        "# Calculate the correlation matrix and take the absolute value\n",
        "corr_matrix = ansur_df.corr().abs()\n",
        "\n",
        "# Create a True/False mask and apply it\n",
        "mask = np.triu(np.ones_like(corr_matrix, dtype=bool))\n",
        "tri_df = corr_matrix.mask(mask)\n",
        "\n",
        "# List column names of highly correlated features (r > 0.95)\n",
        "to_drop = [c for c in tri_df.columns if any(tri_df[c] >  0.95)]\n",
        "\n",
        "# Drop the features in the to_drop list\n",
        "reduced_df = ansur_df.drop(to_drop, axis=1)\n",
        "\n",
        "print(\"The reduced dataframe has {} columns.\".format(reduced_df.shape[1]))"
      ],
      "execution_count": 0,
      "outputs": []
    },
    {
      "cell_type": "markdown",
      "metadata": {
        "id": "YiWxr745PH6C",
        "colab_type": "text"
      },
      "source": [
        "#### correlation vs causation\n",
        "Nuclear energy and pool drownings\n",
        "\n",
        "The dataset that has been pre-loaded for you as weird_df contains actual data provided by the US Centers for Disease Control & Prevention and Department of Energy.\n",
        "\n",
        "Let's see if we can find a pattern.\n",
        "While the example is silly, you'll be amazed how often people misunderstand correlation vs causation."
      ]
    },
    {
      "cell_type": "markdown",
      "metadata": {
        "id": "M1OeD0PpPP1u",
        "colab_type": "text"
      },
      "source": [
        "### Selecting features for model performance"
      ]
    },
    {
      "cell_type": "markdown",
      "metadata": {
        "id": "SCuuHN0CSLaJ",
        "colab_type": "text"
      },
      "source": [
        "Building a diabetes classifier\n",
        "\n",
        "You'll be using the Pima Indians diabetes dataset to predict whether a person has diabetes using logistic regression. There are 8 features and one target in this dataset. The data has been split into a training and test set and pre-loaded for you as X_train, y_train, X_test, and y_test.\n",
        "\n",
        "A StandardScaler() instance has been predefined as scaler and a LogisticRegression() one as lr."
      ]
    },
    {
      "cell_type": "code",
      "metadata": {
        "id": "x9kNGYu4SBGX",
        "colab_type": "code",
        "colab": {}
      },
      "source": [
        "# Fit the scaler on the training features and transform these in one go\n",
        "X_train_std = scaler.fit_transform(X_train)\n",
        "\n",
        "# Fit the logistic regression model on the scaled training data\n",
        "lr.fit(X_train_std, y_train)\n",
        "\n",
        "# Scale the test features\n",
        "X_test_std = scaler.transform(X_test)\n",
        "\n",
        "# Predict diabetes presence on the scaled test set\n",
        "y_pred = lr.predict(X_test_std)\n",
        "\n",
        "# Prints accuracy metrics and feature coefficients\n",
        "print(\"{0:.1%} accuracy on test set.\".format(accuracy_score(y_test, y_pred))) \n",
        "print(dict(zip(X.columns, abs(lr.coef_[0]).round(2))))"
      ],
      "execution_count": 0,
      "outputs": []
    },
    {
      "cell_type": "markdown",
      "metadata": {
        "id": "LtyPMQIhTHmC",
        "colab_type": "text"
      },
      "source": [
        "Manual Recursive Feature Elimination\n",
        "\n",
        "Now that we've created a diabetes classifier, let's see if we can reduce the number of features without hurting the model accuracy too much.\n",
        "\n",
        "On the second line of code the features are selected from the original dataframe. Adjust this selection.\n",
        "\n",
        "A StandardScaler() instance has been predefined as scaler and a LogisticRegression() one as lr."
      ]
    },
    {
      "cell_type": "code",
      "metadata": {
        "id": "BZqAFptrSMM8",
        "colab_type": "code",
        "colab": {}
      },
      "source": [
        "# Remove the feature with the lowest model coefficient\n",
        "X = diabetes_df[['pregnant', 'glucose', 'triceps', 'insulin', 'bmi', 'family', 'age']]\n",
        "\n",
        "# Performs a 25-75% train test split\n",
        "X_train, X_test, y_train, y_test = train_test_split(X, y, test_size=0.25, random_state=0)\n",
        "\n",
        "# Scales features and fits the logistic regression model\n",
        "lr.fit(scaler.fit_transform(X_train), y_train)\n",
        "\n",
        "# Calculates the accuracy on the test set and prints coefficients\n",
        "acc = accuracy_score(y_test, lr.predict(scaler.transform(X_test)))\n",
        "print(\"{0:.1%} accuracy on test set.\".format(acc)) \n",
        "print(dict(zip(X.columns, abs(lr.coef_[0]).round(2))))"
      ],
      "execution_count": 0,
      "outputs": []
    },
    {
      "cell_type": "markdown",
      "metadata": {
        "id": "pFUAzLaLTCpU",
        "colab_type": "text"
      },
      "source": [
        "Automatic Recursive Feature Elimination\n",
        "\n",
        "Now let's automate this recursive process. Wrap a Recursive Feature Eliminator (RFE) around our logistic regression estimator and pass it the desired number of features.\n",
        "\n",
        "All the necessary functions and packages have been pre-loaded and the features have been scaled for you."
      ]
    },
    {
      "cell_type": "code",
      "metadata": {
        "id": "rptxXwW-TATW",
        "colab_type": "code",
        "colab": {}
      },
      "source": [
        "# Create the RFE with a LogisticRegression estimator and 3 features to select\n",
        "rfe = RFE(estimator=LogisticRegression(), n_features_to_select=3, verbose=1)\n",
        "\n",
        "# Fits the eliminator to the data\n",
        "rfe.fit(X_train, y_train)\n",
        "\n",
        "# Print the features and their ranking (high = dropped early on)\n",
        "print(dict(zip(X.columns, rfe.ranking_)))\n",
        "\n",
        "# Print the features that are not eliminated\n",
        "print(X.columns[rfe.support_])\n",
        "\n",
        "# Calculates the test set accuracy\n",
        "acc = accuracy_score(y_test, rfe.predict(X_test))\n",
        "print(\"{0:.1%} accuracy on test set.\".format(acc)) "
      ],
      "execution_count": 0,
      "outputs": []
    }
  ]
}