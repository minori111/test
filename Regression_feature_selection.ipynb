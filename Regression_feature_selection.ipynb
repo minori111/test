{
  "nbformat": 4,
  "nbformat_minor": 0,
  "metadata": {
    "colab": {
      "name": "Regression: feature selection",
      "provenance": [],
      "authorship_tag": "ABX9TyPO2zrBIMMcaX5t4RPClFou",
      "include_colab_link": true
    },
    "kernelspec": {
      "name": "python3",
      "display_name": "Python 3"
    }
  },
  "cells": [
    {
      "cell_type": "markdown",
      "metadata": {
        "id": "view-in-github",
        "colab_type": "text"
      },
      "source": [
        "<a href=\"https://colab.research.google.com/github/randy-tsukemen/Data_science_roadmap/blob/master/Regression_feature_selection.ipynb\" target=\"_parent\"><img src=\"https://colab.research.google.com/assets/colab-badge.svg\" alt=\"Open In Colab\"/></a>"
      ]
    },
    {
      "cell_type": "markdown",
      "metadata": {
        "id": "GLSKYLIWNkPl",
        "colab_type": "text"
      },
      "source": [
        "# Supervised Learning\n"
      ]
    },
    {
      "cell_type": "markdown",
      "metadata": {
        "id": "1d3HPMO3N1ER",
        "colab_type": "text"
      },
      "source": [
        "## Regression: feature selection\n",
        "### Selecting the correct features:\n",
        "- Reduces over?tting\n",
        "- Improves accuracy\n",
        "- Increases interpretability\n",
        "- Reduces training time"
      ]
    },
    {
      "cell_type": "markdown",
      "metadata": {
        "id": "bKWriJysOEGb",
        "colab_type": "text"
      },
      "source": [
        "### Feature selection methods\n",
        "- Filter: Rank features based on statistical performance\n",
        "- Wrapper: Use an ML method to evaluate performance\n",
        "- Embedded: Iterative model training to extract features\n",
        "- Feature importance: tree-based ML models\n"
      ]
    },
    {
      "cell_type": "markdown",
      "metadata": {
        "id": "GBXSEIdqOTDM",
        "colab_type": "text"
      },
      "source": [
        "### Compare and contrast methods\n",
        "|Method |Use an ML model |Select best subset |Can overfit|\n",
        "| -------- | -------- | -------- | -------- |\n",
        "|Filter |No |No |No|\n",
        "|Wrapper |Yes |Yes |Sometimes|\n",
        "|Embedded |Yes |Yes |Yes|\n",
        "|Feature importance |Yes |Yes |Yes|"
      ]
    },
    {
      "cell_type": "markdown",
      "metadata": {
        "id": "ol6AGH0kO3xe",
        "colab_type": "text"
      },
      "source": [
        "### Correlation coeficient statistical tests\n",
        "|Feature/Response |Continuous |Categorical|\n",
        "| -------- | -------- | -------- |\n",
        "|Continuous |Pearson's Correlation |LDA|\n",
        "|Categorical |ANOVA |Chi-Square|"
      ]
    },
    {
      "cell_type": "markdown",
      "metadata": {
        "id": "iw_8Gux4o8xg",
        "colab_type": "text"
      },
      "source": [
        "## load data"
      ]
    },
    {
      "cell_type": "code",
      "metadata": {
        "id": "Y_fXm8GvpUr-",
        "colab_type": "code",
        "colab": {
          "base_uri": "https://localhost:8080/",
          "height": 72
        },
        "outputId": "7cfe8cab-c755-416f-b47a-575ed01af252"
      },
      "source": [
        "import pandas as pd\n",
        "import matplotlib.pyplot as plt\n",
        "import seaborn as sns"
      ],
      "execution_count": 1,
      "outputs": [
        {
          "output_type": "stream",
          "text": [
            "/usr/local/lib/python3.6/dist-packages/statsmodels/tools/_testing.py:19: FutureWarning: pandas.util.testing is deprecated. Use the functions in the public API at pandas.testing instead.\n",
            "  import pandas.util.testing as tm\n"
          ],
          "name": "stderr"
        }
      ]
    },
    {
      "cell_type": "code",
      "metadata": {
        "id": "m1nUoLXdoCqg",
        "colab_type": "code",
        "colab": {}
      },
      "source": [
        "# load data\n",
        "url = \"https://assets.datacamp.com/production/repositories/4983/datasets/97f3248581b7272784d23df9c30612d9eb0afb8d/diabetes.csv\"\n",
        "diabetes = pd.read_csv(url)\n",
        "X = diabetes.drop(columns=[\"progression\"])\n",
        "y = diabetes[\"progression\"]"
      ],
      "execution_count": 0,
      "outputs": []
    },
    {
      "cell_type": "markdown",
      "metadata": {
        "id": "RMppRg-gPJgn",
        "colab_type": "text"
      },
      "source": [
        "### Filter functions\n",
        "|Function |returns|\n",
        "|---|---|\n",
        "|df.corr() |Pearson's correlation matrix|\n",
        "|sns.heatmap(corr_object) |heatmap plot|\n",
        "|abs() |absolute value|"
      ]
    },
    {
      "cell_type": "code",
      "metadata": {
        "id": "Bks1-iSDwdRk",
        "colab_type": "code",
        "colab": {
          "base_uri": "https://localhost:8080/",
          "height": 637
        },
        "outputId": "92801831-8036-4d7e-ae63-4a2d67fc907e"
      },
      "source": [
        "# Create correlation matrix and print it\n",
        "cor = diabetes.corr()\n",
        "print(cor)\n",
        "\n",
        "# Correlation matrix heatmap\n",
        "plt.figure()\n",
        "sns.heatmap(cor, annot=True, cmap=plt.cm.Reds)\n",
        "plt.show()\n",
        "\n",
        "# Correlation with output variable\n",
        "cor_target = abs(cor[\"progression\"])\n",
        "\n",
        "# Selecting highly correlated features\n",
        "best_features = cor_target[cor_target > 0.5]\n",
        "print(best_features)"
      ],
      "execution_count": 3,
      "outputs": [
        {
          "output_type": "stream",
          "text": [
            "                  age       sex       bmi  ...        s5        s6  progression\n",
            "age          1.000000  0.173737  0.185085  ...  0.270777  0.301731     0.187889\n",
            "sex          0.173737  1.000000  0.088161  ...  0.149918  0.208133     0.043062\n",
            "bmi          0.185085  0.088161  1.000000  ...  0.446159  0.388680     0.586450\n",
            "bp           0.335427  0.241013  0.395415  ...  0.393478  0.390429     0.441484\n",
            "s1           0.260061  0.035277  0.249777  ...  0.515501  0.325717     0.212022\n",
            "s2           0.219243  0.142637  0.261170  ...  0.318353  0.290600     0.174054\n",
            "s3          -0.075181 -0.379090 -0.366811  ... -0.398577 -0.273697    -0.394789\n",
            "s4           0.203841  0.332115  0.413807  ...  0.617857  0.417212     0.430453\n",
            "s5           0.270777  0.149918  0.446159  ...  1.000000  0.464670     0.565883\n",
            "s6           0.301731  0.208133  0.388680  ...  0.464670  1.000000     0.382483\n",
            "progression  0.187889  0.043062  0.586450  ...  0.565883  0.382483     1.000000\n",
            "\n",
            "[11 rows x 11 columns]\n"
          ],
          "name": "stdout"
        },
        {
          "output_type": "display_data",
          "data": {
            "image/png": "[encoded data removed]",
            "text/plain": [
              "<Figure size 432x288 with 2 Axes>"
            ]
          },
          "metadata": {
            "tags": [],
            "needs_background": "light"
          }
        },
        {
          "output_type": "stream",
          "text": [
            "bmi            0.586450\n",
            "s5             0.565883\n",
            "progression    1.000000\n",
            "Name: progression, dtype: float64\n"
          ],
          "name": "stdout"
        }
      ]
    },
    {
      "cell_type": "markdown",
      "metadata": {
        "id": "u84Tw2nOPXUh",
        "colab_type": "text"
      },
      "source": [
        "### Wrapper methods\n",
        "1. Forward selection (LARS-least angle regression)\n",
        "    - Starts with no features, adds one at a time\n",
        "2. Backward elimination\n",
        "    - Starts with all features, eliminates one at a time\n",
        "3. Forward selection/backward elimination combination (bidirectional elimination)\n",
        "4. Recursive feature elimination\n",
        "    - RFECV"
      ]
    },
    {
      "cell_type": "code",
      "metadata": {
        "id": "vuWfyzwCxj0Q",
        "colab_type": "code",
        "colab": {
          "base_uri": "https://localhost:8080/",
          "height": 70
        },
        "outputId": "0eacd747-8b87-4aef-b194-e0664ebe291e"
      },
      "source": [
        "# Import modules\n",
        "from sklearn.svm import SVR\n",
        "from sklearn.feature_selection import RFECV\n",
        "\n",
        "# Instantiate estimator and feature selector\n",
        "svr_mod = SVR(kernel=\"linear\")\n",
        "feat_selector = RFECV(svr_mod, cv=5)\n",
        "\n",
        "# Fit\n",
        "feat_selector = feat_selector.fit(X, y)\n",
        "\n",
        "# Print support and ranking\n",
        "print(feat_selector.support_)\n",
        "print(feat_selector.ranking_)\n",
        "print(X.columns)"
      ],
      "execution_count": 4,
      "outputs": [
        {
          "output_type": "stream",
          "text": [
            "[ True False  True  True  True  True  True  True  True  True]\n",
            "[1 2 1 1 1 1 1 1 1 1]\n",
            "Index(['age', 'sex', 'bmi', 'bp', 's1', 's2', 's3', 's4', 's5', 's6'], dtype='object')\n"
          ],
          "name": "stdout"
        }
      ]
    },
    {
      "cell_type": "code",
      "metadata": {
        "id": "g1Kuzsiax1Fx",
        "colab_type": "code",
        "colab": {
          "base_uri": "https://localhost:8080/",
          "height": 52
        },
        "outputId": "618d8ab9-104f-4671-8375-6097f7bab161"
      },
      "source": [
        "# Import modules\n",
        "from sklearn.linear_model import LarsCV\n",
        "\n",
        "# Drop feature suggested not important in step 2\n",
        "X = X.drop('sex', axis=1)\n",
        "\n",
        "# Instantiate\n",
        "lars_mod = LarsCV(cv=5, normalize=False)\n",
        "\n",
        "# Fit\n",
        "feat_selector = lars_mod.fit(X, y)\n",
        "\n",
        "# Print r-squared score and estimated alpha\n",
        "print(lars_mod.score(X, y))\n",
        "print(lars_mod.alpha_)"
      ],
      "execution_count": 5,
      "outputs": [
        {
          "output_type": "stream",
          "text": [
            "0.4982900996498095\n",
            "0.05226862285159132\n"
          ],
          "name": "stdout"
        }
      ]
    },
    {
      "cell_type": "markdown",
      "metadata": {
        "id": "9UQgw1IZPqZM",
        "colab_type": "text"
      },
      "source": [
        "### Tree-based feature importance methods\n",
        "- Random Forest --> `sklearn.ensemble.RandomForestRegressor`\n",
        "- Extra Trees --> `sklearn.ensemble.ExtraTreesRegressor`\n",
        "- After model fit --> `tree_mod.feature_importances_`"
      ]
    },
    {
      "cell_type": "markdown",
      "metadata": {
        "id": "LdLIIahFP0OK",
        "colab_type": "text"
      },
      "source": [
        "|Function |returns|\n",
        "|---|---|\n",
        "|`sklearn.svm.SVR` |support vector regression estimator|\n",
        "|`sklearn.feature_selection.RFECV` |recursive feature elimination with cross-val|\n",
        "|`rfe_mod.support_` |boolean array of selected features|\n",
        "|`ref_mod.ranking_` |feature ranking, selected=1|\n",
        "|`sklearn.linear_model.LinearRegression` |linear model estimator|\n",
        "|`sklearn.linear_model.LarsCV` |least angle regression with cross-val|\n",
        "|`LarsCV.score` |r-squared score|\n",
        "|`LarsCV.alpha_` |estimated regularization parameter|"
      ]
    },
    {
      "cell_type": "code",
      "metadata": {
        "id": "z2QEtrMHNjN2",
        "colab_type": "code",
        "colab": {
          "base_uri": "https://localhost:8080/",
          "height": 106
        },
        "outputId": "5739b360-aa5e-4cb9-ac71-57ddc1cbf556"
      },
      "source": [
        "# Import\n",
        "from sklearn.ensemble import RandomForestRegressor\n",
        "\n",
        "# Instantiate\n",
        "rf_mod = RandomForestRegressor(max_depth=2, random_state=123, \n",
        "              n_estimators=100, oob_score=True)\n",
        "\n",
        "# Fit\n",
        "rf_mod.fit(X, y)\n",
        "\n",
        "# Print\n",
        "print(diabetes.columns)\n",
        "print(rf_mod.feature_importances_)"
      ],
      "execution_count": 6,
      "outputs": [
        {
          "output_type": "stream",
          "text": [
            "Index(['age', 'sex', 'bmi', 'bp', 's1', 's2', 's3', 's4', 's5', 's6',\n",
            "       'progression'],\n",
            "      dtype='object')\n",
            "[0.         0.39961579 0.03085607 0.         0.00128948 0.00700339\n",
            " 0.00417891 0.53899467 0.01806168]\n"
          ],
          "name": "stdout"
        }
      ]
    },
    {
      "cell_type": "code",
      "metadata": {
        "id": "Yin7MIOrJuIh",
        "colab_type": "code",
        "colab": {
          "base_uri": "https://localhost:8080/",
          "height": 106
        },
        "outputId": "4046ac19-00e6-4806-a7ff-0be9e68c68b8"
      },
      "source": [
        "# Import\n",
        "from sklearn.ensemble import ExtraTreesRegressor\n",
        "\n",
        "# Instantiate\n",
        "xt_mod = ExtraTreesRegressor()\n",
        "\n",
        "# Fit\n",
        "xt_mod.fit(X, y)\n",
        "\n",
        "# Print\n",
        "print(diabetes.columns)\n",
        "print(xt_mod.feature_importances_)"
      ],
      "execution_count": 7,
      "outputs": [
        {
          "output_type": "stream",
          "text": [
            "Index(['age', 'sex', 'bmi', 'bp', 's1', 's2', 's3', 's4', 's5', 's6',\n",
            "       'progression'],\n",
            "      dtype='object')\n",
            "[0.0613247  0.26582602 0.11353061 0.05039899 0.05113997 0.0692288\n",
            " 0.06861552 0.24065625 0.07927914]\n"
          ],
          "name": "stdout"
        }
      ]
    },
    {
      "cell_type": "markdown",
      "metadata": {
        "id": "AaXBZT-IPhjW",
        "colab_type": "text"
      },
      "source": [
        "### Embedded methods\n",
        "1. Lasso Regression\n",
        "2. Ridge Regression\n",
        "3. ElasticNet\n"
      ]
    }
  ]
}