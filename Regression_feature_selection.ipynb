{
  "nbformat": 4,
  "nbformat_minor": 0,
  "metadata": {
    "colab": {
      "name": "Regression: feature selection",
      "provenance": [],
      "authorship_tag": "ABX9TyNUB0KK7ZLcAscuHHGB/uoJ",
      "include_colab_link": true
    },
    "kernelspec": {
      "name": "python3",
      "display_name": "Python 3"
    }
  },
  "cells": [
    {
      "cell_type": "markdown",
      "metadata": {
        "id": "view-in-github",
        "colab_type": "text"
      },
      "source": [
        "<a href=\"https://colab.research.google.com/github/randy-tsukemen/Data_science_roadmap/blob/master/Regression_feature_selection.ipynb\" target=\"_parent\"><img src=\"https://colab.research.google.com/assets/colab-badge.svg\" alt=\"Open In Colab\"/></a>"
      ]
    },
    {
      "cell_type": "markdown",
      "metadata": {
        "id": "GLSKYLIWNkPl",
        "colab_type": "text"
      },
      "source": [
        "# Supervised Learning\n"
      ]
    },
    {
      "cell_type": "markdown",
      "metadata": {
        "id": "1d3HPMO3N1ER",
        "colab_type": "text"
      },
      "source": [
        "## Regression: feature selection\n",
        "### Selecting the correct features:\n",
        "- Reduces over?tting\n",
        "- Improves accuracy\n",
        "- Increases interpretability\n",
        "- Reduces training time"
      ]
    },
    {
      "cell_type": "markdown",
      "metadata": {
        "id": "bKWriJysOEGb",
        "colab_type": "text"
      },
      "source": [
        "### Feature selection methods\n",
        "- Filter: Rank features based on statistical performance\n",
        "- Wrapper: Use an ML method to evaluate performance\n",
        "- Embedded: Iterative model training to extract features\n",
        "- Feature importance: tree-based ML models\n"
      ]
    },
    {
      "cell_type": "markdown",
      "metadata": {
        "id": "GBXSEIdqOTDM",
        "colab_type": "text"
      },
      "source": [
        "### Compare and contrast methods\n",
        "|Method |Use an ML model |Select best subset |Can overfit|\n",
        "| -------- | -------- | -------- | -------- |\n",
        "|Filter |No |No |No|\n",
        "|Wrapper |Yes |Yes |Sometimes|\n",
        "|Embedded |Yes |Yes |Yes|\n",
        "|Feature importance |Yes |Yes |Yes|"
      ]
    },
    {
      "cell_type": "markdown",
      "metadata": {
        "id": "ol6AGH0kO3xe",
        "colab_type": "text"
      },
      "source": [
        "### Correlation coeficient statistical tests\n",
        "|Feature/Response |Continuous |Categorical|\n",
        "| -------- | -------- | -------- |\n",
        "|Continuous |Pearson's Correlation |LDA|\n",
        "|Categorical |ANOVA |Chi-Square|"
      ]
    },
    {
      "cell_type": "markdown",
      "metadata": {
        "id": "RMppRg-gPJgn",
        "colab_type": "text"
      },
      "source": [
        "### Filter functions\n",
        "|Function |returns|\n",
        "|---|---|\n",
        "|df.corr() |Pearson's correlation matrix|\n",
        "|sns.heatmap(corr_object) |heatmap plot|\n",
        "|abs() |absolute value|"
      ]
    },
    {
      "cell_type": "code",
      "metadata": {
        "id": "Bks1-iSDwdRk",
        "colab_type": "code",
        "colab": {}
      },
      "source": [
        "# Create correlation matrix and print it\n",
        "cor = diabetes.corr()\n",
        "print(cor)\n",
        "\n",
        "# Correlation matrix heatmap\n",
        "plt.figure()\n",
        "sns.heatmap(cor, annot=True, cmap=plt.cm.Reds)\n",
        "plt.show()\n",
        "\n",
        "# Correlation with output variable\n",
        "cor_target = abs(cor[\"progression\"])\n",
        "\n",
        "# Selecting highly correlated features\n",
        "best_features = cor_target[cor_target > 0.5]\n",
        "print(best_features)"
      ],
      "execution_count": 0,
      "outputs": []
    },
    {
      "cell_type": "markdown",
      "metadata": {
        "id": "u84Tw2nOPXUh",
        "colab_type": "text"
      },
      "source": [
        "### Wrapper methods\n",
        "1. Forward selection (LARS-least angle regression)\n",
        "    - Starts with no features, adds one at a time\n",
        "2. Backward elimination\n",
        "    - Starts with all features, eliminates one at a time\n",
        "3. Forward selection/backward elimination combination (bidirectional elimination)\n",
        "4. Recursive feature elimination\n",
        "    - RFECV"
      ]
    },
    {
      "cell_type": "code",
      "metadata": {
        "id": "vuWfyzwCxj0Q",
        "colab_type": "code",
        "colab": {}
      },
      "source": [
        "# Import modules\n",
        "from sklearn.svm import SVR\n",
        "from sklearn.feature_selection import RFECV\n",
        "\n",
        "# Instantiate estimator and feature selector\n",
        "svr_mod = SVR(kernel=\"linear\")\n",
        "feat_selector = RFECV(svr_mod, cv=5)\n",
        "\n",
        "# Fit\n",
        "feat_selector = feat_selector.fit(X, y)\n",
        "\n",
        "# Print support and ranking\n",
        "print(feat_selector.support_)\n",
        "print(feat_selector.ranking_)\n",
        "print(X.columns)"
      ],
      "execution_count": 0,
      "outputs": []
    },
    {
      "cell_type": "code",
      "metadata": {
        "id": "g1Kuzsiax1Fx",
        "colab_type": "code",
        "colab": {}
      },
      "source": [
        "# Import modules\n",
        "from sklearn.linear_model import LarsCV\n",
        "\n",
        "# Drop feature suggested not important in step 2\n",
        "X = X.drop('sex', axis=1)\n",
        "\n",
        "# Instantiate\n",
        "lars_mod = LarsCV(cv=5, normalize=False)\n",
        "\n",
        "# Fit\n",
        "feat_selector = lars_mod.fit(X, y)\n",
        "\n",
        "# Print r-squared score and estimated alpha\n",
        "print(lars_mod.score(X, y))\n",
        "print(lars_mod.alpha_)"
      ],
      "execution_count": 0,
      "outputs": []
    },
    {
      "cell_type": "markdown",
      "metadata": {
        "id": "AaXBZT-IPhjW",
        "colab_type": "text"
      },
      "source": [
        "### Embedded methods\n",
        "1. Lasso Regression\n",
        "2. Ridge Regression\n",
        "3. ElasticNet"
      ]
    },
    {
      "cell_type": "markdown",
      "metadata": {
        "id": "9UQgw1IZPqZM",
        "colab_type": "text"
      },
      "source": [
        "### Tree-based feature importance methods\n",
        "- Random Forest --> `sklearn.ensemble.RandomForestRegressor`\n",
        "- Extra Trees --> `sklearn.ensemble.ExtraTreesRegressor`\n",
        "- After model fit --> `tree_mod.feature_importances_`"
      ]
    },
    {
      "cell_type": "markdown",
      "metadata": {
        "id": "LdLIIahFP0OK",
        "colab_type": "text"
      },
      "source": [
        "|Function |returns|\n",
        "|---|---|\n",
        "|`sklearn.svm.SVR` |support vector regression estimator|\n",
        "|`sklearn.feature_selection.RFECV` |recursive feature elimination with cross-val|\n",
        "|`rfe_mod.support_` |boolean array of selected features|\n",
        "|`ref_mod.ranking_` |feature ranking, selected=1|\n",
        "|`sklearn.linear_model.LinearRegression` |linear model estimator|\n",
        "|`sklearn.linear_model.LarsCV` |least angle regression with cross-val|\n",
        "|`LarsCV.score` |r-squared score|\n",
        "|`LarsCV.alpha_` |estimated regularization parameter|"
      ]
    },
    {
      "cell_type": "code",
      "metadata": {
        "id": "z2QEtrMHNjN2",
        "colab_type": "code",
        "colab": {}
      },
      "source": [
        ""
      ],
      "execution_count": 0,
      "outputs": []
    }
  ]
}