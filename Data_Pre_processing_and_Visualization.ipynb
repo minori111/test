{
  "nbformat": 4,
  "nbformat_minor": 0,
  "metadata": {
    "colab": {
      "name": "Data Pre-processing and Visualization.ipynb",
      "provenance": [],
      "authorship_tag": "ABX9TyP/yTkpcSpCBq2q6tgIfN9O",
      "include_colab_link": true
    },
    "kernelspec": {
      "name": "python3",
      "display_name": "Python 3"
    }
  },
  "cells": [
    {
      "cell_type": "markdown",
      "metadata": {
        "id": "view-in-github",
        "colab_type": "text"
      },
      "source": [
        "<a href=\"https://colab.research.google.com/github/randy-tsukemen/test/blob/master/Data_Pre_processing_and_Visualization.ipynb\" target=\"_parent\"><img src=\"https://colab.research.google.com/assets/colab-badge.svg\" alt=\"Open In Colab\"/></a>"
      ]
    },
    {
      "cell_type": "code",
      "metadata": {
        "id": "ur99plS3Pfv-",
        "colab_type": "code",
        "colab": {}
      },
      "source": [
        "# Import modules\n",
        "import numpy as np\n",
        "import pandas as pd\n",
        "\n",
        "# Print missing values\n",
        "print(loan_data.isna().sum())"
      ],
      "execution_count": 0,
      "outputs": []
    },
    {
      "cell_type": "code",
      "metadata": {
        "id": "pY35FZk_PmMH",
        "colab_type": "code",
        "colab": {}
      },
      "source": [
        "# Drop rows with missing values\n",
        "dropNArows = loan_data.dropna(axis=0)\n",
        "\n",
        "# Print percentage of rows remaining\n",
        "print(dropNArows.shape[0]/loan_data.shape[0] * 100)"
      ],
      "execution_count": 0,
      "outputs": []
    },
    {
      "cell_type": "code",
      "metadata": {
        "id": "Xi8LCrKpPoC2",
        "colab_type": "code",
        "colab": {}
      },
      "source": [
        "# Drop columns with missing values\n",
        "dropNAcols = loan_data.dropna(axis=1)\n",
        "\n",
        "# Print percentage of columns remaining\n",
        "print(dropNAcols.shape[1]/loan_data.shape[1] * 100)"
      ],
      "execution_count": 0,
      "outputs": []
    },
    {
      "cell_type": "code",
      "metadata": {
        "id": "7iHhlPJgPqH-",
        "colab_type": "code",
        "colab": {}
      },
      "source": [
        "# Fill missing values with zero\n",
        "loan_data_filled = loan_data.fillna(0)\n",
        "\n",
        "# Examine 'Credit Score' before\n",
        "print(loan_data['Credit Score'].describe())\n",
        "\n",
        "# Examine 'Credit Score' after\n",
        "print(loan_data_filled['Credit Score'].describe())"
      ],
      "execution_count": 0,
      "outputs": []
    },
    {
      "cell_type": "code",
      "metadata": {
        "id": "XqgjQ_NPPg-p",
        "colab_type": "code",
        "colab": {}
      },
      "source": [
        "# Import imputer module\n",
        "from sklearn.impute import SimpleImputer\n",
        "\n",
        "# Subset numeric features: numeric_cols\n",
        "numeric_cols = loan_data.select_dtypes(include=[np.number])\n",
        "\n",
        "# Impute with mean\n",
        "imp_mean = SimpleImputer(strategy='mean')\n",
        "loans_imp_mean = imp_mean.fit_transform(numeric_cols)\n",
        "\n",
        "# Convert returned array to DataFrame\n",
        "loans_imp_meanDF = pd.DataFrame(loans_imp_mean, columns=numeric_cols.columns)\n",
        "\n",
        "# Check the DataFrame's info\n",
        "print(loans_imp_meanDF.info())"
      ],
      "execution_count": 0,
      "outputs": []
    }
  ]
}