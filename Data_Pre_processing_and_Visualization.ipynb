{
  "nbformat": 4,
  "nbformat_minor": 0,
  "metadata": {
    "colab": {
      "name": "Data_Pre_processing_and_Visualization",
      "provenance": [],
      "authorship_tag": "ABX9TyMoY3AX+EjGXgDquSQZM3Du",
      "include_colab_link": true
    },
    "kernelspec": {
      "name": "python3",
      "display_name": "Python 3"
    }
  },
  "cells": [
    {
      "cell_type": "markdown",
      "metadata": {
        "id": "view-in-github",
        "colab_type": "text"
      },
      "source": [
        "<a href=\"https://colab.research.google.com/github/randy-tsukemen/test/blob/master/Data_Pre_processing_and_Visualization.ipynb\" target=\"_parent\"><img src=\"https://colab.research.google.com/assets/colab-badge.svg\" alt=\"Open In Colab\"/></a>"
      ]
    },
    {
      "cell_type": "markdown",
      "metadata": {
        "id": "wpUMVrF2Smpu",
        "colab_type": "text"
      },
      "source": [
        "# Handling missing data"
      ]
    },
    {
      "cell_type": "markdown",
      "metadata": {
        "id": "YDmksJt4jiza",
        "colab_type": "text"
      },
      "source": [
        "![](https://i.imgur.com/hzjuePZ.png)"
      ]
    },
    {
      "cell_type": "code",
      "metadata": {
        "id": "ur99plS3Pfv-",
        "colab_type": "code",
        "colab": {}
      },
      "source": [
        "# Import modules\n",
        "import numpy as np\n",
        "import pandas as pd\n",
        "\n",
        "# Print missing values\n",
        "print(loan_data.isna().sum())"
      ],
      "execution_count": 0,
      "outputs": []
    },
    {
      "cell_type": "code",
      "metadata": {
        "id": "pY35FZk_PmMH",
        "colab_type": "code",
        "colab": {}
      },
      "source": [
        "# Drop rows with missing values\n",
        "dropNArows = loan_data.dropna(axis=0)\n",
        "\n",
        "# Print percentage of rows remaining\n",
        "print(dropNArows.shape[0]/loan_data.shape[0] * 100)"
      ],
      "execution_count": 0,
      "outputs": []
    },
    {
      "cell_type": "code",
      "metadata": {
        "id": "Xi8LCrKpPoC2",
        "colab_type": "code",
        "colab": {}
      },
      "source": [
        "# Drop columns with missing values\n",
        "dropNAcols = loan_data.dropna(axis=1)\n",
        "\n",
        "# Print percentage of columns remaining\n",
        "print(dropNAcols.shape[1]/loan_data.shape[1] * 100)"
      ],
      "execution_count": 0,
      "outputs": []
    },
    {
      "cell_type": "code",
      "metadata": {
        "id": "7iHhlPJgPqH-",
        "colab_type": "code",
        "colab": {}
      },
      "source": [
        "# Fill missing values with zero\n",
        "loan_data_filled = loan_data.fillna(0)\n",
        "\n",
        "# Examine 'Credit Score' before\n",
        "print(loan_data['Credit Score'].describe())\n",
        "\n",
        "# Examine 'Credit Score' after\n",
        "print(loan_data_filled['Credit Score'].describe())"
      ],
      "execution_count": 0,
      "outputs": []
    },
    {
      "cell_type": "code",
      "metadata": {
        "id": "XqgjQ_NPPg-p",
        "colab_type": "code",
        "colab": {}
      },
      "source": [
        "# Import imputer module\n",
        "from sklearn.impute import SimpleImputer\n",
        "\n",
        "# Subset numeric features: numeric_cols\n",
        "numeric_cols = loan_data.select_dtypes(include=[np.number])\n",
        "\n",
        "# Impute with mean\n",
        "imp_mean = SimpleImputer(strategy='mean')\n",
        "loans_imp_mean = imp_mean.fit_transform(numeric_cols)\n",
        "\n",
        "# Convert returned array to DataFrame\n",
        "loans_imp_meanDF = pd.DataFrame(loans_imp_mean, columns=numeric_cols.columns)\n",
        "\n",
        "# Check the DataFrame's info\n",
        "print(loans_imp_meanDF.info())"
      ],
      "execution_count": 0,
      "outputs": []
    },
    {
      "cell_type": "code",
      "metadata": {
        "id": "KucK-CYCR5Lx",
        "colab_type": "code",
        "colab": {}
      },
      "source": [
        "# Explicitly require this experimental feature\n",
        "from sklearn.experimental import enable_iterative_imputer\n",
        "# Now you can import normally from sklearn.impute\n",
        "from sklearn.impute import IterativeImputer\n",
        "\n",
        "# Subset numeric features: numeric_cols\n",
        "numeric_cols = loan_data.select_dtypes(include=[np.number])\n",
        "\n",
        "# Iteratively impute\n",
        "imp_iter = IterativeImputer(max_iter=5, sample_posterior=True, random_state=123)\n",
        "loans_imp_iter = imp_iter.fit_transform(numeric_cols)\n",
        "\n",
        "# Convert returned array to DataFrame\n",
        "loans_imp_iterDF = pd.DataFrame(loans_imp_iter, columns=numeric_cols.columns)\n",
        "\n",
        "# Check the DataFrame's info\n",
        "print(loans_imp_iterDF.info())"
      ],
      "execution_count": 0,
      "outputs": []
    },
    {
      "cell_type": "markdown",
      "metadata": {
        "id": "IB44hvzqScQV",
        "colab_type": "text"
      },
      "source": [
        "# Data distributions and transformations"
      ]
    },
    {
      "cell_type": "markdown",
      "metadata": {
        "id": "88vWFJiZkC2E",
        "colab_type": "text"
      },
      "source": [
        "![123](https://i.imgur.com/X7s8mjZ.png)"
      ]
    },
    {
      "cell_type": "code",
      "metadata": {
        "id": "wlg0fqVFSbzj",
        "colab_type": "code",
        "colab": {}
      },
      "source": [
        "# Create `loan_data` subset: loan_data_subset\n",
        "loan_data_subset = loan_data[['Credit Score','Annual Income','Loan Status']]\n",
        "\n",
        "# Create train and test sets\n",
        "trainingSet, testSet = train_test_split(loan_data_subset, test_size=0.2, random_state=123)\n",
        "\n",
        "# Examine pairplots\n",
        "plt.figure()\n",
        "sns.pairplot(trainingSet, hue='Loan Status', palette='RdBu')\n",
        "plt.show()\n",
        "\n",
        "plt.figure()\n",
        "sns.pairplot(testSet, hue='Loan Status', palette='RdBu')\n",
        "plt.show()"
      ],
      "execution_count": 0,
      "outputs": []
    },
    {
      "cell_type": "code",
      "metadata": {
        "id": "ie8Uy2UVjw3D",
        "colab_type": "code",
        "colab": {}
      },
      "source": [
        "# Subset loan_data\n",
        "cr_yrs = loan_data['Years of Credit History']\n",
        "\n",
        "# Histogram and kernel density estimate\n",
        "plt.figure()\n",
        "sns.distplot(cr_yrs)\n",
        "plt.show()"
      ],
      "execution_count": 0,
      "outputs": []
    },
    {
      "cell_type": "code",
      "metadata": {
        "id": "I5Rh767AkIOU",
        "colab_type": "code",
        "colab": {}
      },
      "source": [
        "# Subset loan_data\n",
        "cr_yrs = loan_data['Years of Credit History']\n",
        "\n",
        "# Box-Cox transformation\n",
        "cr_yrs_log = boxcox(cr_yrs, lmbda=0.0)\n",
        "\n",
        "# Histogram and kernel density estimate\n",
        "plt.figure()\n",
        "sns.distplot(cr_yrs_log)\n",
        "plt.show()"
      ],
      "execution_count": 0,
      "outputs": []
    },
    {
      "cell_type": "code",
      "metadata": {
        "id": "M6QDmMaqkXEa",
        "colab_type": "code",
        "colab": {}
      },
      "source": [
        "# Subset loan_data\n",
        "cr_yrs = loan_data['Years of Credit History']\n",
        "\n",
        "# Square root transform\n",
        "cr_yrs_sqrt = boxcox(cr_yrs, lmbda=0.5)\n",
        "\n",
        "# Histogram and kernel density estimate\n",
        "plt.figure()\n",
        "sns.distplot(cr_yrs_sqrt)\n",
        "plt.show()"
      ],
      "execution_count": 0,
      "outputs": []
    }
  ]
}