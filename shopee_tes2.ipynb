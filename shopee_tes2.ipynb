{
  "nbformat": 4,
  "nbformat_minor": 0,
  "metadata": {
    "colab": {
      "name": "shopee_tes2",
      "provenance": [],
      "authorship_tag": "ABX9TyMuLy2iuccEnsJ8+ZN6Zy87",
      "include_colab_link": true
    },
    "kernelspec": {
      "name": "python3",
      "display_name": "Python 3"
    },
    "accelerator": "GPU"
  },
  "cells": [
    {
      "cell_type": "markdown",
      "metadata": {
        "id": "view-in-github",
        "colab_type": "text"
      },
      "source": [
        "<a href=\"https://colab.research.google.com/github/randy-tsukemen/Data_science_roadmap/blob/master/shopee_tes2.ipynb\" target=\"_parent\"><img src=\"https://colab.research.google.com/assets/colab-badge.svg\" alt=\"Open In Colab\"/></a>"
      ]
    },
    {
      "cell_type": "code",
      "metadata": {
        "id": "cTe0nMo0aXrF",
        "colab_type": "code",
        "colab": {
          "base_uri": "https://localhost:8080/",
          "height": 73
        },
        "outputId": "0a4880cb-0fc0-4285-a3ae-26524831f6a1"
      },
      "source": [
        "import pandas as pd\n",
        "import numpy as np\n",
        "import matplotlib.pyplot as plt\n",
        "import seaborn as sns\n",
        "import zipfile\n",
        "import datetime as dt"
      ],
      "execution_count": 1,
      "outputs": [
        {
          "output_type": "stream",
          "text": [
            "/usr/local/lib/python3.6/dist-packages/statsmodels/tools/_testing.py:19: FutureWarning: pandas.util.testing is deprecated. Use the functions in the public API at pandas.testing instead.\n",
            "  import pandas.util.testing as tm\n"
          ],
          "name": "stderr"
        }
      ]
    },
    {
      "cell_type": "code",
      "metadata": {
        "id": "5q76X7_pX4E6",
        "colab_type": "code",
        "colab": {
          "base_uri": "https://localhost:8080/",
          "height": 126
        },
        "outputId": "73810c67-9d47-46bf-8792-98c055b5e2d7"
      },
      "source": [
        "from google.colab import drive\n",
        "drive.mount('/content/drive')"
      ],
      "execution_count": 2,
      "outputs": [
        {
          "output_type": "stream",
          "text": [
            "Go to this URL in a browser: https://accounts.google.com/o/oauth2/auth?client_id=947318989803-6bn6qk8qdgf4n4g3pfee6491hc0brc4i.apps.googleusercontent.com&redirect_uri=urn%3aietf%3awg%3aoauth%3a2.0%3aoob&response_type=code&scope=email%20https%3a%2f%2fwww.googleapis.com%2fauth%2fdocs.test%20https%3a%2f%2fwww.googleapis.com%2fauth%2fdrive%20https%3a%2f%2fwww.googleapis.com%2fauth%2fdrive.photos.readonly%20https%3a%2f%2fwww.googleapis.com%2fauth%2fpeopleapi.readonly\n",
            "\n",
            "Enter your authorization code:\n",
            "··········\n",
            "Mounted at /content/drive\n"
          ],
          "name": "stdout"
        }
      ]
    },
    {
      "cell_type": "code",
      "metadata": {
        "id": "R1OHkdUEadML",
        "colab_type": "code",
        "colab": {}
      },
      "source": [
        "# zf = zipfile.ZipFile('/content/drive/My Drive/shopee/shopee-product-detection-dataset.zip') "
      ],
      "execution_count": 9,
      "outputs": []
    },
    {
      "cell_type": "code",
      "metadata": {
        "id": "LrlE9idvaglU",
        "colab_type": "code",
        "colab": {}
      },
      "source": [
        "!unzip /content/drive/My\\ Drive/shopee/shopee-product-detection-dataset.zip -d ."
      ],
      "execution_count": null,
      "outputs": []
    },
    {
      "cell_type": "code",
      "metadata": {
        "id": "pASEIDixzC2H",
        "colab_type": "code",
        "colab": {}
      },
      "source": [
        "!mkdir /content/train/train_0/"
      ],
      "execution_count": 18,
      "outputs": []
    },
    {
      "cell_type": "code",
      "metadata": {
        "id": "eP8-wkJ-ZpbH",
        "colab_type": "code",
        "colab": {}
      },
      "source": [
        "!cp -r /content/train/train/00 /content/train/train_0/"
      ],
      "execution_count": 19,
      "outputs": []
    },
    {
      "cell_type": "code",
      "metadata": {
        "id": "quexgcsusdx-",
        "colab_type": "code",
        "colab": {}
      },
      "source": [
        "!cp -r /content/train/train/01 /content/train/train_0/"
      ],
      "execution_count": 20,
      "outputs": []
    },
    {
      "cell_type": "code",
      "metadata": {
        "id": "MTNKzUXsygF2",
        "colab_type": "code",
        "colab": {}
      },
      "source": [
        "# !rm -rf /content/train/train_0/"
      ],
      "execution_count": 17,
      "outputs": []
    },
    {
      "cell_type": "code",
      "metadata": {
        "id": "AfWSwlArddHh",
        "colab_type": "code",
        "colab": {}
      },
      "source": [
        "import os\n",
        "import zipfile\n",
        "import random\n",
        "import tensorflow as tf\n",
        "import shutil\n",
        "from tensorflow.keras.optimizers import RMSprop\n",
        "from tensorflow.keras.preprocessing.image import ImageDataGenerator\n",
        "from shutil import copyfile\n",
        "from os import getcwd"
      ],
      "execution_count": 6,
      "outputs": []
    },
    {
      "cell_type": "code",
      "metadata": {
        "id": "K11PMvMsg6ul",
        "colab_type": "code",
        "colab": {
          "base_uri": "https://localhost:8080/",
          "height": 764
        },
        "outputId": "b25b2034-159c-44a8-f060-b69ed862d62c"
      },
      "source": [
        "total_file = 0\n",
        "for i in range(0, 42):\n",
        "    if i < 10:\n",
        "        i = '0' + str(i)\n",
        "    total_file += len(os.listdir(f'/content/train/train/{i}'))\n",
        "    print(i, len(os.listdir(f'/content/train/train/{i}')))"
      ],
      "execution_count": 27,
      "outputs": [
        {
          "output_type": "stream",
          "text": [
            "00 2683\n",
            "01 2703\n",
            "02 2687\n",
            "03 2703\n",
            "04 2703\n",
            "05 2641\n",
            "06 2641\n",
            "07 2661\n",
            "08 2700\n",
            "09 2698\n",
            "10 2673\n",
            "11 1843\n",
            "12 2691\n",
            "13 2682\n",
            "14 2685\n",
            "15 2632\n",
            "16 2665\n",
            "17 1553\n",
            "18 2104\n",
            "19 2679\n",
            "20 2654\n",
            "21 2598\n",
            "22 2623\n",
            "23 2540\n",
            "24 2705\n",
            "25 2692\n",
            "26 2684\n",
            "27 2702\n",
            "28 2561\n",
            "29 2138\n",
            "30 2705\n",
            "31 2677\n",
            "32 2157\n",
            "33 573\n",
            "34 2599\n",
            "35 2658\n",
            "36 2686\n",
            "37 1725\n",
            "38 2673\n",
            "39 2678\n",
            "40 2681\n",
            "41 2662\n"
          ],
          "name": "stdout"
        }
      ]
    },
    {
      "cell_type": "code",
      "metadata": {
        "id": "bFObAYPNjmuB",
        "colab_type": "code",
        "colab": {
          "base_uri": "https://localhost:8080/",
          "height": 35
        },
        "outputId": "140610dc-6d64-4d75-c0d7-30cc7f99b627"
      },
      "source": [
        "total_file"
      ],
      "execution_count": 25,
      "outputs": [
        {
          "output_type": "execute_result",
          "data": {
            "text/plain": [
              "105398"
            ]
          },
          "metadata": {
            "tags": []
          },
          "execution_count": 25
        }
      ]
    },
    {
      "cell_type": "code",
      "metadata": {
        "id": "5ushWhC8lhPR",
        "colab_type": "code",
        "colab": {
          "base_uri": "https://localhost:8080/",
          "height": 35
        },
        "outputId": "f6a698e9-b492-43ba-eb13-669a6f0eda22"
      },
      "source": [
        "print(len(os.listdir('/content/test/test')))"
      ],
      "execution_count": 32,
      "outputs": [
        {
          "output_type": "stream",
          "text": [
            "12192\n"
          ],
          "name": "stdout"
        }
      ]
    },
    {
      "cell_type": "code",
      "metadata": {
        "id": "XhFa7wyPhN4b",
        "colab_type": "code",
        "colab": {}
      },
      "source": [
        "train_df = pd.read_csv('train.csv')\n",
        "test_df = pd.read_csv('test.csv')"
      ],
      "execution_count": 30,
      "outputs": []
    },
    {
      "cell_type": "code",
      "metadata": {
        "id": "-VzjUBzIjqYK",
        "colab_type": "code",
        "colab": {
          "base_uri": "https://localhost:8080/",
          "height": 53
        },
        "outputId": "08bebb94-c933-4493-dc61-6e96afef8adf"
      },
      "source": [
        "print(len(train_df))\n",
        "print(len(test_df))"
      ],
      "execution_count": 31,
      "outputs": [
        {
          "output_type": "stream",
          "text": [
            "105392\n",
            "12186\n"
          ],
          "name": "stdout"
        }
      ]
    },
    {
      "cell_type": "code",
      "metadata": {
        "id": "saZJhhtBj5M6",
        "colab_type": "code",
        "colab": {
          "base_uri": "https://localhost:8080/",
          "height": 782
        },
        "outputId": "d9af4129-023b-4a5b-c10f-f6db8f2b3691"
      },
      "source": [
        "train_df.category.value_counts().sort_index()"
      ],
      "execution_count": 29,
      "outputs": [
        {
          "output_type": "execute_result",
          "data": {
            "text/plain": [
              "0     2683\n",
              "1     2702\n",
              "2     2687\n",
              "3     2703\n",
              "4     2703\n",
              "5     2641\n",
              "6     2641\n",
              "7     2660\n",
              "8     2700\n",
              "9     2698\n",
              "10    2672\n",
              "11    1843\n",
              "12    2691\n",
              "13    2682\n",
              "14    2684\n",
              "15    2632\n",
              "16    2665\n",
              "17    1553\n",
              "18    2103\n",
              "19    2679\n",
              "20    2653\n",
              "21    2598\n",
              "22    2623\n",
              "23    2540\n",
              "24    2705\n",
              "25    2692\n",
              "26    2684\n",
              "27    2702\n",
              "28    2561\n",
              "29    2138\n",
              "30    2705\n",
              "31    2677\n",
              "32    2157\n",
              "33     573\n",
              "34    2599\n",
              "35    2658\n",
              "36    2686\n",
              "37    1725\n",
              "38    2673\n",
              "39    2678\n",
              "40    2681\n",
              "41    2662\n",
              "Name: category, dtype: int64"
            ]
          },
          "metadata": {
            "tags": []
          },
          "execution_count": 29
        }
      ]
    },
    {
      "cell_type": "code",
      "metadata": {
        "id": "BtV_hrUehwdL",
        "colab_type": "code",
        "colab": {
          "base_uri": "https://localhost:8080/",
          "height": 286
        },
        "outputId": "3ad1be8b-d6ee-4100-c006-cc6c8bcbc90e"
      },
      "source": [
        "train_df.category.value_counts().plot.bar()"
      ],
      "execution_count": 22,
      "outputs": [
        {
          "output_type": "execute_result",
          "data": {
            "text/plain": [
              "<matplotlib.axes._subplots.AxesSubplot at 0x7fc2179254a8>"
            ]
          },
          "metadata": {
            "tags": []
          },
          "execution_count": 22
        },
        {
          "output_type": "display_data",
          "data": {
            "image/png": "[encoded data removed]",
            "text/plain": [
              "<Figure size 432x288 with 1 Axes>"
            ]
          },
          "metadata": {
            "tags": [],
            "needs_background": "light"
          }
        }
      ]
    },
    {
      "cell_type": "code",
      "metadata": {
        "id": "fP8Hp9cth107",
        "colab_type": "code",
        "colab": {}
      },
      "source": [
        "model = tf.keras.models.Sequential([\n",
        "    # Note the input shape is the desired size of the image 300x300 with 3 bytes color\n",
        "    # This is the first convolution\n",
        "    tf.keras.layers.Conv2D(16, (3,3), activation='relu', input_shape=(300, 300, 3)),\n",
        "    tf.keras.layers.MaxPooling2D(2, 2),\n",
        "    # The second convolution\n",
        "    tf.keras.layers.Conv2D(32, (3,3), activation='relu'),\n",
        "    tf.keras.layers.MaxPooling2D(2,2),\n",
        "    # The third convolution\n",
        "    tf.keras.layers.Conv2D(64, (3,3), activation='relu'),\n",
        "    tf.keras.layers.MaxPooling2D(2,2),\n",
        "    # The fourth convolution\n",
        "    tf.keras.layers.Conv2D(64, (3,3), activation='relu'),\n",
        "    # The fifth convolution\n",
        "    tf.keras.layers.Conv2D(64, (3,3), activation='relu'),\n",
        "    tf.keras.layers.MaxPooling2D(2,2),\n",
        "    # The fifth convolution\n",
        "    tf.keras.layers.Conv2D(128, (3,3), activation='relu'),\n",
        "    # The fifth convolution\n",
        "    tf.keras.layers.Conv2D(128, (3,3), activation='relu'),\n",
        "    # The fifth convolution\n",
        "    tf.keras.layers.Conv2D(256, (3,3), activation='relu'),\n",
        "    # The fifth convolution\n",
        "    tf.keras.layers.Conv2D(256, (3,3), activation='relu'),\n",
        "    # Flatten the results to feed into a DNN\n",
        "    tf.keras.layers.Flatten(),\n",
        "    # 512 neuron hidden layer\n",
        "    tf.keras.layers.Dense(512, activation='relu'),\n",
        "    # Only 1 output neuron. It will contain a value from 0-1 where 0 for 1 class ('horses') and 1 for the other ('humans')\n",
        "    tf.keras.layers.Dense(1, activation='sigmoid')\n",
        "])"
      ],
      "execution_count": 32,
      "outputs": []
    },
    {
      "cell_type": "code",
      "metadata": {
        "id": "li5zt_ckrk5x",
        "colab_type": "code",
        "colab": {
          "base_uri": "https://localhost:8080/",
          "height": 728
        },
        "outputId": "f1eb7699-808b-427f-b5fd-02bb0af3ba80"
      },
      "source": [
        "model.summary()"
      ],
      "execution_count": 33,
      "outputs": [
        {
          "output_type": "stream",
          "text": [
            "Model: \"sequential_5\"\n",
            "_________________________________________________________________\n",
            "Layer (type)                 Output Shape              Param #   \n",
            "=================================================================\n",
            "conv2d_37 (Conv2D)           (None, 298, 298, 16)      448       \n",
            "_________________________________________________________________\n",
            "max_pooling2d_22 (MaxPooling (None, 149, 149, 16)      0         \n",
            "_________________________________________________________________\n",
            "conv2d_38 (Conv2D)           (None, 147, 147, 32)      4640      \n",
            "_________________________________________________________________\n",
            "max_pooling2d_23 (MaxPooling (None, 73, 73, 32)        0         \n",
            "_________________________________________________________________\n",
            "conv2d_39 (Conv2D)           (None, 71, 71, 64)        18496     \n",
            "_________________________________________________________________\n",
            "max_pooling2d_24 (MaxPooling (None, 35, 35, 64)        0         \n",
            "_________________________________________________________________\n",
            "conv2d_40 (Conv2D)           (None, 33, 33, 64)        36928     \n",
            "_________________________________________________________________\n",
            "conv2d_41 (Conv2D)           (None, 31, 31, 64)        36928     \n",
            "_________________________________________________________________\n",
            "max_pooling2d_25 (MaxPooling (None, 15, 15, 64)        0         \n",
            "_________________________________________________________________\n",
            "conv2d_42 (Conv2D)           (None, 13, 13, 128)       73856     \n",
            "_________________________________________________________________\n",
            "conv2d_43 (Conv2D)           (None, 11, 11, 128)       147584    \n",
            "_________________________________________________________________\n",
            "conv2d_44 (Conv2D)           (None, 9, 9, 256)         295168    \n",
            "_________________________________________________________________\n",
            "conv2d_45 (Conv2D)           (None, 7, 7, 256)         590080    \n",
            "_________________________________________________________________\n",
            "flatten_5 (Flatten)          (None, 12544)             0         \n",
            "_________________________________________________________________\n",
            "dense_10 (Dense)             (None, 512)               6423040   \n",
            "_________________________________________________________________\n",
            "dense_11 (Dense)             (None, 1)                 513       \n",
            "=================================================================\n",
            "Total params: 7,627,681\n",
            "Trainable params: 7,627,681\n",
            "Non-trainable params: 0\n",
            "_________________________________________________________________\n"
          ],
          "name": "stdout"
        }
      ]
    },
    {
      "cell_type": "code",
      "metadata": {
        "id": "Fa30qaBirnZp",
        "colab_type": "code",
        "colab": {}
      },
      "source": [
        "from tensorflow.keras.optimizers import RMSprop\n",
        "\n",
        "model.compile(loss='binary_crossentropy',\n",
        "              optimizer=RMSprop(lr=0.001),\n",
        "              metrics=['accuracy'])"
      ],
      "execution_count": 34,
      "outputs": []
    },
    {
      "cell_type": "code",
      "metadata": {
        "id": "eFn0NHx1rwaE",
        "colab_type": "code",
        "colab": {
          "base_uri": "https://localhost:8080/",
          "height": 35
        },
        "outputId": "70e05064-270c-4372-dc6a-60728b0c4852"
      },
      "source": [
        "from tensorflow.keras.preprocessing.image import ImageDataGenerator\n",
        "\n",
        "# All images will be rescaled by 1./255\n",
        "train_datagen = ImageDataGenerator(rescale=1/255)\n",
        "\n",
        "# Flow training images in batches of 128 using train_datagen generator\n",
        "train_generator = train_datagen.flow_from_directory(\n",
        "        '/content/train/train_0/',  # This is the source directory for training images\n",
        "        target_size=(300, 300),  # All images will be resized to 150x150\n",
        "        batch_size=128,\n",
        "        # Since we use binary_crossentropy loss, we need binary labels\n",
        "        class_mode='binary')\n"
      ],
      "execution_count": 35,
      "outputs": [
        {
          "output_type": "stream",
          "text": [
            "Found 5385 images belonging to 2 classes.\n"
          ],
          "name": "stdout"
        }
      ]
    },
    {
      "cell_type": "code",
      "metadata": {
        "id": "ZR8Lud0rs2sk",
        "colab_type": "code",
        "colab": {
          "base_uri": "https://localhost:8080/",
          "height": 551
        },
        "outputId": "512d7e12-34ef-4192-8959-9bd759ba4128"
      },
      "source": [
        "history = model.fit(\n",
        "      train_generator,\n",
        "      steps_per_epoch=8,  \n",
        "      epochs=15,\n",
        "      verbose=1)"
      ],
      "execution_count": 36,
      "outputs": [
        {
          "output_type": "stream",
          "text": [
            "Epoch 1/15\n",
            "8/8 [==============================] - 8s 1s/step - loss: 3.7102 - accuracy: 0.5352\n",
            "Epoch 2/15\n",
            "8/8 [==============================] - 9s 1s/step - loss: 0.6946 - accuracy: 0.5117\n",
            "Epoch 3/15\n",
            "8/8 [==============================] - 9s 1s/step - loss: 0.6934 - accuracy: 0.5156\n",
            "Epoch 4/15\n",
            "8/8 [==============================] - 8s 1s/step - loss: 0.6924 - accuracy: 0.5234\n",
            "Epoch 5/15\n",
            "8/8 [==============================] - 9s 1s/step - loss: 0.6935 - accuracy: 0.5186\n",
            "Epoch 6/15\n",
            "8/8 [==============================] - 9s 1s/step - loss: 0.6941 - accuracy: 0.4717\n",
            "Epoch 7/15\n",
            "8/8 [==============================] - 9s 1s/step - loss: 0.6930 - accuracy: 0.5166\n",
            "Epoch 8/15\n",
            "8/8 [==============================] - 8s 1s/step - loss: 0.6933 - accuracy: 0.5078\n",
            "Epoch 9/15\n",
            "8/8 [==============================] - 8s 945ms/step - loss: 0.6919 - accuracy: 0.5282\n",
            "Epoch 10/15\n",
            "8/8 [==============================] - 8s 1s/step - loss: 0.7158 - accuracy: 0.5244\n",
            "Epoch 11/15\n",
            "8/8 [==============================] - 9s 1s/step - loss: 0.6930 - accuracy: 0.5186\n",
            "Epoch 12/15\n",
            "8/8 [==============================] - 8s 1s/step - loss: 0.7317 - accuracy: 0.5088\n",
            "Epoch 13/15\n",
            "8/8 [==============================] - 8s 1s/step - loss: 0.6936 - accuracy: 0.4873\n",
            "Epoch 14/15\n",
            "8/8 [==============================] - 9s 1s/step - loss: 0.6934 - accuracy: 0.4746\n",
            "Epoch 15/15\n",
            "8/8 [==============================] - 9s 1s/step - loss: 0.6932 - accuracy: 0.4971\n"
          ],
          "name": "stdout"
        }
      ]
    },
    {
      "cell_type": "code",
      "metadata": {
        "id": "W1Dw4RFds6DV",
        "colab_type": "code",
        "colab": {}
      },
      "source": [
        ""
      ],
      "execution_count": null,
      "outputs": []
    }
  ]
}