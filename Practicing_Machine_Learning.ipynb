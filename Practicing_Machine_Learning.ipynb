{
  "nbformat": 4,
  "nbformat_minor": 0,
  "metadata": {
    "colab": {
      "name": "Practicing Machine Learning",
      "provenance": [],
      "collapsed_sections": [],
      "toc_visible": true,
      "authorship_tag": "ABX9TyPN8b5JLvGy9N4WeXZmI6BP",
      "include_colab_link": true
    },
    "kernelspec": {
      "name": "python3",
      "display_name": "Python 3"
    }
  },
  "cells": [
    {
      "cell_type": "markdown",
      "metadata": {
        "id": "view-in-github",
        "colab_type": "text"
      },
      "source": [
        "<a href=\"https://colab.research.google.com/github/randy-tsukemen/Data_science_roadmap/blob/master/Practicing_Machine_Learning.ipynb\" target=\"_parent\"><img src=\"https://colab.research.google.com/assets/colab-badge.svg\" alt=\"Open In Colab\"/></a>"
      ]
    },
    {
      "cell_type": "markdown",
      "metadata": {
        "id": "fOtJ8havThgX",
        "colab_type": "text"
      },
      "source": [
        "# Handling missing data\n",
        "\n",
        "![](https://i.imgur.com/hzjuePZ.png)"
      ]
    },
    {
      "cell_type": "code",
      "metadata": {
        "id": "0Q5EL6sZTnl9",
        "colab_type": "code",
        "colab": {
          "base_uri": "https://localhost:8080/",
          "height": 393
        },
        "outputId": "940e9dc8-bee0-4d1d-da09-ffc87d95e621"
      },
      "source": [
        "# Import modules\n",
        "import numpy as np\n",
        "import pandas as pd\n",
        "import matplotlib.pyplot as plt\n",
        "import seaborn as sns\n",
        "\n",
        "url = \"https://assets.datacamp.com/production/repositories/4983/datasets/db66797c50f6938065374e9a31353053fb542052/LoansTrainingSetReduced.csv\"\n",
        "loan_data = pd.read_csv(url)\n",
        "\n",
        "# Print missing values\n",
        "print(loan_data.isna().sum())"
      ],
      "execution_count": 1,
      "outputs": [
        {
          "output_type": "stream",
          "text": [
            "/usr/local/lib/python3.6/dist-packages/statsmodels/tools/_testing.py:19: FutureWarning: pandas.util.testing is deprecated. Use the functions in the public API at pandas.testing instead.\n",
            "  import pandas.util.testing as tm\n"
          ],
          "name": "stderr"
        },
        {
          "output_type": "stream",
          "text": [
            "Loan Status                         0\n",
            "Current Loan Amount                 0\n",
            "Term                                0\n",
            "Credit Score                    21338\n",
            "Years in current job                0\n",
            "Home Ownership                      0\n",
            "Annual Income                   21338\n",
            "Purpose                             0\n",
            "Monthly Debt                        0\n",
            "Years of Credit History             0\n",
            "Months since last delinquent    48506\n",
            "Number of Open Accounts             0\n",
            "Number of Credit Problems           0\n",
            "Current Credit Balance              0\n",
            "Maximum Open Credit                 0\n",
            "Bankruptcies                      192\n",
            "Tax Liens                           8\n",
            "dtype: int64\n"
          ],
          "name": "stdout"
        }
      ]
    },
    {
      "cell_type": "code",
      "metadata": {
        "id": "kYBvBAyITqlA",
        "colab_type": "code",
        "colab": {
          "base_uri": "https://localhost:8080/",
          "height": 35
        },
        "outputId": "cb327e36-f1a1-47a9-c552-d93a402c75c8"
      },
      "source": [
        "# Drop rows with missing values\n",
        "dropNArows = loan_data.dropna(axis=0)\n",
        "\n",
        "# Print percentage of rows remaining\n",
        "print(dropNArows.shape[0]/loan_data.shape[0] * 100)"
      ],
      "execution_count": 2,
      "outputs": [
        {
          "output_type": "stream",
          "text": [
            "34.347092565515695\n"
          ],
          "name": "stdout"
        }
      ]
    },
    {
      "cell_type": "code",
      "metadata": {
        "id": "BlXJvYxTTq65",
        "colab_type": "code",
        "colab": {
          "base_uri": "https://localhost:8080/",
          "height": 35
        },
        "outputId": "40ac510a-e277-4623-ae4e-e50cb23fd926"
      },
      "source": [
        "# Drop columns with missing values\n",
        "dropNAcols = loan_data.dropna(axis=1)\n",
        "\n",
        "# Print percentage of columns remaining\n",
        "print(dropNAcols.shape[1]/loan_data.shape[1] * 100)"
      ],
      "execution_count": 3,
      "outputs": [
        {
          "output_type": "stream",
          "text": [
            "70.58823529411765\n"
          ],
          "name": "stdout"
        }
      ]
    },
    {
      "cell_type": "code",
      "metadata": {
        "id": "8jLA05BoTs6p",
        "colab_type": "code",
        "colab": {
          "base_uri": "https://localhost:8080/",
          "height": 338
        },
        "outputId": "06f3727c-1c46-4f72-9840-912433fc745a"
      },
      "source": [
        "# Fill missing values with zero\n",
        "loan_data_filled = loan_data.fillna(0)\n",
        "\n",
        "# Examine 'Credit Score' before\n",
        "print(loan_data['Credit Score'].describe())\n",
        "\n",
        "# Examine 'Credit Score' after\n",
        "print(loan_data_filled['Credit Score'].describe())"
      ],
      "execution_count": 4,
      "outputs": [
        {
          "output_type": "stream",
          "text": [
            "count    67572.000000\n",
            "mean       721.601951\n",
            "std         27.427709\n",
            "min        585.000000\n",
            "25%        710.000000\n",
            "50%        730.000000\n",
            "75%        741.000000\n",
            "max        751.000000\n",
            "Name: Credit Score, dtype: float64\n",
            "count    88910.000000\n",
            "mean       548.420729\n",
            "std        309.109970\n",
            "min          0.000000\n",
            "25%        632.000000\n",
            "50%        719.000000\n",
            "75%        739.000000\n",
            "max        751.000000\n",
            "Name: Credit Score, dtype: float64\n"
          ],
          "name": "stdout"
        }
      ]
    },
    {
      "cell_type": "code",
      "metadata": {
        "id": "RKijrGXNUz1c",
        "colab_type": "code",
        "colab": {
          "base_uri": "https://localhost:8080/",
          "height": 391
        },
        "outputId": "76a5c68e-219c-4ee7-93ae-25e6ee0db78e"
      },
      "source": [
        "# Import imputer module\n",
        "from sklearn.impute import SimpleImputer\n",
        "\n",
        "# Subset numeric features: numeric_cols\n",
        "numeric_cols = loan_data.select_dtypes(include=[np.number])\n",
        "\n",
        "# Impute with mean\n",
        "imp_mean = SimpleImputer(strategy='mean')\n",
        "loans_imp_mean = imp_mean.fit_transform(numeric_cols)\n",
        "\n",
        "# Convert returned array to DataFrame\n",
        "loans_imp_meanDF = pd.DataFrame(loans_imp_mean, columns=numeric_cols.columns)\n",
        "\n",
        "# Check the DataFrame's info\n",
        "print(loans_imp_meanDF.info())"
      ],
      "execution_count": 5,
      "outputs": [
        {
          "output_type": "stream",
          "text": [
            "<class 'pandas.core.frame.DataFrame'>\n",
            "RangeIndex: 88910 entries, 0 to 88909\n",
            "Data columns (total 13 columns):\n",
            " #   Column                        Non-Null Count  Dtype  \n",
            "---  ------                        --------------  -----  \n",
            " 0   Current Loan Amount           88910 non-null  float64\n",
            " 1   Credit Score                  88910 non-null  float64\n",
            " 2   Years in current job          88910 non-null  float64\n",
            " 3   Annual Income                 88910 non-null  float64\n",
            " 4   Monthly Debt                  88910 non-null  float64\n",
            " 5   Years of Credit History       88910 non-null  float64\n",
            " 6   Months since last delinquent  88910 non-null  float64\n",
            " 7   Number of Open Accounts       88910 non-null  float64\n",
            " 8   Number of Credit Problems     88910 non-null  float64\n",
            " 9   Current Credit Balance        88910 non-null  float64\n",
            " 10  Maximum Open Credit           88910 non-null  float64\n",
            " 11  Bankruptcies                  88910 non-null  float64\n",
            " 12  Tax Liens                     88910 non-null  float64\n",
            "dtypes: float64(13)\n",
            "memory usage: 8.8 MB\n",
            "None\n"
          ],
          "name": "stdout"
        }
      ]
    },
    {
      "cell_type": "code",
      "metadata": {
        "id": "T3WKJIAsTwPc",
        "colab_type": "code",
        "colab": {
          "base_uri": "https://localhost:8080/",
          "height": 391
        },
        "outputId": "6e362266-dd3e-4924-9bca-eaad7b3aea40"
      },
      "source": [
        "# Explicitly require this experimental feature\n",
        "from sklearn.experimental import enable_iterative_imputer\n",
        "# Now you can import normally from sklearn.impute\n",
        "from sklearn.impute import IterativeImputer\n",
        "\n",
        "# Subset numeric features: numeric_cols\n",
        "numeric_cols = loan_data.select_dtypes(include=[np.number])\n",
        "\n",
        "# Iteratively impute\n",
        "imp_iter = IterativeImputer(max_iter=5, sample_posterior=True, random_state=123)\n",
        "loans_imp_iter = imp_iter.fit_transform(numeric_cols)\n",
        "\n",
        "# Convert returned array to DataFrame\n",
        "loans_imp_iterDF = pd.DataFrame(loans_imp_iter, columns=numeric_cols.columns)\n",
        "\n",
        "# Check the DataFrame's info\n",
        "print(loans_imp_iterDF.info())"
      ],
      "execution_count": 6,
      "outputs": [
        {
          "output_type": "stream",
          "text": [
            "<class 'pandas.core.frame.DataFrame'>\n",
            "RangeIndex: 88910 entries, 0 to 88909\n",
            "Data columns (total 13 columns):\n",
            " #   Column                        Non-Null Count  Dtype  \n",
            "---  ------                        --------------  -----  \n",
            " 0   Current Loan Amount           88910 non-null  float64\n",
            " 1   Credit Score                  88910 non-null  float64\n",
            " 2   Years in current job          88910 non-null  float64\n",
            " 3   Annual Income                 88910 non-null  float64\n",
            " 4   Monthly Debt                  88910 non-null  float64\n",
            " 5   Years of Credit History       88910 non-null  float64\n",
            " 6   Months since last delinquent  88910 non-null  float64\n",
            " 7   Number of Open Accounts       88910 non-null  float64\n",
            " 8   Number of Credit Problems     88910 non-null  float64\n",
            " 9   Current Credit Balance        88910 non-null  float64\n",
            " 10  Maximum Open Credit           88910 non-null  float64\n",
            " 11  Bankruptcies                  88910 non-null  float64\n",
            " 12  Tax Liens                     88910 non-null  float64\n",
            "dtypes: float64(13)\n",
            "memory usage: 8.8 MB\n",
            "None\n"
          ],
          "name": "stdout"
        }
      ]
    },
    {
      "cell_type": "markdown",
      "metadata": {
        "id": "qOPOM_KiTw3F",
        "colab_type": "text"
      },
      "source": [
        "## Data distributions and transformations\n",
        "![123](https://i.imgur.com/X7s8mjZ.png)"
      ]
    },
    {
      "cell_type": "code",
      "metadata": {
        "id": "gBASK9THUeWe",
        "colab_type": "code",
        "colab": {
          "base_uri": "https://localhost:8080/",
          "height": 793
        },
        "outputId": "468aab9e-a00f-4fb3-ac06-99693b456188"
      },
      "source": [
        "from sklearn.model_selection import train_test_split\n",
        "# Create `loan_data` subset: loan_data_subset\n",
        "loan_data_subset = loan_data[['Credit Score','Annual Income','Loan Status']]\n",
        "\n",
        "# Create train and test sets\n",
        "trainingSet, testSet = train_test_split(loan_data_subset, test_size=0.2, random_state=123)\n",
        "\n",
        "# Examine pairplots\n",
        "plt.figure()\n",
        "sns.pairplot(trainingSet, hue='Loan Status', palette='RdBu')\n",
        "plt.show()\n",
        "\n",
        "plt.figure()\n",
        "sns.pairplot(testSet, hue='Loan Status', palette='RdBu')\n",
        "plt.show()"
      ],
      "execution_count": 7,
      "outputs": [
        {
          "output_type": "display_data",
          "data": {
            "text/plain": [
              "<Figure size 432x288 with 0 Axes>"
            ]
          },
          "metadata": {
            "tags": []
          }
        },
        {
          "output_type": "display_data",
          "data": {
            "image/png": "[encoded data removed]",
            "text/plain": [
              "<Figure size 456.375x360 with 6 Axes>"
            ]
          },
          "metadata": {
            "tags": [],
            "needs_background": "light"
          }
        },
        {
          "output_type": "display_data",
          "data": {
            "text/plain": [
              "<Figure size 432x288 with 0 Axes>"
            ]
          },
          "metadata": {
            "tags": []
          }
        },
        {
          "output_type": "display_data",
          "data": {
            "image/png": "[encoded data removed]",
            "text/plain": [
              "<Figure size 456.375x360 with 6 Axes>"
            ]
          },
          "metadata": {
            "tags": [],
            "needs_background": "light"
          }
        }
      ]
    },
    {
      "cell_type": "code",
      "metadata": {
        "id": "hf6e1jqMUb1e",
        "colab_type": "code",
        "colab": {
          "base_uri": "https://localhost:8080/",
          "height": 279
        },
        "outputId": "5ac60079-b988-428c-ff47-e10bfe604362"
      },
      "source": [
        "# Subset loan_data\n",
        "cr_yrs = loan_data['Years of Credit History']\n",
        "\n",
        "# Histogram and kernel density estimate\n",
        "plt.figure()\n",
        "sns.distplot(cr_yrs)\n",
        "plt.show()"
      ],
      "execution_count": 8,
      "outputs": [
        {
          "output_type": "display_data",
          "data": {
            "image/png": "[encoded data removed]",
            "text/plain": [
              "<Figure size 432x288 with 1 Axes>"
            ]
          },
          "metadata": {
            "tags": [],
            "needs_background": "light"
          }
        }
      ]
    },
    {
      "cell_type": "code",
      "metadata": {
        "id": "Q-IrKJhCTuWV",
        "colab_type": "code",
        "colab": {
          "base_uri": "https://localhost:8080/",
          "height": 265
        },
        "outputId": "c0728ef6-a780-425d-d4bf-bc902e184499"
      },
      "source": [
        "from scipy.stats import boxcox\n",
        "# Subset loan_data\n",
        "cr_yrs = loan_data['Years of Credit History']\n",
        "\n",
        "# Box-Cox transformation\n",
        "cr_yrs_log = boxcox(cr_yrs, lmbda=0.0)\n",
        "\n",
        "# Histogram and kernel density estimate\n",
        "plt.figure()\n",
        "sns.distplot(cr_yrs_log)\n",
        "plt.show()"
      ],
      "execution_count": 9,
      "outputs": [
        {
          "output_type": "display_data",
          "data": {
            "image/png": "[encoded data removed]",
            "text/plain": [
              "<Figure size 432x288 with 1 Axes>"
            ]
          },
          "metadata": {
            "tags": [],
            "needs_background": "light"
          }
        }
      ]
    },
    {
      "cell_type": "code",
      "metadata": {
        "id": "KcfXkURNVg_e",
        "colab_type": "code",
        "colab": {
          "base_uri": "https://localhost:8080/",
          "height": 265
        },
        "outputId": "add4aa37-45ed-4c87-f2fd-3e06e5b2a7bf"
      },
      "source": [
        "# Subset loan_data\n",
        "cr_yrs = loan_data['Years of Credit History']\n",
        "\n",
        "# Square root transform\n",
        "cr_yrs_sqrt = boxcox(cr_yrs, lmbda=0.5)\n",
        "\n",
        "# Histogram and kernel density estimate\n",
        "plt.figure()\n",
        "sns.distplot(cr_yrs_sqrt)\n",
        "plt.show()"
      ],
      "execution_count": 10,
      "outputs": [
        {
          "output_type": "display_data",
          "data": {
            "image/png": "[encoded data removed]",
            "text/plain": [
              "<Figure size 432x288 with 1 Axes>"
            ]
          },
          "metadata": {
            "tags": [],
            "needs_background": "light"
          }
        }
      ]
    },
    {
      "cell_type": "code",
      "metadata": {
        "id": "vWQcYoLDVjGu",
        "colab_type": "code",
        "colab": {
          "base_uri": "https://localhost:8080/",
          "height": 290
        },
        "outputId": "635ac904-19dd-4070-ba06-dd7930e65ed1"
      },
      "source": [
        "# Import modules\n",
        "import matplotlib.pyplot as plt\n",
        "import seaborn as sns\n",
        "\n",
        "# Univariate and multivariate boxplots\n",
        "fig, ax =plt.subplots(1,2)\n",
        "sns.boxplot(y=loan_data['Annual Income'], ax=ax[0])\n",
        "sns.boxplot(x='Loan Status', y='Annual Income', data=loan_data, ax=ax[1])\n",
        "plt.show()"
      ],
      "execution_count": 11,
      "outputs": [
        {
          "output_type": "display_data",
          "data": {
            "image/png": "[encoded data removed]",
            "text/plain": [
              "<Figure size 432x288 with 2 Axes>"
            ]
          },
          "metadata": {
            "tags": [],
            "needs_background": "light"
          }
        }
      ]
    },
    {
      "cell_type": "code",
      "metadata": {
        "id": "Zz12KdSvVk9r",
        "colab_type": "code",
        "colab": {
          "base_uri": "https://localhost:8080/",
          "height": 279
        },
        "outputId": "9b23b3c2-349d-4f5e-a40a-e8d1d1e25683"
      },
      "source": [
        "# Import modules\n",
        "import matplotlib.pyplot as plt\n",
        "import seaborn as sns\n",
        "\n",
        "# Multivariate boxplot\n",
        "fig, ax =plt.subplots(1,2)\n",
        "sns.boxplot(y=loan_data['Monthly Debt'], ax=ax[0])\n",
        "sns.boxplot(x='Loan Status', y='Monthly Debt', data=loan_data, ax=ax[1])\n",
        "plt.show()"
      ],
      "execution_count": 12,
      "outputs": [
        {
          "output_type": "display_data",
          "data": {
            "image/png": "[encoded data removed]",
            "text/plain": [
              "<Figure size 432x288 with 2 Axes>"
            ]
          },
          "metadata": {
            "tags": [],
            "needs_background": "light"
          }
        }
      ]
    },
    {
      "cell_type": "code",
      "metadata": {
        "id": "k1DVnlFuVmJu",
        "colab_type": "code",
        "colab": {
          "base_uri": "https://localhost:8080/",
          "height": 279
        },
        "outputId": "3b092668-57f0-4d41-e7d1-594b83abef09"
      },
      "source": [
        "# Import modules\n",
        "import matplotlib.pyplot as plt\n",
        "import seaborn as sns\n",
        "\n",
        "# Univariate and multivariate boxplots\n",
        "fig, ax =plt.subplots(1,2)\n",
        "sns.boxplot(x=loan_data['Years of Credit History'], ax=ax[0])\n",
        "sns.boxplot(x='Loan Status', y='Years of Credit History', data=loan_data, ax=ax[1])\n",
        "plt.show()"
      ],
      "execution_count": 13,
      "outputs": [
        {
          "output_type": "display_data",
          "data": {
            "image/png": "[encoded data removed]",
            "text/plain": [
              "<Figure size 432x288 with 2 Axes>"
            ]
          },
          "metadata": {
            "tags": [],
            "needs_background": "light"
          }
        }
      ]
    },
    {
      "cell_type": "code",
      "metadata": {
        "id": "soICOubYVn7P",
        "colab_type": "code",
        "colab": {
          "base_uri": "https://localhost:8080/",
          "height": 1000
        },
        "outputId": "24309343-4a41-4a19-d742-72fa5672563f"
      },
      "source": [
        "from scipy import stats\n",
        "# Subset features\n",
        "numeric_cols = loan_data.select_dtypes(include=[np.number])\n",
        "categoric_cols = loan_data.select_dtypes(include=[object])\n",
        "# Print: before dropping\n",
        "print(numeric_cols.mean())\n",
        "print(numeric_cols.median())\n",
        "print(numeric_cols.max())\n",
        "\n",
        "# Create index of rows to keep\n",
        "idx = (np.abs(stats.zscore(numeric_cols)) < 3).all(axis=1)\n",
        "\n",
        "# Concatenate numeric and categoric subsets\n",
        "ld_out_drop = pd.concat([numeric_cols.loc[idx], categoric_cols.loc[idx]], axis=1)\n",
        "\n",
        "# Print: after dropping\n",
        "print(ld_out_drop.mean())\n",
        "print(ld_out_drop.median())\n",
        "print(ld_out_drop.max())"
      ],
      "execution_count": 14,
      "outputs": [
        {
          "output_type": "stream",
          "text": [
            "Current Loan Amount             1.433878e+07\n",
            "Credit Score                    7.216020e+02\n",
            "Years in current job            5.721263e+00\n",
            "Annual Income                   7.234575e+04\n",
            "Monthly Debt                    9.631021e+02\n",
            "Years of Credit History         1.831531e+01\n",
            "Months since last delinquent    3.508029e+01\n",
            "Number of Open Accounts         1.111035e+01\n",
            "Number of Credit Problems       1.604769e-01\n",
            "Current Credit Balance          1.543593e+04\n",
            "Maximum Open Credit             3.356812e+04\n",
            "Bankruptcies                    1.126716e-01\n",
            "Tax Liens                       2.822209e-02\n",
            "dtype: float64\n",
            "Current Loan Amount             14355.000\n",
            "Credit Score                      730.000\n",
            "Years in current job                6.000\n",
            "Annual Income                   61494.000\n",
            "Monthly Debt                      843.925\n",
            "Years of Credit History            17.000\n",
            "Months since last delinquent       32.000\n",
            "Number of Open Accounts            10.000\n",
            "Number of Credit Problems           0.000\n",
            "Current Credit Balance          11039.000\n",
            "Maximum Open Credit             21780.500\n",
            "Bankruptcies                        0.000\n",
            "Tax Liens                           0.000\n",
            "dtype: float64\n",
            "Current Loan Amount             99999999.00\n",
            "Credit Score                         751.00\n",
            "Years in current job                  10.00\n",
            "Annual Income                    8713547.00\n",
            "Monthly Debt                       22939.12\n",
            "Years of Credit History               70.50\n",
            "Months since last delinquent         176.00\n",
            "Number of Open Accounts               76.00\n",
            "Number of Credit Problems             15.00\n",
            "Current Credit Balance           1730472.00\n",
            "Maximum Open Credit             69988086.00\n",
            "Bankruptcies                           7.00\n",
            "Tax Liens                             15.00\n",
            "dtype: float64\n",
            "Current Loan Amount            NaN\n",
            "Credit Score                   NaN\n",
            "Years in current job           NaN\n",
            "Annual Income                  NaN\n",
            "Monthly Debt                   NaN\n",
            "Years of Credit History        NaN\n",
            "Months since last delinquent   NaN\n",
            "Number of Open Accounts        NaN\n",
            "Number of Credit Problems      NaN\n",
            "Current Credit Balance         NaN\n",
            "Maximum Open Credit            NaN\n",
            "Bankruptcies                   NaN\n",
            "Tax Liens                      NaN\n",
            "Loan Status                    NaN\n",
            "Term                           NaN\n",
            "Home Ownership                 NaN\n",
            "Purpose                        NaN\n",
            "dtype: float64\n",
            "Current Loan Amount            NaN\n",
            "Credit Score                   NaN\n",
            "Years in current job           NaN\n",
            "Annual Income                  NaN\n",
            "Monthly Debt                   NaN\n",
            "Years of Credit History        NaN\n",
            "Months since last delinquent   NaN\n",
            "Number of Open Accounts        NaN\n",
            "Number of Credit Problems      NaN\n",
            "Current Credit Balance         NaN\n",
            "Maximum Open Credit            NaN\n",
            "Bankruptcies                   NaN\n",
            "Tax Liens                      NaN\n",
            "Loan Status                    NaN\n",
            "Term                           NaN\n",
            "Home Ownership                 NaN\n",
            "Purpose                        NaN\n",
            "dtype: float64\n",
            "Current Loan Amount            NaN\n",
            "Credit Score                   NaN\n",
            "Years in current job           NaN\n",
            "Annual Income                  NaN\n",
            "Monthly Debt                   NaN\n",
            "Years of Credit History        NaN\n",
            "Months since last delinquent   NaN\n",
            "Number of Open Accounts        NaN\n",
            "Number of Credit Problems      NaN\n",
            "Current Credit Balance         NaN\n",
            "Maximum Open Credit            NaN\n",
            "Bankruptcies                   NaN\n",
            "Tax Liens                      NaN\n",
            "Loan Status                    NaN\n",
            "Term                           NaN\n",
            "Home Ownership                 NaN\n",
            "Purpose                        NaN\n",
            "dtype: float64\n"
          ],
          "name": "stdout"
        },
        {
          "output_type": "stream",
          "text": [
            "/usr/local/lib/python3.6/dist-packages/ipykernel_launcher.py:11: RuntimeWarning: invalid value encountered in less\n",
            "  # This is added back by InteractiveShellApp.init_path()\n"
          ],
          "name": "stderr"
        }
      ]
    },
    {
      "cell_type": "code",
      "metadata": {
        "id": "a4m4Fi6nVptm",
        "colab_type": "code",
        "colab": {
          "base_uri": "https://localhost:8080/",
          "height": 177
        },
        "outputId": "760b4031-046a-4c0f-f7fb-0a6553b4607c"
      },
      "source": [
        "# Print: before winsorize\n",
        "print((loan_data['Monthly Debt']).mean())\n",
        "print((loan_data['Monthly Debt']).median())\n",
        "print((loan_data['Monthly Debt']).max())\n",
        "\n",
        "# Winsorize numeric columns\n",
        "debt_win = stats.mstats.winsorize(loan_data['Monthly Debt'], limits=[0.05, 0.05])\n",
        "\n",
        "# Convert to DataFrame, reassign column name\n",
        "debt_out = pd.DataFrame(debt_win, columns=['Monthly Debt'])\n",
        "\n",
        "# Print: after winsorize\n",
        "print(debt_out.mean())\n",
        "print(debt_out.median())\n",
        "print(debt_out.max())"
      ],
      "execution_count": 15,
      "outputs": [
        {
          "output_type": "stream",
          "text": [
            "963.1020592734293\n",
            "843.925\n",
            "22939.12\n",
            "Monthly Debt    935.371257\n",
            "dtype: float64\n",
            "Monthly Debt    843.925\n",
            "dtype: float64\n",
            "Monthly Debt    2115.52\n",
            "dtype: float64\n"
          ],
          "name": "stdout"
        }
      ]
    },
    {
      "cell_type": "code",
      "metadata": {
        "id": "zFG_qBzsVrGS",
        "colab_type": "code",
        "colab": {
          "base_uri": "https://localhost:8080/",
          "height": 124
        },
        "outputId": "7c8fab26-1ae0-4c6f-bda5-071edba458dd"
      },
      "source": [
        "# Print: before replace with median\n",
        "print((loan_data['Monthly Debt']).mean())\n",
        "print((loan_data['Monthly Debt']).median())\n",
        "print((loan_data['Monthly Debt']).max())\n",
        "\n",
        "# Find median\n",
        "median = loan_data.loc[loan_data['Monthly Debt'] < 2120, 'Monthly Debt'].median()\n",
        "loan_data['Monthly Debt'] = np.where(loan_data['Monthly Debt'] > 2120, median, loan_data['Monthly Debt'])\n",
        "\n",
        "print((loan_data['Monthly Debt']).mean())\n",
        "print((loan_data['Monthly Debt']).median())\n",
        "print((loan_data['Monthly Debt']).max())"
      ],
      "execution_count": 16,
      "outputs": [
        {
          "output_type": "stream",
          "text": [
            "963.1020592734293\n",
            "843.925\n",
            "22939.12\n",
            "866.8290722078564\n",
            "811.51\n",
            "2119.72\n"
          ],
          "name": "stdout"
        }
      ]
    },
    {
      "cell_type": "code",
      "metadata": {
        "id": "sgqH9QPPVsmU",
        "colab_type": "code",
        "colab": {
          "base_uri": "https://localhost:8080/",
          "height": 160
        },
        "outputId": "918e6fc9-99d3-4713-dc61-665298f73f24"
      },
      "source": [
        "from sklearn.preprocessing import StandardScaler\n",
        "# Subset features\n",
        "numeric_cols = loan_data.select_dtypes(include=[np.number])\n",
        "categoric_cols = loan_data.select_dtypes(include=[object])\n",
        "\n",
        "# Instantiate\n",
        "scaler = StandardScaler()\n",
        "\n",
        "# Fit and transform, convert to DF\n",
        "numeric_cols_scaled = scaler.fit_transform(numeric_cols)\n",
        "numeric_cols_scaledDF = pd.DataFrame(numeric_cols_scaled, columns=numeric_cols.columns)\n",
        "\n",
        "# Concatenate categoric columns to scaled numeric columns\n",
        "final_DF = pd.concat([numeric_cols_scaledDF, categoric_cols], axis=1)\n",
        "print(final_DF.head())"
      ],
      "execution_count": 17,
      "outputs": [
        {
          "output_type": "stream",
          "text": [
            "   Current Loan Amount  Credit Score  ...  Home Ownership            Purpose\n",
            "0            -0.408982      0.233271  ...            Rent  DebtConsolidation\n",
            "1            -0.408617      0.415570  ...        Mortgage  DebtConsolidation\n",
            "2            -0.408871      0.087432  ...        Mortgage   HomeImprovements\n",
            "3            -0.408997      0.670788  ...            Rent  DebtConsolidation\n",
            "4            -0.409052     -1.298038  ...        Mortgage   HomeImprovements\n",
            "\n",
            "[5 rows x 17 columns]\n"
          ],
          "name": "stdout"
        }
      ]
    },
    {
      "cell_type": "markdown",
      "metadata": {
        "id": "GLSKYLIWNkPl",
        "colab_type": "text"
      },
      "source": [
        "# Supervised Learning\n"
      ]
    },
    {
      "cell_type": "markdown",
      "metadata": {
        "id": "QdNNad6Apr26",
        "colab_type": "text"
      },
      "source": [
        "![](https://miro.medium.com/max/2000/1*LJ0slb7apPb1fQWVTAX2CA.jpeg)"
      ]
    },
    {
      "cell_type": "markdown",
      "metadata": {
        "id": "1d3HPMO3N1ER",
        "colab_type": "text"
      },
      "source": [
        "## Regression: feature selection\n",
        "\n",
        "- [Feature selection techniques for classification and Python tips for their application](https://towardsdatascience.com/feature-selection-techniques-for-classification-and-python-tips-for-their-application-10c0ddd7918b)\n",
        "- [Chi-Square Test for Feature Selection in Machine learning](https://towardsdatascience.com/chi-square-test-for-feature-selection-in-machine-learning-206b1f0b8223)\n",
        "- [ANOVA for Feature Selection in Machine Learning](https://towardsdatascience.com/anova-for-feature-selection-in-machine-learning-d9305e228476)\n",
        "\n",
        "### Selecting the correct features:\n",
        "- Reduces overfitting\n",
        "- Improves accuracy\n",
        "- Increases interpretability\n",
        "- Reduces training time"
      ]
    },
    {
      "cell_type": "markdown",
      "metadata": {
        "id": "bKWriJysOEGb",
        "colab_type": "text"
      },
      "source": [
        "### Feature selection methods\n",
        "- Filter: Rank features based on statistical performance\n",
        "- Wrapper: Use an ML method to evaluate performance\n",
        "- Embedded: Iterative model training to extract features\n",
        "- Feature importance: tree-based ML models\n"
      ]
    },
    {
      "cell_type": "markdown",
      "metadata": {
        "id": "GBXSEIdqOTDM",
        "colab_type": "text"
      },
      "source": [
        "### Compare and contrast methods\n",
        "|Method |Use an ML model |Select best subset |Can overfit|\n",
        "| -------- | -------- | -------- | -------- |\n",
        "|Filter |No |No |No|\n",
        "|Wrapper |Yes |Yes |Sometimes|\n",
        "|Embedded |Yes |Yes |Yes|\n",
        "|Feature importance |Yes |Yes |Yes|"
      ]
    },
    {
      "cell_type": "markdown",
      "metadata": {
        "id": "ol6AGH0kO3xe",
        "colab_type": "text"
      },
      "source": [
        "### Correlation coeficient statistical tests\n",
        "|Feature/Response |Continuous |Categorical|\n",
        "| -------- | -------- | -------- |\n",
        "|Continuous |Pearson's Correlation |LDA|\n",
        "|Categorical |ANOVA |Chi-Square|"
      ]
    },
    {
      "cell_type": "markdown",
      "metadata": {
        "id": "iw_8Gux4o8xg",
        "colab_type": "text"
      },
      "source": [
        "### load data"
      ]
    },
    {
      "cell_type": "code",
      "metadata": {
        "id": "Y_fXm8GvpUr-",
        "colab_type": "code",
        "colab": {}
      },
      "source": [
        "import pandas as pd\n",
        "import matplotlib.pyplot as plt\n",
        "import seaborn as sns"
      ],
      "execution_count": 18,
      "outputs": []
    },
    {
      "cell_type": "code",
      "metadata": {
        "id": "m1nUoLXdoCqg",
        "colab_type": "code",
        "colab": {}
      },
      "source": [
        "# load data\n",
        "url = \"https://assets.datacamp.com/production/repositories/4983/datasets/97f3248581b7272784d23df9c30612d9eb0afb8d/diabetes.csv\"\n",
        "diabetes = pd.read_csv(url)\n",
        "X = diabetes.drop(columns=[\"progression\"])\n",
        "y = diabetes[\"progression\"]"
      ],
      "execution_count": 73,
      "outputs": []
    },
    {
      "cell_type": "markdown",
      "metadata": {
        "id": "RMppRg-gPJgn",
        "colab_type": "text"
      },
      "source": [
        "### Filter functions\n",
        "|Function |returns|\n",
        "|---|---|\n",
        "|df.corr() |Pearson's correlation matrix|\n",
        "|sns.heatmap(corr_object) |heatmap plot|\n",
        "|abs() |absolute value|"
      ]
    },
    {
      "cell_type": "code",
      "metadata": {
        "id": "Bks1-iSDwdRk",
        "colab_type": "code",
        "colab": {
          "base_uri": "https://localhost:8080/",
          "height": 639
        },
        "outputId": "e9ab67ff-ad3a-4ded-e0b2-36eb345f6ebb"
      },
      "source": [
        "# Create correlation matrix and print it\n",
        "cor = diabetes.corr()\n",
        "print(cor)\n",
        "\n",
        "# Correlation matrix heatmap\n",
        "plt.figure()\n",
        "sns.heatmap(cor, annot=True, cmap=plt.cm.Reds)\n",
        "plt.show()\n",
        "\n",
        "# Correlation with output variable\n",
        "cor_target = abs(cor[\"progression\"])\n",
        "\n",
        "# Selecting highly correlated features\n",
        "best_features = cor_target[cor_target > 0.5]\n",
        "print(best_features)"
      ],
      "execution_count": 20,
      "outputs": [
        {
          "output_type": "stream",
          "text": [
            "                  age       sex       bmi  ...        s5        s6  progression\n",
            "age          1.000000  0.173737  0.185085  ...  0.270777  0.301731     0.187889\n",
            "sex          0.173737  1.000000  0.088161  ...  0.149918  0.208133     0.043062\n",
            "bmi          0.185085  0.088161  1.000000  ...  0.446159  0.388680     0.586450\n",
            "bp           0.335427  0.241013  0.395415  ...  0.393478  0.390429     0.441484\n",
            "s1           0.260061  0.035277  0.249777  ...  0.515501  0.325717     0.212022\n",
            "s2           0.219243  0.142637  0.261170  ...  0.318353  0.290600     0.174054\n",
            "s3          -0.075181 -0.379090 -0.366811  ... -0.398577 -0.273697    -0.394789\n",
            "s4           0.203841  0.332115  0.413807  ...  0.617857  0.417212     0.430453\n",
            "s5           0.270777  0.149918  0.446159  ...  1.000000  0.464670     0.565883\n",
            "s6           0.301731  0.208133  0.388680  ...  0.464670  1.000000     0.382483\n",
            "progression  0.187889  0.043062  0.586450  ...  0.565883  0.382483     1.000000\n",
            "\n",
            "[11 rows x 11 columns]\n"
          ],
          "name": "stdout"
        },
        {
          "output_type": "display_data",
          "data": {
            "image/png": "[encoded data removed]",
            "text/plain": [
              "<Figure size 432x288 with 2 Axes>"
            ]
          },
          "metadata": {
            "tags": [],
            "needs_background": "light"
          }
        },
        {
          "output_type": "stream",
          "text": [
            "bmi            0.586450\n",
            "s5             0.565883\n",
            "progression    1.000000\n",
            "Name: progression, dtype: float64\n"
          ],
          "name": "stdout"
        }
      ]
    },
    {
      "cell_type": "markdown",
      "metadata": {
        "id": "u84Tw2nOPXUh",
        "colab_type": "text"
      },
      "source": [
        "### Wrapper methods\n",
        "1. Forward selection (LARS-least angle regression)\n",
        "    - Starts with no features, adds one at a time\n",
        "2. Backward elimination\n",
        "    - Starts with all features, eliminates one at a time\n",
        "3. Forward selection/backward elimination combination (bidirectional elimination)\n",
        "4. Recursive feature elimination\n",
        "    - RFECV"
      ]
    },
    {
      "cell_type": "markdown",
      "metadata": {
        "id": "LdLIIahFP0OK",
        "colab_type": "text"
      },
      "source": [
        "|Function |returns|\n",
        "|---|---|\n",
        "|`sklearn.svm.SVR` |support vector regression estimator|\n",
        "|`sklearn.feature_selection.RFECV` |recursive feature elimination with cross-val|\n",
        "|`rfe_mod.support_` |boolean array of selected features|\n",
        "|`ref_mod.ranking_` |feature ranking, selected=1|\n",
        "|`sklearn.linear_model.LinearRegression` |linear model estimator|\n",
        "|`sklearn.linear_model.LarsCV` |least angle regression with cross-val|\n",
        "|`LarsCV.score` |r-squared score|\n",
        "|`LarsCV.alpha_` |estimated regularization parameter|"
      ]
    },
    {
      "cell_type": "code",
      "metadata": {
        "id": "vuWfyzwCxj0Q",
        "colab_type": "code",
        "colab": {
          "base_uri": "https://localhost:8080/",
          "height": 70
        },
        "outputId": "9ea84086-dc18-46ec-b6ce-3865aca12fb8"
      },
      "source": [
        "# Import modules\n",
        "from sklearn.svm import SVR\n",
        "from sklearn.feature_selection import RFECV\n",
        "\n",
        "# Instantiate estimator and feature selector\n",
        "svr_mod = SVR(kernel=\"linear\")\n",
        "feat_selector = RFECV(svr_mod, cv=5)\n",
        "\n",
        "# Fit\n",
        "feat_selector = feat_selector.fit(X, y)\n",
        "\n",
        "# Print support and ranking\n",
        "print(feat_selector.support_)\n",
        "print(feat_selector.ranking_)\n",
        "print(X.columns)"
      ],
      "execution_count": 21,
      "outputs": [
        {
          "output_type": "stream",
          "text": [
            "[ True False  True  True  True  True  True  True  True  True]\n",
            "[1 2 1 1 1 1 1 1 1 1]\n",
            "Index(['age', 'sex', 'bmi', 'bp', 's1', 's2', 's3', 's4', 's5', 's6'], dtype='object')\n"
          ],
          "name": "stdout"
        }
      ]
    },
    {
      "cell_type": "code",
      "metadata": {
        "id": "g1Kuzsiax1Fx",
        "colab_type": "code",
        "colab": {
          "base_uri": "https://localhost:8080/",
          "height": 88
        },
        "outputId": "b85d1b32-5e04-4c3c-d669-20703dec65a5"
      },
      "source": [
        "# Import modules\n",
        "from sklearn.linear_model import LarsCV\n",
        "\n",
        "# Instantiate\n",
        "lars_mod = LarsCV(cv=5, normalize=False)\n",
        "\n",
        "# Fit\n",
        "feat_selector = lars_mod.fit(X, y)\n",
        "\n",
        "# Print r-squared score and estimated alpha\n",
        "print(lars_mod.score(X, y))\n",
        "print(lars_mod.alpha_)\n",
        "\n",
        "# Drop feature suggested not important in step 2\n",
        "X_ = X.drop('sex', axis=1)\n",
        "\n",
        "# Instantiate\n",
        "lars_mod = LarsCV(cv=5, normalize=False)\n",
        "\n",
        "# Fit\n",
        "feat_selector = lars_mod.fit(X_, y)\n",
        "\n",
        "# Print r-squared score and estimated alpha\n",
        "print(lars_mod.score(X_, y))\n",
        "print(lars_mod.alpha_)"
      ],
      "execution_count": 22,
      "outputs": [
        {
          "output_type": "stream",
          "text": [
            "0.5000547926397778\n",
            "0.16078158387263866\n",
            "0.4982900996498095\n",
            "0.05226862285159132\n"
          ],
          "name": "stdout"
        }
      ]
    },
    {
      "cell_type": "markdown",
      "metadata": {
        "id": "9UQgw1IZPqZM",
        "colab_type": "text"
      },
      "source": [
        "### Tree-based feature importance methods\n",
        "- Random Forest --> `sklearn.ensemble.RandomForestRegressor`\n",
        "- Extra Trees --> `sklearn.ensemble.ExtraTreesRegressor`\n",
        "- After model fit --> `tree_mod.feature_importances_`"
      ]
    },
    {
      "cell_type": "code",
      "metadata": {
        "id": "z2QEtrMHNjN2",
        "colab_type": "code",
        "colab": {
          "base_uri": "https://localhost:8080/",
          "height": 106
        },
        "outputId": "8972068d-0e13-4eb4-cf73-139dfddc40d2"
      },
      "source": [
        "# Import\n",
        "from sklearn.ensemble import RandomForestRegressor\n",
        "\n",
        "# Instantiate\n",
        "rf_mod = RandomForestRegressor(max_depth=2, random_state=123, \n",
        "              n_estimators=100, oob_score=True)\n",
        "\n",
        "# Fit\n",
        "rf_mod.fit(X, y)\n",
        "\n",
        "# Print\n",
        "print(diabetes.columns)\n",
        "print(rf_mod.feature_importances_)"
      ],
      "execution_count": 23,
      "outputs": [
        {
          "output_type": "stream",
          "text": [
            "Index(['age', 'sex', 'bmi', 'bp', 's1', 's2', 's3', 's4', 's5', 's6',\n",
            "       'progression'],\n",
            "      dtype='object')\n",
            "[0.         0.         0.39961579 0.03085607 0.         0.00128948\n",
            " 0.00700339 0.00417891 0.53899467 0.01806168]\n"
          ],
          "name": "stdout"
        }
      ]
    },
    {
      "cell_type": "code",
      "metadata": {
        "id": "Yin7MIOrJuIh",
        "colab_type": "code",
        "colab": {
          "base_uri": "https://localhost:8080/",
          "height": 106
        },
        "outputId": "747b12d8-d959-4694-8b93-a3b94ea94158"
      },
      "source": [
        "# Import\n",
        "from sklearn.ensemble import ExtraTreesRegressor\n",
        "\n",
        "# Instantiate\n",
        "xt_mod = ExtraTreesRegressor()\n",
        "\n",
        "# Fit\n",
        "xt_mod.fit(X, y)\n",
        "\n",
        "# Print\n",
        "print(diabetes.columns)\n",
        "print(xt_mod.feature_importances_)"
      ],
      "execution_count": 24,
      "outputs": [
        {
          "output_type": "stream",
          "text": [
            "Index(['age', 'sex', 'bmi', 'bp', 's1', 's2', 's3', 's4', 's5', 's6',\n",
            "       'progression'],\n",
            "      dtype='object')\n",
            "[0.05567877 0.03429704 0.25931205 0.11584138 0.05057196 0.05083616\n",
            " 0.06335773 0.07397052 0.22348158 0.07265282]\n"
          ],
          "name": "stdout"
        }
      ]
    },
    {
      "cell_type": "markdown",
      "metadata": {
        "id": "AaXBZT-IPhjW",
        "colab_type": "text"
      },
      "source": [
        "### Embedded methods\n",
        "1. Lasso Regression\n",
        "2. Ridge Regression\n",
        "3. ElasticNet\n"
      ]
    },
    {
      "cell_type": "code",
      "metadata": {
        "id": "d7OprPPN7xfm",
        "colab_type": "code",
        "colab": {
          "base_uri": "https://localhost:8080/",
          "height": 35
        },
        "outputId": "c45c00ea-550a-448e-daed-8b3821c3c335"
      },
      "source": [
        "# Import modules\n",
        "from sklearn.linear_model import Lasso, LassoCV\n",
        "from sklearn.metrics import mean_squared_error\n",
        "from sklearn.model_selection import train_test_split\n",
        "\n",
        "# Train/test split\n",
        "X_train, X_test, y_train, y_test = train_test_split(X, y, random_state=123, test_size=0.3)\n",
        "\n",
        "# Instantiate cross-validated lasso, fit\n",
        "lasso_cv = LassoCV(alphas=None, cv=10, max_iter=10000)\n",
        "lasso_cv.fit(X_train, y_train)\n",
        "\n",
        "# Instantiate lasso, fit, predict and print MSE\n",
        "lasso = Lasso(alpha = lasso_cv.alpha_)\n",
        "lasso.fit(X_train, y_train)\n",
        "print(mean_squared_error(y_true=y_test, y_pred=lasso.predict(X_test)))"
      ],
      "execution_count": 25,
      "outputs": [
        {
          "output_type": "stream",
          "text": [
            "2924.5859832897386\n"
          ],
          "name": "stdout"
        }
      ]
    },
    {
      "cell_type": "code",
      "metadata": {
        "id": "vMkzR9hmpqaQ",
        "colab_type": "code",
        "colab": {
          "base_uri": "https://localhost:8080/",
          "height": 70
        },
        "outputId": "97da21c3-2c4b-4d0f-e394-b93dccfea018"
      },
      "source": [
        "lasso.coef_"
      ],
      "execution_count": 26,
      "outputs": [
        {
          "output_type": "execute_result",
          "data": {
            "text/plain": [
              "array([  10.44337568, -258.78524547,  540.21142005,  278.38304827,\n",
              "       -709.64812829,  359.72602008,   98.8273001 ,  285.87174613,\n",
              "        631.99600104,  101.92074238])"
            ]
          },
          "metadata": {
            "tags": []
          },
          "execution_count": 26
        }
      ]
    },
    {
      "cell_type": "code",
      "metadata": {
        "id": "zWPwsJ4P8oRT",
        "colab_type": "code",
        "colab": {
          "base_uri": "https://localhost:8080/",
          "height": 35
        },
        "outputId": "a379f41b-bcc6-49d6-fce7-c45197439bd3"
      },
      "source": [
        "# Import modules\n",
        "from sklearn.linear_model import Ridge, RidgeCV\n",
        "from sklearn.metrics import mean_squared_error\n",
        "import numpy as np\n",
        "\n",
        "\n",
        "# Train/test split\n",
        "X_train, X_test, y_train, y_test = train_test_split(X, y, random_state=123, test_size=0.3)\n",
        "\n",
        "# Instantiate cross-validated ridge, fit\n",
        "ridge_cv = RidgeCV(alphas=np.logspace(-6, 6, 13))\n",
        "ridge_cv.fit(X_train, y_train)\n",
        "\n",
        "# Instantiate ridge, fit, predict and print MSE\n",
        "ridge = Ridge(alpha = ridge_cv.alpha_)\n",
        "ridge.fit(X_train, y_train)\n",
        "print(mean_squared_error(y_true=y_test, y_pred=ridge.predict(X_test)))"
      ],
      "execution_count": 27,
      "outputs": [
        {
          "output_type": "stream",
          "text": [
            "2970.874355984401\n"
          ],
          "name": "stdout"
        }
      ]
    },
    {
      "cell_type": "code",
      "metadata": {
        "id": "PAwqqSLSpwVz",
        "colab_type": "code",
        "colab": {
          "base_uri": "https://localhost:8080/",
          "height": 70
        },
        "outputId": "adae3fb3-bdd1-49ec-ba77-bde0342016c7"
      },
      "source": [
        "ridge.coef_"
      ],
      "execution_count": 28,
      "outputs": [
        {
          "output_type": "execute_result",
          "data": {
            "text/plain": [
              "array([  20.02724484, -210.65528196,  490.6483936 ,  252.31304807,\n",
              "        -85.60007846,  -84.365296  , -174.9700292 ,  177.80527284,\n",
              "        371.44401874,  117.87370481])"
            ]
          },
          "metadata": {
            "tags": []
          },
          "execution_count": 28
        }
      ]
    },
    {
      "cell_type": "markdown",
      "metadata": {
        "id": "D2Fb5SWyBl4V",
        "colab_type": "text"
      },
      "source": [
        "## Classification: feature engineering\n",
        "\n",
        "### Feature engineering...why?\n",
        "- Extracts additional information from the data\n",
        "- Creates additional relevant features\n",
        "- One of the most effective ways to improve predictive models\n",
        "\n",
        "### Benefits of feature engineering\n",
        "- Increased predictive power of the learning algorithm\n",
        "- Makes your machine learning models perform even better!\n",
        "\n",
        "### Types of feature engineering\n",
        "- Indicator variables\n",
        "- Interaction features\n",
        "- Feature representation"
      ]
    },
    {
      "cell_type": "markdown",
      "metadata": {
        "id": "M7tKL9yzB-Cy",
        "colab_type": "text"
      },
      "source": [
        "### Indicator variables\n",
        "- Threshold indicator\n",
        "    - age: high school vs college\n",
        "- Multiple features\n",
        "    - used as a flag\n",
        "- Special events\n",
        "    - black Friday\n",
        "    - Christmas\n",
        "- Groups of classes\n",
        "    - website traffic paid flag\n",
        "        - Google adwords\n",
        "        - Facebook ads"
      ]
    },
    {
      "cell_type": "markdown",
      "metadata": {
        "id": "6Lisj-2WCab4",
        "colab_type": "text"
      },
      "source": [
        "### Interaction features\n",
        "- Sum\n",
        "- Difference\n",
        "- Product\n",
        "- Quotient\n",
        "- Other mathematical combos"
      ]
    },
    {
      "cell_type": "markdown",
      "metadata": {
        "id": "IVbepO8qCel1",
        "colab_type": "text"
      },
      "source": [
        "### Feature representation\n",
        "- Datetime stamps\n",
        "    - Day of week\n",
        "    - Hour of day\n",
        "- Grouping categorical levels into 'Other'\n",
        "- Transform categorical to dummy variables\n",
        "    - (k - 1) binary columns"
      ]
    },
    {
      "cell_type": "markdown",
      "metadata": {
        "id": "KVYXdHaRCqeR",
        "colab_type": "text"
      },
      "source": [
        "### Different categorical levels\n",
        "- Training data:\n",
        "    - model trained with [red, blue, green]\n",
        "- Test data:\n",
        "    - model test with [red, green, yellow]\n",
        "    - additional color not seen in training\n",
        "    - one color missing\n",
        "- [Robust one-hot encoding](https://blog.cambridgespark.com/robust-one-hot-encoding-in-python-3e29bfcec77e)\n",
        "- [Handling Categorical Data in Python](https://www.datacamp.com/community/tutorials/categorical-data)"
      ]
    },
    {
      "cell_type": "code",
      "metadata": {
        "id": "kQ9xrGE-Bavt",
        "colab_type": "code",
        "colab": {
          "base_uri": "https://localhost:8080/",
          "height": 35
        },
        "outputId": "1ae8d614-6511-449d-9932-4f37344c65be"
      },
      "source": [
        "from sklearn.linear_model import LogisticRegression\n",
        "from sklearn.impute import SimpleImputer\n",
        "from sklearn.metrics import accuracy_score\n",
        "from sklearn.preprocessing import StandardScaler\n",
        "\n",
        "url = \"https://assets.datacamp.com/production/repositories/4983/datasets/db66797c50f6938065374e9a31353053fb542052/LoansTrainingSetReduced.csv\"\n",
        "# url = \"https://assets.datacamp.com/production/repositories/4983/datasets/a6979e58c5990487b6843a07ebe5143af74d7913/loan_missing_filled.csv\"\n",
        "loan_data = pd.read_csv(url)\n",
        "\n",
        "# Subset numeric features: numeric_cols\n",
        "numeric_cols = loan_data.select_dtypes(include=[np.number])\n",
        "\n",
        "# Impute with mean\n",
        "imp_mean = SimpleImputer(strategy='mean')\n",
        "loans_imp_mean = imp_mean.fit_transform(numeric_cols)\n",
        "\n",
        "# Convert returned array to DataFrame\n",
        "scaler = StandardScaler()\n",
        "loans_imp_meanDF = pd.DataFrame(loans_imp_mean, columns=numeric_cols.columns)\n",
        "loans_imp_meanDF = pd.DataFrame(scaler.fit_transform(loans_imp_meanDF), columns=numeric_cols.columns)\n",
        "# Create X matrix and y array\n",
        "X = loans_imp_meanDF.select_dtypes(include=[np.number])\n",
        "y = loan_data[\"Loan Status\"]\n",
        "\n",
        "# Train/test split\n",
        "X_train, X_test, y_train, y_test = train_test_split(X, y, test_size=0.3, random_state=123)\n",
        "\n",
        "# Instantiate\n",
        "logistic = LogisticRegression()\n",
        "\n",
        "# Fit\n",
        "logistic.fit(X_train, y_train)\n",
        "\n",
        "# Predict and print accuracy\n",
        "print(accuracy_score(y_true=y_test, y_pred=logistic.predict(X_test)))"
      ],
      "execution_count": 29,
      "outputs": [
        {
          "output_type": "stream",
          "text": [
            "0.7293142878566341\n"
          ],
          "name": "stdout"
        }
      ]
    },
    {
      "cell_type": "markdown",
      "metadata": {
        "id": "QlSImBZegUqu",
        "colab_type": "text"
      },
      "source": [
        "Debt to income ratio\n",
        "\n",
        "- Monthly Debt\n",
        "- Annual Income/12"
      ]
    },
    {
      "cell_type": "code",
      "metadata": {
        "id": "WD2X99qnD0x5",
        "colab_type": "code",
        "colab": {
          "base_uri": "https://localhost:8080/",
          "height": 124
        },
        "outputId": "891fd1f7-a802-4c4d-d849-c0302e620c9e"
      },
      "source": [
        "# Create dti_ratio variable\n",
        "monthly_income = loan_data[\"Annual Income\"]/12\n",
        "loan_data[\"dti_ratio\"] = loan_data[\"Monthly Debt\"]/monthly_income * 100\n",
        "loan_data = loan_data.drop([\"Monthly Debt\",\"Annual Income\"], axis=1)\n",
        "\n",
        "# Replace target variable levels\n",
        "loan_data[\"Loan Status\"] = loan_data[\"Loan Status\"].replace({'Fully Paid': 0, \n",
        "                                            'Charged Off': 1})\n",
        "loan_data = loan_data[['Loan Status', 'Current Loan Amount', 'Credit Score', 'Years in current job', 'Years of Credit History', 'Months since last delinquent', 'Number of Open Accounts', 'Number of Credit Problems',\n",
        "       'Current Credit Balance', 'Maximum Open Credit', 'Bankruptcies', 'Tax Liens', 'dti_ratio']]\n",
        "# One-hot encode categorical variables\n",
        "loan_data = pd.get_dummies(data=loan_data)\n",
        "\n",
        "# Print\n",
        "print(loan_data.columns)"
      ],
      "execution_count": 30,
      "outputs": [
        {
          "output_type": "stream",
          "text": [
            "Index(['Loan Status', 'Current Loan Amount', 'Credit Score',\n",
            "       'Years in current job', 'Years of Credit History',\n",
            "       'Months since last delinquent', 'Number of Open Accounts',\n",
            "       'Number of Credit Problems', 'Current Credit Balance',\n",
            "       'Maximum Open Credit', 'Bankruptcies', 'Tax Liens', 'dti_ratio'],\n",
            "      dtype='object')\n"
          ],
          "name": "stdout"
        }
      ]
    },
    {
      "cell_type": "code",
      "metadata": {
        "id": "r_VD-7SMy-w_",
        "colab_type": "code",
        "colab": {
          "base_uri": "https://localhost:8080/",
          "height": 35
        },
        "outputId": "7b1cd7b4-6f6a-4580-a610-75e644a84691"
      },
      "source": [
        "# Subset numeric features: numeric_cols\n",
        "numeric_cols = loan_data.select_dtypes(include=[np.number])\n",
        "\n",
        "# Impute with mean\n",
        "imp_mean = SimpleImputer(strategy='mean')\n",
        "loans_imp_mean = imp_mean.fit_transform(numeric_cols)\n",
        "\n",
        "# Convert returned array to DataFrame\n",
        "scaler = StandardScaler()\n",
        "loans_imp_meanDF = pd.DataFrame(loans_imp_mean, columns=numeric_cols.columns)\n",
        "loans_imp_meanDF = pd.DataFrame(scaler.fit_transform(loans_imp_meanDF), columns=numeric_cols.columns)\n",
        "\n",
        "# Create X matrix and y array\n",
        "X = loans_imp_meanDF.select_dtypes(include=[np.number]).drop('Loan Status', axis=1)\n",
        "y = loan_data[\"Loan Status\"]\n",
        "\n",
        "# Train/test split\n",
        "X_train, X_test, y_train, y_test = train_test_split(X, y, test_size=0.3, random_state=123)\n",
        "\n",
        "# Instantiate\n",
        "logistic_dti = LogisticRegression()\n",
        "\n",
        "# Fit\n",
        "logistic_dti.fit(X_train, y_train)\n",
        "\n",
        "# Predict and print accuracy\n",
        "print(accuracy_score(y_true=y_test, y_pred=logistic_dti.predict(X_test)))"
      ],
      "execution_count": 31,
      "outputs": [
        {
          "output_type": "stream",
          "text": [
            "0.730439020732576\n"
          ],
          "name": "stdout"
        }
      ]
    },
    {
      "cell_type": "markdown",
      "metadata": {
        "id": "AR615tWqQDUe",
        "colab_type": "text"
      },
      "source": [
        "## Ensemble learning techniques\n",
        "- Bootstrap Aggregation\n",
        "- Boosting\n",
        "- Model stacking"
      ]
    },
    {
      "cell_type": "markdown",
      "metadata": {
        "id": "Y3EcssNcg-RE",
        "colab_type": "text"
      },
      "source": [
        "Bias-Variance Trade-Off\n",
        "![](https://i.imgur.com/Esfeuap.png)"
      ]
    },
    {
      "cell_type": "markdown",
      "metadata": {
        "id": "_r_jjq8ahQry",
        "colab_type": "text"
      },
      "source": [
        "#### Bagging (Bootstrap aggregation)\n",
        "\n",
        "- Bootstrapped samples\n",
        "  - Subset selected with replacement\n",
        "  - Same row of data may be chosen\n",
        "- Model built for each sample\n",
        "- Average the output\n",
        "- Reduces variance"
      ]
    },
    {
      "cell_type": "code",
      "metadata": {
        "id": "5v9K2IGcQDuW",
        "colab_type": "code",
        "colab": {
          "base_uri": "https://localhost:8080/",
          "height": 35
        },
        "outputId": "f695a104-022e-435a-bad8-c9ceac5106fe"
      },
      "source": [
        "from sklearn.ensemble import BaggingClassifier\n",
        "# Instantiate bootstrap aggregation model\n",
        "bagged_model = BaggingClassifier(n_estimators=50, random_state=123)\n",
        "\n",
        "# Fit\n",
        "bagged_model.fit(X_train, y_train)\n",
        "\n",
        "# Predict\n",
        "bagged_pred = bagged_model.predict(X_test)\n",
        "\n",
        "# Print accuracy score\n",
        "print(accuracy_score(y_test, bagged_pred))"
      ],
      "execution_count": 32,
      "outputs": [
        {
          "output_type": "stream",
          "text": [
            "0.7191542008772916\n"
          ],
          "name": "stdout"
        }
      ]
    },
    {
      "cell_type": "markdown",
      "metadata": {
        "id": "2RxhZ67rhyyx",
        "colab_type": "text"
      },
      "source": [
        "#### Boosting\n",
        "- Multiple models built sequentially\n",
        "- Incorrect predictions are weighted\n",
        "- Reduces bias\n"
      ]
    },
    {
      "cell_type": "markdown",
      "metadata": {
        "id": "WEu9j20eh-_a",
        "colab_type": "text"
      },
      "source": [
        "#### Model stacking\n",
        "- Model 1 predictions\n",
        "- Model 2 predictions...\n",
        "- Model N predictions\n",
        "- Stack for highest accuracy model\n",
        "  - Uses base model (Model N) predictions as input to 2nd level model"
      ]
    },
    {
      "cell_type": "code",
      "metadata": {
        "id": "zNLGf7vKa4eO",
        "colab_type": "code",
        "colab": {
          "base_uri": "https://localhost:8080/",
          "height": 35
        },
        "outputId": "9e574705-0ccc-4ad7-99bf-ac5d3677652a"
      },
      "source": [
        "from sklearn.ensemble import AdaBoostClassifier\n",
        "# Boosting model\n",
        "boosted_model = AdaBoostClassifier(n_estimators=50, random_state=123)\n",
        "\n",
        "# Fit\n",
        "boosted_model_fit = boosted_model.fit(X_train, y_train)\n",
        "\n",
        "# Predict\n",
        "boosted_pred = boosted_model_fit.predict(X_test)\n",
        "\n",
        "# Print model accuracy\n",
        "print(accuracy_score(y_test, boosted_pred))"
      ],
      "execution_count": 33,
      "outputs": [
        {
          "output_type": "stream",
          "text": [
            "0.7301765830615229\n"
          ],
          "name": "stdout"
        }
      ]
    },
    {
      "cell_type": "code",
      "metadata": {
        "id": "bwIuK_2Am7Jr",
        "colab_type": "code",
        "colab": {
          "base_uri": "https://localhost:8080/",
          "height": 35
        },
        "outputId": "74215cb1-ddb9-4b9b-e397-05e0faef4cb3"
      },
      "source": [
        "import xgboost\n",
        "# Instantiate\n",
        "xgb = xgboost.XGBClassifier(random_state=123, learning_rate=0.1, n_estimators=10, max_depth=3)\n",
        "\n",
        "# Fit\n",
        "xgb = xgb.fit(X_train, y_train)\n",
        "\n",
        "# Predict\n",
        "xgb_pred = xgb.predict(X_test)\n",
        "\n",
        "# Print accuracy score\n",
        "print('Final prediction score: [%.8f]' % accuracy_score(y_test, xgb_pred))"
      ],
      "execution_count": 34,
      "outputs": [
        {
          "output_type": "stream",
          "text": [
            "Final prediction score: [0.72991415]\n"
          ],
          "name": "stdout"
        }
      ]
    },
    {
      "cell_type": "markdown",
      "metadata": {
        "id": "SCauEy9AeH__",
        "colab_type": "text"
      },
      "source": [
        "# Unsupervised Learning"
      ]
    },
    {
      "cell_type": "markdown",
      "metadata": {
        "id": "v55qV5aCd-St",
        "colab_type": "text"
      },
      "source": [
        "## Dimensionality reduction: feature extraction\n",
        "\n",
        "### Why dimensionality reduction?\n",
        "1. Speed up ML training\n",
        "2. Visualization\n",
        "3. Improves accuracy\n",
        "4. Curse of dimensionality\n",
        "5. Dimensionality reduction != feature selection"
      ]
    },
    {
      "cell_type": "markdown",
      "metadata": {
        "id": "ErrVFzqce59C",
        "colab_type": "text"
      },
      "source": [
        "### Unsupervised learning methods\n",
        "\n",
        "- Principal component analysis (PCA)\n",
        "- Singular value decomposition (SVD)\n",
        "- Clustering/grouping\n",
        "- Exploratory data mining"
      ]
    },
    {
      "cell_type": "markdown",
      "metadata": {
        "id": "tZGZPtLZff3W",
        "colab_type": "text"
      },
      "source": [
        "#### PCA\n",
        "- Relationship between X and y\n",
        "- Calculated by finding principal axes\n",
        "- Translates, rotates and scales\n",
        "- Lower-dimensional projection of the data"
      ]
    },
    {
      "cell_type": "code",
      "metadata": {
        "id": "FH7z57Wpvr94",
        "colab_type": "code",
        "colab": {
          "base_uri": "https://localhost:8080/",
          "height": 35
        },
        "outputId": "c585aa27-b50e-4357-b35b-14218b9dff3b"
      },
      "source": [
        "# Import module\n",
        "from sklearn.decomposition import PCA\n",
        "\n",
        "# Feature matrix and target array\n",
        "X_diabetes = diabetes.drop('progression', axis=1)\n",
        "y_diabetes = diabetes['progression']\n",
        "\n",
        "# PCA\n",
        "pca = PCA(n_components=3)\n",
        "\n",
        "# Fit and transform\n",
        "principalComponents = pca.fit_transform(X_diabetes)\n",
        "\n",
        "# Print ratio of variance explained\n",
        "print(pca.explained_variance_ratio_)"
      ],
      "execution_count": 35,
      "outputs": [
        {
          "output_type": "stream",
          "text": [
            "[0.40242142 0.14923182 0.12059623]\n"
          ],
          "name": "stdout"
        }
      ]
    },
    {
      "cell_type": "markdown",
      "metadata": {
        "id": "hkZYsEGhfmth",
        "colab_type": "text"
      },
      "source": [
        "#### SVD\n",
        "- Linear algebra and vector calculus\n",
        "- Decomposes data matrix into three matrices\n",
        "- Results in 'singular' values\n",
        "- Variance in data approximately equals SS of singular values"
      ]
    },
    {
      "cell_type": "code",
      "metadata": {
        "id": "zITzgtAEwQfv",
        "colab_type": "code",
        "colab": {
          "base_uri": "https://localhost:8080/",
          "height": 35
        },
        "outputId": "37a87c57-1e9e-41a8-ce92-02a888f81cf8"
      },
      "source": [
        "# Import module\n",
        "from sklearn.decomposition import TruncatedSVD\n",
        "\n",
        "# Feature matrix and target array\n",
        "X_diabetes = diabetes.drop('progression', axis=1)\n",
        "y_diabetes = diabetes['progression']\n",
        "\n",
        "# SVD\n",
        "svd = TruncatedSVD(n_components=3)\n",
        "\n",
        "# Fit and transform\n",
        "principalComponents = svd.fit_transform(X_diabetes)\n",
        "\n",
        "# Print ratio of variance explained\n",
        "print(svd.explained_variance_ratio_)"
      ],
      "execution_count": 36,
      "outputs": [
        {
          "output_type": "stream",
          "text": [
            "[0.40242142 0.14923182 0.12059623]\n"
          ],
          "name": "stdout"
        }
      ]
    },
    {
      "cell_type": "markdown",
      "metadata": {
        "id": "xy7jCyMberyh",
        "colab_type": "text"
      },
      "source": [
        "### Visualization techniques\n",
        "- PCA\n",
        "- t-SNE"
      ]
    },
    {
      "cell_type": "code",
      "metadata": {
        "id": "qo--5y0cuUj0",
        "colab_type": "code",
        "colab": {}
      },
      "source": [
        "# PCA\n",
        "pca = PCA(n_components=2)\n",
        "\n",
        "# Fit and transform\n",
        "loan_data_PCA = pca.fit_transform(X)\n",
        "\n",
        "loan_data_PCA = pd.DataFrame(loan_data_PCA)\n",
        "loan_data_PCA['Loan Status'] = y\n",
        "loan_data_PCA.columns = ['principal component 1', 'principal component 2', 'Loan Status']\n"
      ],
      "execution_count": 37,
      "outputs": []
    },
    {
      "cell_type": "code",
      "metadata": {
        "id": "wDwOQjiLr9DD",
        "colab_type": "code",
        "colab": {
          "base_uri": "https://localhost:8080/",
          "height": 265
        },
        "outputId": "ab746c99-10eb-4d00-c6bb-dddff38ee01e"
      },
      "source": [
        "targets = [0, 1]\n",
        "colors = ['r', 'b']\n",
        "\n",
        "__, ax = plt.subplots()\n",
        "# For loop to create plot\n",
        "for target, color in zip(targets, colors):\n",
        "    indicesToKeep = loan_data_PCA['Loan Status'] == target\n",
        "    ax.scatter(loan_data_PCA.loc[indicesToKeep, 'principal component 1']\n",
        "               , loan_data_PCA.loc[indicesToKeep, 'principal component 2']\n",
        "               , c = color\n",
        "               , s = 50)\n",
        "\n",
        "# Legend    \n",
        "ax.legend(targets)\n",
        "ax.grid()\n",
        "plt.show()"
      ],
      "execution_count": 38,
      "outputs": [
        {
          "output_type": "display_data",
          "data": {
            "image/png": "[encoded data removed]",
            "text/plain": [
              "<Figure size 432x288 with 1 Axes>"
            ]
          },
          "metadata": {
            "tags": [],
            "needs_background": "light"
          }
        }
      ]
    },
    {
      "cell_type": "code",
      "metadata": {
        "id": "fMiYxjcawPcK",
        "colab_type": "code",
        "colab": {}
      },
      "source": [
        "# Instantiate\n",
        "pca = PCA(n_components=10)\n",
        "\n",
        "# Fit and transform\n",
        "principalComponents = pca.fit_transform(X)"
      ],
      "execution_count": 39,
      "outputs": []
    },
    {
      "cell_type": "code",
      "metadata": {
        "id": "LzMZVPgCbft2",
        "colab_type": "code",
        "colab": {
          "base_uri": "https://localhost:8080/",
          "height": 279
        },
        "outputId": "10193e20-56a0-43e4-fa69-c435628575bd"
      },
      "source": [
        "# List principal components names\n",
        "principal_components = ['PC1','PC2','PC3','PC4','PC5','PC6','PC7','PC8','PC9','PC10']\n",
        "\n",
        "# Create a DataFrame\n",
        "pca_df = pd.DataFrame({'Variance Explained': pca.explained_variance_ratio_,\n",
        "             'PC':principal_components})\n",
        "\n",
        "# Plot DataFrame\n",
        "sns.barplot(x='PC',y='Variance Explained', \n",
        "           data=pca_df, color=\"c\")\n",
        "plt.show()"
      ],
      "execution_count": 40,
      "outputs": [
        {
          "output_type": "display_data",
          "data": {
            "image/png": "[encoded data removed]",
            "text/plain": [
              "<Figure size 432x288 with 1 Axes>"
            ]
          },
          "metadata": {
            "tags": [],
            "needs_background": "light"
          }
        }
      ]
    },
    {
      "cell_type": "code",
      "metadata": {
        "id": "nfyp0Xfxbzc5",
        "colab_type": "code",
        "colab": {
          "base_uri": "https://localhost:8080/",
          "height": 70
        },
        "outputId": "f76ad2c7-1fce-4068-a0d0-59492bd002fb"
      },
      "source": [
        "# Instantiate, fit and transform\n",
        "pca2 = PCA()\n",
        "principalComponents2 = pca2.fit_transform(X)\n",
        "\n",
        "# Assign variance explained\n",
        "var = pca2.explained_variance_ratio_\n",
        "var"
      ],
      "execution_count": 41,
      "outputs": [
        {
          "output_type": "execute_result",
          "data": {
            "text/plain": [
              "array([0.1687493 , 0.13209267, 0.10160162, 0.08686668, 0.08548827,\n",
              "       0.08347035, 0.07778547, 0.07637256, 0.0674801 , 0.05803276,\n",
              "       0.05644454, 0.00561569])"
            ]
          },
          "metadata": {
            "tags": []
          },
          "execution_count": 41
        }
      ]
    },
    {
      "cell_type": "code",
      "metadata": {
        "id": "-diP2BOpcAGC",
        "colab_type": "code",
        "colab": {
          "base_uri": "https://localhost:8080/",
          "height": 308
        },
        "outputId": "caa93f4c-abcc-4ca4-e901-e8fe6c61f219"
      },
      "source": [
        "# Plot cumulative variance\n",
        "cumulative_var = np.cumsum(var)*100\n",
        "plt.plot(cumulative_var,'k-o',markerfacecolor='None',markeredgecolor='k')\n",
        "plt.title('Principal Component Analysis',fontsize=12)\n",
        "plt.xlabel(\"Principal Component\",fontsize=12)\n",
        "plt.ylabel(\"Cumulative Proportion of Variance Explained\",fontsize=12)\n",
        "plt.show()"
      ],
      "execution_count": 42,
      "outputs": [
        {
          "output_type": "display_data",
          "data": {
            "image/png": "[encoded data removed]",
            "text/plain": [
              "<Figure size 432x288 with 1 Axes>"
            ]
          },
          "metadata": {
            "tags": [],
            "needs_background": "light"
          }
        }
      ]
    },
    {
      "cell_type": "markdown",
      "metadata": {
        "id": "Jws_C_FtcRWq",
        "colab_type": "text"
      },
      "source": [
        "## Clustering algorithms\n",
        "- Features >> Observations\n",
        "- Model training more challenging\n",
        "- Rely on distance calculations\n",
        "- Most commonly used unsupervised technique"
      ]
    },
    {
      "cell_type": "markdown",
      "metadata": {
        "id": "xZEBK1NBcgcw",
        "colab_type": "text"
      },
      "source": [
        "### Practical applications of clustering\n",
        "- Customer segmentation\n",
        "- Document classification\n",
        "- Insurance/transaction fraud detection\n",
        "- Image segmentation\n",
        "- Anomaly detection"
      ]
    },
    {
      "cell_type": "markdown",
      "metadata": {
        "id": "XFyKPFJOdRMx",
        "colab_type": "text"
      },
      "source": [
        "### K-means\n",
        "1. Initial centroids\n",
        "2. Assign each observation to nearest centroid\n",
        "3. Create new centroids\n",
        "4. Repeat steps 2 and 3"
      ]
    },
    {
      "cell_type": "markdown",
      "metadata": {
        "id": "DtMkxWnjdWGJ",
        "colab_type": "text"
      },
      "source": [
        "### Hierarchical agglomerative clustering\n",
        "Agglomerative clustering linkage\n",
        "\n",
        "- Ward linkage\n",
        "- Maximum/complete linkage\n",
        "- Average linkage\n",
        "- Single linkage"
      ]
    },
    {
      "cell_type": "markdown",
      "metadata": {
        "id": "ueFdmOfLdiEk",
        "colab_type": "text"
      },
      "source": [
        "### Selecting a clustering algorithm\n",
        "- Cluster stability assessment\n",
        "- K-means and HC use Euclidian distance\n",
        "- Inter- and intra-cluster distances\n",
        "\n",
        "\"An appropriate dissimilarity measure is far\n",
        "more important in obtaining success with\n",
        "clustering than choice of clustering algorithm.\" -\n",
        "from Elements of Statistical Learning\n",
        "http://www-stat.stanford.edu/~tibs/ElemStatLearn/"
      ]
    },
    {
      "cell_type": "markdown",
      "metadata": {
        "id": "QdhOI2fvrRQk",
        "colab_type": "text"
      },
      "source": [
        "K-means clustering"
      ]
    },
    {
      "cell_type": "code",
      "metadata": {
        "id": "MLhfVfdjrxc7",
        "colab_type": "code",
        "colab": {
          "base_uri": "https://localhost:8080/",
          "height": 35
        },
        "outputId": "da988e8b-2c82-4185-91ac-345e7a0b56fe"
      },
      "source": [
        "# Import module\n",
        "from sklearn.cluster import KMeans\n",
        "\n",
        "# Create feature matrix\n",
        "X = diabetes.drop(\"progression\", axis=1)\n",
        "\n",
        "# Instantiate\n",
        "kmeans = KMeans(n_clusters=20, random_state=123)\n",
        "# Fit\n",
        "fit = kmeans.fit(X)\n",
        "\n",
        "# Print inertia\n",
        "print(\"Sum of squared distances for 20 clusters is\", kmeans.inertia_)"
      ],
      "execution_count": 43,
      "outputs": [
        {
          "output_type": "stream",
          "text": [
            "Sum of squared distances for 20 clusters is 3.505558935079122\n"
          ],
          "name": "stdout"
        }
      ]
    },
    {
      "cell_type": "markdown",
      "metadata": {
        "id": "4CH6bg_tr4wl",
        "colab_type": "text"
      },
      "source": [
        "Hierarchical agglomerative clustering"
      ]
    },
    {
      "cell_type": "code",
      "metadata": {
        "id": "trHD3RWFr6SJ",
        "colab_type": "code",
        "colab": {
          "base_uri": "https://localhost:8080/",
          "height": 283
        },
        "outputId": "bc53b3c1-c7d5-4112-9d44-281044baf032"
      },
      "source": [
        "# Import hierarchical clustering libraries\n",
        "import scipy.cluster.hierarchy as sch\n",
        "from sklearn.cluster import AgglomerativeClustering\n",
        "\n",
        "# Create dendrogram\n",
        "dendrogram = sch.dendrogram(sch.linkage(X, method='ward'))\n",
        "plt.show()\n",
        "\n",
        "# Create clusters and fit\n",
        "hc = AgglomerativeClustering(affinity = 'euclidean', linkage = 'ward')\n",
        "hc.fit(X)\n",
        "\n",
        "# Print number of clusters\n",
        "print(hc.n_clusters_)"
      ],
      "execution_count": 44,
      "outputs": [
        {
          "output_type": "display_data",
          "data": {
            "image/png": "[encoded data removed]",
            "text/plain": [
              "<Figure size 432x288 with 1 Axes>"
            ]
          },
          "metadata": {
            "tags": [],
            "needs_background": "light"
          }
        },
        {
          "output_type": "stream",
          "text": [
            "2\n"
          ],
          "name": "stdout"
        }
      ]
    },
    {
      "cell_type": "markdown",
      "metadata": {
        "id": "hTwm_uxqsnUc",
        "colab_type": "text"
      },
      "source": [
        "### Clustering analysis: choosing the optimal number of clusters"
      ]
    },
    {
      "cell_type": "markdown",
      "metadata": {
        "id": "dJwyuxdqtdUd",
        "colab_type": "text"
      },
      "source": [
        "Methods for optimal k\n",
        "- Silhouette method\n",
        "- Elbow method"
      ]
    },
    {
      "cell_type": "markdown",
      "metadata": {
        "id": "0eR166eXtfEc",
        "colab_type": "text"
      },
      "source": [
        "Silhouette coefficient\n",
        "- Composed of 2 scores\n",
        "- Mean distance between each observation and all others:\n",
        "  - in the same cluster\n",
        "  - in the nearest cluster"
      ]
    },
    {
      "cell_type": "markdown",
      "metadata": {
        "id": "_oqwkkw6trj-",
        "colab_type": "text"
      },
      "source": [
        "Silhouette coefficient values\n",
        "- Between -1 and 1\n",
        "  - 1\n",
        "    - near others in same cluster\n",
        "    - very far from others in other clusters\n",
        "  - -1\n",
        "    - not near others in same cluster\n",
        "    - close to others in other clusters\n",
        "  - 0\n",
        "    - denotes overlapping clusters"
      ]
    },
    {
      "cell_type": "markdown",
      "metadata": {
        "id": "nUGKyvkWt6bg",
        "colab_type": "text"
      },
      "source": [
        "Silhouette score\n",
        "\n",
        "https://scikit-learn.org/stable/auto_examples/cluster/plot_kmeans_silhouette_analysis.html"
      ]
    },
    {
      "cell_type": "markdown",
      "metadata": {
        "id": "i00F7dmjW6nM",
        "colab_type": "text"
      },
      "source": [
        "Silhouette method\n",
        "\n",
        "So the highest silhouette score for the diabetes dataset is with n_clusters=2."
      ]
    },
    {
      "cell_type": "code",
      "metadata": {
        "id": "6rP1zDAMuNhr",
        "colab_type": "code",
        "colab": {
          "base_uri": "https://localhost:8080/",
          "height": 142
        },
        "outputId": "f77099d9-974a-4243-b5d5-c36f3ee3befb"
      },
      "source": [
        "# Import modules\n",
        "from sklearn.cluster import KMeans\n",
        "from sklearn.metrics import silhouette_score\n",
        "\n",
        "# Feature matrix\n",
        "X = diabetes.drop(\"progression\", axis=1)\n",
        "\n",
        "# For loop\n",
        "for n_clusters in range(2, 9):\n",
        "    kmeans = KMeans(n_clusters=n_clusters)\n",
        "    # Fit and predict your k-Means object\n",
        "    preds = kmeans.fit_predict(X)\n",
        "    score = silhouette_score(X, preds, metric='euclidean')\n",
        "    print (\"For n_clusters = {}, silhouette score is {})\".format(n_clusters, score))"
      ],
      "execution_count": 45,
      "outputs": [
        {
          "output_type": "stream",
          "text": [
            "For n_clusters = 2, silhouette score is 0.23698717031681765)\n",
            "For n_clusters = 3, silhouette score is 0.15350479626184943)\n",
            "For n_clusters = 4, silhouette score is 0.14144260466735925)\n",
            "For n_clusters = 5, silhouette score is 0.14880383621681878)\n",
            "For n_clusters = 6, silhouette score is 0.1452894181250443)\n",
            "For n_clusters = 7, silhouette score is 0.14556069693069035)\n",
            "For n_clusters = 8, silhouette score is 0.14338285579947627)\n"
          ],
          "name": "stdout"
        }
      ]
    },
    {
      "cell_type": "markdown",
      "metadata": {
        "id": "6Bw-dwXKXwkH",
        "colab_type": "text"
      },
      "source": [
        "Elbow method"
      ]
    },
    {
      "cell_type": "markdown",
      "metadata": {
        "id": "mVG31RkcX530",
        "colab_type": "text"
      },
      "source": [
        "The AgglomerativeClustering(), dendrogram, silhouette score, and elbow method all agree! The best value for k with the diabetes dataset is 2!"
      ]
    },
    {
      "cell_type": "code",
      "metadata": {
        "id": "vAelZIjvXw97",
        "colab_type": "code",
        "colab": {
          "base_uri": "https://localhost:8080/",
          "height": 295
        },
        "outputId": "72573f18-b59b-4d38-ef8e-33b5ba98b750"
      },
      "source": [
        "# Create empty list\n",
        "sum_of_squared_distances = []\n",
        "\n",
        "# Create for loop\n",
        "for k in range(1,15):\n",
        "    kmeans = KMeans(n_clusters=k)\n",
        "    kmeans = kmeans.fit(X)\n",
        "    sum_of_squared_distances.append(kmeans.inertia_)\n",
        "\n",
        "# Plot\n",
        "plt.plot(range(1,15), sum_of_squared_distances, 'bx-')\n",
        "plt.xlabel('k')\n",
        "plt.ylabel('Sum of squared distances')\n",
        "plt.title('Elbow Method For Optimal k')\n",
        "plt.show()"
      ],
      "execution_count": 46,
      "outputs": [
        {
          "output_type": "display_data",
          "data": {
            "image/png": "[encoded data removed]",
            "text/plain": [
              "<Figure size 432x288 with 1 Axes>"
            ]
          },
          "metadata": {
            "tags": [],
            "needs_background": "light"
          }
        }
      ]
    },
    {
      "cell_type": "markdown",
      "metadata": {
        "id": "rFgyfYm5X_aj",
        "colab_type": "text"
      },
      "source": [
        "## Model Selection and Evaluation"
      ]
    },
    {
      "cell_type": "markdown",
      "metadata": {
        "id": "ndXoaUluYA4u",
        "colab_type": "text"
      },
      "source": [
        "- Bootstrapping/cross-validation --> model generalization\n",
        "- Imbalanced classes\n",
        "- Correlated features\n",
        "- Ensemble model selection"
      ]
    },
    {
      "cell_type": "markdown",
      "metadata": {
        "id": "1u2BAK9tYKXI",
        "colab_type": "text"
      },
      "source": [
        "### Model generalization\n",
        "- A ML model's ability to perform well on unseen data\n",
        "  - test dataset\n",
        "  - future data\n",
        "- Train metrics ≈ test metrics\n",
        "- Overfit models do not generalize"
      ]
    },
    {
      "cell_type": "markdown",
      "metadata": {
        "id": "rtfyRzKX5ccn",
        "colab_type": "text"
      },
      "source": [
        "Decision tree nodes\n",
        "\n",
        "- Advantages:\n",
        "  - Easy to understand\n",
        "  - Easy to visualize\n",
        "- Disadvantages:\n",
        "  - Easily overfit\n",
        "  - Considered greedy\n",
        "  - Biased in cases of class imbalance"
      ]
    },
    {
      "cell_type": "markdown",
      "metadata": {
        "id": "j1-WrlTJ5wx7",
        "colab_type": "text"
      },
      "source": [
        "How do you ensure your model will perform well against test (unseen) data?\n",
        "\n"
      ]
    },
    {
      "cell_type": "code",
      "metadata": {
        "id": "TvwkLv2M5bTu",
        "colab_type": "code",
        "colab": {
          "base_uri": "https://localhost:8080/",
          "height": 35
        },
        "outputId": "58ce76ce-9091-4d4c-b71c-27ecba4cc8c9"
      },
      "source": [
        "# Import modules\n",
        "from sklearn.tree import DecisionTreeClassifier\n",
        "from sklearn.metrics import accuracy_score\n",
        "\n",
        "# Create X matrix and y array\n",
        "X = loans_imp_meanDF.select_dtypes(include=[np.number]).drop('Loan Status', axis=1)\n",
        "y = loan_data[\"Loan Status\"]\n",
        "# Train/test split\n",
        "X_train, X_test, y_train, y_test = train_test_split(X, y, test_size=0.30, random_state=123)\n",
        "\n",
        "# Instantiate, Fit, Predict\n",
        "loans_clf = DecisionTreeClassifier() \n",
        "loans_clf.fit(X_train, y_train)\n",
        "y_pred = loans_clf.predict(X_test)\n",
        "\n",
        "# Evaluation metric\n",
        "print(\"Decision Tree Accuracy: {}\".format(accuracy_score(y_test,y_pred)))"
      ],
      "execution_count": 47,
      "outputs": [
        {
          "output_type": "stream",
          "text": [
            "Decision Tree Accuracy: 0.6494207625688899\n"
          ],
          "name": "stdout"
        }
      ]
    },
    {
      "cell_type": "markdown",
      "metadata": {
        "id": "KdP-eF5RaxE9",
        "colab_type": "text"
      },
      "source": [
        "K-fold cross-validation improved the accuracy of a decision tree model by more than 10 percent!"
      ]
    },
    {
      "cell_type": "code",
      "metadata": {
        "id": "wf09wfhj60nm",
        "colab_type": "code",
        "colab": {
          "base_uri": "https://localhost:8080/",
          "height": 53
        },
        "outputId": "8597cca9-0b1b-42dc-995f-6474ced3eaf3"
      },
      "source": [
        "# Import modules\n",
        "from sklearn.model_selection import GridSearchCV\n",
        "\n",
        "# Create the hyperparameter grid\n",
        "param_grid = {\"criterion\": [\"gini\"], \"min_samples_split\": [2, 10, 20], \n",
        "              \"max_depth\": [None, 2, 5, 10]}\n",
        "\n",
        "# Instantiate classifier and GridSearchCV, fit\n",
        "loans_clf = DecisionTreeClassifier()\n",
        "dtree_cv = GridSearchCV(loans_clf, param_grid, cv=5)\n",
        "fit = dtree_cv.fit(X_train, y_train)\n",
        "\n",
        "# Print the optimal parameters and best score\n",
        "print(\"Tuned Decision Tree Parameter: {}\".format(dtree_cv.best_params_))\n",
        "print(\"Tuned Decision Tree Accuracy: {}\".format(dtree_cv.best_score_))"
      ],
      "execution_count": 48,
      "outputs": [
        {
          "output_type": "stream",
          "text": [
            "Tuned Decision Tree Parameter: {'criterion': 'gini', 'max_depth': 5, 'min_samples_split': 2}\n",
            "Tuned Decision Tree Accuracy: 0.7294053173631002\n"
          ],
          "name": "stdout"
        }
      ]
    },
    {
      "cell_type": "code",
      "metadata": {
        "id": "UtU-MEp8bG7H",
        "colab_type": "code",
        "colab": {
          "base_uri": "https://localhost:8080/",
          "height": 35
        },
        "outputId": "e8872a29-1697-4f5a-abaa-819ed0c06025"
      },
      "source": [
        "# Import modules\n",
        "from sklearn.ensemble import RandomForestClassifier\n",
        "from sklearn.metrics import accuracy_score\n",
        "\n",
        "# Train/test split\n",
        "X_train, X_test, y_train, y_test = train_test_split(X, y, test_size=0.30, random_state=123)\n",
        "\n",
        "# Instantiate, Fit, Predict\n",
        "loans_rf = RandomForestClassifier() \n",
        "loans_rf.fit(X_train, y_train)\n",
        "y_pred = loans_rf.predict(X_test)\n",
        "\n",
        "# Evaluation metric\n",
        "print(\"Random Forest Accuracy: {}\".format(accuracy_score(y_test,y_pred)))"
      ],
      "execution_count": 49,
      "outputs": [
        {
          "output_type": "stream",
          "text": [
            "Random Forest Accuracy: 0.7256401604618903\n"
          ],
          "name": "stdout"
        }
      ]
    },
    {
      "cell_type": "markdown",
      "metadata": {
        "id": "UKkIKmlpbhOj",
        "colab_type": "text"
      },
      "source": [
        "Although k-fold cross-validation did not improve a random forest model as much as it did for the decision tree, it had a 7 percent improvement over the baseline!"
      ]
    },
    {
      "cell_type": "code",
      "metadata": {
        "id": "ZLNz0VxjbIGN",
        "colab_type": "code",
        "colab": {}
      },
      "source": [
        "# Import modules\n",
        "from sklearn.model_selection import GridSearchCV\n",
        "\n",
        "# Create the hyperparameter grid\n",
        "param_grid = {\"criterion\": [\"gini\"], \"min_samples_split\": [2, 10, 20], \n",
        "              \"max_depth\": [None, 2, 5, 10],\"max_features\": [10, 20, 30]}\n",
        "\n",
        "# Instantiate classifier and GridSearchCV, fit\n",
        "loans_rf = RandomForestClassifier()\n",
        "rf_cv = GridSearchCV(loans_rf, param_grid, cv=5)\n",
        "# fit = rf_cv.fit(X_train, y_train)\n",
        "\n",
        "# Print the optimal parameters and best score\n",
        "# print(\"Tuned Random Forest Parameter: {}\".format(rf_cv.best_params_))\n",
        "# print(\"Tuned Random Forest Accuracy: {}\".format(rf_cv.best_score_))"
      ],
      "execution_count": 52,
      "outputs": []
    },
    {
      "cell_type": "markdown",
      "metadata": {
        "id": "F4bJh0RAb9Lk",
        "colab_type": "text"
      },
      "source": [
        "Class imbalance\n",
        "- Categorical target variable\n",
        "  - Approx equal number observations/class\n",
        "  - Large difference --> misleading results"
      ]
    },
    {
      "cell_type": "markdown",
      "metadata": {
        "id": "-T19dZSYcQ-Q",
        "colab_type": "text"
      },
      "source": [
        "Confusion matrix"
      ]
    },
    {
      "cell_type": "markdown",
      "metadata": {
        "id": "CW1wPL9vcX9j",
        "colab_type": "text"
      },
      "source": [
        "Resampling techniques\n",
        "- Oversample minority class\n",
        "- Undersample majority class\n",
        "- NOTE: Split into test and train sets BEFORE re-\n",
        "sampling!"
      ]
    },
    {
      "cell_type": "markdown",
      "metadata": {
        "id": "CiANPMS1dbAi",
        "colab_type": "text"
      },
      "source": [
        "X-ray weapon detection\n",
        "\n",
        "You are given a data set on detecting weapons at major US airports and have built a classification model with an accuracy of 99%. Why should you question the performance of the model? How should you proceed to ensure the model is indeed performing well?"
      ]
    },
    {
      "cell_type": "markdown",
      "metadata": {
        "id": "5YDNlJYndbrv",
        "colab_type": "text"
      },
      "source": [
        "When a dataset has imbalanced classes, a low precision score indicates a high number of false positives, so consider trying different classification algorithms and/or resampling techniques to improve precision."
      ]
    },
    {
      "cell_type": "markdown",
      "metadata": {
        "id": "W64uFHrsdd30",
        "colab_type": "text"
      },
      "source": [
        "A low precision score indicates that there are too many false positives, bringing the calculation down. Seeking to reduce the number of false positives to increase the precision can be accomplished with trying different classification algorithms and/or resampling techniques."
      ]
    },
    {
      "cell_type": "code",
      "metadata": {
        "id": "DomEDdCEeC3S",
        "colab_type": "code",
        "colab": {
          "base_uri": "https://localhost:8080/",
          "height": 142
        },
        "outputId": "e90beb9f-234a-41df-e60e-35c37ca5ba57"
      },
      "source": [
        "# Import\n",
        "from sklearn.linear_model import LogisticRegression\n",
        "from sklearn.metrics import confusion_matrix, precision_score, recall_score, f1_score, accuracy_score\n",
        "\n",
        "# Instantiate, fit, predict\n",
        "lr = LogisticRegression(solver='liblinear')\n",
        "lr.fit(X_train, y_train)\n",
        "y_pred = lr.predict(X_test)\n",
        "\n",
        "# Print evaluation metrics\n",
        "print(\"Confusion matrix:\\n {}\".format(confusion_matrix(y_test, y_pred)))\n",
        "print(\"Accuracy: {}\".format(accuracy_score(y_test, y_pred)))\n",
        "print(\"Precision: {}\".format(precision_score(y_test, y_pred)))\n",
        "print(\"Recall: {}\".format(recall_score(y_test, y_pred)))\n",
        "print(\"F1: {}\".format(f1_score(y_test, y_pred)))"
      ],
      "execution_count": 53,
      "outputs": [
        {
          "output_type": "stream",
          "text": [
            "Confusion matrix:\n",
            " [[18269   881]\n",
            " [ 6309  1214]]\n",
            "Accuracy: 0.730439020732576\n",
            "Precision: 0.5794749403341288\n",
            "Recall: 0.1613717931676193\n",
            "F1: 0.2524433354127677\n"
          ],
          "name": "stdout"
        }
      ]
    },
    {
      "cell_type": "code",
      "metadata": {
        "id": "9EJbQg00vZVl",
        "colab_type": "code",
        "colab": {}
      },
      "source": [
        "approve = loans_imp_meanDF[loans_imp_meanDF['Loan Status']>1]\n",
        "deny = loans_imp_meanDF[loans_imp_meanDF['Loan Status']<1]"
      ],
      "execution_count": 54,
      "outputs": []
    },
    {
      "cell_type": "code",
      "metadata": {
        "id": "5jcX_mcNeDXh",
        "colab_type": "code",
        "colab": {}
      },
      "source": [
        "from sklearn.utils import resample\n",
        "\n",
        "# Upsample minority and combine with majority\n",
        "loans_upsampled = resample(deny, replace=True, n_samples=len(approve), random_state=123)\n",
        "upsampled = pd.concat([approve, loans_upsampled])\n",
        "\n",
        "# Downsample majority and combine with minority\n",
        "loans_downsampled = resample(approve, replace = True,  n_samples = len(deny), random_state = 123)\n",
        "downsampled = pd.concat([loans_downsampled, deny])"
      ],
      "execution_count": 55,
      "outputs": []
    },
    {
      "cell_type": "code",
      "metadata": {
        "id": "Uf1Cqpk7uZID",
        "colab_type": "code",
        "colab": {
          "base_uri": "https://localhost:8080/",
          "height": 142
        },
        "outputId": "20f9500d-ac45-4b3a-81dc-3249eb464bb8"
      },
      "source": [
        "# Upsampled feature matrix and target array\n",
        "X_train_up = upsampled.drop('Loan Status', axis=1).select_dtypes(include=[np.number])\n",
        "y_train_up = upsampled['Loan Status']\n",
        "y_train_up.loc[y_train_up > 1] = 1\n",
        "y_train_up.loc[y_train_up < 1] = 0\n",
        "\n",
        "# Instantiate, fit, predict\n",
        "loan_lr_up = LogisticRegression(solver='liblinear')\n",
        "loan_lr_up.fit(X_train_up, y_train_up)\n",
        "upsampled_y_pred = loan_lr_up.predict(X_test)\n",
        "\n",
        "# Print evaluation metrics\n",
        "print(\"Confusion matrix:\\n {}\".format(confusion_matrix(y_test, upsampled_y_pred)))\n",
        "print(\"Accuracy: {}\".format(accuracy_score(y_test, upsampled_y_pred)))\n",
        "print(\"Precision: {}\".format(precision_score(y_test, upsampled_y_pred)))\n",
        "print(\"Recall: {}\".format(recall_score(y_test, upsampled_y_pred)))\n",
        "print(\"F1: {}\".format(f1_score(y_test, upsampled_y_pred)))"
      ],
      "execution_count": 56,
      "outputs": [
        {
          "output_type": "stream",
          "text": [
            "Confusion matrix:\n",
            " [[9876 9274]\n",
            " [1693 5830]]\n",
            "Accuracy: 0.5888351516514828\n",
            "Precision: 0.3859904661016949\n",
            "Recall: 0.7749567991492755\n",
            "F1: 0.5153135634419057\n"
          ],
          "name": "stdout"
        }
      ]
    },
    {
      "cell_type": "code",
      "metadata": {
        "id": "oAqFltCSulK8",
        "colab_type": "code",
        "colab": {
          "base_uri": "https://localhost:8080/",
          "height": 142
        },
        "outputId": "aafdaf60-f048-45fa-eb5b-d5907b37cf0c"
      },
      "source": [
        "# Downsampled feature matrix and target array\n",
        "X_train_down = downsampled.drop('Loan Status', axis=1)\n",
        "y_train_down = downsampled['Loan Status']\n",
        "y_train_down.loc[y_train_down > 1] = 1\n",
        "y_train_down.loc[y_train_down < 1] = 0\n",
        "\n",
        "# Instantiate, fit, predict\n",
        "loan_lr_down = LogisticRegression(solver='liblinear')\n",
        "loan_lr_down.fit(X_train_down, y_train_down)\n",
        "downsampled_y_pred = loan_lr_down.predict(X_test)\n",
        "\n",
        "# Print evaluation metrics\n",
        "print(\"Confusion matrix:\\n {}\".format(confusion_matrix(y_test, downsampled_y_pred)))\n",
        "print(\"Accuracy: {}\".format(accuracy_score(y_test, downsampled_y_pred)))\n",
        "print(\"Precision: {}\".format(precision_score(y_test, downsampled_y_pred)))\n",
        "print(\"Recall: {}\".format(recall_score(y_test, downsampled_y_pred)))\n",
        "print(\"F1: {}\".format(f1_score(y_test, downsampled_y_pred)))"
      ],
      "execution_count": 57,
      "outputs": [
        {
          "output_type": "stream",
          "text": [
            "Confusion matrix:\n",
            " [[9909 9241]\n",
            " [1694 5829]]\n",
            "Accuracy: 0.5900348667191542\n",
            "Precision: 0.38679495686794957\n",
            "Recall: 0.7748238734547388\n",
            "F1: 0.5160005311379631\n"
          ],
          "name": "stdout"
        }
      ]
    },
    {
      "cell_type": "markdown",
      "metadata": {
        "id": "ciNyBpjs1rb3",
        "colab_type": "text"
      },
      "source": [
        "Multicollinearity\n",
        "- High correlation of independent variables\n",
        "- Estimated regression coefficients\n",
        "  - Change in DV explained by IV\n",
        "  - While holding other vars constant"
      ]
    },
    {
      "cell_type": "markdown",
      "metadata": {
        "id": "97rms14b1_Pz",
        "colab_type": "text"
      },
      "source": [
        "Effects of multicollinearity\n",
        "- Reducing coefficients\n",
        "- Reducing p-values\n",
        "- Unstable variance\n",
        "- Overfitting\n",
        "- Decreased statistical significance due to increased standard error\n",
        "- True relationship with target variable unclear"
      ]
    },
    {
      "cell_type": "markdown",
      "metadata": {
        "id": "ioz9zIq72IUf",
        "colab_type": "text"
      },
      "source": [
        "Techniques to address multicollinearity\n",
        "- Correlation matrix\n",
        "- Heatmap of correlations\n",
        "- Calculate the variance infiation factor (VIF)\n",
        "- Introduce penalizations (Ridge, Lasso)\n",
        "- PCA"
      ]
    },
    {
      "cell_type": "markdown",
      "metadata": {
        "id": "jD3Xz3hm3CyW",
        "colab_type": "text"
      },
      "source": [
        "Variance infiation factor\n",
        "\n",
        "VIF value Multicollinearity\n",
        "- <= 1 no\n",
        "- \\> 1 yes, but can ignore\n",
        "- \\> 5 yes, need to address\n"
      ]
    },
    {
      "cell_type": "markdown",
      "metadata": {
        "id": "ahHkQMQjpB6Z",
        "colab_type": "text"
      },
      "source": [
        "Addressing multicollinearity\n",
        "\n",
        "After careful exploratory data analysis, you realize that your baseline regression model suffers from multicollinearity. \n",
        "\n",
        "How would you check if that is true or not? \n",
        "\n",
        "Without losing any information, can you build a better baseline model?"
      ]
    },
    {
      "cell_type": "markdown",
      "metadata": {
        "id": "cuO5h9DopFvD",
        "colab_type": "text"
      },
      "source": [
        "- Create a correlation matrix and/or heatmap, then engineer features to combine multicollinear independent variables, making sure to remove the individual features used to create any new features.\n",
        "\n",
        "- Create a correlation matrix and/or heatmap, then perform Ridge regression to penalize multicollinear independent variables and perform feature selection for modeling.\n",
        "\n",
        "- Create a correlation matrix and/or heatmap, then perform PCA to combine multicollinear independent variables as new principal components."
      ]
    },
    {
      "cell_type": "code",
      "metadata": {
        "id": "yJ8maGRXuZrY",
        "colab_type": "code",
        "colab": {
          "base_uri": "https://localhost:8080/",
          "height": 106
        },
        "outputId": "831b2867-8832-4804-fe76-27985ba99dbc"
      },
      "source": [
        "from sklearn.linear_model import LinearRegression\n",
        "from sklearn.metrics import r2_score\n",
        "X2 = diabetes.drop('progression', axis=1)\n",
        "y2 = diabetes['progression']\n",
        "X_train, X_test, y_train, y_test = train_test_split(X2, y2, test_size=0.3, random_state=123)\n",
        "# Instantiate, fit, predict\n",
        "lin_mod = LinearRegression()\n",
        "lin_mod.fit(X_train, y_train)\n",
        "y_pred = lin_mod.predict(X_test)\n",
        "\n",
        "# Coefficient estimates\n",
        "print('Coefficients: \\n', lin_mod.coef_)\n",
        "\n",
        "# Mean squared error\n",
        "print(\"Mean squared error: %.2f\"\n",
        "      % mean_squared_error(y_test, y_pred))\n",
        "\n",
        "# Explained variance score\n",
        "print('R_squared score: %.2f' % r2_score(y_test, y_pred))"
      ],
      "execution_count": 70,
      "outputs": [
        {
          "output_type": "stream",
          "text": [
            "Coefficients: \n",
            " [  -2.33325625 -250.45569362  541.16674251  260.86592129 -338.13983816\n",
            "  -47.01999461  430.98561453   94.21041896 -283.69973876]\n",
            "Mean squared error: 2910.42\n",
            "R_squared score: 0.51\n"
          ],
          "name": "stdout"
        }
      ]
    },
    {
      "cell_type": "code",
      "metadata": {
        "id": "meKQaAkXqA-K",
        "colab_type": "code",
        "colab": {
          "base_uri": "https://localhost:8080/",
          "height": 540
        },
        "outputId": "f0445383-4c44-4521-efa7-f83746602f6b"
      },
      "source": [
        "# Correlation matrix\n",
        "diab_corr = diabetes.corr()\n",
        "\n",
        "# Generate correlation heatmap\n",
        "ax = sns.heatmap(diab_corr, center=0, cmap=sns.diverging_palette(20,220, n=256), square=True)\n",
        "ax.set_xticklabels(ax.get_xticklabels(), rotation=45, horizontalalignment='right')\n",
        "plt.show()\n",
        "\n",
        "# Print correlations\n",
        "print(diab_corr)"
      ],
      "execution_count": 71,
      "outputs": [
        {
          "output_type": "display_data",
          "data": {
            "image/png": "[encoded data removed]",
            "text/plain": [
              "<Figure size 432x288 with 2 Axes>"
            ]
          },
          "metadata": {
            "tags": [],
            "needs_background": "light"
          }
        },
        {
          "output_type": "stream",
          "text": [
            "                  age       sex       bmi  ...        s6  progression     s1_s2\n",
            "age          1.000000  0.173737  0.185085  ...  0.301731     0.187889 -0.074796\n",
            "sex          0.173737  1.000000  0.088161  ...  0.208133     0.043062  0.049668\n",
            "bmi          0.185085  0.088161  1.000000  ...  0.388680     0.586450  0.008061\n",
            "bp           0.335427  0.241013  0.395415  ...  0.390429     0.441484 -0.034569\n",
            "s3          -0.075181 -0.379090 -0.366811  ... -0.273697    -0.394789 -0.047697\n",
            "s4           0.203841  0.332115  0.413807  ...  0.417212     0.430453  0.162748\n",
            "s5           0.270777  0.149918  0.446159  ...  0.464670     0.565883  0.063958\n",
            "s6           0.301731  0.208133  0.388680  ...  1.000000     0.382483  0.004643\n",
            "progression  0.187889  0.043062  0.586450  ...  0.382483     1.000000  0.006713\n",
            "s1_s2       -0.074796  0.049668  0.008061  ...  0.004643     0.006713  1.000000\n",
            "\n",
            "[10 rows x 10 columns]\n"
          ],
          "name": "stdout"
        }
      ]
    },
    {
      "cell_type": "code",
      "metadata": {
        "id": "qFfnpEcfqTk3",
        "colab_type": "code",
        "colab": {
          "base_uri": "https://localhost:8080/",
          "height": 70
        },
        "outputId": "d093be11-73dc-489b-9e2d-3941394fc457"
      },
      "source": [
        "# Feature engineering\n",
        "diabetes['s1_s2'] = diabetes['s1'] * diabetes['s2']\n",
        "diabetes = diabetes.drop(['s1','s2'], axis=1)\n",
        "\n",
        "# Print variable names\n",
        "print(diabetes.columns)\n",
        "\n",
        "# Train/test split\n",
        "X2 = diabetes.drop('progression', axis=1)\n",
        "y2 = diabetes['progression']\n",
        "X_train2, X_test2, y_train2, y_test2 = train_test_split(X2, y2, test_size=0.3, random_state=123)"
      ],
      "execution_count": 74,
      "outputs": [
        {
          "output_type": "stream",
          "text": [
            "Index(['age', 'sex', 'bmi', 'bp', 's3', 's4', 's5', 's6', 'progression',\n",
            "       's1_s2'],\n",
            "      dtype='object')\n"
          ],
          "name": "stdout"
        }
      ]
    },
    {
      "cell_type": "code",
      "metadata": {
        "id": "khS4e3udrIAE",
        "colab_type": "code",
        "colab": {
          "base_uri": "https://localhost:8080/",
          "height": 106
        },
        "outputId": "0f09fe81-b9bf-4f3f-a712-d361341db6a1"
      },
      "source": [
        "# Instantiate, fit, predict\n",
        "lin_mod2 = LinearRegression()\n",
        "lin_mod2.fit(X_train2, y_train2)\n",
        "y_pred2 = lin_mod2.predict(X_test2)\n",
        "\n",
        "# Coefficient estimates\n",
        "print('Coefficients: \\n', lin_mod2.coef_)\n",
        "\n",
        "# Mean squared error\n",
        "print(\"Mean squared error: %.2f\"\n",
        "      % mean_squared_error(y_test2, y_pred2))\n",
        "\n",
        "# Explained variance score\n",
        "print('R_squared score: %.2f' % r2_score(y_test2, y_pred2))"
      ],
      "execution_count": 75,
      "outputs": [
        {
          "output_type": "stream",
          "text": [
            "Coefficients: \n",
            " [  -2.33325625 -250.45569362  541.16674251  260.86592129 -338.13983816\n",
            "  -47.01999461  430.98561453   94.21041896 -283.69973876]\n",
            "Mean squared error: 2910.42\n",
            "R_squared score: 0.51\n"
          ],
          "name": "stdout"
        }
      ]
    },
    {
      "cell_type": "markdown",
      "metadata": {
        "id": "b_LtzVNKrO_-",
        "colab_type": "text"
      },
      "source": [
        "Now you know how to get metrics from your baseline model, how to explore relationships visually, and how to use feature engineering to reduce multicollinearity. You got the same R-squared score, but the MSE was slightly lower! Trying different combinations of feature engineering would likely continue to improve the model."
      ]
    },
    {
      "cell_type": "code",
      "metadata": {
        "id": "v0-8tHkqrzgv",
        "colab_type": "code",
        "colab": {}
      },
      "source": [
        "# Import\n",
        "from sklearn.decomposition import PCA\n",
        "\n",
        "# Instantiate\n",
        "pca = PCA()\n",
        "\n",
        "# Fit on train\n",
        "pca.fit(X_train)\n",
        "\n",
        "# Transform train and test\n",
        "X_trainPCA = pca.transform(X_train)\n",
        "X_testPCA = pca.transform(X_test)"
      ],
      "execution_count": 76,
      "outputs": []
    },
    {
      "cell_type": "code",
      "metadata": {
        "id": "36yb4x2DsHrr",
        "colab_type": "code",
        "colab": {
          "base_uri": "https://localhost:8080/",
          "height": 106
        },
        "outputId": "a8b2ced1-7612-470c-d4ff-01aaf3836123"
      },
      "source": [
        "# Import\n",
        "from sklearn.linear_model import LinearRegression\n",
        "\n",
        "# Instantiate, fit, predict\n",
        "LinRegr = LinearRegression()\n",
        "LinRegr.fit(X_trainPCA, y_train)\n",
        "predictions = LinRegr.predict(X_testPCA)\n",
        "\n",
        "# The coefficients\n",
        "print('Coefficients: \\n', LinRegr.coef_)\n",
        "\n",
        "# The mean squared error\n",
        "print(\"Mean squared error: %.2f\" % mean_squared_error(y_test, predictions))\n",
        "\n",
        "# Explained variance score: 1 is perfect prediction\n",
        "print('Variance score: %.2f' % r2_score(y_test, predictions))"
      ],
      "execution_count": 77,
      "outputs": [
        {
          "output_type": "stream",
          "text": [
            "Coefficients: \n",
            " [ 528.3873541   179.45067701  472.26907701  203.04712586 -215.31629353\n",
            "  -37.71215219   14.15631646 -342.33993311 -272.87880786]\n",
            "Mean squared error: 2910.42\n",
            "Variance score: 0.51\n"
          ],
          "name": "stdout"
        }
      ]
    },
    {
      "cell_type": "code",
      "metadata": {
        "id": "VUn_roStsVEQ",
        "colab_type": "code",
        "colab": {
          "base_uri": "https://localhost:8080/",
          "height": 485
        },
        "outputId": "6c22af7e-de31-47b5-bc04-b5a36b81d436"
      },
      "source": [
        "# Correlation matrix\n",
        "X_trainPCA = pd.DataFrame(X_trainPCA)\n",
        "diab_corrPCA = X_trainPCA.corr()\n",
        "\n",
        "# Generate correlation heatmap\n",
        "ax = sns.heatmap(diab_corrPCA, center=0, cmap=sns.diverging_palette(20,220, n=256), square=True)\n",
        "ax.set_xticklabels(ax.get_xticklabels(), rotation=45, horizontalalignment='right')\n",
        "plt.show()\n",
        "\n",
        "# Print correlations\n",
        "print(diab_corrPCA)"
      ],
      "execution_count": 78,
      "outputs": [
        {
          "output_type": "display_data",
          "data": {
            "image/png": "[encoded data removed]",
            "text/plain": [
              "<Figure size 432x288 with 2 Axes>"
            ]
          },
          "metadata": {
            "tags": [],
            "needs_background": "light"
          }
        },
        {
          "output_type": "stream",
          "text": [
            "              0             1  ...             7             8\n",
            "0  1.000000e+00  1.197936e-16  ...  2.329323e-16  1.133532e-16\n",
            "1  1.197936e-16  1.000000e+00  ...  5.707398e-17  2.829318e-16\n",
            "2  2.008658e-16 -2.992546e-16  ... -8.162336e-16  1.716372e-15\n",
            "3  4.874661e-16 -7.811456e-17  ... -1.710050e-17 -5.128531e-16\n",
            "4  4.928519e-17 -1.059170e-16  ...  2.579707e-16 -4.290115e-16\n",
            "5 -3.278626e-17 -4.393972e-16  ...  4.355995e-17  1.125441e-16\n",
            "6  1.620955e-16 -1.139296e-16  ... -2.328796e-16  4.430819e-16\n",
            "7  2.329323e-16  5.707398e-17  ...  1.000000e+00  8.478449e-16\n",
            "8  1.133532e-16  2.829318e-16  ...  8.478449e-16  1.000000e+00\n",
            "\n",
            "[9 rows x 9 columns]\n"
          ],
          "name": "stdout"
        }
      ]
    },
    {
      "cell_type": "markdown",
      "metadata": {
        "id": "tSBo88Ndv-CD",
        "colab_type": "text"
      },
      "source": [
        "This simple change, although it didn't improve your metrics, removed all of the multicollinearity in the diabetes dataset!"
      ]
    },
    {
      "cell_type": "markdown",
      "metadata": {
        "id": "24S7jjFtw8GE",
        "colab_type": "text"
      },
      "source": [
        "RF vs GB\n",
        "\n",
        "\n",
        "|parameter |Random Forest |Gradient Boosting|\n",
        "|---|---|---|\n",
        "|n_estimators| 10 |100|\n",
        "|criterion |gini (or entropy )| friedman_mse|\n",
        "|max_depth| None |3|\n",
        "|learning_rate| N/A |0.1|\n"
      ]
    },
    {
      "cell_type": "markdown",
      "metadata": {
        "id": "IH_r7Yesxns5",
        "colab_type": "text"
      },
      "source": [
        "Random forest vs gradient boosting\n",
        "\n",
        "What are the main similarities and differences of Random Forest (RF) and Gradient Boosting (GB)algorithms?"
      ]
    },
    {
      "cell_type": "markdown",
      "metadata": {
        "id": "k294bTm4xsn7",
        "colab_type": "text"
      },
      "source": [
        "- Random Forest and Gradient Boosting machine learning techniques create multiple random samples that are used to produce a final prediction model.\n",
        "\n",
        "- Random Forest uses the bootstrapping method while Gradient Boosting uses weights given to incorrectly predicted observations from a previous sample applied to subsequent samples.\n",
        "\n",
        "\n",
        "- The final prediction of Random Forest uses a decision tree and is an average of all generated bootstrap samples, while the final prediction of Gradient Boosting is a weighted average of the generated weak learners and can use any algorithm.\n",
        "\n",
        "- While GB can use any algorithm, RF uses decision trees!"
      ]
    },
    {
      "cell_type": "code",
      "metadata": {
        "id": "MawhtjXkzFjG",
        "colab_type": "code",
        "colab": {}
      },
      "source": [
        "# Subset numeric features: numeric_cols\n",
        "numeric_cols = loan_data.select_dtypes(include=[np.number])\n",
        "\n",
        "# Impute with mean\n",
        "imp_mean = SimpleImputer(strategy='mean')\n",
        "loans_imp_mean = imp_mean.fit_transform(numeric_cols)\n",
        "\n",
        "# Convert returned array to DataFrame\n",
        "scaler = StandardScaler()\n",
        "loans_imp_meanDF = pd.DataFrame(loans_imp_mean, columns=numeric_cols.columns)\n",
        "loans_imp_meanDF = pd.DataFrame(scaler.fit_transform(loans_imp_meanDF), columns=numeric_cols.columns)\n",
        "\n",
        "# Create X matrix and y array\n",
        "X = loans_imp_meanDF.select_dtypes(include=[np.number]).drop('Loan Status', axis=1)\n",
        "y = loan_data[\"Loan Status\"]\n",
        "\n",
        "# Train/test split\n",
        "X_train, X_test, y_train, y_test = train_test_split(X, y, test_size=0.3, random_state=123)"
      ],
      "execution_count": 81,
      "outputs": []
    },
    {
      "cell_type": "code",
      "metadata": {
        "id": "DZF-LeaKydF3",
        "colab_type": "code",
        "colab": {
          "base_uri": "https://localhost:8080/",
          "height": 142
        },
        "outputId": "4b801e40-6a55-488d-c68b-fb28a97a3027"
      },
      "source": [
        "# Import\n",
        "from sklearn.ensemble import RandomForestClassifier\n",
        "from sklearn.metrics import confusion_matrix, accuracy_score, precision_score, recall_score, f1_score\n",
        "\n",
        "# Instantiate, fit, predict\n",
        "rf_model = RandomForestClassifier(n_estimators=50, random_state=123, oob_score = True)\n",
        "rf_model = rf_model.fit(X_train, y_train)\n",
        "rf_pred = rf_model.predict(X_test)\n",
        "\n",
        "# Print evaluation metrics\n",
        "print(\"Random Forest Accuracy: {}\".format(accuracy_score(y_test, rf_pred)))\n",
        "print(\"Confusion matrix:\\n {}\".format(confusion_matrix(y_test, rf_pred)))\n",
        "print(\"Precision: {}\".format(precision_score(y_test, rf_pred)))\n",
        "print(\"Recall: {}\".format(recall_score(y_test, rf_pred)))\n",
        "print(\"F1: {}\".format(f1_score(y_test, rf_pred)))"
      ],
      "execution_count": 82,
      "outputs": [
        {
          "output_type": "stream",
          "text": [
            "Random Forest Accuracy: 0.7244779364900836\n",
            "Confusion matrix:\n",
            " [[17514  1636]\n",
            " [ 5713  1810]]\n",
            "Precision: 0.5252466627974464\n",
            "Recall: 0.24059550711152466\n",
            "F1: 0.33002096818306137\n"
          ],
          "name": "stdout"
        }
      ]
    },
    {
      "cell_type": "code",
      "metadata": {
        "id": "9WXQbe3nzrAG",
        "colab_type": "code",
        "colab": {
          "base_uri": "https://localhost:8080/",
          "height": 197
        },
        "outputId": "1e06d235-edba-4182-e7b3-acc500674e13"
      },
      "source": [
        "# Import\n",
        "from sklearn.ensemble import GradientBoostingClassifier\n",
        "from sklearn.metrics import confusion_matrix, accuracy_score, precision_score, recall_score, f1_score\n",
        "\n",
        "# Instantiate, fit, predict\n",
        "gb_model = GradientBoostingClassifier(n_estimators=50, learning_rate=0.01,random_state=123)\n",
        "gb_model.fit(X_train, y_train)\n",
        "gb_pred = gb_model.predict(X_test)\n",
        "\n",
        "# Print evaluation metrics\n",
        "print(\"Gradient Boosting Accuracy: {}\".format(accuracy_score(y_test, gb_pred)))\n",
        "print(\"Confusion matrix:\\n {}\".format(confusion_matrix(y_test, gb_pred)))\n",
        "print(\"Precision: {}\".format(precision_score(y_test, gb_pred)))\n",
        "print(\"Recall: {}\".format(recall_score(y_test, gb_pred)))\n",
        "print(\"F1: {}\".format(f1_score(y_test, gb_pred)))"
      ],
      "execution_count": 83,
      "outputs": [
        {
          "output_type": "stream",
          "text": [
            "Gradient Boosting Accuracy: 0.7179544858096202\n",
            "Confusion matrix:\n",
            " [[19150     0]\n",
            " [ 7523     0]]\n",
            "Precision: 0.0\n",
            "Recall: 0.0\n",
            "F1: 0.0\n"
          ],
          "name": "stdout"
        },
        {
          "output_type": "stream",
          "text": [
            "/usr/local/lib/python3.6/dist-packages/sklearn/metrics/_classification.py:1272: UndefinedMetricWarning: Precision is ill-defined and being set to 0.0 due to no predicted samples. Use `zero_division` parameter to control this behavior.\n",
            "  _warn_prf(average, modifier, msg_start, len(result))\n"
          ],
          "name": "stderr"
        }
      ]
    },
    {
      "cell_type": "markdown",
      "metadata": {
        "id": "jkXlJOpHqAUF",
        "colab_type": "text"
      },
      "source": [
        ""
      ]
    }
  ]
}