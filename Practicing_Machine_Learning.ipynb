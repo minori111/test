{
  "nbformat": 4,
  "nbformat_minor": 0,
  "metadata": {
    "colab": {
      "name": "Practicing Machine Learning",
      "provenance": [],
      "collapsed_sections": [],
      "toc_visible": true,
      "authorship_tag": "ABX9TyNIcaK84c8NhpPJsNVCUSEP",
      "include_colab_link": true
    },
    "kernelspec": {
      "name": "python3",
      "display_name": "Python 3"
    }
  },
  "cells": [
    {
      "cell_type": "markdown",
      "metadata": {
        "id": "view-in-github",
        "colab_type": "text"
      },
      "source": [
        "<a href=\"https://colab.research.google.com/github/randy-tsukemen/Data_science_roadmap/blob/master/Practicing_Machine_Learning.ipynb\" target=\"_parent\"><img src=\"https://colab.research.google.com/assets/colab-badge.svg\" alt=\"Open In Colab\"/></a>"
      ]
    },
    {
      "cell_type": "markdown",
      "metadata": {
        "id": "GLSKYLIWNkPl",
        "colab_type": "text"
      },
      "source": [
        "# Supervised Learning\n"
      ]
    },
    {
      "cell_type": "markdown",
      "metadata": {
        "id": "1d3HPMO3N1ER",
        "colab_type": "text"
      },
      "source": [
        "## Regression: feature selection\n",
        "### Selecting the correct features:\n",
        "- Reduces overfitting\n",
        "- Improves accuracy\n",
        "- Increases interpretability\n",
        "- Reduces training time"
      ]
    },
    {
      "cell_type": "markdown",
      "metadata": {
        "id": "bKWriJysOEGb",
        "colab_type": "text"
      },
      "source": [
        "### Feature selection methods\n",
        "- Filter: Rank features based on statistical performance\n",
        "- Wrapper: Use an ML method to evaluate performance\n",
        "- Embedded: Iterative model training to extract features\n",
        "- Feature importance: tree-based ML models\n"
      ]
    },
    {
      "cell_type": "markdown",
      "metadata": {
        "id": "GBXSEIdqOTDM",
        "colab_type": "text"
      },
      "source": [
        "### Compare and contrast methods\n",
        "|Method |Use an ML model |Select best subset |Can overfit|\n",
        "| -------- | -------- | -------- | -------- |\n",
        "|Filter |No |No |No|\n",
        "|Wrapper |Yes |Yes |Sometimes|\n",
        "|Embedded |Yes |Yes |Yes|\n",
        "|Feature importance |Yes |Yes |Yes|"
      ]
    },
    {
      "cell_type": "markdown",
      "metadata": {
        "id": "ol6AGH0kO3xe",
        "colab_type": "text"
      },
      "source": [
        "### Correlation coeficient statistical tests\n",
        "|Feature/Response |Continuous |Categorical|\n",
        "| -------- | -------- | -------- |\n",
        "|Continuous |Pearson's Correlation |LDA|\n",
        "|Categorical |ANOVA |Chi-Square|"
      ]
    },
    {
      "cell_type": "markdown",
      "metadata": {
        "id": "iw_8Gux4o8xg",
        "colab_type": "text"
      },
      "source": [
        "### load data"
      ]
    },
    {
      "cell_type": "code",
      "metadata": {
        "id": "Y_fXm8GvpUr-",
        "colab_type": "code",
        "colab": {}
      },
      "source": [
        "import pandas as pd\n",
        "import matplotlib.pyplot as plt\n",
        "import seaborn as sns"
      ],
      "execution_count": 0,
      "outputs": []
    },
    {
      "cell_type": "code",
      "metadata": {
        "id": "m1nUoLXdoCqg",
        "colab_type": "code",
        "colab": {}
      },
      "source": [
        "# load data\n",
        "url = \"https://assets.datacamp.com/production/repositories/4983/datasets/97f3248581b7272784d23df9c30612d9eb0afb8d/diabetes.csv\"\n",
        "diabetes = pd.read_csv(url)\n",
        "X = diabetes.drop(columns=[\"progression\"])\n",
        "y = diabetes[\"progression\"]"
      ],
      "execution_count": 0,
      "outputs": []
    },
    {
      "cell_type": "markdown",
      "metadata": {
        "id": "RMppRg-gPJgn",
        "colab_type": "text"
      },
      "source": [
        "### Filter functions\n",
        "|Function |returns|\n",
        "|---|---|\n",
        "|df.corr() |Pearson's correlation matrix|\n",
        "|sns.heatmap(corr_object) |heatmap plot|\n",
        "|abs() |absolute value|"
      ]
    },
    {
      "cell_type": "code",
      "metadata": {
        "id": "Bks1-iSDwdRk",
        "colab_type": "code",
        "outputId": "a9a4eacc-3154-4683-810f-022b62734f8a",
        "colab": {
          "base_uri": "https://localhost:8080/",
          "height": 637
        }
      },
      "source": [
        "# Create correlation matrix and print it\n",
        "cor = diabetes.corr()\n",
        "print(cor)\n",
        "\n",
        "# Correlation matrix heatmap\n",
        "plt.figure()\n",
        "sns.heatmap(cor, annot=True, cmap=plt.cm.Reds)\n",
        "plt.show()\n",
        "\n",
        "# Correlation with output variable\n",
        "cor_target = abs(cor[\"progression\"])\n",
        "\n",
        "# Selecting highly correlated features\n",
        "best_features = cor_target[cor_target > 0.5]\n",
        "print(best_features)"
      ],
      "execution_count": 58,
      "outputs": [
        {
          "output_type": "stream",
          "text": [
            "                  age       sex       bmi  ...        s5        s6  progression\n",
            "age          1.000000  0.173737  0.185085  ...  0.270777  0.301731     0.187889\n",
            "sex          0.173737  1.000000  0.088161  ...  0.149918  0.208133     0.043062\n",
            "bmi          0.185085  0.088161  1.000000  ...  0.446159  0.388680     0.586450\n",
            "bp           0.335427  0.241013  0.395415  ...  0.393478  0.390429     0.441484\n",
            "s1           0.260061  0.035277  0.249777  ...  0.515501  0.325717     0.212022\n",
            "s2           0.219243  0.142637  0.261170  ...  0.318353  0.290600     0.174054\n",
            "s3          -0.075181 -0.379090 -0.366811  ... -0.398577 -0.273697    -0.394789\n",
            "s4           0.203841  0.332115  0.413807  ...  0.617857  0.417212     0.430453\n",
            "s5           0.270777  0.149918  0.446159  ...  1.000000  0.464670     0.565883\n",
            "s6           0.301731  0.208133  0.388680  ...  0.464670  1.000000     0.382483\n",
            "progression  0.187889  0.043062  0.586450  ...  0.565883  0.382483     1.000000\n",
            "\n",
            "[11 rows x 11 columns]\n"
          ],
          "name": "stdout"
        },
        {
          "output_type": "display_data",
          "data": {
            "image/png": "[encoded data removed]",
            "text/plain": [
              "<Figure size 432x288 with 2 Axes>"
            ]
          },
          "metadata": {
            "tags": [],
            "needs_background": "light"
          }
        },
        {
          "output_type": "stream",
          "text": [
            "bmi            0.586450\n",
            "s5             0.565883\n",
            "progression    1.000000\n",
            "Name: progression, dtype: float64\n"
          ],
          "name": "stdout"
        }
      ]
    },
    {
      "cell_type": "markdown",
      "metadata": {
        "id": "u84Tw2nOPXUh",
        "colab_type": "text"
      },
      "source": [
        "### Wrapper methods\n",
        "1. Forward selection (LARS-least angle regression)\n",
        "    - Starts with no features, adds one at a time\n",
        "2. Backward elimination\n",
        "    - Starts with all features, eliminates one at a time\n",
        "3. Forward selection/backward elimination combination (bidirectional elimination)\n",
        "4. Recursive feature elimination\n",
        "    - RFECV"
      ]
    },
    {
      "cell_type": "code",
      "metadata": {
        "id": "vuWfyzwCxj0Q",
        "colab_type": "code",
        "outputId": "c1514b24-06f4-4bf0-99a1-334b1045424f",
        "colab": {
          "base_uri": "https://localhost:8080/",
          "height": 70
        }
      },
      "source": [
        "# Import modules\n",
        "from sklearn.svm import SVR\n",
        "from sklearn.feature_selection import RFECV\n",
        "\n",
        "# Instantiate estimator and feature selector\n",
        "svr_mod = SVR(kernel=\"linear\")\n",
        "feat_selector = RFECV(svr_mod, cv=5)\n",
        "\n",
        "# Fit\n",
        "feat_selector = feat_selector.fit(X, y)\n",
        "\n",
        "# Print support and ranking\n",
        "print(feat_selector.support_)\n",
        "print(feat_selector.ranking_)\n",
        "print(X.columns)"
      ],
      "execution_count": 59,
      "outputs": [
        {
          "output_type": "stream",
          "text": [
            "[ True False  True  True  True  True  True  True  True  True]\n",
            "[1 2 1 1 1 1 1 1 1 1]\n",
            "Index(['age', 'sex', 'bmi', 'bp', 's1', 's2', 's3', 's4', 's5', 's6'], dtype='object')\n"
          ],
          "name": "stdout"
        }
      ]
    },
    {
      "cell_type": "code",
      "metadata": {
        "id": "g1Kuzsiax1Fx",
        "colab_type": "code",
        "outputId": "c3a18004-0bbd-4e52-ce90-3cbb43cd88ec",
        "colab": {
          "base_uri": "https://localhost:8080/",
          "height": 88
        }
      },
      "source": [
        "# Import modules\n",
        "from sklearn.linear_model import LarsCV\n",
        "\n",
        "# Instantiate\n",
        "lars_mod = LarsCV(cv=5, normalize=False)\n",
        "\n",
        "# Fit\n",
        "feat_selector = lars_mod.fit(X, y)\n",
        "\n",
        "# Print r-squared score and estimated alpha\n",
        "print(lars_mod.score(X, y))\n",
        "print(lars_mod.alpha_)\n",
        "\n",
        "# Drop feature suggested not important in step 2\n",
        "X_ = X.drop('sex', axis=1)\n",
        "\n",
        "# Instantiate\n",
        "lars_mod = LarsCV(cv=5, normalize=False)\n",
        "\n",
        "# Fit\n",
        "feat_selector = lars_mod.fit(X_, y)\n",
        "\n",
        "# Print r-squared score and estimated alpha\n",
        "print(lars_mod.score(X_, y))\n",
        "print(lars_mod.alpha_)"
      ],
      "execution_count": 60,
      "outputs": [
        {
          "output_type": "stream",
          "text": [
            "0.5000547926397778\n",
            "0.16078158387263866\n",
            "0.4982900996498095\n",
            "0.05226862285159132\n"
          ],
          "name": "stdout"
        }
      ]
    },
    {
      "cell_type": "markdown",
      "metadata": {
        "id": "9UQgw1IZPqZM",
        "colab_type": "text"
      },
      "source": [
        "### Tree-based feature importance methods\n",
        "- Random Forest --> `sklearn.ensemble.RandomForestRegressor`\n",
        "- Extra Trees --> `sklearn.ensemble.ExtraTreesRegressor`\n",
        "- After model fit --> `tree_mod.feature_importances_`"
      ]
    },
    {
      "cell_type": "markdown",
      "metadata": {
        "id": "LdLIIahFP0OK",
        "colab_type": "text"
      },
      "source": [
        "|Function |returns|\n",
        "|---|---|\n",
        "|`sklearn.svm.SVR` |support vector regression estimator|\n",
        "|`sklearn.feature_selection.RFECV` |recursive feature elimination with cross-val|\n",
        "|`rfe_mod.support_` |boolean array of selected features|\n",
        "|`ref_mod.ranking_` |feature ranking, selected=1|\n",
        "|`sklearn.linear_model.LinearRegression` |linear model estimator|\n",
        "|`sklearn.linear_model.LarsCV` |least angle regression with cross-val|\n",
        "|`LarsCV.score` |r-squared score|\n",
        "|`LarsCV.alpha_` |estimated regularization parameter|"
      ]
    },
    {
      "cell_type": "code",
      "metadata": {
        "id": "z2QEtrMHNjN2",
        "colab_type": "code",
        "outputId": "0eb47f00-146a-4ad9-accc-93443e1ae62b",
        "colab": {
          "base_uri": "https://localhost:8080/",
          "height": 106
        }
      },
      "source": [
        "# Import\n",
        "from sklearn.ensemble import RandomForestRegressor\n",
        "\n",
        "# Instantiate\n",
        "rf_mod = RandomForestRegressor(max_depth=2, random_state=123, \n",
        "              n_estimators=100, oob_score=True)\n",
        "\n",
        "# Fit\n",
        "rf_mod.fit(X, y)\n",
        "\n",
        "# Print\n",
        "print(diabetes.columns)\n",
        "print(rf_mod.feature_importances_)"
      ],
      "execution_count": 61,
      "outputs": [
        {
          "output_type": "stream",
          "text": [
            "Index(['age', 'sex', 'bmi', 'bp', 's1', 's2', 's3', 's4', 's5', 's6',\n",
            "       'progression'],\n",
            "      dtype='object')\n",
            "[0.         0.         0.39961579 0.03085607 0.         0.00128948\n",
            " 0.00700339 0.00417891 0.53899467 0.01806168]\n"
          ],
          "name": "stdout"
        }
      ]
    },
    {
      "cell_type": "code",
      "metadata": {
        "id": "Yin7MIOrJuIh",
        "colab_type": "code",
        "outputId": "ce1cd1a6-cd90-4956-99a0-bbed179aa26a",
        "colab": {
          "base_uri": "https://localhost:8080/",
          "height": 106
        }
      },
      "source": [
        "# Import\n",
        "from sklearn.ensemble import ExtraTreesRegressor\n",
        "\n",
        "# Instantiate\n",
        "xt_mod = ExtraTreesRegressor()\n",
        "\n",
        "# Fit\n",
        "xt_mod.fit(X, y)\n",
        "\n",
        "# Print\n",
        "print(diabetes.columns)\n",
        "print(xt_mod.feature_importances_)"
      ],
      "execution_count": 62,
      "outputs": [
        {
          "output_type": "stream",
          "text": [
            "Index(['age', 'sex', 'bmi', 'bp', 's1', 's2', 's3', 's4', 's5', 's6',\n",
            "       'progression'],\n",
            "      dtype='object')\n",
            "[0.05473393 0.03472872 0.24159732 0.12223411 0.05151638 0.04910916\n",
            " 0.0682527  0.08233463 0.22133116 0.07416188]\n"
          ],
          "name": "stdout"
        }
      ]
    },
    {
      "cell_type": "markdown",
      "metadata": {
        "id": "AaXBZT-IPhjW",
        "colab_type": "text"
      },
      "source": [
        "### Embedded methods\n",
        "1. Lasso Regression\n",
        "2. Ridge Regression\n",
        "3. ElasticNet\n"
      ]
    },
    {
      "cell_type": "code",
      "metadata": {
        "id": "d7OprPPN7xfm",
        "colab_type": "code",
        "outputId": "21dce6db-8ad1-467f-e554-a80a43433f65",
        "colab": {
          "base_uri": "https://localhost:8080/",
          "height": 35
        }
      },
      "source": [
        "# Import modules\n",
        "from sklearn.linear_model import Lasso, LassoCV\n",
        "from sklearn.metrics import mean_squared_error\n",
        "from sklearn.model_selection import train_test_split\n",
        "\n",
        "# Train/test split\n",
        "X_train, X_test, y_train, y_test = train_test_split(X, y, random_state=123, test_size=0.3)\n",
        "\n",
        "# Instantiate cross-validated lasso, fit\n",
        "lasso_cv = LassoCV(alphas=None, cv=10, max_iter=10000)\n",
        "lasso_cv.fit(X_train, y_train)\n",
        "\n",
        "# Instantiate lasso, fit, predict and print MSE\n",
        "lasso = Lasso(alpha = lasso_cv.alpha_)\n",
        "lasso.fit(X_train, y_train)\n",
        "print(mean_squared_error(y_true=y_test, y_pred=lasso.predict(X_test)))"
      ],
      "execution_count": 63,
      "outputs": [
        {
          "output_type": "stream",
          "text": [
            "2924.5859832897386\n"
          ],
          "name": "stdout"
        }
      ]
    },
    {
      "cell_type": "code",
      "metadata": {
        "id": "vMkzR9hmpqaQ",
        "colab_type": "code",
        "outputId": "9f0bce67-c12d-4efc-a9f7-bce1e60839ce",
        "colab": {
          "base_uri": "https://localhost:8080/",
          "height": 70
        }
      },
      "source": [
        "lasso.coef_"
      ],
      "execution_count": 64,
      "outputs": [
        {
          "output_type": "execute_result",
          "data": {
            "text/plain": [
              "array([  10.44337568, -258.78524547,  540.21142005,  278.38304827,\n",
              "       -709.64812829,  359.72602008,   98.8273001 ,  285.87174613,\n",
              "        631.99600104,  101.92074238])"
            ]
          },
          "metadata": {
            "tags": []
          },
          "execution_count": 64
        }
      ]
    },
    {
      "cell_type": "code",
      "metadata": {
        "id": "zWPwsJ4P8oRT",
        "colab_type": "code",
        "outputId": "d1ab622b-b852-4886-d417-1a52e6a4808f",
        "colab": {
          "base_uri": "https://localhost:8080/",
          "height": 35
        }
      },
      "source": [
        "# Import modules\n",
        "from sklearn.linear_model import Ridge, RidgeCV\n",
        "from sklearn.metrics import mean_squared_error\n",
        "import numpy as np\n",
        "\n",
        "\n",
        "# Train/test split\n",
        "X_train, X_test, y_train, y_test = train_test_split(X, y, random_state=123, test_size=0.3)\n",
        "\n",
        "# Instantiate cross-validated ridge, fit\n",
        "ridge_cv = RidgeCV(alphas=np.logspace(-6, 6, 13))\n",
        "ridge_cv.fit(X_train, y_train)\n",
        "\n",
        "# Instantiate ridge, fit, predict and print MSE\n",
        "ridge = Ridge(alpha = ridge_cv.alpha_)\n",
        "ridge.fit(X_train, y_train)\n",
        "print(mean_squared_error(y_true=y_test, y_pred=ridge.predict(X_test)))"
      ],
      "execution_count": 65,
      "outputs": [
        {
          "output_type": "stream",
          "text": [
            "2970.874355984401\n"
          ],
          "name": "stdout"
        }
      ]
    },
    {
      "cell_type": "code",
      "metadata": {
        "id": "PAwqqSLSpwVz",
        "colab_type": "code",
        "outputId": "17ac1f43-a06e-46a8-ed65-6cba1ac5191c",
        "colab": {
          "base_uri": "https://localhost:8080/",
          "height": 70
        }
      },
      "source": [
        "ridge.coef_"
      ],
      "execution_count": 66,
      "outputs": [
        {
          "output_type": "execute_result",
          "data": {
            "text/plain": [
              "array([  20.02724484, -210.65528196,  490.6483936 ,  252.31304807,\n",
              "        -85.60007846,  -84.365296  , -174.9700292 ,  177.80527284,\n",
              "        371.44401874,  117.87370481])"
            ]
          },
          "metadata": {
            "tags": []
          },
          "execution_count": 66
        }
      ]
    },
    {
      "cell_type": "markdown",
      "metadata": {
        "id": "D2Fb5SWyBl4V",
        "colab_type": "text"
      },
      "source": [
        "## Classification: feature engineering\n",
        "\n",
        "### Feature engineering...why?\n",
        "- Extracts additional information from the data\n",
        "- Creates additional relevant features\n",
        "- One of the most effective ways to improve predictive models\n",
        "\n",
        "### Benefits of feature engineering\n",
        "- Increased predictive power of the learning algorithm\n",
        "- Makes your machine learning models perform even better!\n",
        "\n",
        "### Types of feature engineering\n",
        "- Indicator variables\n",
        "- Interaction features\n",
        "- Feature representation"
      ]
    },
    {
      "cell_type": "markdown",
      "metadata": {
        "id": "M7tKL9yzB-Cy",
        "colab_type": "text"
      },
      "source": [
        "### Indicator variables\n",
        "- Threshold indicator\n",
        "    - age: high school vs college\n",
        "- Multiple features\n",
        "    - used as a flag\n",
        "- Special events\n",
        "    - black Friday\n",
        "    - Christmas\n",
        "- Groups of classes\n",
        "    - website traffic paid flag\n",
        "        - Google adwords\n",
        "        - Facebook ads"
      ]
    },
    {
      "cell_type": "markdown",
      "metadata": {
        "id": "6Lisj-2WCab4",
        "colab_type": "text"
      },
      "source": [
        "### Interaction features\n",
        "- Sum\n",
        "- Difference\n",
        "- Product\n",
        "- Quotient\n",
        "- Other mathematical combos"
      ]
    },
    {
      "cell_type": "markdown",
      "metadata": {
        "id": "IVbepO8qCel1",
        "colab_type": "text"
      },
      "source": [
        "### Feature representation\n",
        "- Datetime stamps\n",
        "    - Day of week\n",
        "    - Hour of day\n",
        "- Grouping categorical levels into 'Other'\n",
        "- Transform categorical to dummy variables\n",
        "    - (k - 1) binary columns"
      ]
    },
    {
      "cell_type": "markdown",
      "metadata": {
        "id": "KVYXdHaRCqeR",
        "colab_type": "text"
      },
      "source": [
        "### Different categorical levels\n",
        "- Training data:\n",
        "    - model trained with [red, blue, green]\n",
        "- Test data:\n",
        "    - model test with [red, green, yellow]\n",
        "    - additional color not seen in training\n",
        "    - one color missing\n",
        "- [Robust one-hot encoding](https://blog.cambridgespark.com/robust-one-hot-encoding-in-python-3e29bfcec77e)\n",
        "- [Handling Categorical Data in Python](https://www.datacamp.com/community/tutorials/categorical-data)"
      ]
    },
    {
      "cell_type": "code",
      "metadata": {
        "id": "kQ9xrGE-Bavt",
        "colab_type": "code",
        "outputId": "f157a761-4df5-4923-ff4f-9fa9e39997b6",
        "colab": {
          "base_uri": "https://localhost:8080/",
          "height": 35
        }
      },
      "source": [
        "from sklearn.linear_model import LogisticRegression\n",
        "from sklearn.impute import SimpleImputer\n",
        "from sklearn.metrics import accuracy_score\n",
        "from sklearn.preprocessing import StandardScaler\n",
        "\n",
        "url = \"https://assets.datacamp.com/production/repositories/4983/datasets/db66797c50f6938065374e9a31353053fb542052/LoansTrainingSetReduced.csv\"\n",
        "# url = \"https://assets.datacamp.com/production/repositories/4983/datasets/a6979e58c5990487b6843a07ebe5143af74d7913/loan_missing_filled.csv\"\n",
        "loan_data = pd.read_csv(url)\n",
        "\n",
        "# Subset numeric features: numeric_cols\n",
        "numeric_cols = loan_data.select_dtypes(include=[np.number])\n",
        "\n",
        "# Impute with mean\n",
        "imp_mean = SimpleImputer(strategy='mean')\n",
        "loans_imp_mean = imp_mean.fit_transform(numeric_cols)\n",
        "\n",
        "# Convert returned array to DataFrame\n",
        "scaler = StandardScaler()\n",
        "loans_imp_meanDF = pd.DataFrame(loans_imp_mean, columns=numeric_cols.columns)\n",
        "loans_imp_meanDF = pd.DataFrame(scaler.fit_transform(loans_imp_meanDF), columns=numeric_cols.columns)\n",
        "# Create X matrix and y array\n",
        "X = loans_imp_meanDF.select_dtypes(include=[np.number])\n",
        "y = loan_data[\"Loan Status\"]\n",
        "\n",
        "# Train/test split\n",
        "X_train, X_test, y_train, y_test = train_test_split(X, y, test_size=0.3, random_state=123)\n",
        "\n",
        "# Instantiate\n",
        "logistic = LogisticRegression()\n",
        "\n",
        "# Fit\n",
        "logistic.fit(X_train, y_train)\n",
        "\n",
        "# Predict and print accuracy\n",
        "print(accuracy_score(y_true=y_test, y_pred=logistic.predict(X_test)))"
      ],
      "execution_count": 79,
      "outputs": [
        {
          "output_type": "stream",
          "text": [
            "0.7293142878566341\n"
          ],
          "name": "stdout"
        }
      ]
    },
    {
      "cell_type": "markdown",
      "metadata": {
        "id": "QlSImBZegUqu",
        "colab_type": "text"
      },
      "source": [
        "Debt to income ratio\n",
        "\n",
        "- Monthly Debt\n",
        "- Annual Income/12"
      ]
    },
    {
      "cell_type": "code",
      "metadata": {
        "id": "WD2X99qnD0x5",
        "colab_type": "code",
        "outputId": "304326fe-0eb3-4866-e3d5-ec8092cabced",
        "colab": {
          "base_uri": "https://localhost:8080/",
          "height": 123
        }
      },
      "source": [
        "# Create dti_ratio variable\n",
        "monthly_income = loan_data[\"Annual Income\"]/12\n",
        "loan_data[\"dti_ratio\"] = loan_data[\"Monthly Debt\"]/monthly_income * 100\n",
        "loan_data = loan_data.drop([\"Monthly Debt\",\"Annual Income\"], axis=1)\n",
        "\n",
        "# Replace target variable levels\n",
        "loan_data[\"Loan Status\"] = loan_data[\"Loan Status\"].replace({'Fully Paid': 0, \n",
        "                                            'Charged Off': 1})\n",
        "loan_data = loan_data[['Loan Status', 'Current Loan Amount', 'Credit Score', 'Years in current job', 'Years of Credit History', 'Months since last delinquent', 'Number of Open Accounts', 'Number of Credit Problems',\n",
        "       'Current Credit Balance', 'Maximum Open Credit', 'Bankruptcies', 'Tax Liens', 'dti_ratio']]\n",
        "# One-hot encode categorical variables\n",
        "loan_data = pd.get_dummies(data=loan_data)\n",
        "\n",
        "# Print\n",
        "print(loan_data.columns)"
      ],
      "execution_count": 80,
      "outputs": [
        {
          "output_type": "stream",
          "text": [
            "Index(['Loan Status', 'Current Loan Amount', 'Credit Score',\n",
            "       'Years in current job', 'Years of Credit History',\n",
            "       'Months since last delinquent', 'Number of Open Accounts',\n",
            "       'Number of Credit Problems', 'Current Credit Balance',\n",
            "       'Maximum Open Credit', 'Bankruptcies', 'Tax Liens', 'dti_ratio'],\n",
            "      dtype='object')\n"
          ],
          "name": "stdout"
        }
      ]
    },
    {
      "cell_type": "code",
      "metadata": {
        "id": "r_VD-7SMy-w_",
        "colab_type": "code",
        "outputId": "5b5fe1a8-239f-4a9b-ccbf-758ad5081a4d",
        "colab": {
          "base_uri": "https://localhost:8080/",
          "height": 35
        }
      },
      "source": [
        "# Subset numeric features: numeric_cols\n",
        "numeric_cols = loan_data.select_dtypes(include=[np.number])\n",
        "\n",
        "# Impute with mean\n",
        "imp_mean = SimpleImputer(strategy='mean')\n",
        "loans_imp_mean = imp_mean.fit_transform(numeric_cols)\n",
        "\n",
        "# Convert returned array to DataFrame\n",
        "scaler = StandardScaler()\n",
        "loans_imp_meanDF = pd.DataFrame(loans_imp_mean, columns=numeric_cols.columns)\n",
        "loans_imp_meanDF = pd.DataFrame(scaler.fit_transform(loans_imp_meanDF), columns=numeric_cols.columns)\n",
        "\n",
        "# Create X matrix and y array\n",
        "X = loans_imp_meanDF.select_dtypes(include=[np.number])\n",
        "y = loan_data[\"Loan Status\"]\n",
        "\n",
        "# Train/test split\n",
        "X_train, X_test, y_train, y_test = train_test_split(X, y, test_size=0.3, random_state=123)\n",
        "\n",
        "# Instantiate\n",
        "logistic_dti = LogisticRegression()\n",
        "\n",
        "# Fit\n",
        "logistic_dti.fit(X_train, y_train)\n",
        "\n",
        "# Predict and print accuracy\n",
        "print(accuracy_score(y_true=y_test, y_pred=logistic_dti.predict(X_test)))"
      ],
      "execution_count": 92,
      "outputs": [
        {
          "output_type": "stream",
          "text": [
            "1.0\n"
          ],
          "name": "stdout"
        }
      ]
    },
    {
      "cell_type": "code",
      "metadata": {
        "id": "PDwadCf5SalI",
        "colab_type": "code",
        "colab": {
          "base_uri": "https://localhost:8080/",
          "height": 496
        },
        "outputId": "73d8fe82-89e3-499b-a47c-6f5461a7c0ff"
      },
      "source": [
        "X_train"
      ],
      "execution_count": 82,
      "outputs": [
        {
          "output_type": "execute_result",
          "data": {
            "text/html": [
              "<div>\n",
              "<style scoped>\n",
              "    .dataframe tbody tr th:only-of-type {\n",
              "        vertical-align: middle;\n",
              "    }\n",
              "\n",
              "    .dataframe tbody tr th {\n",
              "        vertical-align: top;\n",
              "    }\n",
              "\n",
              "    .dataframe thead th {\n",
              "        text-align: right;\n",
              "    }\n",
              "</style>\n",
              "<table border=\"1\" class=\"dataframe\">\n",
              "  <thead>\n",
              "    <tr style=\"text-align: right;\">\n",
              "      <th></th>\n",
              "      <th>Loan Status</th>\n",
              "      <th>Current Loan Amount</th>\n",
              "      <th>Credit Score</th>\n",
              "      <th>Years in current job</th>\n",
              "      <th>Years of Credit History</th>\n",
              "      <th>Months since last delinquent</th>\n",
              "      <th>Number of Open Accounts</th>\n",
              "      <th>Number of Credit Problems</th>\n",
              "      <th>Current Credit Balance</th>\n",
              "      <th>Maximum Open Credit</th>\n",
              "      <th>Bankruptcies</th>\n",
              "      <th>Tax Liens</th>\n",
              "      <th>dti_ratio</th>\n",
              "    </tr>\n",
              "  </thead>\n",
              "  <tbody>\n",
              "    <tr>\n",
              "      <th>69101</th>\n",
              "      <td>1.591213</td>\n",
              "      <td>-0.408333</td>\n",
              "      <td>4.766901e-01</td>\n",
              "      <td>-0.756366</td>\n",
              "      <td>-0.498687</td>\n",
              "      <td>4.789240e-16</td>\n",
              "      <td>-0.624764</td>\n",
              "      <td>1.772105</td>\n",
              "      <td>0.028388</td>\n",
              "      <td>0.035439</td>\n",
              "      <td>-0.328558</td>\n",
              "      <td>3.773606</td>\n",
              "      <td>-3.157195e-01</td>\n",
              "    </tr>\n",
              "    <tr>\n",
              "      <th>40731</th>\n",
              "      <td>-0.628451</td>\n",
              "      <td>-0.409019</td>\n",
              "      <td>1.020377e+00</td>\n",
              "      <td>1.189261</td>\n",
              "      <td>1.685978</td>\n",
              "      <td>4.789240e-16</td>\n",
              "      <td>1.785633</td>\n",
              "      <td>-0.338742</td>\n",
              "      <td>0.335836</td>\n",
              "      <td>0.351548</td>\n",
              "      <td>-0.328558</td>\n",
              "      <td>-0.109592</td>\n",
              "      <td>-1.431910e+00</td>\n",
              "    </tr>\n",
              "    <tr>\n",
              "      <th>44310</th>\n",
              "      <td>-0.628451</td>\n",
              "      <td>-0.409003</td>\n",
              "      <td>-2.761073e-01</td>\n",
              "      <td>1.189261</td>\n",
              "      <td>-1.179622</td>\n",
              "      <td>4.789240e-16</td>\n",
              "      <td>-0.223032</td>\n",
              "      <td>-0.338742</td>\n",
              "      <td>-0.618148</td>\n",
              "      <td>-0.090892</td>\n",
              "      <td>-0.328558</td>\n",
              "      <td>-0.109592</td>\n",
              "      <td>-7.615892e-01</td>\n",
              "    </tr>\n",
              "    <tr>\n",
              "      <th>65255</th>\n",
              "      <td>-0.628451</td>\n",
              "      <td>-0.408355</td>\n",
              "      <td>7.694446e-01</td>\n",
              "      <td>1.189261</td>\n",
              "      <td>-0.115661</td>\n",
              "      <td>2.151470e+00</td>\n",
              "      <td>0.178701</td>\n",
              "      <td>-0.338742</td>\n",
              "      <td>-0.128439</td>\n",
              "      <td>-0.032532</td>\n",
              "      <td>-0.328558</td>\n",
              "      <td>-0.109592</td>\n",
              "      <td>9.357060e-01</td>\n",
              "    </tr>\n",
              "    <tr>\n",
              "      <th>88739</th>\n",
              "      <td>1.591213</td>\n",
              "      <td>-0.408867</td>\n",
              "      <td>-4.918358e+00</td>\n",
              "      <td>0.077474</td>\n",
              "      <td>-1.222180</td>\n",
              "      <td>1.293934e-01</td>\n",
              "      <td>-0.223032</td>\n",
              "      <td>-0.338742</td>\n",
              "      <td>-0.475106</td>\n",
              "      <td>-0.091055</td>\n",
              "      <td>-0.328558</td>\n",
              "      <td>-0.109592</td>\n",
              "      <td>5.042034e-01</td>\n",
              "    </tr>\n",
              "    <tr>\n",
              "      <th>...</th>\n",
              "      <td>...</td>\n",
              "      <td>...</td>\n",
              "      <td>...</td>\n",
              "      <td>...</td>\n",
              "      <td>...</td>\n",
              "      <td>...</td>\n",
              "      <td>...</td>\n",
              "      <td>...</td>\n",
              "      <td>...</td>\n",
              "      <td>...</td>\n",
              "      <td>...</td>\n",
              "      <td>...</td>\n",
              "      <td>...</td>\n",
              "    </tr>\n",
              "    <tr>\n",
              "      <th>63206</th>\n",
              "      <td>-0.628451</td>\n",
              "      <td>-0.408898</td>\n",
              "      <td>6.439784e-01</td>\n",
              "      <td>1.189261</td>\n",
              "      <td>1.161091</td>\n",
              "      <td>-9.490476e-01</td>\n",
              "      <td>-0.223032</td>\n",
              "      <td>-0.338742</td>\n",
              "      <td>-0.528315</td>\n",
              "      <td>-0.096917</td>\n",
              "      <td>-0.328558</td>\n",
              "      <td>-0.109592</td>\n",
              "      <td>-5.026999e-01</td>\n",
              "    </tr>\n",
              "    <tr>\n",
              "      <th>61404</th>\n",
              "      <td>1.591213</td>\n",
              "      <td>-0.409164</td>\n",
              "      <td>7.276226e-01</td>\n",
              "      <td>1.189261</td>\n",
              "      <td>3.090406</td>\n",
              "      <td>6.012114e-01</td>\n",
              "      <td>0.580434</td>\n",
              "      <td>-0.338742</td>\n",
              "      <td>-0.304850</td>\n",
              "      <td>-0.032182</td>\n",
              "      <td>-0.328558</td>\n",
              "      <td>-0.109592</td>\n",
              "      <td>1.194591e+00</td>\n",
              "    </tr>\n",
              "    <tr>\n",
              "      <th>17730</th>\n",
              "      <td>-0.628451</td>\n",
              "      <td>2.445384</td>\n",
              "      <td>-3.179294e-01</td>\n",
              "      <td>-1.451233</td>\n",
              "      <td>1.302952</td>\n",
              "      <td>4.789240e-16</td>\n",
              "      <td>-1.227364</td>\n",
              "      <td>1.772105</td>\n",
              "      <td>-0.636155</td>\n",
              "      <td>-0.109184</td>\n",
              "      <td>2.587512</td>\n",
              "      <td>-0.109592</td>\n",
              "      <td>-8.047519e-01</td>\n",
              "    </tr>\n",
              "    <tr>\n",
              "      <th>28030</th>\n",
              "      <td>-0.628451</td>\n",
              "      <td>-0.409034</td>\n",
              "      <td>4.754620e-15</td>\n",
              "      <td>-0.478419</td>\n",
              "      <td>-1.037760</td>\n",
              "      <td>4.789240e-16</td>\n",
              "      <td>-0.423898</td>\n",
              "      <td>-0.338742</td>\n",
              "      <td>-0.183885</td>\n",
              "      <td>-0.074651</td>\n",
              "      <td>-0.328558</td>\n",
              "      <td>-0.109592</td>\n",
              "      <td>5.110223e-16</td>\n",
              "    </tr>\n",
              "    <tr>\n",
              "      <th>15725</th>\n",
              "      <td>-0.628451</td>\n",
              "      <td>2.445384</td>\n",
              "      <td>1.020377e+00</td>\n",
              "      <td>1.189261</td>\n",
              "      <td>1.317138</td>\n",
              "      <td>1.005627e+00</td>\n",
              "      <td>-0.825631</td>\n",
              "      <td>-0.338742</td>\n",
              "      <td>0.490323</td>\n",
              "      <td>0.065827</td>\n",
              "      <td>-0.328558</td>\n",
              "      <td>-0.109592</td>\n",
              "      <td>-7.616015e-01</td>\n",
              "    </tr>\n",
              "  </tbody>\n",
              "</table>\n",
              "<p>62237 rows × 13 columns</p>\n",
              "</div>"
            ],
            "text/plain": [
              "       Loan Status  Current Loan Amount  ...  Tax Liens     dti_ratio\n",
              "69101     1.591213            -0.408333  ...   3.773606 -3.157195e-01\n",
              "40731    -0.628451            -0.409019  ...  -0.109592 -1.431910e+00\n",
              "44310    -0.628451            -0.409003  ...  -0.109592 -7.615892e-01\n",
              "65255    -0.628451            -0.408355  ...  -0.109592  9.357060e-01\n",
              "88739     1.591213            -0.408867  ...  -0.109592  5.042034e-01\n",
              "...            ...                  ...  ...        ...           ...\n",
              "63206    -0.628451            -0.408898  ...  -0.109592 -5.026999e-01\n",
              "61404     1.591213            -0.409164  ...  -0.109592  1.194591e+00\n",
              "17730    -0.628451             2.445384  ...  -0.109592 -8.047519e-01\n",
              "28030    -0.628451            -0.409034  ...  -0.109592  5.110223e-16\n",
              "15725    -0.628451             2.445384  ...  -0.109592 -7.616015e-01\n",
              "\n",
              "[62237 rows x 13 columns]"
            ]
          },
          "metadata": {
            "tags": []
          },
          "execution_count": 82
        }
      ]
    },
    {
      "cell_type": "markdown",
      "metadata": {
        "id": "AR615tWqQDUe",
        "colab_type": "text"
      },
      "source": [
        "## Ensemble learning techniques\n",
        "- Bootstrap Aggregation\n",
        "- Boosting\n",
        "- Model stacking"
      ]
    },
    {
      "cell_type": "markdown",
      "metadata": {
        "id": "Y3EcssNcg-RE",
        "colab_type": "text"
      },
      "source": [
        "Bias-Variance Trade-Off\n",
        "![](https://i.imgur.com/Esfeuap.png)"
      ]
    },
    {
      "cell_type": "markdown",
      "metadata": {
        "id": "_r_jjq8ahQry",
        "colab_type": "text"
      },
      "source": [
        "#### Bagging (Bootstrap aggregation)\n",
        "\n",
        "- Bootstrapped samples\n",
        "  - Subset selected with replacement\n",
        "  - Same row of data may be chosen\n",
        "- Model built for each sample\n",
        "- Average the output\n",
        "- Reduces variance"
      ]
    },
    {
      "cell_type": "code",
      "metadata": {
        "id": "5v9K2IGcQDuW",
        "colab_type": "code",
        "outputId": "10d96675-7268-404c-c526-79ef436753a0",
        "colab": {
          "base_uri": "https://localhost:8080/",
          "height": 35
        }
      },
      "source": [
        "from sklearn.ensemble import BaggingClassifier\n",
        "# Instantiate bootstrap aggregation model\n",
        "bagged_model = BaggingClassifier(n_estimators=50, random_state=123)\n",
        "\n",
        "# Fit\n",
        "bagged_model.fit(X_train, y_train)\n",
        "\n",
        "# Predict\n",
        "bagged_pred = bagged_model.predict(X_test)\n",
        "\n",
        "# Print accuracy score\n",
        "print(accuracy_score(y_test, bagged_pred))"
      ],
      "execution_count": 83,
      "outputs": [
        {
          "output_type": "stream",
          "text": [
            "1.0\n"
          ],
          "name": "stdout"
        }
      ]
    },
    {
      "cell_type": "markdown",
      "metadata": {
        "id": "2RxhZ67rhyyx",
        "colab_type": "text"
      },
      "source": [
        "#### Boosting\n",
        "- Multiple models built sequentially\n",
        "- Incorrect predictions are weighted\n",
        "- Reduces bias\n"
      ]
    },
    {
      "cell_type": "markdown",
      "metadata": {
        "id": "WEu9j20eh-_a",
        "colab_type": "text"
      },
      "source": [
        "#### Model stacking\n",
        "- Model 1 predictions\n",
        "- Model 2 predictions...\n",
        "- Model N predictions\n",
        "- Stack for highest accuracy model\n",
        "  - Uses base model (Model N) predictions as input to 2nd level model"
      ]
    },
    {
      "cell_type": "code",
      "metadata": {
        "id": "zNLGf7vKa4eO",
        "colab_type": "code",
        "outputId": "dd754a8e-e244-4745-f0f3-4e682cc60fee",
        "colab": {
          "base_uri": "https://localhost:8080/",
          "height": 35
        }
      },
      "source": [
        "from sklearn.ensemble import AdaBoostClassifier\n",
        "# Boosting model\n",
        "boosted_model = AdaBoostClassifier(n_estimators=50, random_state=123)\n",
        "\n",
        "# Fit\n",
        "boosted_model_fit = boosted_model.fit(X_train, y_train)\n",
        "\n",
        "# Predict\n",
        "boosted_pred = boosted_model_fit.predict(X_test)\n",
        "\n",
        "# Print model accuracy\n",
        "print(accuracy_score(y_test, boosted_pred))"
      ],
      "execution_count": 84,
      "outputs": [
        {
          "output_type": "stream",
          "text": [
            "1.0\n"
          ],
          "name": "stdout"
        }
      ]
    },
    {
      "cell_type": "code",
      "metadata": {
        "id": "bwIuK_2Am7Jr",
        "colab_type": "code",
        "outputId": "8101a732-ac5d-4bb9-d042-148623bb6606",
        "colab": {
          "base_uri": "https://localhost:8080/",
          "height": 35
        }
      },
      "source": [
        "import xgboost\n",
        "# Instantiate\n",
        "xgb = xgboost.XGBClassifier(random_state=123, learning_rate=0.1, n_estimators=10, max_depth=3)\n",
        "\n",
        "# Fit\n",
        "xgb = xgb.fit(X_train, y_train)\n",
        "\n",
        "# Predict\n",
        "xgb_pred = xgb.predict(X_test)\n",
        "\n",
        "# Print accuracy score\n",
        "print('Final prediction score: [%.8f]' % accuracy_score(y_test, xgb_pred))"
      ],
      "execution_count": 85,
      "outputs": [
        {
          "output_type": "stream",
          "text": [
            "Final prediction score: [1.00000000]\n"
          ],
          "name": "stdout"
        }
      ]
    },
    {
      "cell_type": "markdown",
      "metadata": {
        "id": "SCauEy9AeH__",
        "colab_type": "text"
      },
      "source": [
        "# Unsupervised Learning"
      ]
    },
    {
      "cell_type": "markdown",
      "metadata": {
        "id": "v55qV5aCd-St",
        "colab_type": "text"
      },
      "source": [
        "## Dimensionality reduction: feature extraction\n",
        "\n",
        "### Why dimensionality reduction?\n",
        "1. Speed up ML training\n",
        "2. Visualization\n",
        "3. Improves accuracy\n",
        "4. Curse of dimensionality\n",
        "5. Dimensionality reduction != feature selection"
      ]
    },
    {
      "cell_type": "markdown",
      "metadata": {
        "id": "ErrVFzqce59C",
        "colab_type": "text"
      },
      "source": [
        "### Unsupervised learning methods\n",
        "\n",
        "- Principal component analysis (PCA)\n",
        "- Singular value decomposition (SVD)\n",
        "- Clustering/grouping\n",
        "- Exploratory data mining"
      ]
    },
    {
      "cell_type": "markdown",
      "metadata": {
        "id": "tZGZPtLZff3W",
        "colab_type": "text"
      },
      "source": [
        "#### PCA\n",
        "- Relationship between X and y\n",
        "- Calculated by finding principal axes\n",
        "- Translates, rotates and scales\n",
        "- Lower-dimensional projection of the data"
      ]
    },
    {
      "cell_type": "code",
      "metadata": {
        "id": "FH7z57Wpvr94",
        "colab_type": "code",
        "outputId": "b3c3ed6b-8b9d-4c31-fa89-12a1d71b94f1",
        "colab": {
          "base_uri": "https://localhost:8080/",
          "height": 35
        }
      },
      "source": [
        "# Import module\n",
        "from sklearn.decomposition import PCA\n",
        "\n",
        "# Feature matrix and target array\n",
        "X_diabetes = diabetes.drop('progression', axis=1)\n",
        "y_diabetes = diabetes['progression']\n",
        "\n",
        "# PCA\n",
        "pca = PCA(n_components=3)\n",
        "\n",
        "# Fit and transform\n",
        "principalComponents = pca.fit_transform(X_diabetes)\n",
        "\n",
        "# Print ratio of variance explained\n",
        "print(pca.explained_variance_ratio_)"
      ],
      "execution_count": 94,
      "outputs": [
        {
          "output_type": "stream",
          "text": [
            "[0.40242142 0.14923182 0.12059623]\n"
          ],
          "name": "stdout"
        }
      ]
    },
    {
      "cell_type": "markdown",
      "metadata": {
        "id": "hkZYsEGhfmth",
        "colab_type": "text"
      },
      "source": [
        "#### SVD\n",
        "- Linear algebra and vector calculus\n",
        "- Decomposes data matrix into three matrices\n",
        "- Results in 'singular' values\n",
        "- Variance in data approximately equals SS of singular values"
      ]
    },
    {
      "cell_type": "code",
      "metadata": {
        "id": "zITzgtAEwQfv",
        "colab_type": "code",
        "outputId": "e1706417-a7da-4415-93d0-268060f763d4",
        "colab": {
          "base_uri": "https://localhost:8080/",
          "height": 35
        }
      },
      "source": [
        "# Import module\n",
        "from sklearn.decomposition import TruncatedSVD\n",
        "\n",
        "# Feature matrix and target array\n",
        "X_diabetes = diabetes.drop('progression', axis=1)\n",
        "y_diabetes = diabetes['progression']\n",
        "\n",
        "# SVD\n",
        "svd = TruncatedSVD(n_components=3)\n",
        "\n",
        "# Fit and transform\n",
        "principalComponents = svd.fit_transform(X_diabetes)\n",
        "\n",
        "# Print ratio of variance explained\n",
        "print(svd.explained_variance_ratio_)"
      ],
      "execution_count": 95,
      "outputs": [
        {
          "output_type": "stream",
          "text": [
            "[0.40242142 0.14923182 0.12059623]\n"
          ],
          "name": "stdout"
        }
      ]
    },
    {
      "cell_type": "markdown",
      "metadata": {
        "id": "xy7jCyMberyh",
        "colab_type": "text"
      },
      "source": [
        "### Visualization techniques\n",
        "- PCA\n",
        "- t-SNE"
      ]
    },
    {
      "cell_type": "code",
      "metadata": {
        "id": "qo--5y0cuUj0",
        "colab_type": "code",
        "colab": {}
      },
      "source": [
        "# PCA\n",
        "pca = PCA(n_components=2)\n",
        "\n",
        "# Fit and transform\n",
        "loan_data_PCA = pca.fit_transform(X)\n",
        "\n",
        "loan_data_PCA = pd.DataFrame(loan_data_PCA)\n",
        "loan_data_PCA['Loan Status'] = y\n",
        "loan_data_PCA.columns = ['principal component 1', 'principal component 2', 'Loan Status']\n"
      ],
      "execution_count": 0,
      "outputs": []
    },
    {
      "cell_type": "code",
      "metadata": {
        "id": "wDwOQjiLr9DD",
        "colab_type": "code",
        "colab": {
          "base_uri": "https://localhost:8080/",
          "height": 265
        },
        "outputId": "3d76720c-01de-4202-d790-65d6058a56c4"
      },
      "source": [
        "targets = [0, 1]\n",
        "colors = ['r', 'b']\n",
        "\n",
        "__, ax = plt.subplots()\n",
        "# For loop to create plot\n",
        "for target, color in zip(targets, colors):\n",
        "    indicesToKeep = loan_data_PCA['Loan Status'] == target\n",
        "    ax.scatter(loan_data_PCA.loc[indicesToKeep, 'principal component 1']\n",
        "               , loan_data_PCA.loc[indicesToKeep, 'principal component 2']\n",
        "               , c = color\n",
        "               , s = 50)\n",
        "\n",
        "# Legend    \n",
        "ax.legend(targets)\n",
        "ax.grid()\n",
        "plt.show()"
      ],
      "execution_count": 97,
      "outputs": [
        {
          "output_type": "display_data",
          "data": {
            "image/png": "[encoded data removed]",
            "text/plain": [
              "<Figure size 432x288 with 1 Axes>"
            ]
          },
          "metadata": {
            "tags": [],
            "needs_background": "light"
          }
        }
      ]
    },
    {
      "cell_type": "code",
      "metadata": {
        "id": "fMiYxjcawPcK",
        "colab_type": "code",
        "colab": {}
      },
      "source": [
        "# Instantiate\n",
        "pca = PCA(n_components=10)\n",
        "\n",
        "# Fit and transform\n",
        "principalComponents = pca.fit_transform(X)"
      ],
      "execution_count": 0,
      "outputs": []
    },
    {
      "cell_type": "code",
      "metadata": {
        "id": "LzMZVPgCbft2",
        "colab_type": "code",
        "colab": {
          "base_uri": "https://localhost:8080/",
          "height": 279
        },
        "outputId": "c45590bf-e611-4192-e270-e9a03c6fc8c7"
      },
      "source": [
        "# List principal components names\n",
        "principal_components = ['PC1','PC2','PC3','PC4','PC5','PC6','PC7','PC8','PC9','PC10']\n",
        "\n",
        "# Create a DataFrame\n",
        "pca_df = pd.DataFrame({'Variance Explained': pca.explained_variance_ratio_,\n",
        "             'PC':principal_components})\n",
        "\n",
        "# Plot DataFrame\n",
        "sns.barplot(x='PC',y='Variance Explained', \n",
        "           data=pca_df, color=\"c\")\n",
        "plt.show()"
      ],
      "execution_count": 99,
      "outputs": [
        {
          "output_type": "display_data",
          "data": {
            "image/png": "[encoded data removed]",
            "text/plain": [
              "<Figure size 432x288 with 1 Axes>"
            ]
          },
          "metadata": {
            "tags": [],
            "needs_background": "light"
          }
        }
      ]
    },
    {
      "cell_type": "code",
      "metadata": {
        "id": "nfyp0Xfxbzc5",
        "colab_type": "code",
        "colab": {
          "base_uri": "https://localhost:8080/",
          "height": 70
        },
        "outputId": "1ffa96f1-a04d-49e5-ebca-e74e548f6ce5"
      },
      "source": [
        "# Instantiate, fit and transform\n",
        "pca2 = PCA()\n",
        "principalComponents2 = pca2.fit_transform(X)\n",
        "\n",
        "# Assign variance explained\n",
        "var = pca2.explained_variance_ratio_\n",
        "var"
      ],
      "execution_count": 100,
      "outputs": [
        {
          "output_type": "execute_result",
          "data": {
            "text/plain": [
              "array([0.1557788 , 0.12270887, 0.11136689, 0.08256175, 0.08014548,\n",
              "       0.07831086, 0.07192525, 0.07050285, 0.06269886, 0.05458465,\n",
              "       0.05266004, 0.0515721 , 0.00518359])"
            ]
          },
          "metadata": {
            "tags": []
          },
          "execution_count": 100
        }
      ]
    },
    {
      "cell_type": "code",
      "metadata": {
        "id": "-diP2BOpcAGC",
        "colab_type": "code",
        "colab": {
          "base_uri": "https://localhost:8080/",
          "height": 308
        },
        "outputId": "ffc41146-64cf-4628-a7ae-02619b773798"
      },
      "source": [
        "# Plot cumulative variance\n",
        "cumulative_var = np.cumsum(var)*100\n",
        "plt.plot(cumulative_var,'k-o',markerfacecolor='None',markeredgecolor='k')\n",
        "plt.title('Principal Component Analysis',fontsize=12)\n",
        "plt.xlabel(\"Principal Component\",fontsize=12)\n",
        "plt.ylabel(\"Cumulative Proportion of Variance Explained\",fontsize=12)\n",
        "plt.show()"
      ],
      "execution_count": 101,
      "outputs": [
        {
          "output_type": "display_data",
          "data": {
            "image/png": "[encoded data removed]",
            "text/plain": [
              "<Figure size 432x288 with 1 Axes>"
            ]
          },
          "metadata": {
            "tags": [],
            "needs_background": "light"
          }
        }
      ]
    },
    {
      "cell_type": "markdown",
      "metadata": {
        "id": "Jws_C_FtcRWq",
        "colab_type": "text"
      },
      "source": [
        "## Clustering algorithms\n",
        "- Features >> Observations\n",
        "- Model training more challenging\n",
        "- Rely on distance calculations\n",
        "- Most commonly used unsupervised technique"
      ]
    },
    {
      "cell_type": "markdown",
      "metadata": {
        "id": "xZEBK1NBcgcw",
        "colab_type": "text"
      },
      "source": [
        "### Practical applications of clustering\n",
        "- Customer segmentation\n",
        "- Document classification\n",
        "- Insurance/transaction fraud detection\n",
        "- Image segmentation\n",
        "- Anomaly detection"
      ]
    },
    {
      "cell_type": "markdown",
      "metadata": {
        "id": "XFyKPFJOdRMx",
        "colab_type": "text"
      },
      "source": [
        "### K-means\n",
        "1. Initial centroids\n",
        "2. Assign each observation to nearest centroid\n",
        "3. Create new centroids\n",
        "4. Repeat steps 2 and 3"
      ]
    },
    {
      "cell_type": "markdown",
      "metadata": {
        "id": "DtMkxWnjdWGJ",
        "colab_type": "text"
      },
      "source": [
        "### Hierarchical agglomerative clustering\n",
        "Agglomerative clustering linkage\n",
        "\n",
        "- Ward linkage\n",
        "- Maximum/complete linkage\n",
        "- Average linkage\n",
        "- Single linkage"
      ]
    },
    {
      "cell_type": "markdown",
      "metadata": {
        "id": "ueFdmOfLdiEk",
        "colab_type": "text"
      },
      "source": [
        "### Selecting a clustering algorithm\n",
        "- Cluster stability assessment\n",
        "- K-means and HC use Euclidian distance\n",
        "- Inter- and intra-cluster distances\n",
        "\n",
        "\"An appropriate dissimilarity measure is far\n",
        "more important in obtaining success with\n",
        "clustering than choice of clustering algorithm.\" -\n",
        "from Elements of Statistical Learning\n",
        "http://www-stat.stanford.edu/~tibs/ElemStatLearn/"
      ]
    }
  ]
}