{
  "nbformat": 4,
  "nbformat_minor": 0,
  "metadata": {
    "colab": {
      "name": "Customer Segmentation",
      "provenance": [],
      "authorship_tag": "ABX9TyPMIyJp+4SShIDdJHUEDJL3",
      "include_colab_link": true
    },
    "kernelspec": {
      "name": "python3",
      "display_name": "Python 3"
    }
  },
  "cells": [
    {
      "cell_type": "markdown",
      "metadata": {
        "id": "view-in-github",
        "colab_type": "text"
      },
      "source": [
        "<a href=\"https://colab.research.google.com/github/randy-tsukemen/Data_science_roadmap/blob/master/Customer_Segmentation.ipynb\" target=\"_parent\"><img src=\"https://colab.research.google.com/assets/colab-badge.svg\" alt=\"Open In Colab\"/></a>"
      ]
    },
    {
      "cell_type": "markdown",
      "metadata": {
        "id": "rOaNQTwRu9Ik",
        "colab_type": "text"
      },
      "source": [
        "#  Customer Segmentation"
      ]
    },
    {
      "cell_type": "code",
      "metadata": {
        "id": "vKRzMKl7ctYl",
        "colab_type": "code",
        "colab": {}
      },
      "source": [
        "import pandas as pd\n",
        "import numpy as np\n",
        "import matplotlib.pyplot as plt\n",
        "import seaborn as sns\n",
        "import zipfile\n",
        "import datetime as dt\n",
        "\n"
      ],
      "execution_count": 0,
      "outputs": []
    },
    {
      "cell_type": "markdown",
      "metadata": {
        "id": "F57cZazhPzX3",
        "colab_type": "text"
      },
      "source": [
        "##  Cohort Analysis"
      ]
    },
    {
      "cell_type": "markdown",
      "metadata": {
        "id": "rFlM6RTTPxcP",
        "colab_type": "text"
      },
      "source": [
        "What is Cohort Analysis?\n",
        "- Mutually exclusive segments - cohorts\n",
        "- Compare metrics across product lifecycle\n",
        "- Compare metrics across customer lifecycle"
      ]
    },
    {
      "cell_type": "markdown",
      "metadata": {
        "id": "5oNy8a9JP6jB",
        "colab_type": "text"
      },
      "source": [
        "Types of cohorts\n",
        "- Time cohorts\n",
        "- Behavior cohorts\n",
        "- Size cohorts"
      ]
    },
    {
      "cell_type": "markdown",
      "metadata": {
        "id": "hnZ6qu-6QF8J",
        "colab_type": "text"
      },
      "source": [
        "Elements of cohort analysis\n",
        "- Pivot table\n",
        "- Assigned cohort in rows\n",
        "- Cohort Index in columns\n",
        "- Metrics in the table"
      ]
    },
    {
      "cell_type": "markdown",
      "metadata": {
        "id": "0H9wai-BvFIm",
        "colab_type": "text"
      },
      "source": [
        "Assign daily acquisition cohort\n",
        "\n",
        "As you have seen in the video, defining a cohort is the first step to cohort analysis. You will now create daily cohorts based on the day each customer has made their first transaction.\n",
        "\n",
        "The data has been loaded as online DataFrame, you can now print its header with online.head() in the console."
      ]
    },
    {
      "cell_type": "code",
      "metadata": {
        "id": "BYEO3bl8xifV",
        "colab_type": "code",
        "outputId": "a56a5f50-b488-4530-f371-fa2a4ba96c02",
        "colab": {
          "base_uri": "https://localhost:8080/",
          "height": 212
        }
      },
      "source": [
        "!wget https://assets.datacamp.com/production/repositories/3202/datasets/40378e0b8f88bffddc938f335bc68baa8fdf0b18/chapter_1.zip"
      ],
      "execution_count": 2,
      "outputs": [
        {
          "output_type": "stream",
          "text": [
            "--2020-06-10 02:36:33--  https://assets.datacamp.com/production/repositories/3202/datasets/40378e0b8f88bffddc938f335bc68baa8fdf0b18/chapter_1.zip\n",
            "Resolving assets.datacamp.com (assets.datacamp.com)... 13.226.46.120, 13.226.46.10, 13.226.46.129, ...\n",
            "Connecting to assets.datacamp.com (assets.datacamp.com)|13.226.46.120|:443... connected.\n",
            "HTTP request sent, awaiting response... 200 OK\n",
            "Length: 2103781 (2.0M)\n",
            "Saving to: ‘chapter_1.zip.1’\n",
            "\n",
            "\rchapter_1.zip.1       0%[                    ]       0  --.-KB/s               \rchapter_1.zip.1     100%[===================>]   2.01M  12.3MB/s    in 0.2s    \n",
            "\n",
            "2020-06-10 02:36:33 (12.3 MB/s) - ‘chapter_1.zip.1’ saved [2103781/2103781]\n",
            "\n"
          ],
          "name": "stdout"
        }
      ]
    },
    {
      "cell_type": "code",
      "metadata": {
        "id": "wk_Ly-70vSzF",
        "colab_type": "code",
        "outputId": "9a57e19b-8554-45fc-cac2-3ff8e4ab2169",
        "colab": {
          "base_uri": "https://localhost:8080/",
          "height": 206
        }
      },
      "source": [
        "# load data\n",
        "# ['online.csv', '__MACOSX/', '__MACOSX/._online.csv', 'cohort_counts.csv', '__MACOSX/._cohort_counts.csv', 'average_quantity.csv', '__MACOSX/._average_quantity.csv']\n",
        "\n",
        "zf = zipfile.ZipFile('chapter_1.zip') \n",
        "online = pd.read_csv(zf.open('online.csv'), index_col=0)\n",
        "online.head()"
      ],
      "execution_count": 3,
      "outputs": [
        {
          "output_type": "execute_result",
          "data": {
            "text/html": [
              "<div>\n",
              "<style scoped>\n",
              "    .dataframe tbody tr th:only-of-type {\n",
              "        vertical-align: middle;\n",
              "    }\n",
              "\n",
              "    .dataframe tbody tr th {\n",
              "        vertical-align: top;\n",
              "    }\n",
              "\n",
              "    .dataframe thead th {\n",
              "        text-align: right;\n",
              "    }\n",
              "</style>\n",
              "<table border=\"1\" class=\"dataframe\">\n",
              "  <thead>\n",
              "    <tr style=\"text-align: right;\">\n",
              "      <th></th>\n",
              "      <th>InvoiceNo</th>\n",
              "      <th>StockCode</th>\n",
              "      <th>Description</th>\n",
              "      <th>Quantity</th>\n",
              "      <th>InvoiceDate</th>\n",
              "      <th>UnitPrice</th>\n",
              "      <th>CustomerID</th>\n",
              "      <th>Country</th>\n",
              "    </tr>\n",
              "  </thead>\n",
              "  <tbody>\n",
              "    <tr>\n",
              "      <th>416792</th>\n",
              "      <td>572558</td>\n",
              "      <td>22745</td>\n",
              "      <td>POPPY'S PLAYHOUSE BEDROOM</td>\n",
              "      <td>6</td>\n",
              "      <td>2011-10-25 08:26:00</td>\n",
              "      <td>2.10</td>\n",
              "      <td>14286</td>\n",
              "      <td>United Kingdom</td>\n",
              "    </tr>\n",
              "    <tr>\n",
              "      <th>482904</th>\n",
              "      <td>577485</td>\n",
              "      <td>23196</td>\n",
              "      <td>VINTAGE LEAF MAGNETIC NOTEPAD</td>\n",
              "      <td>1</td>\n",
              "      <td>2011-11-20 11:56:00</td>\n",
              "      <td>1.45</td>\n",
              "      <td>16360</td>\n",
              "      <td>United Kingdom</td>\n",
              "    </tr>\n",
              "    <tr>\n",
              "      <th>263743</th>\n",
              "      <td>560034</td>\n",
              "      <td>23299</td>\n",
              "      <td>FOOD COVER WITH BEADS SET 2</td>\n",
              "      <td>6</td>\n",
              "      <td>2011-07-14 13:35:00</td>\n",
              "      <td>3.75</td>\n",
              "      <td>13933</td>\n",
              "      <td>United Kingdom</td>\n",
              "    </tr>\n",
              "    <tr>\n",
              "      <th>495549</th>\n",
              "      <td>578307</td>\n",
              "      <td>72349B</td>\n",
              "      <td>SET/6 PURPLE BUTTERFLY T-LIGHTS</td>\n",
              "      <td>1</td>\n",
              "      <td>2011-11-23 15:53:00</td>\n",
              "      <td>2.10</td>\n",
              "      <td>17290</td>\n",
              "      <td>United Kingdom</td>\n",
              "    </tr>\n",
              "    <tr>\n",
              "      <th>204384</th>\n",
              "      <td>554656</td>\n",
              "      <td>21756</td>\n",
              "      <td>BATH BUILDING BLOCK WORD</td>\n",
              "      <td>3</td>\n",
              "      <td>2011-05-25 13:36:00</td>\n",
              "      <td>5.95</td>\n",
              "      <td>17663</td>\n",
              "      <td>United Kingdom</td>\n",
              "    </tr>\n",
              "  </tbody>\n",
              "</table>\n",
              "</div>"
            ],
            "text/plain": [
              "        InvoiceNo StockCode  ... CustomerID         Country\n",
              "416792     572558     22745  ...      14286  United Kingdom\n",
              "482904     577485     23196  ...      16360  United Kingdom\n",
              "263743     560034     23299  ...      13933  United Kingdom\n",
              "495549     578307    72349B  ...      17290  United Kingdom\n",
              "204384     554656     21756  ...      17663  United Kingdom\n",
              "\n",
              "[5 rows x 8 columns]"
            ]
          },
          "metadata": {
            "tags": []
          },
          "execution_count": 3
        }
      ]
    },
    {
      "cell_type": "markdown",
      "metadata": {
        "id": "PVBfIniNzMue",
        "colab_type": "text"
      },
      "source": [
        "Now each customer belongs to a daily acquisition cohort that you can use for further analysis!"
      ]
    },
    {
      "cell_type": "code",
      "metadata": {
        "id": "nZUjA21MwJJQ",
        "colab_type": "code",
        "outputId": "0fd42b79-b7d7-4130-8aa6-89688ef5c3d1",
        "colab": {
          "base_uri": "https://localhost:8080/",
          "height": 159
        }
      },
      "source": [
        "# Define a function that will parse the date\n",
        "def get_day(x): return dt.datetime(x.year, x.month, x.day) \n",
        "\n",
        "# Create InvoiceDay column\n",
        "online['InvoiceDate'] = pd.to_datetime(online['InvoiceDate'])\n",
        "online['InvoiceDay'] = online['InvoiceDate'].apply(get_day) \n",
        "\n",
        "# Group by CustomerID and select the InvoiceDay value\n",
        "grouping = online.groupby('CustomerID')['InvoiceDay'] \n",
        "\n",
        "# Assign a minimum InvoiceDay value to the dataset\n",
        "online['CohortDay'] = grouping.transform('min')\n",
        "\n",
        "# View the top 5 rows\n",
        "print(online.head())"
      ],
      "execution_count": 4,
      "outputs": [
        {
          "output_type": "stream",
          "text": [
            "        InvoiceNo StockCode  ... InvoiceDay  CohortDay\n",
            "416792     572558     22745  ... 2011-10-25 2011-04-11\n",
            "482904     577485     23196  ... 2011-11-20 2011-09-12\n",
            "263743     560034     23299  ... 2011-07-14 2011-07-14\n",
            "495549     578307    72349B  ... 2011-11-23 2011-11-23\n",
            "204384     554656     21756  ... 2011-05-25 2011-02-25\n",
            "\n",
            "[5 rows x 10 columns]\n"
          ],
          "name": "stdout"
        }
      ]
    },
    {
      "cell_type": "markdown",
      "metadata": {
        "id": "C2zWDCWBzVnA",
        "colab_type": "text"
      },
      "source": [
        "Calculate time offset in days - part 1\n",
        "\n",
        "Calculating time offset for each transaction allows you to report the metrics for each cohort in a comparable fashion. "
      ]
    },
    {
      "cell_type": "markdown",
      "metadata": {
        "id": "wcsZQjQ3z0L1",
        "colab_type": "text"
      },
      "source": [
        "Now you will use these integer values to calculate business metrics for our time cohorts!"
      ]
    },
    {
      "cell_type": "code",
      "metadata": {
        "id": "tRBImdnbzWRa",
        "colab_type": "code",
        "colab": {}
      },
      "source": [
        "def get_date_int(df, column):\n",
        "    year = df[column].dt.year\n",
        "    month = df[column].dt.month\n",
        "    day = df[column].dt.day\n",
        "    return year, month, day\n",
        "\n",
        "# Get the integers for date parts from the `InvoiceDay` column\n",
        "invoice_year, invoice_month, invoice_day = get_date_int(online, 'InvoiceDay')\n",
        "\n",
        "# Get the integers for date parts from the `CohortDay` column\n",
        "cohort_year, cohort_month, cohort_day = get_date_int(online, 'CohortDay')"
      ],
      "execution_count": 0,
      "outputs": []
    },
    {
      "cell_type": "markdown",
      "metadata": {
        "id": "LSVarCLoz05a",
        "colab_type": "text"
      },
      "source": [
        "Calculate time offset in days - part 2\n",
        "\n",
        "Great work! Now, we have six different data sets with year, month and day values for Invoice and Cohort dates - invoice_year, cohort_year, invoice_month, cohort_month, invoice_day, and cohort_day."
      ]
    },
    {
      "cell_type": "markdown",
      "metadata": {
        "id": "SUu4I1q50Uz_",
        "colab_type": "text"
      },
      "source": [
        "You have successfully assigned the daily time offset to each transaction and can use it for running daily cohort analysis!"
      ]
    },
    {
      "cell_type": "code",
      "metadata": {
        "id": "03I62F3Az40Y",
        "colab_type": "code",
        "outputId": "6b7e0a67-a7f4-44db-b0ee-2c5442a4e987",
        "colab": {
          "base_uri": "https://localhost:8080/",
          "height": 159
        }
      },
      "source": [
        "# Calculate difference in years\n",
        "years_diff = invoice_year - cohort_year\n",
        "\n",
        "# Calculate difference in months\n",
        "months_diff = invoice_month - cohort_month\n",
        "\n",
        "# Calculate difference in days\n",
        "days_diff = invoice_day - cohort_day\n",
        "\n",
        "# Extract the difference in days from all previous values\n",
        "online['CohortIndex'] = years_diff * 365 + months_diff * 30 + days_diff + 1\n",
        "print(online.head())"
      ],
      "execution_count": 6,
      "outputs": [
        {
          "output_type": "stream",
          "text": [
            "        InvoiceNo StockCode  ...  CohortDay  CohortIndex\n",
            "416792     572558     22745  ... 2011-04-11          195\n",
            "482904     577485     23196  ... 2011-09-12           69\n",
            "263743     560034     23299  ... 2011-07-14            1\n",
            "495549     578307    72349B  ... 2011-11-23            1\n",
            "204384     554656     21756  ... 2011-02-25           91\n",
            "\n",
            "[5 rows x 11 columns]\n"
          ],
          "name": "stdout"
        }
      ]
    },
    {
      "cell_type": "markdown",
      "metadata": {
        "id": "1VA0XNGt8Pr4",
        "colab_type": "text"
      },
      "source": [
        "Retention gives you the percentage of active customers compared to the total number of customers."
      ]
    },
    {
      "cell_type": "markdown",
      "metadata": {
        "id": "2gYTBVhF8d6H",
        "colab_type": "text"
      },
      "source": [
        "Calculate retention rate from scratch"
      ]
    },
    {
      "cell_type": "code",
      "metadata": {
        "id": "iaAOqQge8Zum",
        "colab_type": "code",
        "colab": {}
      },
      "source": [
        "online['CohortMonth']  =  online['CohortDay'].values.astype('datetime64[M]')\n",
        "online['CohortIndex'] = years_diff * 12 + months_diff + 1\n",
        "grouping = online.groupby(['CohortMonth', 'CohortIndex'])\n",
        "# Count the number of unique values per customer ID\n",
        "cohort_data = grouping['CustomerID'].apply(pd.Series.nunique).reset_index()\n",
        "\n",
        "# Create a pivot \n",
        "cohort_counts = cohort_data.pivot(index='CohortMonth', columns='CohortIndex', values='CustomerID')\n",
        "\n",
        "# Select the first column and store it to cohort_sizes\n",
        "cohort_sizes = cohort_counts.iloc[:,0]\n",
        "\n",
        "# Divide the cohort count by cohort sizes along the rows\n",
        "retention = cohort_counts.divide(cohort_sizes, axis=0)"
      ],
      "execution_count": 0,
      "outputs": []
    },
    {
      "cell_type": "code",
      "metadata": {
        "id": "PPaHSSbU93-t",
        "colab_type": "code",
        "outputId": "210c86e1-fe00-497c-fc85-47a227fa7f04",
        "colab": {
          "base_uri": "https://localhost:8080/",
          "height": 488
        }
      },
      "source": [
        "retention"
      ],
      "execution_count": 8,
      "outputs": [
        {
          "output_type": "execute_result",
          "data": {
            "text/html": [
              "<div>\n",
              "<style scoped>\n",
              "    .dataframe tbody tr th:only-of-type {\n",
              "        vertical-align: middle;\n",
              "    }\n",
              "\n",
              "    .dataframe tbody tr th {\n",
              "        vertical-align: top;\n",
              "    }\n",
              "\n",
              "    .dataframe thead th {\n",
              "        text-align: right;\n",
              "    }\n",
              "</style>\n",
              "<table border=\"1\" class=\"dataframe\">\n",
              "  <thead>\n",
              "    <tr style=\"text-align: right;\">\n",
              "      <th>CohortIndex</th>\n",
              "      <th>1</th>\n",
              "      <th>2</th>\n",
              "      <th>3</th>\n",
              "      <th>4</th>\n",
              "      <th>5</th>\n",
              "      <th>6</th>\n",
              "      <th>7</th>\n",
              "      <th>8</th>\n",
              "      <th>9</th>\n",
              "      <th>10</th>\n",
              "      <th>11</th>\n",
              "      <th>12</th>\n",
              "      <th>13</th>\n",
              "    </tr>\n",
              "    <tr>\n",
              "      <th>CohortMonth</th>\n",
              "      <th></th>\n",
              "      <th></th>\n",
              "      <th></th>\n",
              "      <th></th>\n",
              "      <th></th>\n",
              "      <th></th>\n",
              "      <th></th>\n",
              "      <th></th>\n",
              "      <th></th>\n",
              "      <th></th>\n",
              "      <th></th>\n",
              "      <th></th>\n",
              "      <th></th>\n",
              "    </tr>\n",
              "  </thead>\n",
              "  <tbody>\n",
              "    <tr>\n",
              "      <th>2010-12-01</th>\n",
              "      <td>1.0</td>\n",
              "      <td>0.343575</td>\n",
              "      <td>0.308659</td>\n",
              "      <td>0.350559</td>\n",
              "      <td>0.342179</td>\n",
              "      <td>0.398045</td>\n",
              "      <td>0.347765</td>\n",
              "      <td>0.329609</td>\n",
              "      <td>0.335196</td>\n",
              "      <td>0.370112</td>\n",
              "      <td>0.354749</td>\n",
              "      <td>0.486034</td>\n",
              "      <td>0.240223</td>\n",
              "    </tr>\n",
              "    <tr>\n",
              "      <th>2011-01-01</th>\n",
              "      <td>1.0</td>\n",
              "      <td>0.207831</td>\n",
              "      <td>0.246988</td>\n",
              "      <td>0.243976</td>\n",
              "      <td>0.331325</td>\n",
              "      <td>0.271084</td>\n",
              "      <td>0.246988</td>\n",
              "      <td>0.259036</td>\n",
              "      <td>0.313253</td>\n",
              "      <td>0.307229</td>\n",
              "      <td>0.373494</td>\n",
              "      <td>0.135542</td>\n",
              "      <td>NaN</td>\n",
              "    </tr>\n",
              "    <tr>\n",
              "      <th>2011-02-01</th>\n",
              "      <td>1.0</td>\n",
              "      <td>0.183544</td>\n",
              "      <td>0.180380</td>\n",
              "      <td>0.262658</td>\n",
              "      <td>0.268987</td>\n",
              "      <td>0.234177</td>\n",
              "      <td>0.253165</td>\n",
              "      <td>0.262658</td>\n",
              "      <td>0.272152</td>\n",
              "      <td>0.300633</td>\n",
              "      <td>0.088608</td>\n",
              "      <td>NaN</td>\n",
              "      <td>NaN</td>\n",
              "    </tr>\n",
              "    <tr>\n",
              "      <th>2011-03-01</th>\n",
              "      <td>1.0</td>\n",
              "      <td>0.162371</td>\n",
              "      <td>0.257732</td>\n",
              "      <td>0.195876</td>\n",
              "      <td>0.213918</td>\n",
              "      <td>0.172680</td>\n",
              "      <td>0.252577</td>\n",
              "      <td>0.219072</td>\n",
              "      <td>0.275773</td>\n",
              "      <td>0.097938</td>\n",
              "      <td>NaN</td>\n",
              "      <td>NaN</td>\n",
              "      <td>NaN</td>\n",
              "    </tr>\n",
              "    <tr>\n",
              "      <th>2011-04-01</th>\n",
              "      <td>1.0</td>\n",
              "      <td>0.192157</td>\n",
              "      <td>0.203922</td>\n",
              "      <td>0.192157</td>\n",
              "      <td>0.184314</td>\n",
              "      <td>0.203922</td>\n",
              "      <td>0.219608</td>\n",
              "      <td>0.231373</td>\n",
              "      <td>0.066667</td>\n",
              "      <td>NaN</td>\n",
              "      <td>NaN</td>\n",
              "      <td>NaN</td>\n",
              "      <td>NaN</td>\n",
              "    </tr>\n",
              "    <tr>\n",
              "      <th>2011-05-01</th>\n",
              "      <td>1.0</td>\n",
              "      <td>0.160643</td>\n",
              "      <td>0.172691</td>\n",
              "      <td>0.144578</td>\n",
              "      <td>0.208835</td>\n",
              "      <td>0.232932</td>\n",
              "      <td>0.244980</td>\n",
              "      <td>0.088353</td>\n",
              "      <td>NaN</td>\n",
              "      <td>NaN</td>\n",
              "      <td>NaN</td>\n",
              "      <td>NaN</td>\n",
              "      <td>NaN</td>\n",
              "    </tr>\n",
              "    <tr>\n",
              "      <th>2011-06-01</th>\n",
              "      <td>1.0</td>\n",
              "      <td>0.159420</td>\n",
              "      <td>0.125604</td>\n",
              "      <td>0.198068</td>\n",
              "      <td>0.236715</td>\n",
              "      <td>0.299517</td>\n",
              "      <td>0.091787</td>\n",
              "      <td>NaN</td>\n",
              "      <td>NaN</td>\n",
              "      <td>NaN</td>\n",
              "      <td>NaN</td>\n",
              "      <td>NaN</td>\n",
              "      <td>NaN</td>\n",
              "    </tr>\n",
              "    <tr>\n",
              "      <th>2011-07-01</th>\n",
              "      <td>1.0</td>\n",
              "      <td>0.161850</td>\n",
              "      <td>0.179191</td>\n",
              "      <td>0.219653</td>\n",
              "      <td>0.254335</td>\n",
              "      <td>0.098266</td>\n",
              "      <td>NaN</td>\n",
              "      <td>NaN</td>\n",
              "      <td>NaN</td>\n",
              "      <td>NaN</td>\n",
              "      <td>NaN</td>\n",
              "      <td>NaN</td>\n",
              "      <td>NaN</td>\n",
              "    </tr>\n",
              "    <tr>\n",
              "      <th>2011-08-01</th>\n",
              "      <td>1.0</td>\n",
              "      <td>0.215827</td>\n",
              "      <td>0.201439</td>\n",
              "      <td>0.251799</td>\n",
              "      <td>0.100719</td>\n",
              "      <td>NaN</td>\n",
              "      <td>NaN</td>\n",
              "      <td>NaN</td>\n",
              "      <td>NaN</td>\n",
              "      <td>NaN</td>\n",
              "      <td>NaN</td>\n",
              "      <td>NaN</td>\n",
              "      <td>NaN</td>\n",
              "    </tr>\n",
              "    <tr>\n",
              "      <th>2011-09-01</th>\n",
              "      <td>1.0</td>\n",
              "      <td>0.200717</td>\n",
              "      <td>0.279570</td>\n",
              "      <td>0.121864</td>\n",
              "      <td>NaN</td>\n",
              "      <td>NaN</td>\n",
              "      <td>NaN</td>\n",
              "      <td>NaN</td>\n",
              "      <td>NaN</td>\n",
              "      <td>NaN</td>\n",
              "      <td>NaN</td>\n",
              "      <td>NaN</td>\n",
              "      <td>NaN</td>\n",
              "    </tr>\n",
              "    <tr>\n",
              "      <th>2011-10-01</th>\n",
              "      <td>1.0</td>\n",
              "      <td>0.210692</td>\n",
              "      <td>0.094340</td>\n",
              "      <td>NaN</td>\n",
              "      <td>NaN</td>\n",
              "      <td>NaN</td>\n",
              "      <td>NaN</td>\n",
              "      <td>NaN</td>\n",
              "      <td>NaN</td>\n",
              "      <td>NaN</td>\n",
              "      <td>NaN</td>\n",
              "      <td>NaN</td>\n",
              "      <td>NaN</td>\n",
              "    </tr>\n",
              "    <tr>\n",
              "      <th>2011-11-01</th>\n",
              "      <td>1.0</td>\n",
              "      <td>0.109966</td>\n",
              "      <td>NaN</td>\n",
              "      <td>NaN</td>\n",
              "      <td>NaN</td>\n",
              "      <td>NaN</td>\n",
              "      <td>NaN</td>\n",
              "      <td>NaN</td>\n",
              "      <td>NaN</td>\n",
              "      <td>NaN</td>\n",
              "      <td>NaN</td>\n",
              "      <td>NaN</td>\n",
              "      <td>NaN</td>\n",
              "    </tr>\n",
              "    <tr>\n",
              "      <th>2011-12-01</th>\n",
              "      <td>1.0</td>\n",
              "      <td>NaN</td>\n",
              "      <td>NaN</td>\n",
              "      <td>NaN</td>\n",
              "      <td>NaN</td>\n",
              "      <td>NaN</td>\n",
              "      <td>NaN</td>\n",
              "      <td>NaN</td>\n",
              "      <td>NaN</td>\n",
              "      <td>NaN</td>\n",
              "      <td>NaN</td>\n",
              "      <td>NaN</td>\n",
              "      <td>NaN</td>\n",
              "    </tr>\n",
              "  </tbody>\n",
              "</table>\n",
              "</div>"
            ],
            "text/plain": [
              "CohortIndex   1         2         3   ...        11        12        13\n",
              "CohortMonth                           ...                              \n",
              "2010-12-01   1.0  0.343575  0.308659  ...  0.354749  0.486034  0.240223\n",
              "2011-01-01   1.0  0.207831  0.246988  ...  0.373494  0.135542       NaN\n",
              "2011-02-01   1.0  0.183544  0.180380  ...  0.088608       NaN       NaN\n",
              "2011-03-01   1.0  0.162371  0.257732  ...       NaN       NaN       NaN\n",
              "2011-04-01   1.0  0.192157  0.203922  ...       NaN       NaN       NaN\n",
              "2011-05-01   1.0  0.160643  0.172691  ...       NaN       NaN       NaN\n",
              "2011-06-01   1.0  0.159420  0.125604  ...       NaN       NaN       NaN\n",
              "2011-07-01   1.0  0.161850  0.179191  ...       NaN       NaN       NaN\n",
              "2011-08-01   1.0  0.215827  0.201439  ...       NaN       NaN       NaN\n",
              "2011-09-01   1.0  0.200717  0.279570  ...       NaN       NaN       NaN\n",
              "2011-10-01   1.0  0.210692  0.094340  ...       NaN       NaN       NaN\n",
              "2011-11-01   1.0  0.109966       NaN  ...       NaN       NaN       NaN\n",
              "2011-12-01   1.0       NaN       NaN  ...       NaN       NaN       NaN\n",
              "\n",
              "[13 rows x 13 columns]"
            ]
          },
          "metadata": {
            "tags": []
          },
          "execution_count": 8
        }
      ]
    },
    {
      "cell_type": "markdown",
      "metadata": {
        "id": "t638TQX_KfTL",
        "colab_type": "text"
      },
      "source": [
        "Calculate average price\n",
        "\n",
        "You will now calculate the average price metric and analyze if there are any differences in shopping patterns across time and across cohorts."
      ]
    },
    {
      "cell_type": "code",
      "metadata": {
        "id": "_eCSeiaJKIVO",
        "colab_type": "code",
        "outputId": "36dee582-2b57-4660-f733-0f8ec12f9247",
        "colab": {
          "base_uri": "https://localhost:8080/",
          "height": 283
        }
      },
      "source": [
        "# Create a groupby object and pass the monthly cohort and cohort index as a list\n",
        "grouping = online.groupby(['CohortMonth', 'CohortIndex']) \n",
        "\n",
        "# Calculate the average of the unit price column\n",
        "cohort_data = grouping['UnitPrice'].mean()\n",
        "\n",
        "# Reset the index of cohort_data\n",
        "cohort_data = cohort_data.reset_index()\n",
        "\n",
        "# Create a pivot \n",
        "average_price = cohort_data.pivot(index='CohortMonth', columns='CohortIndex', values='UnitPrice')\n",
        "print(average_price.round(1))"
      ],
      "execution_count": 9,
      "outputs": [
        {
          "output_type": "stream",
          "text": [
            "CohortIndex   1    2    3    4    5    6    7    8    9    10   11   12   13\n",
            "CohortMonth                                                                 \n",
            "2010-12-01   3.0  3.0  3.0  2.8  2.7  6.9  2.8  3.0  2.7  2.7  3.0  2.8  2.6\n",
            "2011-01-01   3.2  3.1  3.0  3.0  3.1  3.0  3.0  2.5  2.7  2.9  2.6  2.0  NaN\n",
            "2011-02-01   3.1  4.0  3.3  2.9  3.3  2.9  2.8  2.7  2.9  2.7  3.1  NaN  NaN\n",
            "2011-03-01   3.5  3.6  3.5  2.8  2.7  2.5  2.7  2.9  2.5  2.4  NaN  NaN  NaN\n",
            "2011-04-01   3.3  4.4  3.4  2.6  2.8  2.8  2.8  2.6  2.6  NaN  NaN  NaN  NaN\n",
            "2011-05-01   3.1  2.8  2.5  2.7  2.5  2.3  2.7  2.3  NaN  NaN  NaN  NaN  NaN\n",
            "2011-06-01   2.8  2.4  2.7  3.1  2.5  2.4  2.5  NaN  NaN  NaN  NaN  NaN  NaN\n",
            "2011-07-01   3.2  3.1  3.4  2.5  2.4  2.3  NaN  NaN  NaN  NaN  NaN  NaN  NaN\n",
            "2011-08-01   2.9  3.7  5.4  6.9  4.2  NaN  NaN  NaN  NaN  NaN  NaN  NaN  NaN\n",
            "2011-09-01   2.9  3.1  3.0  2.6  NaN  NaN  NaN  NaN  NaN  NaN  NaN  NaN  NaN\n",
            "2011-10-01   2.9  2.7  2.5  NaN  NaN  NaN  NaN  NaN  NaN  NaN  NaN  NaN  NaN\n",
            "2011-11-01   2.5  2.1  NaN  NaN  NaN  NaN  NaN  NaN  NaN  NaN  NaN  NaN  NaN\n",
            "2011-12-01   1.9  NaN  NaN  NaN  NaN  NaN  NaN  NaN  NaN  NaN  NaN  NaN  NaN\n"
          ],
          "name": "stdout"
        }
      ]
    },
    {
      "cell_type": "code",
      "metadata": {
        "id": "BaAdMujMMVec",
        "colab_type": "code",
        "outputId": "688af890-edce-47a7-9947-8818c2f4260c",
        "colab": {
          "base_uri": "https://localhost:8080/",
          "height": 404
        }
      },
      "source": [
        "# Import seaborn package as sns\n",
        "import seaborn as sns\n",
        "\n",
        "# Initialize an 8 by 6 inches plot figure\n",
        "plt.figure(figsize=(8, 6))\n",
        "\n",
        "# Add a title\n",
        "plt.title('Average Spend by Monthly Cohorts')\n",
        "average_price.index = average_price.index.strftime('%Y-%m-%d')\n",
        "# Create the heatmap\n",
        "sns.heatmap(average_price, annot=True, cmap='Blues')\n",
        "plt.show()"
      ],
      "execution_count": 10,
      "outputs": [
        {
          "output_type": "display_data",
          "data": {
            "image/png": "[encoded data removed]",
            "text/plain": [
              "<Figure size 576x432 with 2 Axes>"
            ]
          },
          "metadata": {
            "tags": [],
            "needs_background": "light"
          }
        }
      ]
    },
    {
      "cell_type": "markdown",
      "metadata": {
        "id": "Fcfq9KVsQcfZ",
        "colab_type": "text"
      },
      "source": [
        "## Recency, Frequency, Monetary Value analysis"
      ]
    },
    {
      "cell_type": "markdown",
      "metadata": {
        "id": "sMHPSUB_UrCC",
        "colab_type": "text"
      },
      "source": [
        "What is RFM segmentation?\n",
        "\n",
        "Behavioral customer segmentation based on three metrics:\n",
        "- Recency (R)\n",
        "- Frequency (F)\n",
        "- Monetary Value (M)"
      ]
    },
    {
      "cell_type": "markdown",
      "metadata": {
        "id": "a_xs01cEV1zP",
        "colab_type": "text"
      },
      "source": [
        "Definitions\n",
        "- Recency - days since last customer transaction\n",
        "- Frequency - number of transactions in the last 12 months\n",
        "- Monetary Value - total spend in the last 12 months"
      ]
    },
    {
      "cell_type": "markdown",
      "metadata": {
        "id": "xqWEoTHCUuw6",
        "colab_type": "text"
      },
      "source": [
        "Grouping RFM values\n",
        "\n",
        "The RFM values can be grouped in several ways:\n",
        "\n",
        "- Percentiles e.g. quantiles\n",
        "- Pareto 80/20 cut\n",
        "- Custom - based on business knowledge\n",
        "\n",
        "We are going to implement percentile-based grouping."
      ]
    },
    {
      "cell_type": "markdown",
      "metadata": {
        "id": "3ThttjtCU2dH",
        "colab_type": "text"
      },
      "source": [
        "Short review of percentiles\n",
        "\n",
        "Process of calculating percentiles:\n",
        "1. Sort customers based on that metric\n",
        "2. Break customers into a pre-defined number of groups of equal size\n",
        "3. Assign a label to each group"
      ]
    },
    {
      "cell_type": "markdown",
      "metadata": {
        "id": "jEaIyzk1QfvR",
        "colab_type": "text"
      },
      "source": [
        "Calculate Spend quartiles (q=4)\n",
        "\n",
        "We have created a dataset for you with random CustomerID and Spend values as data. You will now use this dataset to group customers into quartiles based on Spend values and assign labels to each of them. "
      ]
    },
    {
      "cell_type": "code",
      "metadata": {
        "id": "N4KLtTcHRqKb",
        "colab_type": "code",
        "outputId": "f790c03a-c75d-4212-fd2f-6bcd46a247cd",
        "colab": {
          "base_uri": "https://localhost:8080/",
          "height": 159
        }
      },
      "source": [
        "import random\n",
        "\n",
        "data = pd.DataFrame()\n",
        "data['CustomerID'] = list(range(7))\n",
        "data['Spend'] = random.sample(range(100, 301), 7)\n",
        "\n",
        "# Create a spend quartile with 4 groups - a range between 1 and 5\n",
        "spend_quartile = pd.qcut(data['Spend'], q=4, labels=range(1,5))\n",
        "\n",
        "# Assign the quartile values to the Spend_Quartile column in data\n",
        "data['Spend_Quartile'] = spend_quartile\n",
        "\n",
        "# Print data with sorted Spend values\n",
        "print(data.sort_values('Spend'))"
      ],
      "execution_count": 11,
      "outputs": [
        {
          "output_type": "stream",
          "text": [
            "   CustomerID  Spend Spend_Quartile\n",
            "3           3    120              1\n",
            "2           2    146              1\n",
            "4           4    151              2\n",
            "1           1    193              2\n",
            "0           0    248              3\n",
            "5           5    260              4\n",
            "6           6    268              4\n"
          ],
          "name": "stdout"
        }
      ]
    },
    {
      "cell_type": "markdown",
      "metadata": {
        "id": "cTg3JVx_TW9N",
        "colab_type": "text"
      },
      "source": [
        "Calculate Recency deciles (q=4)"
      ]
    },
    {
      "cell_type": "code",
      "metadata": {
        "id": "NnOCALLzTlxl",
        "colab_type": "code",
        "outputId": "fd133aa8-d63a-45ad-fcea-a29e9e19f944",
        "colab": {
          "base_uri": "https://localhost:8080/",
          "height": 159
        }
      },
      "source": [
        "data = pd.DataFrame()\n",
        "data['CustomerID'] = list(range(7))\n",
        "data['Recency_Days'] = random.sample(range(100, 301), 7)\n",
        "\n",
        "# Store labels from 4 to 1 in a decreasing order\n",
        "r_labels = list(range(4, 0, -1))\n",
        "\n",
        "# Create a spend quartile with 4 groups and pass the previously created labels \n",
        "recency_quartiles = pd.qcut(data['Recency_Days'], q=4, labels=r_labels)\n",
        "\n",
        "# Assign the quartile values to the Recency_Quartile column in `data`\n",
        "data['Recency_Quartile'] = recency_quartiles \n",
        "\n",
        "# Print `data` with sorted Recency_Days values\n",
        "print(data.sort_values('Recency_Days'))"
      ],
      "execution_count": 12,
      "outputs": [
        {
          "output_type": "stream",
          "text": [
            "   CustomerID  Recency_Days Recency_Quartile\n",
            "2           2           140                4\n",
            "3           3           155                4\n",
            "0           0           167                3\n",
            "6           6           194                3\n",
            "1           1           213                2\n",
            "5           5           268                1\n",
            "4           4           275                1\n"
          ],
          "name": "stdout"
        }
      ]
    },
    {
      "cell_type": "markdown",
      "metadata": {
        "id": "5BjxVTu6UkYE",
        "colab_type": "text"
      },
      "source": [
        "Calculate RFM values\n",
        "\n",
        "Calculate Recency, Frequency and Monetary values for the online dataset we have used before - it has been loaded for you with recent 12 months of data. There's a TotalSum column in the online dataset which has been calculated by multiplying Quantity and UnitPrice: online['Quantity'] * online['UnitPrice'].\n",
        "\n",
        "Also, we have created a snapshot_date variable that you can use to calculate recency. Feel free to print the online dataset and the snapshot_date into the Console. The pandas library is loaded as pd, and datetime as dt."
      ]
    },
    {
      "cell_type": "code",
      "metadata": {
        "id": "0wJBNoE7QkmK",
        "colab_type": "code",
        "outputId": "cdabcd04-de05-4dec-c1b8-4d5a7960ba95",
        "colab": {
          "base_uri": "https://localhost:8080/",
          "height": 212
        }
      },
      "source": [
        "!wget https://assets.datacamp.com/production/repositories/3202/datasets/9c670a495912949de0166c3ce690bad536ccf621/chapter_2.zip"
      ],
      "execution_count": 13,
      "outputs": [
        {
          "output_type": "stream",
          "text": [
            "--2020-06-10 02:36:36--  https://assets.datacamp.com/production/repositories/3202/datasets/9c670a495912949de0166c3ce690bad536ccf621/chapter_2.zip\n",
            "Resolving assets.datacamp.com (assets.datacamp.com)... 13.226.46.129, 13.226.46.10, 13.226.46.98, ...\n",
            "Connecting to assets.datacamp.com (assets.datacamp.com)|13.226.46.129|:443... connected.\n",
            "HTTP request sent, awaiting response... 200 OK\n",
            "Length: 1928414 (1.8M)\n",
            "Saving to: ‘chapter_2.zip.1’\n",
            "\n",
            "\rchapter_2.zip.1       0%[                    ]       0  --.-KB/s               \rchapter_2.zip.1     100%[===================>]   1.84M  11.5MB/s    in 0.2s    \n",
            "\n",
            "2020-06-10 02:36:37 (11.5 MB/s) - ‘chapter_2.zip.1’ saved [1928414/1928414]\n",
            "\n"
          ],
          "name": "stdout"
        }
      ]
    },
    {
      "cell_type": "code",
      "metadata": {
        "id": "No0QJyMiQ9PT",
        "colab_type": "code",
        "outputId": "0a058c22-32d1-496d-882a-c9b2ff275b25",
        "colab": {
          "base_uri": "https://localhost:8080/",
          "height": 206
        }
      },
      "source": [
        "# load data\n",
        "# ['online12M.csv', '__MACOSX/', '__MACOSX/._online12M.csv', 'datamart_rfm.csv', '__MACOSX/._datamart_rfm.csv', 'datamart_rfm_scores_named_segment.csv', '__MACOSX/._datamart_rfm_scores_named_segment.csv', 'datamart_rfm_and_scores.csv', '__MACOSX/._datamart_rfm_and_scores.csv']\n",
        "\n",
        "\n",
        "zf = zipfile.ZipFile('chapter_2.zip') \n",
        "online = pd.read_csv(zf.open('online12M.csv'), index_col=0)\n",
        "online.head()"
      ],
      "execution_count": 27,
      "outputs": [
        {
          "output_type": "execute_result",
          "data": {
            "text/html": [
              "<div>\n",
              "<style scoped>\n",
              "    .dataframe tbody tr th:only-of-type {\n",
              "        vertical-align: middle;\n",
              "    }\n",
              "\n",
              "    .dataframe tbody tr th {\n",
              "        vertical-align: top;\n",
              "    }\n",
              "\n",
              "    .dataframe thead th {\n",
              "        text-align: right;\n",
              "    }\n",
              "</style>\n",
              "<table border=\"1\" class=\"dataframe\">\n",
              "  <thead>\n",
              "    <tr style=\"text-align: right;\">\n",
              "      <th></th>\n",
              "      <th>InvoiceNo</th>\n",
              "      <th>StockCode</th>\n",
              "      <th>Description</th>\n",
              "      <th>Quantity</th>\n",
              "      <th>InvoiceDate</th>\n",
              "      <th>UnitPrice</th>\n",
              "      <th>CustomerID</th>\n",
              "      <th>Country</th>\n",
              "    </tr>\n",
              "  </thead>\n",
              "  <tbody>\n",
              "    <tr>\n",
              "      <th>416792</th>\n",
              "      <td>572558</td>\n",
              "      <td>22745</td>\n",
              "      <td>POPPY'S PLAYHOUSE BEDROOM</td>\n",
              "      <td>6</td>\n",
              "      <td>2011-10-25</td>\n",
              "      <td>2.10</td>\n",
              "      <td>14286</td>\n",
              "      <td>United Kingdom</td>\n",
              "    </tr>\n",
              "    <tr>\n",
              "      <th>482904</th>\n",
              "      <td>577485</td>\n",
              "      <td>23196</td>\n",
              "      <td>VINTAGE LEAF MAGNETIC NOTEPAD</td>\n",
              "      <td>1</td>\n",
              "      <td>2011-11-20</td>\n",
              "      <td>1.45</td>\n",
              "      <td>16360</td>\n",
              "      <td>United Kingdom</td>\n",
              "    </tr>\n",
              "    <tr>\n",
              "      <th>263743</th>\n",
              "      <td>560034</td>\n",
              "      <td>23299</td>\n",
              "      <td>FOOD COVER WITH BEADS SET 2</td>\n",
              "      <td>6</td>\n",
              "      <td>2011-07-14</td>\n",
              "      <td>3.75</td>\n",
              "      <td>13933</td>\n",
              "      <td>United Kingdom</td>\n",
              "    </tr>\n",
              "    <tr>\n",
              "      <th>495549</th>\n",
              "      <td>578307</td>\n",
              "      <td>72349B</td>\n",
              "      <td>SET/6 PURPLE BUTTERFLY T-LIGHTS</td>\n",
              "      <td>1</td>\n",
              "      <td>2011-11-23</td>\n",
              "      <td>2.10</td>\n",
              "      <td>17290</td>\n",
              "      <td>United Kingdom</td>\n",
              "    </tr>\n",
              "    <tr>\n",
              "      <th>204384</th>\n",
              "      <td>554656</td>\n",
              "      <td>21756</td>\n",
              "      <td>BATH BUILDING BLOCK WORD</td>\n",
              "      <td>3</td>\n",
              "      <td>2011-05-25</td>\n",
              "      <td>5.95</td>\n",
              "      <td>17663</td>\n",
              "      <td>United Kingdom</td>\n",
              "    </tr>\n",
              "  </tbody>\n",
              "</table>\n",
              "</div>"
            ],
            "text/plain": [
              "        InvoiceNo StockCode  ... CustomerID         Country\n",
              "416792     572558     22745  ...      14286  United Kingdom\n",
              "482904     577485     23196  ...      16360  United Kingdom\n",
              "263743     560034     23299  ...      13933  United Kingdom\n",
              "495549     578307    72349B  ...      17290  United Kingdom\n",
              "204384     554656     21756  ...      17663  United Kingdom\n",
              "\n",
              "[5 rows x 8 columns]"
            ]
          },
          "metadata": {
            "tags": []
          },
          "execution_count": 27
        }
      ]
    },
    {
      "cell_type": "code",
      "metadata": {
        "id": "VRx8z1TVVKov",
        "colab_type": "code",
        "outputId": "86422ca8-4fcb-41ea-cb4e-b7aa5ed74864",
        "colab": {
          "base_uri": "https://localhost:8080/",
          "height": 141
        }
      },
      "source": [
        "import datetime\n",
        "\n",
        "online['InvoiceDate'] = pd.to_datetime(online['InvoiceDate'])\n",
        "online['TotalSum'] = online['Quantity'] * online['UnitPrice']\n",
        "snapshot_date = max(online.InvoiceDate) + datetime.timedelta(days=1)\n",
        "\n",
        "# Calculate Recency, Frequency and Monetary value for each customer \n",
        "datamart = online.groupby(['CustomerID']).agg({\n",
        "    'InvoiceDate': lambda x: (snapshot_date - x.max()).days,\n",
        "    'InvoiceNo': 'count',\n",
        "    'TotalSum': 'sum'})\n",
        "\n",
        "# Rename the columns \n",
        "datamart.rename(columns={'InvoiceDate': 'Recency',\n",
        "                         'InvoiceNo': 'Frequency',\n",
        "                         'TotalSum': 'MonetaryValue'}, inplace=True)\n",
        "\n",
        "# Print top 5 rows\n",
        "print(datamart.head())"
      ],
      "execution_count": 28,
      "outputs": [
        {
          "output_type": "stream",
          "text": [
            "            Recency  Frequency  MonetaryValue\n",
            "CustomerID                                   \n",
            "12747             3         25         948.70\n",
            "12748             1        888        7046.16\n",
            "12749             4         37         813.45\n",
            "12820             4         17         268.02\n",
            "12822            71          9         146.15\n"
          ],
          "name": "stdout"
        }
      ]
    },
    {
      "cell_type": "markdown",
      "metadata": {
        "id": "s8L0qqy-DbUo",
        "colab_type": "text"
      },
      "source": [
        "Calculate 3 groups for Recency and Frequency\n",
        "\n",
        "You will now group the customers into three separate groups based on Recency, and Frequency.\n",
        "\n",
        "The dataset has been loaded as datamart, you can use console to view top rows of it. Also, pandas has been loaded as pd.\n",
        "\n",
        "We will use the result from the exercise in the next one, where you will group customers based on the MonetaryValue and finally calculate and RFM_Score.\n",
        "\n",
        "Once completed, print the results to the screen to make sure you have successfully created the quartile columns."
      ]
    },
    {
      "cell_type": "code",
      "metadata": {
        "id": "3On1WYinDb_s",
        "colab_type": "code",
        "colab": {}
      },
      "source": [
        "# Create labels for Recency and Frequency\n",
        "r_labels = range(4, 0, -1); f_labels = range(1, 5)\n",
        "\n",
        "# Assign these labels to three equal percentile groups \n",
        "r_groups = pd.qcut(datamart['Recency'], q=4, labels=r_labels)\n",
        "\n",
        "# Assign these labels to three equal percentile groups \n",
        "f_groups = pd.qcut(datamart['Frequency'], q=4, labels=f_labels)\n",
        "\n",
        "# Create new columns R and F\n",
        "datamart = datamart.assign(R=r_groups.values, F=f_groups.values)"
      ],
      "execution_count": 0,
      "outputs": []
    },
    {
      "cell_type": "markdown",
      "metadata": {
        "id": "PQiHQ5i2Dh4t",
        "colab_type": "text"
      },
      "source": [
        "Calculate RFM Score\n",
        "\n",
        "Great work, you will now finish the job by assigning customers to three groups based on the MonetaryValue percentiles and then calculate an RFM_Score which is a sum of the R, F, and M values.\n",
        "\n",
        "The datamart has been loaded with the R and F values you have created in the previous exercise."
      ]
    },
    {
      "cell_type": "code",
      "metadata": {
        "id": "6ScPGrfmDicL",
        "colab_type": "code",
        "colab": {
          "base_uri": "https://localhost:8080/",
          "height": 141
        },
        "outputId": "75ca91ea-a408-4b4c-f0e2-8fbd02a8b6e4"
      },
      "source": [
        "# Create labels for MonetaryValue \n",
        "m_labels = range(1, 5)\n",
        "\n",
        "# Assign these labels to three equal percentile groups\n",
        "m_groups = pd.qcut(datamart['MonetaryValue'], q=4, labels=m_labels)\n",
        "\n",
        "# Create new column M\n",
        "datamart = datamart.assign(M=m_groups.values)\n",
        "\n",
        "# Calculate RFM_Score\n",
        "datamart['RFM_Score'] = datamart[['R','F','M']].sum(axis=1)\n",
        "print(datamart['RFM_Score'].head())"
      ],
      "execution_count": 30,
      "outputs": [
        {
          "output_type": "stream",
          "text": [
            "CustomerID\n",
            "12747    12.0\n",
            "12748    12.0\n",
            "12749    12.0\n",
            "12820    10.0\n",
            "12822     7.0\n",
            "Name: RFM_Score, dtype: float64\n"
          ],
          "name": "stdout"
        }
      ]
    },
    {
      "cell_type": "markdown",
      "metadata": {
        "id": "N_mOnAgWE1IG",
        "colab_type": "text"
      },
      "source": [
        "Creating custom segments\n",
        "\n",
        "It's your turn to create a custom segmentation based on RFM_Score values. You will create a function to build segmentation and then assign it to each customer.\n",
        "\n",
        "The dataset with the RFM values, RFM Segment and Score has been loaded as datamart, together with pandas and numpy libraries. Feel free to explore the data in the console."
      ]
    },
    {
      "cell_type": "code",
      "metadata": {
        "id": "PtGR40vRE1uS",
        "colab_type": "code",
        "colab": {
          "base_uri": "https://localhost:8080/",
          "height": 141
        },
        "outputId": "5355b378-e658-4f26-f38b-f6046cc91491"
      },
      "source": [
        "# Define rfm_level function\n",
        "def rfm_level(df):\n",
        "    if df['RFM_Score'] >= 10:\n",
        "        return 'Top'\n",
        "    elif ((df['RFM_Score'] >= 6) and (df['RFM_Score'] < 10)):\n",
        "        return 'Middle'\n",
        "    else:\n",
        "        return 'Low'\n",
        "\n",
        "# Create a new variable RFM_Level\n",
        "datamart['RFM_Level'] = datamart.apply(rfm_level, axis=1)\n",
        "\n",
        "# Print the header with the top 5 rows to the console.\n",
        "print(datamart.head())"
      ],
      "execution_count": 31,
      "outputs": [
        {
          "output_type": "stream",
          "text": [
            "            Recency  Frequency  MonetaryValue  R  F  M  RFM_Score RFM_Level\n",
            "CustomerID                                                                 \n",
            "12747             3         25         948.70  4  4  4       12.0       Top\n",
            "12748             1        888        7046.16  4  4  4       12.0       Top\n",
            "12749             4         37         813.45  4  4  4       12.0       Top\n",
            "12820             4         17         268.02  4  3  3       10.0       Top\n",
            "12822            71          9         146.15  2  2  3        7.0    Middle\n"
          ],
          "name": "stdout"
        }
      ]
    },
    {
      "cell_type": "markdown",
      "metadata": {
        "id": "TmBUFFfOE8Ex",
        "colab_type": "text"
      },
      "source": [
        "Analyzing custom segments\n",
        "\n",
        "As a final step, you will analyze average values of Recency, Frequency and MonetaryValue for the custom segments you've created. "
      ]
    },
    {
      "cell_type": "code",
      "metadata": {
        "id": "WAW5a-LkE-qr",
        "colab_type": "code",
        "colab": {
          "base_uri": "https://localhost:8080/",
          "height": 124
        },
        "outputId": "0ed1ba95-54ae-4244-f7bf-de9034ed03e3"
      },
      "source": [
        "# Calculate average values for each RFM_Level, and return a size of each segment \n",
        "rfm_level_agg = datamart.groupby('RFM_Level').agg({\n",
        "    'Recency': 'mean',\n",
        "    'Frequency': 'mean',\n",
        "  \n",
        "  \t# Return the size of each segment\n",
        "    'MonetaryValue': ['mean', 'count']\n",
        "}).round(1)\n",
        "\n",
        "# Print the aggregated dataset\n",
        "print(rfm_level_agg)"
      ],
      "execution_count": 32,
      "outputs": [
        {
          "output_type": "stream",
          "text": [
            "          Recency Frequency MonetaryValue      \n",
            "             mean      mean          mean count\n",
            "RFM_Level                                      \n",
            "Low         180.8       3.2          52.7  1075\n",
            "Middle       73.9      10.7         202.9  1547\n",
            "Top          20.3      47.1         959.7  1021\n"
          ],
          "name": "stdout"
        }
      ]
    },
    {
      "cell_type": "markdown",
      "metadata": {
        "id": "c5b_UivAV1iD",
        "colab_type": "text"
      },
      "source": [
        "## Data pre-processing for clustering"
      ]
    },
    {
      "cell_type": "markdown",
      "metadata": {
        "id": "hbgiAtltV5vW",
        "colab_type": "text"
      },
      "source": [
        "Advantages of k-means clustering\n",
        "- One of the most popular unsupervised learning method\n",
        "- Simple and fast\n",
        "- Works well*\n",
        "\n",
        " with certain assumptions about the data"
      ]
    },
    {
      "cell_type": "markdown",
      "metadata": {
        "id": "wn_TKgQaWO5j",
        "colab_type": "text"
      },
      "source": [
        "Key k-means assumptions\n",
        "- Symmetric distribution of variables (not skewed)\n",
        "- Variables with same average values\n",
        "- Variables with same variance"
      ]
    },
    {
      "cell_type": "markdown",
      "metadata": {
        "id": "Bh4hYnRRWSG_",
        "colab_type": "text"
      },
      "source": [
        "Skewed variables\n",
        "- Left-skewed\n",
        "- Right-skewed\n",
        "- Skew removed with logarithmic transformation"
      ]
    },
    {
      "cell_type": "code",
      "metadata": {
        "id": "ybJw47I8XrYm",
        "colab_type": "code",
        "colab": {
          "base_uri": "https://localhost:8080/",
          "height": 212
        },
        "outputId": "fd79ecce-3ec8-4643-b88a-b80ad02b576e"
      },
      "source": [
        "!wget https://assets.datacamp.com/production/repositories/3202/datasets/cc496bdfda1d59a462bf7ff3e4117bcd34c76b35/chapter_3.zip"
      ],
      "execution_count": 34,
      "outputs": [
        {
          "output_type": "stream",
          "text": [
            "--2020-06-10 03:56:29--  https://assets.datacamp.com/production/repositories/3202/datasets/cc496bdfda1d59a462bf7ff3e4117bcd34c76b35/chapter_3.zip\n",
            "Resolving assets.datacamp.com (assets.datacamp.com)... 13.226.46.10, 13.226.46.129, 13.226.46.98, ...\n",
            "Connecting to assets.datacamp.com (assets.datacamp.com)|13.226.46.10|:443... connected.\n",
            "HTTP request sent, awaiting response... 200 OK\n",
            "Length: 100465 (98K)\n",
            "Saving to: ‘chapter_3.zip’\n",
            "\n",
            "\rchapter_3.zip         0%[                    ]       0  --.-KB/s               \rchapter_3.zip       100%[===================>]  98.11K  --.-KB/s    in 0.05s   \n",
            "\n",
            "2020-06-10 03:56:29 (1.99 MB/s) - ‘chapter_3.zip’ saved [100465/100465]\n",
            "\n"
          ],
          "name": "stdout"
        }
      ]
    },
    {
      "cell_type": "code",
      "metadata": {
        "id": "TmBA7SRWXuR-",
        "colab_type": "code",
        "colab": {
          "base_uri": "https://localhost:8080/",
          "height": 237
        },
        "outputId": "0cfc2ed3-ae87-4d50-e4c7-17cba87a2bc4"
      },
      "source": [
        "# load data\n",
        "# ['rfm_datamart.csv', 'datamart_normalized_df.csv']\n",
        "\n",
        "\n",
        "zf = zipfile.ZipFile('chapter_3.zip') \n",
        "datamart_rfm = pd.read_csv(zf.open('rfm_datamart.csv'), index_col=0)\n",
        "datamart_rfm.head()"
      ],
      "execution_count": 44,
      "outputs": [
        {
          "output_type": "execute_result",
          "data": {
            "text/html": [
              "<div>\n",
              "<style scoped>\n",
              "    .dataframe tbody tr th:only-of-type {\n",
              "        vertical-align: middle;\n",
              "    }\n",
              "\n",
              "    .dataframe tbody tr th {\n",
              "        vertical-align: top;\n",
              "    }\n",
              "\n",
              "    .dataframe thead th {\n",
              "        text-align: right;\n",
              "    }\n",
              "</style>\n",
              "<table border=\"1\" class=\"dataframe\">\n",
              "  <thead>\n",
              "    <tr style=\"text-align: right;\">\n",
              "      <th></th>\n",
              "      <th>Recency</th>\n",
              "      <th>Frequency</th>\n",
              "      <th>MonetaryValue</th>\n",
              "    </tr>\n",
              "    <tr>\n",
              "      <th>CustomerID</th>\n",
              "      <th></th>\n",
              "      <th></th>\n",
              "      <th></th>\n",
              "    </tr>\n",
              "  </thead>\n",
              "  <tbody>\n",
              "    <tr>\n",
              "      <th>12747</th>\n",
              "      <td>3</td>\n",
              "      <td>25</td>\n",
              "      <td>948.70</td>\n",
              "    </tr>\n",
              "    <tr>\n",
              "      <th>12748</th>\n",
              "      <td>1</td>\n",
              "      <td>888</td>\n",
              "      <td>7046.16</td>\n",
              "    </tr>\n",
              "    <tr>\n",
              "      <th>12749</th>\n",
              "      <td>4</td>\n",
              "      <td>37</td>\n",
              "      <td>813.45</td>\n",
              "    </tr>\n",
              "    <tr>\n",
              "      <th>12820</th>\n",
              "      <td>4</td>\n",
              "      <td>17</td>\n",
              "      <td>268.02</td>\n",
              "    </tr>\n",
              "    <tr>\n",
              "      <th>12822</th>\n",
              "      <td>71</td>\n",
              "      <td>9</td>\n",
              "      <td>146.15</td>\n",
              "    </tr>\n",
              "  </tbody>\n",
              "</table>\n",
              "</div>"
            ],
            "text/plain": [
              "            Recency  Frequency  MonetaryValue\n",
              "CustomerID                                   \n",
              "12747             3         25         948.70\n",
              "12748             1        888        7046.16\n",
              "12749             4         37         813.45\n",
              "12820             4         17         268.02\n",
              "12822            71          9         146.15"
            ]
          },
          "metadata": {
            "tags": []
          },
          "execution_count": 44
        }
      ]
    },
    {
      "cell_type": "code",
      "metadata": {
        "id": "05JygCqzWvXW",
        "colab_type": "code",
        "colab": {
          "base_uri": "https://localhost:8080/",
          "height": 319
        },
        "outputId": "09a09ce6-d170-46e9-ca98-89812c00a6f5"
      },
      "source": [
        "# Print the average values of the variables in the dataset\n",
        "print(data.mean())\n",
        "\n",
        "# Print the standard deviation of the variables in the dataset\n",
        "print(data.std())\n",
        "\n",
        "# Use `describe` function to get key statistics of the dataset\n",
        "print(data.describe())"
      ],
      "execution_count": 33,
      "outputs": [
        {
          "output_type": "stream",
          "text": [
            "CustomerID            3.000000\n",
            "Recency_Days        201.714286\n",
            "Recency_Quartile      2.571429\n",
            "dtype: float64\n",
            "CustomerID           2.160247\n",
            "Recency_Days        53.459375\n",
            "Recency_Quartile     1.272418\n",
            "dtype: float64\n",
            "       CustomerID  Recency_Days\n",
            "count    7.000000      7.000000\n",
            "mean     3.000000    201.714286\n",
            "std      2.160247     53.459375\n",
            "min      0.000000    140.000000\n",
            "25%      1.500000    161.000000\n",
            "50%      3.000000    194.000000\n",
            "75%      4.500000    240.500000\n",
            "max      6.000000    275.000000\n"
          ],
          "name": "stdout"
        }
      ]
    },
    {
      "cell_type": "markdown",
      "metadata": {
        "id": "D6dZXJYkW4p3",
        "colab_type": "text"
      },
      "source": [
        "Identifying skewness\n",
        "\n",
        "Visual analysis of the distribution\n",
        "\n",
        "If it has a tail - it's skewed"
      ]
    },
    {
      "cell_type": "markdown",
      "metadata": {
        "id": "7PjQmjEeXZrD",
        "colab_type": "text"
      },
      "source": [
        "Data transformations to manage skewness\n",
        "- Logarithmic transformation (positive values only)"
      ]
    },
    {
      "cell_type": "markdown",
      "metadata": {
        "id": "2U3KMpypXcUu",
        "colab_type": "text"
      },
      "source": [
        "Dealing with negative values\n",
        "- Adding a constant before log transformation\n",
        "- Cube root transformation"
      ]
    },
    {
      "cell_type": "code",
      "metadata": {
        "id": "Uw-xNr0HXd12",
        "colab_type": "code",
        "colab": {
          "base_uri": "https://localhost:8080/",
          "height": 297
        },
        "outputId": "b4c7dedb-f864-4941-da6c-2da40916479f"
      },
      "source": [
        "sns.distplot(datamart['Frequency'])"
      ],
      "execution_count": 39,
      "outputs": [
        {
          "output_type": "execute_result",
          "data": {
            "text/plain": [
              "<matplotlib.axes._subplots.AxesSubplot at 0x7fba4711b2b0>"
            ]
          },
          "metadata": {
            "tags": []
          },
          "execution_count": 39
        },
        {
          "output_type": "display_data",
          "data": {
            "image/png": "[encoded data removed]",
            "text/plain": [
              "<Figure size 432x288 with 1 Axes>"
            ]
          },
          "metadata": {
            "tags": [],
            "needs_background": "light"
          }
        }
      ]
    },
    {
      "cell_type": "markdown",
      "metadata": {
        "id": "naqnLGvmY1uW",
        "colab_type": "text"
      },
      "source": [
        "Manage skewness"
      ]
    },
    {
      "cell_type": "code",
      "metadata": {
        "id": "rZQsQ0nLYzUM",
        "colab_type": "code",
        "colab": {
          "base_uri": "https://localhost:8080/",
          "height": 297
        },
        "outputId": "224643ee-f18e-4535-8caf-abf0b22f30ed"
      },
      "source": [
        "sns.distplot(np.log(datamart['Frequency']))"
      ],
      "execution_count": 42,
      "outputs": [
        {
          "output_type": "execute_result",
          "data": {
            "text/plain": [
              "<matplotlib.axes._subplots.AxesSubplot at 0x7fba47052588>"
            ]
          },
          "metadata": {
            "tags": []
          },
          "execution_count": 42
        },
        {
          "output_type": "display_data",
          "data": {
            "image/png": "[encoded data removed]",
            "text/plain": [
              "<Figure size 432x288 with 1 Axes>"
            ]
          },
          "metadata": {
            "tags": [],
            "needs_background": "light"
          }
        }
      ]
    },
    {
      "cell_type": "markdown",
      "metadata": {
        "id": "q1yundWZZrKK",
        "colab_type": "text"
      },
      "source": [
        "Centering and scaling variables"
      ]
    },
    {
      "cell_type": "markdown",
      "metadata": {
        "id": "kuNa6rREZsMk",
        "colab_type": "text"
      },
      "source": [
        "Identifying an issue\n",
        "- Analyze key statistics of the dataset\n",
        "- Compare mean and standard deviation"
      ]
    },
    {
      "cell_type": "markdown",
      "metadata": {
        "id": "4v9rbQGgatQ4",
        "colab_type": "text"
      },
      "source": [
        "Centering variables with different means\n",
        "- K-means works well on variables with the same mean\n",
        "- Centering variables is done by subtracting average value from each observation\n",
        "- Subtract mean and divide by standard deviation manually\n",
        "- Or use a scaler from scikit-learn library (returns numpy.ndarray object)"
      ]
    },
    {
      "cell_type": "code",
      "metadata": {
        "id": "7_l_pBPCZSE3",
        "colab_type": "code",
        "colab": {
          "base_uri": "https://localhost:8080/",
          "height": 300
        },
        "outputId": "68e4920c-009c-410b-d849-b82c97ff2d9f"
      },
      "source": [
        "datamart_rfm.describe()"
      ],
      "execution_count": 45,
      "outputs": [
        {
          "output_type": "execute_result",
          "data": {
            "text/html": [
              "<div>\n",
              "<style scoped>\n",
              "    .dataframe tbody tr th:only-of-type {\n",
              "        vertical-align: middle;\n",
              "    }\n",
              "\n",
              "    .dataframe tbody tr th {\n",
              "        vertical-align: top;\n",
              "    }\n",
              "\n",
              "    .dataframe thead th {\n",
              "        text-align: right;\n",
              "    }\n",
              "</style>\n",
              "<table border=\"1\" class=\"dataframe\">\n",
              "  <thead>\n",
              "    <tr style=\"text-align: right;\">\n",
              "      <th></th>\n",
              "      <th>Recency</th>\n",
              "      <th>Frequency</th>\n",
              "      <th>MonetaryValue</th>\n",
              "    </tr>\n",
              "  </thead>\n",
              "  <tbody>\n",
              "    <tr>\n",
              "      <th>count</th>\n",
              "      <td>3643.00000</td>\n",
              "      <td>3643.000000</td>\n",
              "      <td>3643.000000</td>\n",
              "    </tr>\n",
              "    <tr>\n",
              "      <th>mean</th>\n",
              "      <td>90.43563</td>\n",
              "      <td>18.714247</td>\n",
              "      <td>370.694387</td>\n",
              "    </tr>\n",
              "    <tr>\n",
              "      <th>std</th>\n",
              "      <td>94.44651</td>\n",
              "      <td>43.754468</td>\n",
              "      <td>1347.443451</td>\n",
              "    </tr>\n",
              "    <tr>\n",
              "      <th>min</th>\n",
              "      <td>1.00000</td>\n",
              "      <td>1.000000</td>\n",
              "      <td>0.650000</td>\n",
              "    </tr>\n",
              "    <tr>\n",
              "      <th>25%</th>\n",
              "      <td>19.00000</td>\n",
              "      <td>4.000000</td>\n",
              "      <td>58.705000</td>\n",
              "    </tr>\n",
              "    <tr>\n",
              "      <th>50%</th>\n",
              "      <td>51.00000</td>\n",
              "      <td>9.000000</td>\n",
              "      <td>136.370000</td>\n",
              "    </tr>\n",
              "    <tr>\n",
              "      <th>75%</th>\n",
              "      <td>139.00000</td>\n",
              "      <td>21.000000</td>\n",
              "      <td>334.350000</td>\n",
              "    </tr>\n",
              "    <tr>\n",
              "      <th>max</th>\n",
              "      <td>365.00000</td>\n",
              "      <td>1497.000000</td>\n",
              "      <td>48060.350000</td>\n",
              "    </tr>\n",
              "  </tbody>\n",
              "</table>\n",
              "</div>"
            ],
            "text/plain": [
              "          Recency    Frequency  MonetaryValue\n",
              "count  3643.00000  3643.000000    3643.000000\n",
              "mean     90.43563    18.714247     370.694387\n",
              "std      94.44651    43.754468    1347.443451\n",
              "min       1.00000     1.000000       0.650000\n",
              "25%      19.00000     4.000000      58.705000\n",
              "50%      51.00000     9.000000     136.370000\n",
              "75%     139.00000    21.000000     334.350000\n",
              "max     365.00000  1497.000000   48060.350000"
            ]
          },
          "metadata": {
            "tags": []
          },
          "execution_count": 45
        }
      ]
    },
    {
      "cell_type": "markdown",
      "metadata": {
        "id": "42G1KbGgaHZK",
        "colab_type": "text"
      },
      "source": [
        "Center and scale manually"
      ]
    },
    {
      "cell_type": "code",
      "metadata": {
        "id": "4OpLZIHeaFcN",
        "colab_type": "code",
        "colab": {
          "base_uri": "https://localhost:8080/",
          "height": 177
        },
        "outputId": "49d23018-7770-40bc-a783-386efef8e476"
      },
      "source": [
        "# Center the data by subtracting average values from each entry\n",
        "data_centered = datamart_rfm - datamart_rfm.mean()\n",
        "\n",
        "# Scale the data by dividing each entry by standard deviation\n",
        "data_scaled = datamart_rfm / datamart_rfm.std()\n",
        "\n",
        "# Normalize the data by applying both centering and scaling\n",
        "data_normalized = (datamart_rfm - datamart_rfm.mean()) / datamart_rfm.std()\n",
        "\n",
        "# Print summary statistics to make sure average is zero and standard deviation is one\n",
        "print(data_normalized.describe().round(2))"
      ],
      "execution_count": 46,
      "outputs": [
        {
          "output_type": "stream",
          "text": [
            "       Recency  Frequency  MonetaryValue\n",
            "count  3643.00    3643.00        3643.00\n",
            "mean     -0.00      -0.00           0.00\n",
            "std       1.00       1.00           1.00\n",
            "min      -0.95      -0.40          -0.27\n",
            "25%      -0.76      -0.34          -0.23\n",
            "50%      -0.42      -0.22          -0.17\n",
            "75%       0.51       0.05          -0.03\n",
            "max       2.91      33.79          35.39\n"
          ],
          "name": "stdout"
        }
      ]
    },
    {
      "cell_type": "markdown",
      "metadata": {
        "id": "WX49L322aOAg",
        "colab_type": "text"
      },
      "source": [
        "Center and scale with StandardScaler()"
      ]
    },
    {
      "cell_type": "code",
      "metadata": {
        "id": "QWWpPz9taSKA",
        "colab_type": "code",
        "colab": {
          "base_uri": "https://localhost:8080/",
          "height": 177
        },
        "outputId": "6c7bf940-b8e5-4a5b-dffc-4475c2b74d11"
      },
      "source": [
        "from sklearn.preprocessing import StandardScaler\n",
        "\n",
        "# Initialize a scaler\n",
        "scaler = StandardScaler()\n",
        "\n",
        "# Fit the scaler\n",
        "scaler.fit(datamart_rfm)\n",
        "\n",
        "# Scale and center the data\n",
        "data_normalized = scaler.transform(datamart_rfm)\n",
        "\n",
        "# Create a pandas DataFrame\n",
        "data_normalized = pd.DataFrame(data_normalized, index=datamart_rfm.index, columns=datamart_rfm.columns)\n",
        "\n",
        "# Print summary statistics\n",
        "print(data_normalized.describe().round(2))"
      ],
      "execution_count": 57,
      "outputs": [
        {
          "output_type": "stream",
          "text": [
            "       Recency  Frequency  MonetaryValue\n",
            "count  3643.00    3643.00        3643.00\n",
            "mean      0.00       0.00           0.00\n",
            "std       1.00       1.00           1.00\n",
            "min      -0.95      -0.40          -0.27\n",
            "25%      -0.76      -0.34          -0.23\n",
            "50%      -0.42      -0.22          -0.17\n",
            "75%       0.51       0.05          -0.03\n",
            "max       2.91      33.79          35.40\n"
          ],
          "name": "stdout"
        }
      ]
    },
    {
      "cell_type": "markdown",
      "metadata": {
        "id": "cyKU5QrxbdYN",
        "colab_type": "text"
      },
      "source": [
        "Sequence of structuring pre-processing steps"
      ]
    },
    {
      "cell_type": "markdown",
      "metadata": {
        "id": "6IXu4IftbfAP",
        "colab_type": "text"
      },
      "source": [
        "Why the sequence matters?\n",
        "- Log transformation only works with positive data\n",
        "- Normalization forces data to have negative values and log will not work"
      ]
    },
    {
      "cell_type": "markdown",
      "metadata": {
        "id": "-9KMreaLbhpG",
        "colab_type": "text"
      },
      "source": [
        "Sequence\n",
        "1. Unskew the data - log transformation\n",
        "2. Standardize to the same average values\n",
        "3. Scale to the same standard deviation\n",
        "4. Store as a separate array to be used for clustering"
      ]
    },
    {
      "cell_type": "markdown",
      "metadata": {
        "id": "93RUjIdPbE3j",
        "colab_type": "text"
      },
      "source": [
        "Visualize RFM distributions"
      ]
    },
    {
      "cell_type": "code",
      "metadata": {
        "id": "cF1AlSQDbFY1",
        "colab_type": "code",
        "colab": {
          "base_uri": "https://localhost:8080/",
          "height": 279
        },
        "outputId": "9e9b36bb-426c-44ea-ee4e-c8ddb7dfcdb2"
      },
      "source": [
        "# Plot recency distribution\n",
        "plt.subplot(3, 1, 1); sns.distplot(datamart_rfm['Recency'])\n",
        "\n",
        "# Plot frequency distribution\n",
        "plt.subplot(3, 1, 2); sns.distplot(datamart_rfm['Frequency'])\n",
        "\n",
        "# Plot monetary value distribution\n",
        "plt.subplot(3, 1, 3); sns.distplot(datamart_rfm['MonetaryValue'])\n",
        "\n",
        "# Show the plot\n",
        "plt.show()"
      ],
      "execution_count": 49,
      "outputs": [
        {
          "output_type": "display_data",
          "data": {
            "image/png": "[encoded data removed]",
            "text/plain": [
              "<Figure size 432x288 with 3 Axes>"
            ]
          },
          "metadata": {
            "tags": [],
            "needs_background": "light"
          }
        }
      ]
    },
    {
      "cell_type": "markdown",
      "metadata": {
        "id": "lKnPJMjpbZam",
        "colab_type": "text"
      },
      "source": [
        "Pre-process RFM data"
      ]
    },
    {
      "cell_type": "code",
      "metadata": {
        "id": "p_S0tf5SbHQs",
        "colab_type": "code",
        "colab": {}
      },
      "source": [
        "# Unskew the data\n",
        "datamart_log = np.log(datamart_rfm)\n",
        "\n",
        "# Initialize a standard scaler and fit it\n",
        "scaler = StandardScaler()\n",
        "scaler.fit(datamart_log)\n",
        "\n",
        "# Scale and center the data\n",
        "datamart_normalized = scaler.transform(datamart_log)\n",
        "\n",
        "# Create a pandas DataFrame\n",
        "datamart_normalized = pd.DataFrame(data=datamart_normalized, index=datamart_rfm.index, columns=datamart_rfm.columns)"
      ],
      "execution_count": 0,
      "outputs": []
    },
    {
      "cell_type": "markdown",
      "metadata": {
        "id": "qNu7haYtbr7I",
        "colab_type": "text"
      },
      "source": [
        "Visualize the normalized variables"
      ]
    },
    {
      "cell_type": "code",
      "metadata": {
        "id": "35hPgaDubpdn",
        "colab_type": "code",
        "colab": {
          "base_uri": "https://localhost:8080/",
          "height": 279
        },
        "outputId": "80f73ab6-45bd-4db5-ae76-b2a02a996e51"
      },
      "source": [
        "# Plot recency distribution\n",
        "plt.subplot(3, 1, 1); sns.distplot(datamart_normalized['Recency'])\n",
        "\n",
        "# Plot frequency distribution\n",
        "plt.subplot(3, 1, 2); sns.distplot(datamart_normalized['Frequency'])\n",
        "\n",
        "# Plot monetary value distribution\n",
        "plt.subplot(3, 1, 3); sns.distplot(datamart_normalized['MonetaryValue'])\n",
        "\n",
        "# Show the plot\n",
        "plt.show()"
      ],
      "execution_count": 51,
      "outputs": [
        {
          "output_type": "display_data",
          "data": {
            "image/png": "[encoded data removed]",
            "text/plain": [
              "<Figure size 432x288 with 3 Axes>"
            ]
          },
          "metadata": {
            "tags": [],
            "needs_background": "light"
          }
        }
      ]
    },
    {
      "cell_type": "markdown",
      "metadata": {
        "id": "Hc6MTohxdHwY",
        "colab_type": "text"
      },
      "source": [
        "## Customer Segmentation with K-means"
      ]
    },
    {
      "cell_type": "markdown",
      "metadata": {
        "id": "s1K1kxLBdJOm",
        "colab_type": "text"
      },
      "source": [
        "Key steps\n",
        "- Data pre-processing\n",
        "- Choosing a number of clusters\n",
        "- Running k-means clustering on pre-processed data\n",
        "- Analyzing average RFM values of each cluster"
      ]
    },
    {
      "cell_type": "markdown",
      "metadata": {
        "id": "jItN_xwHdZS5",
        "colab_type": "text"
      },
      "source": [
        "Methods to define the number of clusters\n",
        "- Visual methods - elbow criterion\n",
        "- Mathematical methods - silhouette coefficient\n",
        "- Experimentation and interpretation"
      ]
    },
    {
      "cell_type": "markdown",
      "metadata": {
        "id": "86UAfsQUdcTh",
        "colab_type": "text"
      },
      "source": [
        "Running k-means\n",
        "- Import KMeans from sklearn library and initialize it as kmeans\n",
        "- Compute k-means clustering on pre-processed data\n",
        "- Extract cluster labels from labels_ attribute"
      ]
    },
    {
      "cell_type": "markdown",
      "metadata": {
        "id": "xDuGiot9eC4-",
        "colab_type": "text"
      },
      "source": [
        "Run KMeans"
      ]
    },
    {
      "cell_type": "code",
      "metadata": {
        "id": "Tg37eutMeDXC",
        "colab_type": "code",
        "colab": {}
      },
      "source": [
        "# Import KMeans \n",
        "from sklearn.cluster import KMeans\n",
        "\n",
        "# Initialize KMeans\n",
        "kmeans = KMeans(n_clusters=3, random_state=0) \n",
        "\n",
        "# Fit k-means clustering on the normalized data set\n",
        "kmeans.fit(datamart_normalized)\n",
        "\n",
        "# Extract cluster labels\n",
        "cluster_labels = kmeans.labels_"
      ],
      "execution_count": 0,
      "outputs": []
    },
    {
      "cell_type": "markdown",
      "metadata": {
        "id": "JnuQEvAmeLGe",
        "colab_type": "text"
      },
      "source": [
        "Assign labels to raw data"
      ]
    },
    {
      "cell_type": "code",
      "metadata": {
        "id": "82MnqZLyeLxK",
        "colab_type": "code",
        "colab": {
          "base_uri": "https://localhost:8080/",
          "height": 206
        },
        "outputId": "a2fc9fd0-6d0c-4c0e-f16c-822ce38e13be"
      },
      "source": [
        "# Create a DataFrame by adding a new cluster label column\n",
        "datamart_rfm_k3 = datamart_rfm.assign(Cluster=cluster_labels)\n",
        "\n",
        "# Group the data by cluster\n",
        "grouped = datamart_rfm_k3.groupby(['Cluster'])\n",
        "\n",
        "# Calculate average RFM values and segment sizes per cluster value\n",
        "grouped.agg({\n",
        "    'Recency': 'mean',\n",
        "    'Frequency': 'mean',\n",
        "    'MonetaryValue': ['mean', 'count']\n",
        "  }).round(1)"
      ],
      "execution_count": 72,
      "outputs": [
        {
          "output_type": "execute_result",
          "data": {
            "text/html": [
              "<div>\n",
              "<style scoped>\n",
              "    .dataframe tbody tr th:only-of-type {\n",
              "        vertical-align: middle;\n",
              "    }\n",
              "\n",
              "    .dataframe tbody tr th {\n",
              "        vertical-align: top;\n",
              "    }\n",
              "\n",
              "    .dataframe thead tr th {\n",
              "        text-align: left;\n",
              "    }\n",
              "\n",
              "    .dataframe thead tr:last-of-type th {\n",
              "        text-align: right;\n",
              "    }\n",
              "</style>\n",
              "<table border=\"1\" class=\"dataframe\">\n",
              "  <thead>\n",
              "    <tr>\n",
              "      <th></th>\n",
              "      <th>Recency</th>\n",
              "      <th>Frequency</th>\n",
              "      <th colspan=\"2\" halign=\"left\">MonetaryValue</th>\n",
              "    </tr>\n",
              "    <tr>\n",
              "      <th></th>\n",
              "      <th>mean</th>\n",
              "      <th>mean</th>\n",
              "      <th>mean</th>\n",
              "      <th>count</th>\n",
              "    </tr>\n",
              "    <tr>\n",
              "      <th>Cluster</th>\n",
              "      <th></th>\n",
              "      <th></th>\n",
              "      <th></th>\n",
              "      <th></th>\n",
              "    </tr>\n",
              "  </thead>\n",
              "  <tbody>\n",
              "    <tr>\n",
              "      <th>0</th>\n",
              "      <td>164.8</td>\n",
              "      <td>3.1</td>\n",
              "      <td>53.5</td>\n",
              "      <td>1176</td>\n",
              "    </tr>\n",
              "    <tr>\n",
              "      <th>1</th>\n",
              "      <td>77.1</td>\n",
              "      <td>12.6</td>\n",
              "      <td>219.2</td>\n",
              "      <td>1578</td>\n",
              "    </tr>\n",
              "    <tr>\n",
              "      <th>2</th>\n",
              "      <td>15.7</td>\n",
              "      <td>50.3</td>\n",
              "      <td>1059.3</td>\n",
              "      <td>889</td>\n",
              "    </tr>\n",
              "  </tbody>\n",
              "</table>\n",
              "</div>"
            ],
            "text/plain": [
              "        Recency Frequency MonetaryValue      \n",
              "           mean      mean          mean count\n",
              "Cluster                                      \n",
              "0         164.8       3.1          53.5  1176\n",
              "1          77.1      12.6         219.2  1578\n",
              "2          15.7      50.3        1059.3   889"
            ]
          },
          "metadata": {
            "tags": []
          },
          "execution_count": 72
        }
      ]
    },
    {
      "cell_type": "markdown",
      "metadata": {
        "id": "5743EFcMevER",
        "colab_type": "text"
      },
      "source": [
        "Choosing number of clusters"
      ]
    },
    {
      "cell_type": "markdown",
      "metadata": {
        "id": "F3MgSL-dewax",
        "colab_type": "text"
      },
      "source": [
        "Methods\n",
        "- Visual methods - elbow criterion\n",
        "- Mathematical methods - silhouette coefficient\n",
        "- Experimentation and interpretation"
      ]
    },
    {
      "cell_type": "markdown",
      "metadata": {
        "id": "13WijGSee0Nh",
        "colab_type": "text"
      },
      "source": [
        "Elbow criterion method\n",
        "- Plot the number of clusters against within-cluster sum-of-squared-errors (SSE) -\n",
        "sum of squared distances from every data point to their cluster center\n",
        "- Identify an \"elbow\" in the plot\n",
        "- Elbow - a point representing an \"optimal\" number of clusters"
      ]
    },
    {
      "cell_type": "markdown",
      "metadata": {
        "id": "5OwmlqgQfJ-J",
        "colab_type": "text"
      },
      "source": [
        "Using elbow criterion method\n",
        "-  Best to choose the point on elbow, or the next point\n",
        "- Use as a guide but test multiple solutions\n",
        "- Elbow plot built on datamart_rfm"
      ]
    },
    {
      "cell_type": "markdown",
      "metadata": {
        "id": "624gL2wdfMk-",
        "colab_type": "text"
      },
      "source": [
        "Experimental approach - analyze segments\n",
        "- Build clustering at and around elbow solution\n",
        "- Analyze their properties - average RFM values\n",
        "- Compare against each other and choose one which makes most business sense"
      ]
    },
    {
      "cell_type": "markdown",
      "metadata": {
        "id": "X07polUxfaX_",
        "colab_type": "text"
      },
      "source": [
        "Calculate sum of squared errors"
      ]
    },
    {
      "cell_type": "code",
      "metadata": {
        "id": "fCFetbwlfbTR",
        "colab_type": "code",
        "colab": {}
      },
      "source": [
        "sse = {}\n",
        "# Fit KMeans and calculate SSE for each k\n",
        "for k in range(1, 21):\n",
        "  \n",
        "    # Initialize KMeans with k clusters\n",
        "    kmeans = KMeans(n_clusters=k, random_state=0)\n",
        "    \n",
        "    # Fit KMeans on the normalized dataset\n",
        "    kmeans.fit(data_normalized)\n",
        "    \n",
        "    # Assign sum of squared distances to k element of dictionary\n",
        "    sse[k] = kmeans.inertia_ "
      ],
      "execution_count": 0,
      "outputs": []
    },
    {
      "cell_type": "markdown",
      "metadata": {
        "id": "b28xI87YfsKu",
        "colab_type": "text"
      },
      "source": [
        "Plot sum of squared errors"
      ]
    },
    {
      "cell_type": "code",
      "metadata": {
        "id": "Sm3W1SiFfsxo",
        "colab_type": "code",
        "colab": {
          "base_uri": "https://localhost:8080/",
          "height": 295
        },
        "outputId": "a7047fb3-095e-4d9c-d686-85999d741840"
      },
      "source": [
        "# Add the plot title \"The Elbow Method\"\n",
        "plt.title('The Elbow Method')\n",
        "\n",
        "# Add X-axis label \"k\"\n",
        "plt.xlabel('k')\n",
        "\n",
        "# Add Y-axis label \"SSE\"\n",
        "plt.ylabel('SSE')\n",
        "\n",
        "# Plot SSE values for each key in the dictionary\n",
        "sns.pointplot(x=list(sse.keys()), y=list(sse.values()))\n",
        "plt.show()"
      ],
      "execution_count": 76,
      "outputs": [
        {
          "output_type": "display_data",
          "data": {
            "image/png": "[encoded data removed]",
            "text/plain": [
              "<Figure size 432x288 with 1 Axes>"
            ]
          },
          "metadata": {
            "tags": [],
            "needs_background": "light"
          }
        }
      ]
    },
    {
      "cell_type": "markdown",
      "metadata": {
        "id": "D0MyHhW0k9vE",
        "colab_type": "text"
      },
      "source": [
        "Approaches to build customer personas\n",
        "- Summary statistics for each cluster e.g. average RFM values\n",
        "- Snake plots (from market research\n",
        "- Relative importance of cluster attributes compared to population"
      ]
    },
    {
      "cell_type": "markdown",
      "metadata": {
        "id": "0-I5aEETlJkG",
        "colab_type": "text"
      },
      "source": [
        "Summary statistics of each cluster\n",
        "- Run k-means segmentation for several k values around the recommended value.\n",
        "- Create a cluster label column in the original DataFrame\n",
        "- Calculate average RFM values and sizes for each cluster\n",
        "- Compare average RFM values of each clustering solution"
      ]
    },
    {
      "cell_type": "markdown",
      "metadata": {
        "id": "KZbdTPMxl03H",
        "colab_type": "text"
      },
      "source": [
        "Snake plots to understand and compare segments\n",
        "- Market research technique to compare different segments\n",
        "- Visual representation of each segment's attributes\n",
        "- Need to first normalize data (center & scale)\n",
        "- Plot each cluster's average normalized values of each attribute"
      ]
    },
    {
      "cell_type": "markdown",
      "metadata": {
        "id": "gC64YyuBmIxt",
        "colab_type": "text"
      },
      "source": [
        "Relative importance of segment attributes\n",
        "- Useful technique to identify relative importance of each segment's attribute\n",
        "- Calculate average values of each cluster\n",
        "- Calculate average values of population\n",
        "- Calculate importance score by dividing them and subtracting 1 (ensures 0 is returned when cluster average equals population average)"
      ]
    },
    {
      "cell_type": "markdown",
      "metadata": {
        "id": "YQ1BboKQntbC",
        "colab_type": "text"
      },
      "source": [
        "Analyze and plot relative importance\n",
        "- The further a ratio is from 0, the more important that attribute is for a segment relative to the total population.\n",
        "- Plot a heatmap for easier interpretation"
      ]
    },
    {
      "cell_type": "markdown",
      "metadata": {
        "id": "XtCGWCXin-sK",
        "colab_type": "text"
      },
      "source": [
        "Prepare data for the snake plot"
      ]
    },
    {
      "cell_type": "code",
      "metadata": {
        "id": "EZdGRhMllI73",
        "colab_type": "code",
        "colab": {}
      },
      "source": [
        "datamart_normalized = datamart_normalized.assign(Cluster=cluster_labels)\n",
        "\n",
        "# Melt the normalized dataset and reset the index\n",
        "datamart_melt = pd.melt(\n",
        "  \t\t\t\t\tdatamart_normalized.reset_index(), \n",
        "                        \n",
        "# Assign CustomerID and Cluster as ID variables                  \n",
        "                    id_vars=['CustomerID', 'Cluster'],\n",
        "\n",
        "# Assign RFM values as value variables\n",
        "                    value_vars=['Recency', 'Frequency', 'MonetaryValue'], \n",
        "                        \n",
        "# Name the variable and value\n",
        "                    var_name='Metric', value_name='Value'\n",
        "\t\t\t\t\t)"
      ],
      "execution_count": 0,
      "outputs": []
    },
    {
      "cell_type": "code",
      "metadata": {
        "id": "J8Wt7AattU6D",
        "colab_type": "code",
        "colab": {
          "base_uri": "https://localhost:8080/",
          "height": 424
        },
        "outputId": "52cec91f-9849-4c30-fee7-c38749248308"
      },
      "source": [
        "datamart_melt"
      ],
      "execution_count": 92,
      "outputs": [
        {
          "output_type": "execute_result",
          "data": {
            "text/html": [
              "<div>\n",
              "<style scoped>\n",
              "    .dataframe tbody tr th:only-of-type {\n",
              "        vertical-align: middle;\n",
              "    }\n",
              "\n",
              "    .dataframe tbody tr th {\n",
              "        vertical-align: top;\n",
              "    }\n",
              "\n",
              "    .dataframe thead th {\n",
              "        text-align: right;\n",
              "    }\n",
              "</style>\n",
              "<table border=\"1\" class=\"dataframe\">\n",
              "  <thead>\n",
              "    <tr style=\"text-align: right;\">\n",
              "      <th></th>\n",
              "      <th>CustomerID</th>\n",
              "      <th>Cluster</th>\n",
              "      <th>Metric</th>\n",
              "      <th>Value</th>\n",
              "    </tr>\n",
              "  </thead>\n",
              "  <tbody>\n",
              "    <tr>\n",
              "      <th>0</th>\n",
              "      <td>12747</td>\n",
              "      <td>2</td>\n",
              "      <td>Recency</td>\n",
              "      <td>-2.002111</td>\n",
              "    </tr>\n",
              "    <tr>\n",
              "      <th>1</th>\n",
              "      <td>12748</td>\n",
              "      <td>2</td>\n",
              "      <td>Recency</td>\n",
              "      <td>-2.814389</td>\n",
              "    </tr>\n",
              "    <tr>\n",
              "      <th>2</th>\n",
              "      <td>12749</td>\n",
              "      <td>2</td>\n",
              "      <td>Recency</td>\n",
              "      <td>-1.789408</td>\n",
              "    </tr>\n",
              "    <tr>\n",
              "      <th>3</th>\n",
              "      <td>12820</td>\n",
              "      <td>2</td>\n",
              "      <td>Recency</td>\n",
              "      <td>-1.789408</td>\n",
              "    </tr>\n",
              "    <tr>\n",
              "      <th>4</th>\n",
              "      <td>12822</td>\n",
              "      <td>1</td>\n",
              "      <td>Recency</td>\n",
              "      <td>0.337299</td>\n",
              "    </tr>\n",
              "    <tr>\n",
              "      <th>...</th>\n",
              "      <td>...</td>\n",
              "      <td>...</td>\n",
              "      <td>...</td>\n",
              "      <td>...</td>\n",
              "    </tr>\n",
              "    <tr>\n",
              "      <th>10924</th>\n",
              "      <td>18280</td>\n",
              "      <td>0</td>\n",
              "      <td>MonetaryValue</td>\n",
              "      <td>-0.975767</td>\n",
              "    </tr>\n",
              "    <tr>\n",
              "      <th>10925</th>\n",
              "      <td>18281</td>\n",
              "      <td>0</td>\n",
              "      <td>MonetaryValue</td>\n",
              "      <td>-1.125576</td>\n",
              "    </tr>\n",
              "    <tr>\n",
              "      <th>10926</th>\n",
              "      <td>18282</td>\n",
              "      <td>0</td>\n",
              "      <td>MonetaryValue</td>\n",
              "      <td>-1.152432</td>\n",
              "    </tr>\n",
              "    <tr>\n",
              "      <th>10927</th>\n",
              "      <td>18283</td>\n",
              "      <td>2</td>\n",
              "      <td>MonetaryValue</td>\n",
              "      <td>0.866383</td>\n",
              "    </tr>\n",
              "    <tr>\n",
              "      <th>10928</th>\n",
              "      <td>18287</td>\n",
              "      <td>1</td>\n",
              "      <td>MonetaryValue</td>\n",
              "      <td>0.797901</td>\n",
              "    </tr>\n",
              "  </tbody>\n",
              "</table>\n",
              "<p>10929 rows × 4 columns</p>\n",
              "</div>"
            ],
            "text/plain": [
              "       CustomerID  Cluster         Metric     Value\n",
              "0           12747        2        Recency -2.002111\n",
              "1           12748        2        Recency -2.814389\n",
              "2           12749        2        Recency -1.789408\n",
              "3           12820        2        Recency -1.789408\n",
              "4           12822        1        Recency  0.337299\n",
              "...           ...      ...            ...       ...\n",
              "10924       18280        0  MonetaryValue -0.975767\n",
              "10925       18281        0  MonetaryValue -1.125576\n",
              "10926       18282        0  MonetaryValue -1.152432\n",
              "10927       18283        2  MonetaryValue  0.866383\n",
              "10928       18287        1  MonetaryValue  0.797901\n",
              "\n",
              "[10929 rows x 4 columns]"
            ]
          },
          "metadata": {
            "tags": []
          },
          "execution_count": 92
        }
      ]
    },
    {
      "cell_type": "markdown",
      "metadata": {
        "id": "XUpk3kNxosC7",
        "colab_type": "text"
      },
      "source": [
        "Visualize snake plot"
      ]
    },
    {
      "cell_type": "code",
      "metadata": {
        "id": "EvCghmW8ok6R",
        "colab_type": "code",
        "colab": {
          "base_uri": "https://localhost:8080/",
          "height": 295
        },
        "outputId": "97c1a4d5-faf9-49f4-a26a-c6bfe64783dc"
      },
      "source": [
        "# Add the plot title\n",
        "plt.title('Snake plot of normalized variables')\n",
        "\n",
        "# Add the x axis label\n",
        "plt.xlabel('Metric')\n",
        "\n",
        "# Add the y axis label\n",
        "plt.ylabel('Value')\n",
        "\n",
        "# Plot a line for each value of the cluster variable\n",
        "sns.lineplot(data=datamart_melt, x='Metric', y='Value', hue='Cluster')\n",
        "plt.show()"
      ],
      "execution_count": 78,
      "outputs": [
        {
          "output_type": "display_data",
          "data": {
            "image/png": "[encoded data removed]",
            "text/plain": [
              "<Figure size 432x288 with 1 Axes>"
            ]
          },
          "metadata": {
            "tags": [],
            "needs_background": "light"
          }
        }
      ]
    },
    {
      "cell_type": "markdown",
      "metadata": {
        "id": "ZOBBTskc0bGX",
        "colab_type": "text"
      },
      "source": [
        "Calculate relative importance of each attribute"
      ]
    },
    {
      "cell_type": "code",
      "metadata": {
        "id": "Jg0XMKEo0iUl",
        "colab_type": "code",
        "colab": {
          "base_uri": "https://localhost:8080/",
          "height": 106
        },
        "outputId": "f80ba845-34fd-4fee-a416-2bd1fc443711"
      },
      "source": [
        "# Calculate average RFM values for each cluster\n",
        "cluster_avg = datamart_rfm_k3.groupby(['Cluster']).mean() \n",
        "\n",
        "# Calculate average RFM values for the total customer population\n",
        "population_avg = datamart_rfm.mean()\n",
        "\n",
        "# Calculate relative importance of cluster's attribute value compared to population\n",
        "relative_imp = cluster_avg / population_avg - 1\n",
        "\n",
        "# Print relative importance score rounded to 2 decimals\n",
        "print(relative_imp.round(2))"
      ],
      "execution_count": 94,
      "outputs": [
        {
          "output_type": "stream",
          "text": [
            "         Recency  Frequency  MonetaryValue\n",
            "Cluster                                   \n",
            "0           0.82      -0.84          -0.86\n",
            "1          -0.15      -0.33          -0.41\n",
            "2          -0.83       1.69           1.86\n"
          ],
          "name": "stdout"
        }
      ]
    },
    {
      "cell_type": "markdown",
      "metadata": {
        "id": "lVWP3-9m00uW",
        "colab_type": "text"
      },
      "source": [
        "Plot relative importance heatmap"
      ]
    },
    {
      "cell_type": "code",
      "metadata": {
        "id": "JOfkSJA50uLi",
        "colab_type": "code",
        "colab": {
          "base_uri": "https://localhost:8080/",
          "height": 173
        },
        "outputId": "e16b9aa3-6cc3-43a7-a8cc-5d09ef5685f8"
      },
      "source": [
        "# Initialize a plot with a figure size of 8 by 2 inches \n",
        "plt.figure(figsize=(8, 2))\n",
        "\n",
        "# Add the plot title\n",
        "plt.title('Relative importance of attributes')\n",
        "\n",
        "# Plot the heatmap\n",
        "sns.heatmap(data=relative_imp, annot=True, fmt='.2f', cmap='RdYlGn')\n",
        "plt.show()"
      ],
      "execution_count": 95,
      "outputs": [
        {
          "output_type": "display_data",
          "data": {
            "image/png": "[encoded data removed]",
            "text/plain": [
              "<Figure size 576x144 with 2 Axes>"
            ]
          },
          "metadata": {
            "tags": [],
            "needs_background": "light"
          }
        }
      ]
    },
    {
      "cell_type": "markdown",
      "metadata": {
        "id": "qxLJi6In0-38",
        "colab_type": "text"
      },
      "source": [
        "Key steps of the segmentation project\n",
        "- Gather data - updated data with an additional variable\n",
        "- Pre-process the data\n",
        "- Explore the data and decide on the number of clusters\n",
        "- Run k-means clustering\n",
        "- Analyze and visualize results"
      ]
    },
    {
      "cell_type": "markdown",
      "metadata": {
        "id": "bnePEvHl1C7B",
        "colab_type": "text"
      },
      "source": [
        "Updated RFM data\n",
        "- Same RFM values plus additional Tenure variable\n",
        "- Tenure - time since the first transaction\n",
        "- Defines how long the customer has been with the company"
      ]
    },
    {
      "cell_type": "markdown",
      "metadata": {
        "id": "2IwMtlGa1Icv",
        "colab_type": "text"
      },
      "source": [
        "Goals for this project\n",
        "- Remember key pre-processing rules\n",
        "- Apply data exploration techniques\n",
        "- Practice running several k-means iterations\n",
        "- Analyze results quantitatively and visually"
      ]
    },
    {
      "cell_type": "code",
      "metadata": {
        "id": "fAMxHTca1Zcb",
        "colab_type": "code",
        "colab": {
          "base_uri": "https://localhost:8080/",
          "height": 212
        },
        "outputId": "713fa01b-9275-4af4-e2d8-c0985708a061"
      },
      "source": [
        "!wget https://assets.datacamp.com/production/repositories/3202/datasets/eb6a32ed7e5faa4c4b237ab8afb94df55bb4b3a5/chapter_4.zip"
      ],
      "execution_count": 96,
      "outputs": [
        {
          "output_type": "stream",
          "text": [
            "--2020-06-10 06:14:37--  https://assets.datacamp.com/production/repositories/3202/datasets/eb6a32ed7e5faa4c4b237ab8afb94df55bb4b3a5/chapter_4.zip\n",
            "Resolving assets.datacamp.com (assets.datacamp.com)... 13.226.46.129, 13.226.46.120, 13.226.46.98, ...\n",
            "Connecting to assets.datacamp.com (assets.datacamp.com)|13.226.46.129|:443... connected.\n",
            "HTTP request sent, awaiting response... 200 OK\n",
            "Length: 260395 (254K)\n",
            "Saving to: ‘chapter_4.zip’\n",
            "\n",
            "\rchapter_4.zip         0%[                    ]       0  --.-KB/s               \rchapter_4.zip       100%[===================>] 254.29K  --.-KB/s    in 0.09s   \n",
            "\n",
            "2020-06-10 06:14:38 (2.90 MB/s) - ‘chapter_4.zip’ saved [260395/260395]\n",
            "\n"
          ],
          "name": "stdout"
        }
      ]
    },
    {
      "cell_type": "code",
      "metadata": {
        "id": "RhTbjLqJ1PFY",
        "colab_type": "code",
        "colab": {
          "base_uri": "https://localhost:8080/",
          "height": 237
        },
        "outputId": "8edf046f-ad61-431d-eed5-c2b555e55cc6"
      },
      "source": [
        "# load data\n",
        "# ['dummy_data.csv', 'datamart_rfmt.csv', 'cluster_labels_rfm_k3.csv', 'datamart_normalized_df.csv', 'datamart_melt.csv', 'cluster_labels_rfmt_k4.csv']\n",
        "\n",
        "\n",
        "\n",
        "zf = zipfile.ZipFile('chapter_4.zip') \n",
        "datamart_rfmt = pd.read_csv(zf.open('datamart_rfmt.csv'), index_col=0)\n",
        "datamart_rfmt.head()"
      ],
      "execution_count": 98,
      "outputs": [
        {
          "output_type": "execute_result",
          "data": {
            "text/html": [
              "<div>\n",
              "<style scoped>\n",
              "    .dataframe tbody tr th:only-of-type {\n",
              "        vertical-align: middle;\n",
              "    }\n",
              "\n",
              "    .dataframe tbody tr th {\n",
              "        vertical-align: top;\n",
              "    }\n",
              "\n",
              "    .dataframe thead th {\n",
              "        text-align: right;\n",
              "    }\n",
              "</style>\n",
              "<table border=\"1\" class=\"dataframe\">\n",
              "  <thead>\n",
              "    <tr style=\"text-align: right;\">\n",
              "      <th></th>\n",
              "      <th>Recency</th>\n",
              "      <th>Frequency</th>\n",
              "      <th>MonetaryValue</th>\n",
              "      <th>Tenure</th>\n",
              "    </tr>\n",
              "    <tr>\n",
              "      <th>CustomerID</th>\n",
              "      <th></th>\n",
              "      <th></th>\n",
              "      <th></th>\n",
              "      <th></th>\n",
              "    </tr>\n",
              "  </thead>\n",
              "  <tbody>\n",
              "    <tr>\n",
              "      <th>12747</th>\n",
              "      <td>3</td>\n",
              "      <td>25</td>\n",
              "      <td>948.70</td>\n",
              "      <td>362</td>\n",
              "    </tr>\n",
              "    <tr>\n",
              "      <th>12748</th>\n",
              "      <td>1</td>\n",
              "      <td>888</td>\n",
              "      <td>7046.16</td>\n",
              "      <td>365</td>\n",
              "    </tr>\n",
              "    <tr>\n",
              "      <th>12749</th>\n",
              "      <td>4</td>\n",
              "      <td>37</td>\n",
              "      <td>813.45</td>\n",
              "      <td>214</td>\n",
              "    </tr>\n",
              "    <tr>\n",
              "      <th>12820</th>\n",
              "      <td>4</td>\n",
              "      <td>17</td>\n",
              "      <td>268.02</td>\n",
              "      <td>327</td>\n",
              "    </tr>\n",
              "    <tr>\n",
              "      <th>12822</th>\n",
              "      <td>71</td>\n",
              "      <td>9</td>\n",
              "      <td>146.15</td>\n",
              "      <td>88</td>\n",
              "    </tr>\n",
              "  </tbody>\n",
              "</table>\n",
              "</div>"
            ],
            "text/plain": [
              "            Recency  Frequency  MonetaryValue  Tenure\n",
              "CustomerID                                           \n",
              "12747             3         25         948.70     362\n",
              "12748             1        888        7046.16     365\n",
              "12749             4         37         813.45     214\n",
              "12820             4         17         268.02     327\n",
              "12822            71          9         146.15      88"
            ]
          },
          "metadata": {
            "tags": []
          },
          "execution_count": 98
        }
      ]
    },
    {
      "cell_type": "markdown",
      "metadata": {
        "id": "BdMuy-ak4aWn",
        "colab_type": "text"
      },
      "source": [
        "Pre-process data"
      ]
    },
    {
      "cell_type": "code",
      "metadata": {
        "id": "dY5lggm54cLg",
        "colab_type": "code",
        "colab": {}
      },
      "source": [
        "# Import StandardScaler \n",
        "from sklearn.preprocessing import StandardScaler\n",
        "\n",
        "# Apply log transformation\n",
        "datamart_rfmt_log = np.log(datamart_rfmt)\n",
        "\n",
        "# Initialize StandardScaler\n",
        "scaler = StandardScaler(); scaler.fit(datamart_rfmt_log)\n",
        "\n",
        "# Transform and store the scaled data as datamart_rfmt_normalized\n",
        "datamart_rfmt_normalized = scaler.transform(datamart_rfmt_log)"
      ],
      "execution_count": 0,
      "outputs": []
    },
    {
      "cell_type": "markdown",
      "metadata": {
        "id": "9vej25494eJ-",
        "colab_type": "text"
      },
      "source": [
        "Calculate and plot sum of squared errors"
      ]
    },
    {
      "cell_type": "code",
      "metadata": {
        "id": "5C-5BTbA4gGM",
        "colab_type": "code",
        "colab": {
          "base_uri": "https://localhost:8080/",
          "height": 295
        },
        "outputId": "4457337b-7130-45cd-86f0-503828bd616f"
      },
      "source": [
        "sse={}\n",
        "# Fit KMeans and calculate SSE for each k\n",
        "for k in range(1, 11):\n",
        "  \n",
        "    # Initialize KMeans with k clusters and fit it \n",
        "    kmeans = KMeans(n_clusters=k, random_state=1).fit(datamart_rfmt_normalized)\n",
        "    \n",
        "    # Assign sum of squared distances to k element of the sse dictionary\n",
        "    sse[k] = kmeans.inertia_ \n",
        "\n",
        "# Add the plot title, x and y axis labels\n",
        "plt.title('The Elbow Method'); plt.xlabel('k'); plt.ylabel('SSE')\n",
        "\n",
        "# Plot SSE values for each k stored as keys in the dictionary\n",
        "sns.pointplot(x=list(sse.keys()), y=list(sse.values()))\n",
        "plt.show()"
      ],
      "execution_count": 101,
      "outputs": [
        {
          "output_type": "display_data",
          "data": {
            "image/png": "[encoded data removed]",
            "text/plain": [
              "<Figure size 432x288 with 1 Axes>"
            ]
          },
          "metadata": {
            "tags": [],
            "needs_background": "light"
          }
        }
      ]
    },
    {
      "cell_type": "markdown",
      "metadata": {
        "id": "WnzvFGcg4rWa",
        "colab_type": "text"
      },
      "source": [
        "Build 4-cluster solution"
      ]
    },
    {
      "cell_type": "code",
      "metadata": {
        "id": "k6BI02G04sB2",
        "colab_type": "code",
        "colab": {}
      },
      "source": [
        "# Import KMeans \n",
        "from sklearn.cluster import KMeans\n",
        "\n",
        "# Initialize KMeans\n",
        "kmeans = KMeans(n_clusters=4, random_state=1) \n",
        "\n",
        "# Fit k-means clustering on the normalized data set\n",
        "kmeans.fit(datamart_rfmt_normalized)\n",
        "\n",
        "# Extract cluster labels\n",
        "cluster_labels = kmeans.labels_"
      ],
      "execution_count": 0,
      "outputs": []
    },
    {
      "cell_type": "markdown",
      "metadata": {
        "id": "BwMcvzCr4x3L",
        "colab_type": "text"
      },
      "source": [
        "Analyze the segments"
      ]
    },
    {
      "cell_type": "code",
      "metadata": {
        "id": "xuHg8aFV4ynH",
        "colab_type": "code",
        "colab": {
          "base_uri": "https://localhost:8080/",
          "height": 237
        },
        "outputId": "42e05a9e-22e4-4452-a47f-9ab99d7d356c"
      },
      "source": [
        "# Create a new DataFrame by adding a cluster label column to datamart_rfmt\n",
        "datamart_rfmt_k4 = datamart_rfmt.assign(Cluster=cluster_labels)\n",
        "\n",
        "# Group by cluster\n",
        "grouped = datamart_rfmt_k4.groupby(['Cluster'])\n",
        "\n",
        "# Calculate average RFMT values and segment sizes for each cluster\n",
        "grouped.agg({\n",
        "    'Recency': 'mean',\n",
        "    'Frequency': 'mean',\n",
        "    'MonetaryValue': 'mean',\n",
        "    'Tenure': ['mean', 'count']\n",
        "  }).round(1)"
      ],
      "execution_count": 103,
      "outputs": [
        {
          "output_type": "execute_result",
          "data": {
            "text/html": [
              "<div>\n",
              "<style scoped>\n",
              "    .dataframe tbody tr th:only-of-type {\n",
              "        vertical-align: middle;\n",
              "    }\n",
              "\n",
              "    .dataframe tbody tr th {\n",
              "        vertical-align: top;\n",
              "    }\n",
              "\n",
              "    .dataframe thead tr th {\n",
              "        text-align: left;\n",
              "    }\n",
              "\n",
              "    .dataframe thead tr:last-of-type th {\n",
              "        text-align: right;\n",
              "    }\n",
              "</style>\n",
              "<table border=\"1\" class=\"dataframe\">\n",
              "  <thead>\n",
              "    <tr>\n",
              "      <th></th>\n",
              "      <th>Recency</th>\n",
              "      <th>Frequency</th>\n",
              "      <th>MonetaryValue</th>\n",
              "      <th colspan=\"2\" halign=\"left\">Tenure</th>\n",
              "    </tr>\n",
              "    <tr>\n",
              "      <th></th>\n",
              "      <th>mean</th>\n",
              "      <th>mean</th>\n",
              "      <th>mean</th>\n",
              "      <th>mean</th>\n",
              "      <th>count</th>\n",
              "    </tr>\n",
              "    <tr>\n",
              "      <th>Cluster</th>\n",
              "      <th></th>\n",
              "      <th></th>\n",
              "      <th></th>\n",
              "      <th></th>\n",
              "      <th></th>\n",
              "    </tr>\n",
              "  </thead>\n",
              "  <tbody>\n",
              "    <tr>\n",
              "      <th>0</th>\n",
              "      <td>203.6</td>\n",
              "      <td>3.3</td>\n",
              "      <td>58.6</td>\n",
              "      <td>221.9</td>\n",
              "      <td>923</td>\n",
              "    </tr>\n",
              "    <tr>\n",
              "      <th>1</th>\n",
              "      <td>13.0</td>\n",
              "      <td>54.3</td>\n",
              "      <td>1151.6</td>\n",
              "      <td>279.9</td>\n",
              "      <td>761</td>\n",
              "    </tr>\n",
              "    <tr>\n",
              "      <th>2</th>\n",
              "      <td>88.2</td>\n",
              "      <td>15.2</td>\n",
              "      <td>283.5</td>\n",
              "      <td>247.8</td>\n",
              "      <td>1215</td>\n",
              "    </tr>\n",
              "    <tr>\n",
              "      <th>3</th>\n",
              "      <td>32.8</td>\n",
              "      <td>7.2</td>\n",
              "      <td>101.6</td>\n",
              "      <td>44.9</td>\n",
              "      <td>744</td>\n",
              "    </tr>\n",
              "  </tbody>\n",
              "</table>\n",
              "</div>"
            ],
            "text/plain": [
              "        Recency Frequency MonetaryValue Tenure      \n",
              "           mean      mean          mean   mean count\n",
              "Cluster                                             \n",
              "0         203.6       3.3          58.6  221.9   923\n",
              "1          13.0      54.3        1151.6  279.9   761\n",
              "2          88.2      15.2         283.5  247.8  1215\n",
              "3          32.8       7.2         101.6   44.9   744"
            ]
          },
          "metadata": {
            "tags": []
          },
          "execution_count": 103
        }
      ]
    }
  ]
}