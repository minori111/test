{
  "nbformat": 4,
  "nbformat_minor": 0,
  "metadata": {
    "colab": {
      "name": "Customer Analytics and A/B Testing",
      "provenance": [],
      "authorship_tag": "ABX9TyMwj4gcqlDew/JE0Sc72AZq",
      "include_colab_link": true
    },
    "kernelspec": {
      "name": "python3",
      "display_name": "Python 3"
    }
  },
  "cells": [
    {
      "cell_type": "markdown",
      "metadata": {
        "id": "view-in-github",
        "colab_type": "text"
      },
      "source": [
        "<a href=\"https://colab.research.google.com/github/randy-tsukemen/Data_science_roadmap/blob/master/Customer_Analytics_and_A_B_Testing.ipynb\" target=\"_parent\"><img src=\"https://colab.research.google.com/assets/colab-badge.svg\" alt=\"Open In Colab\"/></a>"
      ]
    },
    {
      "cell_type": "markdown",
      "metadata": {
        "id": "7arJk1GkTScC",
        "colab_type": "text"
      },
      "source": [
        "# Key Performance Indicators: Measuring Business Success"
      ]
    },
    {
      "cell_type": "markdown",
      "metadata": {
        "id": "-AOehQvFTYF9",
        "colab_type": "text"
      },
      "source": [
        "What is A/B testing?\n",
        "- A/B Testing: Test different ideas against each other in the real world\n",
        "- Choose the one that statistically performs better"
      ]
    },
    {
      "cell_type": "markdown",
      "metadata": {
        "id": "M99NsFJDTeeb",
        "colab_type": "text"
      },
      "source": [
        "Why is A/B testing important?\n",
        "- No guessing\n",
        "- Provides accurate answers - quickly\n",
        "- Allows to rapidly iterate on ideas\n",
        "- establish causal relationships"
      ]
    },
    {
      "cell_type": "markdown",
      "metadata": {
        "id": "GQP_oQ9vTmUL",
        "colab_type": "text"
      },
      "source": [
        "A/B test process\n",
        "1. Develop a hypothesis about your product or\n",
        "business\n",
        "2. Randomly assign users to two different groups\n",
        "3. Expose:\n",
        "  - Group 1 to the the current product rules\n",
        "  - Group 2 to a product that tests the\n",
        "hypothesis\n",
        "4. Pick whichever performs better according to a\n",
        "set of KPIs"
      ]
    },
    {
      "cell_type": "markdown",
      "metadata": {
        "id": "fPC6WvvnTqw3",
        "colab_type": "text"
      },
      "source": [
        "Where can A/B testing be used?\n",
        "\n",
        "Users + ideas → A/B test\n",
        "- testing impact of drugs\n",
        "- incentivizing spending\n",
        "- driving user growth\n",
        "- many more!"
      ]
    },
    {
      "cell_type": "markdown",
      "metadata": {
        "id": "I9QeD96WTx36",
        "colab_type": "text"
      },
      "source": [
        "Course progression\n",
        "1. Understanding users — Key Performance Indicators\n",
        "2. Identifying trends — Exploratory Data Analysis\n",
        "3. Optimizing performance — Design of A/B Tests\n",
        "4. Data driven decisions — Analyzing A/B Test Results"
      ]
    },
    {
      "cell_type": "markdown",
      "metadata": {
        "id": "vbPqJ3omT5Y3",
        "colab_type": "text"
      },
      "source": [
        "Key performance indicators (KPIs)\n",
        "- A/B Tests: Measure impact of changes on KPIs\n",
        "- KPIs — metrics important to an organization\n",
        " - likelihood of a side-effect\n",
        "  - revenue\n",
        "  - conversion rate"
      ]
    },
    {
      "cell_type": "markdown",
      "metadata": {
        "id": "27LEbOnyT_IM",
        "colab_type": "text"
      },
      "source": [
        "How to identify KPIs\n",
        "\n",
        "Experience + Domain knowledge + Exploratory data analysis\n",
        "- Experience & Knowledge - What is important to a business\n",
        "- Exploratory Analysis - What metrics and relationships impact these KPIs"
      ]
    },
    {
      "cell_type": "markdown",
      "metadata": {
        "id": "QD07IDkXUFVg",
        "colab_type": "text"
      },
      "source": [
        "Next Up...\n",
        "- Exploratory Data Analysis (EDA)\n",
        "- Identify KPIs and areas for further analysis"
      ]
    },
    {
      "cell_type": "markdown",
      "metadata": {
        "id": "vZ2QCBEZUK2E",
        "colab_type": "text"
      },
      "source": [
        "which of the following do you think is the key component of an A/B test's usefulness?\n",
        "\n",
        "Having the users be randomly assigned to groups."
      ]
    },
    {
      "cell_type": "markdown",
      "metadata": {
        "id": "Fl_RR8e2ULl1",
        "colab_type": "text"
      },
      "source": [
        "which of the following do you think is the key component of an A/B test's usefulness?\n",
        "\n"
      ]
    },
    {
      "cell_type": "markdown",
      "metadata": {
        "id": "NkYwfUUPUkeS",
        "colab_type": "text"
      },
      "source": [
        "Example: meditation app\n",
        "- Services\n",
        "  - Paid subscription\n",
        "  - In-app purchases\n",
        "- Goals/KPIs\n",
        "  - Maintain high free → paid conversion rate"
      ]
    },
    {
      "cell_type": "markdown",
      "metadata": {
        "id": "pQc8lP0bUstI",
        "colab_type": "text"
      },
      "source": [
        "Dataset 1: User demographics\n",
        "\n",
        "Dataset 2: User actions"
      ]
    },
    {
      "cell_type": "code",
      "metadata": {
        "id": "zDyvceJ1S3pB",
        "colab_type": "code",
        "colab": {}
      },
      "source": [
        "import pandas as pd\n",
        "import numpy as np\n",
        "import matplotlib.pyplot as plt\n"
      ],
      "execution_count": 70,
      "outputs": []
    },
    {
      "cell_type": "code",
      "metadata": {
        "id": "maArkIyLU1U4",
        "colab_type": "code",
        "colab": {
          "base_uri": "https://localhost:8080/",
          "height": 124
        },
        "outputId": "fe6f0c29-ebe4-4052-a823-db2c99801c0f"
      },
      "source": [
        "# load customer_data\n",
        "customer_data = pd.read_csv('https://assets.datacamp.com/production/repositories/1646/datasets/c3a701a4729471ae0b92d8c300b470fd2ec0a73a/user_demographics_v1.csv')\n",
        "# print the head of customer_data\n",
        "print(customer_data.head())"
      ],
      "execution_count": 40,
      "outputs": [
        {
          "output_type": "stream",
          "text": [
            "          uid              reg_date device gender country  age\n",
            "0  54030035.0  2017-06-29T00:00:00Z    and      M     USA   19\n",
            "1  72574201.0  2018-03-05T00:00:00Z    iOS      F     TUR   22\n",
            "2  64187558.0  2016-02-07T00:00:00Z    iOS      M     USA   16\n",
            "3  92513925.0  2017-05-25T00:00:00Z    and      M     BRA   41\n",
            "4  99231338.0  2017-03-26T00:00:00Z    iOS      M     FRA   59\n"
          ],
          "name": "stdout"
        }
      ]
    },
    {
      "cell_type": "code",
      "metadata": {
        "id": "LQl6hC4hVVW1",
        "colab_type": "code",
        "colab": {
          "base_uri": "https://localhost:8080/",
          "height": 124
        },
        "outputId": "d8e6f327-d53b-40c8-8555-851e85f4717e"
      },
      "source": [
        "# load app_purchases\n",
        "app_purchases = pd.read_csv('https://assets.datacamp.com/production/repositories/1646/datasets/5decd183ef3710475958bbc903160fd6354379d5/purchase_data_v1.csv')\n",
        "# print the head of app_purchases\n",
        "print(app_purchases.head())"
      ],
      "execution_count": 36,
      "outputs": [
        {
          "output_type": "stream",
          "text": [
            "         date       uid            sku  price\n",
            "0  2017-07-10  41195147  sku_three_499    499\n",
            "1  2017-07-15  41195147  sku_three_499    499\n",
            "2  2017-11-12  41195147   sku_four_599    599\n",
            "3  2017-09-26  91591874    sku_two_299    299\n",
            "4  2017-12-01  91591874   sku_four_599    599\n"
          ],
          "name": "stdout"
        }
      ]
    },
    {
      "cell_type": "markdown",
      "metadata": {
        "id": "AUjuyq-ZWyVU",
        "colab_type": "text"
      },
      "source": [
        "Merging on different sets of fields"
      ]
    },
    {
      "cell_type": "code",
      "metadata": {
        "id": "n6mnRnGzgJfV",
        "colab_type": "code",
        "colab": {
          "base_uri": "https://localhost:8080/",
          "height": 177
        },
        "outputId": "6ad377fd-5a58-49c9-a59b-3339bfd82c90"
      },
      "source": [
        "# Merge on the 'uid' field\n",
        "uid_combined_data = app_purchases.merge(customer_data, on=['uid'], how='inner')\n",
        "\n",
        "# Examine the results \n",
        "print(uid_combined_data.head())\n",
        "print(len(uid_combined_data))"
      ],
      "execution_count": 41,
      "outputs": [
        {
          "output_type": "stream",
          "text": [
            "         date       uid            sku  price  ... device gender country age\n",
            "0  2017-07-10  41195147  sku_three_499    499  ...    and      M     BRA  17\n",
            "1  2017-07-15  41195147  sku_three_499    499  ...    and      M     BRA  17\n",
            "2  2017-11-12  41195147   sku_four_599    599  ...    and      M     BRA  17\n",
            "3  2017-09-26  91591874    sku_two_299    299  ...    and      M     TUR  17\n",
            "4  2017-12-01  91591874   sku_four_599    599  ...    and      M     TUR  17\n",
            "\n",
            "[5 rows x 9 columns]\n",
            "9006\n"
          ],
          "name": "stdout"
        }
      ]
    },
    {
      "cell_type": "code",
      "metadata": {
        "id": "j_IMc4UM4D02",
        "colab_type": "code",
        "colab": {
          "base_uri": "https://localhost:8080/",
          "height": 70
        },
        "outputId": "b34d84b5-602e-4f6a-83fa-88b4bb243058"
      },
      "source": [
        "uid_combined_data.columns"
      ],
      "execution_count": 65,
      "outputs": [
        {
          "output_type": "execute_result",
          "data": {
            "text/plain": [
              "Index(['date', 'uid', 'sku', 'price', 'reg_date', 'device', 'gender',\n",
              "       'country', 'age', 'month1'],\n",
              "      dtype='object')"
            ]
          },
          "metadata": {
            "tags": []
          },
          "execution_count": 65
        }
      ]
    },
    {
      "cell_type": "code",
      "metadata": {
        "id": "4u09EN064LPd",
        "colab_type": "code",
        "colab": {}
      },
      "source": [
        "['Unnamed: 0', 'date', 'uid', 'sku', 'price', 'reg_date', 'device', 'gender', 'country', 'age', 'first_week_purchases']"
      ],
      "execution_count": null,
      "outputs": []
    },
    {
      "cell_type": "code",
      "metadata": {
        "id": "JT0Gdj0Hn8_h",
        "colab_type": "code",
        "colab": {}
      },
      "source": [
        "customer_data['date'] = customer_data.reg_date.str[:10]"
      ],
      "execution_count": 42,
      "outputs": []
    },
    {
      "cell_type": "code",
      "metadata": {
        "id": "UiSwIiDZWvlQ",
        "colab_type": "code",
        "colab": {
          "base_uri": "https://localhost:8080/",
          "height": 177
        },
        "outputId": "6586cb62-8b5d-467b-ffa2-2b14242a97a2"
      },
      "source": [
        "# Merge on the 'uid' and 'date' field\n",
        "uid_date_combined_data = app_purchases.merge(customer_data, on=['uid', 'date'], how='inner')\n",
        "\n",
        "# Examine the results \n",
        "print(uid_date_combined_data.head())\n",
        "print(len(uid_date_combined_data))"
      ],
      "execution_count": 43,
      "outputs": [
        {
          "output_type": "stream",
          "text": [
            "         date       uid             sku  price  ... device gender country age\n",
            "0  2016-03-30  94055095    sku_four_599    599  ...    iOS      F     BRA  16\n",
            "1  2015-10-28  69627745     sku_one_199    199  ...    and      F     BRA  18\n",
            "2  2017-02-02  11604973  sku_seven_1499    499  ...    and      F     USA  16\n",
            "3  2016-06-05  22495315    sku_four_599    599  ...    and      F     USA  19\n",
            "4  2018-02-17  51365662     sku_two_299    299  ...    iOS      M     TUR  16\n",
            "\n",
            "[5 rows x 9 columns]\n",
            "35\n"
          ],
          "name": "stdout"
        }
      ]
    },
    {
      "cell_type": "markdown",
      "metadata": {
        "id": "27w5bf56euaJ",
        "colab_type": "text"
      },
      "source": [
        "KPI: Conversion Rate\n",
        "- Conversion Rate: Percentage of users who\n",
        "subscribe after the free trial\n",
        "  - Of users who convert within one week? One\n",
        "month?...\n",
        "  - Across all users or just a subset?"
      ]
    },
    {
      "cell_type": "markdown",
      "metadata": {
        "id": "iCb1dFmQe0dm",
        "colab_type": "text"
      },
      "source": [
        "Choosing a KPI\n",
        "- Stability over time\n",
        "- Importance across different user groups\n",
        "- Correlation with other business factors"
      ]
    },
    {
      "cell_type": "markdown",
      "metadata": {
        "id": "1mMxtLWCe8xg",
        "colab_type": "text"
      },
      "source": [
        "KPIs\n",
        "- Reminder: conversion rate is just one KPI\n",
        "- Most companies will have many KPIs\n",
        "- Each serves a different purpose"
      ]
    },
    {
      "cell_type": "markdown",
      "metadata": {
        "id": "cpX4Vma9fCxA",
        "colab_type": "text"
      },
      "source": [
        "Practicing aggregations\n",
        "\n",
        "Notice how the mean is higher than the median? This suggests that we have some users who are making a lot of purchases!"
      ]
    },
    {
      "cell_type": "code",
      "metadata": {
        "id": "EA_8fqpYfDhe",
        "colab_type": "code",
        "colab": {
          "base_uri": "https://localhost:8080/",
          "height": 70
        },
        "outputId": "d85eda59-3a86-4c01-f6f0-c8bc6410b191"
      },
      "source": [
        "purchase_data = uid_combined_data\n",
        "# Calculate the mean and median of price and age\n",
        "purchase_summary = purchase_data.agg({'price': ['mean', 'median'], 'age': ['mean', 'median']})\n",
        "\n",
        "# Examine the output \n",
        "print(purchase_summary)"
      ],
      "execution_count": 44,
      "outputs": [
        {
          "output_type": "stream",
          "text": [
            "             price        age\n",
            "mean    406.772596  23.922274\n",
            "median  299.000000  21.000000\n"
          ],
          "name": "stdout"
        }
      ]
    },
    {
      "cell_type": "markdown",
      "metadata": {
        "id": "fHoFwS5MgnQu",
        "colab_type": "text"
      },
      "source": [
        "Grouping & aggregating\n",
        "\n",
        "These values provide a great summary of the customer data which will be useful as you move to optimizing the conversion rate."
      ]
    },
    {
      "cell_type": "code",
      "metadata": {
        "id": "d6zw1530ge45",
        "colab_type": "code",
        "colab": {
          "base_uri": "https://localhost:8080/",
          "height": 141
        },
        "outputId": "1ed10a6d-9623-4ef4-e6b7-8d15260b1b68"
      },
      "source": [
        "# Group the data \n",
        "grouped_purchase_data = purchase_data.groupby(by = ['device', 'gender'])\n",
        "\n",
        "# Aggregate the data\n",
        "purchase_summary = grouped_purchase_data.agg({'price': ['mean', 'median', 'std']})\n",
        "\n",
        "# Examine the results\n",
        "print(purchase_summary)"
      ],
      "execution_count": 45,
      "outputs": [
        {
          "output_type": "stream",
          "text": [
            "                    price                   \n",
            "                     mean median         std\n",
            "device gender                               \n",
            "and    F       400.747504    299  179.984378\n",
            "       M       416.237308    499  195.001520\n",
            "iOS    F       404.435330    299  181.524952\n",
            "       M       405.272401    299  196.843197\n"
          ],
          "name": "stdout"
        }
      ]
    },
    {
      "cell_type": "markdown",
      "metadata": {
        "id": "D4dUyBaCg4wP",
        "colab_type": "text"
      },
      "source": [
        "Goal - comparing our KPIs\n",
        "- Goal: Examine the KPI \"user conversion rate\"\n",
        "after the free trial\n",
        "- Week One Conversion Rate: Limit to users\n",
        "who convert in their ?rst week after the trial ends"
      ]
    },
    {
      "cell_type": "markdown",
      "metadata": {
        "id": "wauv29FNhyAo",
        "colab_type": "text"
      },
      "source": [
        "How to choose KPI metrics?\n",
        "- Infinitely many potential KPIs\n",
        "- How long does it take to determine\n",
        "  - Monthly Conversion Rate = 1 Month Wait time\n",
        "- Leverage Exploratory Data Analysis\n",
        "  - Reveals relationships between metrics and key results\n",
        "- Keep In Mind How do these KPIs and my Business goals relate"
      ]
    },
    {
      "cell_type": "markdown",
      "metadata": {
        "id": "_iGvWr0Bh4hz",
        "colab_type": "text"
      },
      "source": [
        "Why is conversion rate important?\n",
        "- Strong measure of growth\n",
        "- Potential early warning sign of problems\n",
        "  - Sensitive to changes in the overall ecosystem"
      ]
    },
    {
      "cell_type": "markdown",
      "metadata": {
        "id": "3o4gm0bSh-GB",
        "colab_type": "text"
      },
      "source": [
        "Continue exploring conversion rates\n",
        "- How does this KPI evolve over time?\n",
        "- See how changes can impact different groups differently"
      ]
    },
    {
      "cell_type": "markdown",
      "metadata": {
        "id": "VvYmoVGLiB-W",
        "colab_type": "text"
      },
      "source": [
        "Calculating KPIs\n",
        "\n",
        "Since our average price is 414 cents which is below $4.99 it seems that our purchasers tend towards the lower priced set of options."
      ]
    },
    {
      "cell_type": "code",
      "metadata": {
        "id": "aqrIgVvviCkj",
        "colab_type": "code",
        "colab": {
          "base_uri": "https://localhost:8080/",
          "height": 35
        },
        "outputId": "3019224c-49f8-4627-c273-03d4d33e4605"
      },
      "source": [
        "# Compute max_purchase_date\n",
        "current_date = pd.Timestamp('2018-03-17 00:00:00', tz='UTC')\n",
        "max_purchase_date = current_date - pd.Timedelta(days=28)\n",
        "\n",
        "purchase_data['reg_date'] = pd.to_datetime(purchase_data.reg_date, utc=True)\n",
        "purchase_data['date'] = pd.to_datetime(purchase_data.date, utc=True)\n",
        "# Filter to only include users who registered before our max date\n",
        "purchase_data_filt = purchase_data[purchase_data.reg_date < max_purchase_date]\n",
        "\n",
        "# Filter to contain only purchases within the first 28 days of registration\n",
        "purchase_data_filt = purchase_data_filt[(purchase_data_filt.date <= \n",
        "                        purchase_data_filt.reg_date + pd.Timedelta(days=28))]\n",
        "\n",
        "# Output the mean price paid per purchase\n",
        "print(purchase_data_filt.price.mean())"
      ],
      "execution_count": 52,
      "outputs": [
        {
          "output_type": "stream",
          "text": [
            "414.4237288135593\n"
          ],
          "name": "stdout"
        }
      ]
    },
    {
      "cell_type": "markdown",
      "metadata": {
        "id": "XxhTEvpZo6it",
        "colab_type": "text"
      },
      "source": [
        "Average purchase price by cohort\n",
        "\n",
        "This value seems relatively stable over the past 28 days."
      ]
    },
    {
      "cell_type": "code",
      "metadata": {
        "id": "zaS8oBBzo8Jv",
        "colab_type": "code",
        "colab": {
          "base_uri": "https://localhost:8080/",
          "height": 124
        },
        "outputId": "35648fe8-1963-4b48-f5f3-2c84a91f715a"
      },
      "source": [
        "# Set the max registration date to be one month before today\n",
        "max_reg_date = current_date - pd.Timedelta(days=28)\n",
        "\n",
        "# Find the month 1 values\n",
        "month1 = np.where((purchase_data.reg_date < max_reg_date) &\n",
        "                 (purchase_data.date < purchase_data.reg_date + pd.Timedelta(days=28)),\n",
        "                  purchase_data.price, \n",
        "                  np.NaN)\n",
        "                 \n",
        "# Update the value in the DataFrame\n",
        "purchase_data['month1'] = month1\n",
        "\n",
        "# Group the data by gender and device \n",
        "purchase_data_upd = purchase_data.groupby(by=['gender', 'device'], as_index=False) \n",
        "\n",
        "# Aggregate the month1 and price data \n",
        "purchase_summary = purchase_data_upd.agg(\n",
        "                        {'month1': ['mean', 'median'],\n",
        "                        'price': ['mean', 'median']})\n",
        "\n",
        "# Examine the results \n",
        "print(purchase_summary)"
      ],
      "execution_count": 55,
      "outputs": [
        {
          "output_type": "stream",
          "text": [
            "  gender device      month1              price       \n",
            "                       mean median        mean median\n",
            "0      F    and  388.204545  299.0  400.747504    299\n",
            "1      F    iOS  432.587786  499.0  404.435330    299\n",
            "2      M    and  413.705882  399.0  416.237308    499\n",
            "3      M    iOS  433.313725  499.0  405.272401    299\n"
          ],
          "name": "stdout"
        }
      ]
    },
    {
      "cell_type": "markdown",
      "metadata": {
        "id": "Rha4R1U0xigV",
        "colab_type": "text"
      },
      "source": [
        "# Exploring and Visualizing Customer Behavior\n"
      ]
    },
    {
      "cell_type": "markdown",
      "metadata": {
        "id": "nAM8Cffuxjt7",
        "colab_type": "text"
      },
      "source": [
        "Exploratory Data Analysis\n",
        "- Exploratory Data Analysis (EDA)\n",
        "- Working with time series data\n",
        "- Uncovering trends in KPIs over time"
      ]
    },
    {
      "cell_type": "markdown",
      "metadata": {
        "id": "RVo1EOvyxtJi",
        "colab_type": "text"
      },
      "source": [
        "Example: Week Two Conversion Rate\n",
        "- Week 2 Conversion Rate Users who subscribe in the second week after the free trial\n",
        "- Users must have:\n",
        "  - Completed the free trial\n",
        "  - Not subscribed in the ?rst week\n",
        "  - Had a full second week to subscribe or not"
      ]
    },
    {
      "cell_type": "markdown",
      "metadata": {
        "id": "WnchX1mxyS0F",
        "colab_type": "text"
      },
      "source": [
        "Parsing dates"
      ]
    },
    {
      "cell_type": "code",
      "metadata": {
        "id": "l7XxU_pdyTjB",
        "colab_type": "code",
        "colab": {
          "base_uri": "https://localhost:8080/",
          "height": 88
        },
        "outputId": "e705d0aa-00ac-4be5-e532-01b5ab26264f"
      },
      "source": [
        "# Provide the correct format for the date\n",
        "date_data_one = ['Saturday January 27, 2017', 'Saturday December 2, 2017']\n",
        "date_data_one = pd.to_datetime(date_data_one, format=\"%A %B %d, %Y\")\n",
        "print(date_data_one)\n",
        "\n",
        "# Provide the correct format for the date\n",
        "date_data_two = ['2017-01-01', '2016-05-03']\n",
        "date_data_two = pd.to_datetime(date_data_two, format=\"%Y-%m-%d\")\n",
        "print(date_data_two)\n",
        "\n",
        "# Provide the correct format for the date\n",
        "date_data_three = ['08/17/1978', '01/07/1976']\n",
        "date_data_three = pd.to_datetime(date_data_three, format=\"%m/%d/%Y\")\n",
        "print(date_data_three)\n",
        "\n",
        "# Provide the correct format for the date\n",
        "date_data_four = ['2016 March 01 01:56', '2016 January 4 02:16']\n",
        "date_data_four = pd.to_datetime(date_data_four, format=\"%Y %B %d %H:%M\")\n",
        "print(date_data_four)"
      ],
      "execution_count": 60,
      "outputs": [
        {
          "output_type": "stream",
          "text": [
            "DatetimeIndex(['2017-01-27', '2017-12-02'], dtype='datetime64[ns]', freq=None)\n",
            "DatetimeIndex(['2017-01-01', '2016-05-03'], dtype='datetime64[ns]', freq=None)\n",
            "DatetimeIndex(['1978-08-17', '1976-01-07'], dtype='datetime64[ns]', freq=None)\n",
            "DatetimeIndex(['2016-03-01 01:56:00', '2016-01-04 02:16:00'], dtype='datetime64[ns]', freq=None)\n"
          ],
          "name": "stdout"
        }
      ]
    },
    {
      "cell_type": "markdown",
      "metadata": {
        "id": "cnnM-Y_Ez_q_",
        "colab_type": "text"
      },
      "source": [
        "Conversion rate over time\n",
        "- Useful Ways to Explore Metrics\n",
        "  - By user type\n",
        "  - Over time"
      ]
    },
    {
      "cell_type": "markdown",
      "metadata": {
        "id": "U39lGTpe0Csk",
        "colab_type": "text"
      },
      "source": [
        "Trends in different cohorts\n",
        "- See how changes interact with different groups\n",
        "- Compare users of different genders\n",
        "- Evaluate the impact of a change across regions\n",
        "- See the impact for different devices"
      ]
    },
    {
      "cell_type": "code",
      "metadata": {
        "id": "Iu2vecmAykg3",
        "colab_type": "code",
        "colab": {}
      },
      "source": [
        "# The maximum date in our dataset\n",
        "current_date = pd.Timestamp('2018-03-17 00:00:00', tz='UTC')\n",
        "\n",
        "\n",
        "# Find the week 1 values\n",
        "first_week_purchases = np.where(\n",
        "                 (purchase_data.date < purchase_data.reg_date + pd.Timedelta(days=28)),\n",
        "                  1, \n",
        "                  0)\n",
        "                 \n",
        "# Update the value in the DataFrame\n",
        "purchase_data['first_week_purchases'] = first_week_purchases"
      ],
      "execution_count": 87,
      "outputs": []
    },
    {
      "cell_type": "code",
      "metadata": {
        "id": "Gp5Kcbos8_kV",
        "colab_type": "code",
        "colab": {
          "base_uri": "https://localhost:8080/",
          "height": 278
        },
        "outputId": "9dc94659-94c2-43e0-c052-da217d3d5320"
      },
      "source": [
        "# Group the data and aggregate first_week_purchases\n",
        "user_purchases = purchase_data.groupby(by=['reg_date', 'uid']).agg({'first_week_purchases': ['sum']})\n",
        "\n",
        "# Reset the indexes\n",
        "user_purchases.columns = user_purchases.columns.droplevel(level=1)\n",
        "# user_purchases.reset_index(inplace=True)\n",
        "\n",
        "# Find the average number of purchases per day by first-week users\n",
        "user_purchases = user_purchases.groupby(by=['reg_date']).agg({'first_week_purchases': ['mean']})\n",
        "user_purchases.columns = user_purchases.columns.droplevel(level=1)\n",
        "user_purchases.reset_index(inplace=True)\n",
        "\n",
        "# Plot the results\n",
        "user_purchases.plot(x='reg_date', y='first_week_purchases')\n",
        "plt.show()"
      ],
      "execution_count": 88,
      "outputs": [
        {
          "output_type": "display_data",
          "data": {
            "image/png": "[encoded data removed]",
            "text/plain": [
              "<Figure size 432x288 with 1 Axes>"
            ]
          },
          "metadata": {
            "tags": [],
            "needs_background": "light"
          }
        }
      ]
    },
    {
      "cell_type": "markdown",
      "metadata": {
        "id": "u59LwfwH-sGz",
        "colab_type": "text"
      },
      "source": [
        "Pivoting our data\n",
        "\n",
        "There does seem to be an increase in the number of purchases by purchasing users within their first week. Let's now confirm that this is not driven only by one segment of users. "
      ]
    },
    {
      "cell_type": "code",
      "metadata": {
        "id": "N35hf8xA9SU7",
        "colab_type": "code",
        "colab": {
          "base_uri": "https://localhost:8080/",
          "height": 141
        },
        "outputId": "b94379e9-b964-46a6-a2ef-fa87f0d931b0"
      },
      "source": [
        "# Pivot the data\n",
        "country_pivot = pd.pivot_table(purchase_data, values='first_week_purchases', columns=['country'], index=['reg_date'])\n",
        "print(country_pivot.head())"
      ],
      "execution_count": 114,
      "outputs": [
        {
          "output_type": "stream",
          "text": [
            "country                    BRA  CAN  DEU  FRA  TUR       USA\n",
            "reg_date                                                    \n",
            "2015-01-27 00:00:00+00:00  NaN  NaN  NaN  NaN  NaN  0.000000\n",
            "2015-02-01 00:00:00+00:00  0.0  NaN  NaN  NaN  NaN       NaN\n",
            "2015-02-09 00:00:00+00:00  NaN  NaN  NaN  NaN  NaN  0.083333\n",
            "2015-02-10 00:00:00+00:00  NaN  NaN  NaN  NaN  NaN  0.000000\n",
            "2015-03-01 00:00:00+00:00  NaN  NaN  NaN  NaN  NaN  0.000000\n"
          ],
          "name": "stdout"
        }
      ]
    },
    {
      "cell_type": "code",
      "metadata": {
        "id": "2VEhgB_RAN1d",
        "colab_type": "code",
        "colab": {
          "base_uri": "https://localhost:8080/",
          "height": 141
        },
        "outputId": "ac71ea32-1f78-4598-81c6-9009ba764cb5"
      },
      "source": [
        "# Pivot the data\n",
        "device_pivot = pd.pivot_table(purchase_data, values='first_week_purchases', columns=['device'], index=['reg_date'])\n",
        "print(device_pivot.head())"
      ],
      "execution_count": 113,
      "outputs": [
        {
          "output_type": "stream",
          "text": [
            "device                          and  iOS\n",
            "reg_date                                \n",
            "2015-01-27 00:00:00+00:00       NaN  0.0\n",
            "2015-02-01 00:00:00+00:00  0.000000  NaN\n",
            "2015-02-09 00:00:00+00:00  0.083333  NaN\n",
            "2015-02-10 00:00:00+00:00       NaN  0.0\n",
            "2015-03-01 00:00:00+00:00       NaN  0.0\n"
          ],
          "name": "stdout"
        }
      ]
    },
    {
      "cell_type": "markdown",
      "metadata": {
        "id": "mD5Ywga8AhEM",
        "colab_type": "text"
      },
      "source": [
        "Examining the different cohorts"
      ]
    },
    {
      "cell_type": "code",
      "metadata": {
        "id": "KElDjRfhAuSu",
        "colab_type": "code",
        "colab": {
          "base_uri": "https://localhost:8080/",
          "height": 278
        },
        "outputId": "14df0b74-2c31-4e58-9215-262bc7114b4a"
      },
      "source": [
        "# Plot the average first week purchases for each country by registration date\n",
        "country_pivot.reset_index().plot(x='reg_date', y=['USA', 'CAN', 'FRA', 'BRA', 'TUR', 'DEU'])\n",
        "plt.show()"
      ],
      "execution_count": 115,
      "outputs": [
        {
          "output_type": "display_data",
          "data": {
            "image/png": "[encoded data removed]",
            "text/plain": [
              "<Figure size 432x288 with 1 Axes>"
            ]
          },
          "metadata": {
            "tags": [],
            "needs_background": "light"
          }
        }
      ]
    },
    {
      "cell_type": "code",
      "metadata": {
        "id": "U2h5iXBBAhrJ",
        "colab_type": "code",
        "colab": {
          "base_uri": "https://localhost:8080/",
          "height": 278
        },
        "outputId": "b0a840eb-888e-427e-d98a-51d5a1491830"
      },
      "source": [
        "# Plot the average first week purchases for each device by registration date\n",
        "device_pivot.reset_index().plot(x='reg_date', y=['and', 'iOS'])\n",
        "plt.show()"
      ],
      "execution_count": 117,
      "outputs": [
        {
          "output_type": "display_data",
          "data": {
            "image/png": "[encoded data removed]",
            "text/plain": [
              "<Figure size 432x288 with 1 Axes>"
            ]
          },
          "metadata": {
            "tags": [],
            "needs_background": "light"
          }
        }
      ]
    },
    {
      "cell_type": "markdown",
      "metadata": {
        "id": "-XP284-iGEjV",
        "colab_type": "text"
      },
      "source": [
        "Further techniques for uncovering trends\n",
        "\n",
        "Subscribers Per Day"
      ]
    },
    {
      "cell_type": "markdown",
      "metadata": {
        "id": "95_qqP2WGJBC",
        "colab_type": "text"
      },
      "source": [
        "Weekly seasonality and our pricing change\n",
        "- Weekly Seasonality: Trends following the\n",
        "day of the week\n",
        "  - Potentially more likely to subscribe on\n",
        "the weekend\n",
        "  - Seasonality can hide larger trends...the\n",
        "impact of our price change?"
      ]
    },
    {
      "cell_type": "code",
      "metadata": {
        "id": "uYS49rhJBB5H",
        "colab_type": "code",
        "colab": {}
      },
      "source": [
        ""
      ],
      "execution_count": null,
      "outputs": []
    }
  ]
}