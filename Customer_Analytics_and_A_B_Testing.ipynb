{
  "nbformat": 4,
  "nbformat_minor": 0,
  "metadata": {
    "colab": {
      "name": "Customer Analytics and A/B Testing",
      "provenance": [],
      "collapsed_sections": [
        "Rha4R1U0xigV"
      ],
      "authorship_tag": "ABX9TyPQ91IDCdotSt/NT6GKNXZD",
      "include_colab_link": true
    },
    "kernelspec": {
      "name": "python3",
      "display_name": "Python 3"
    }
  },
  "cells": [
    {
      "cell_type": "markdown",
      "metadata": {
        "id": "view-in-github",
        "colab_type": "text"
      },
      "source": [
        "<a href=\"https://colab.research.google.com/github/randy-tsukemen/Data_science_roadmap/blob/master/Customer_Analytics_and_A_B_Testing.ipynb\" target=\"_parent\"><img src=\"https://colab.research.google.com/assets/colab-badge.svg\" alt=\"Open In Colab\"/></a>"
      ]
    },
    {
      "cell_type": "markdown",
      "metadata": {
        "id": "7arJk1GkTScC",
        "colab_type": "text"
      },
      "source": [
        "# Key Performance Indicators: Measuring Business Success"
      ]
    },
    {
      "cell_type": "markdown",
      "metadata": {
        "id": "-AOehQvFTYF9",
        "colab_type": "text"
      },
      "source": [
        "What is A/B testing?\n",
        "- A/B Testing: Test different ideas against each other in the real world\n",
        "- Choose the one that statistically performs better"
      ]
    },
    {
      "cell_type": "markdown",
      "metadata": {
        "id": "M99NsFJDTeeb",
        "colab_type": "text"
      },
      "source": [
        "Why is A/B testing important?\n",
        "- No guessing\n",
        "- Provides accurate answers - quickly\n",
        "- Allows to rapidly iterate on ideas\n",
        "- establish causal relationships"
      ]
    },
    {
      "cell_type": "markdown",
      "metadata": {
        "id": "GQP_oQ9vTmUL",
        "colab_type": "text"
      },
      "source": [
        "A/B test process\n",
        "1. Develop a hypothesis about your product or\n",
        "business\n",
        "2. Randomly assign users to two different groups\n",
        "3. Expose:\n",
        "  - Group 1 to the the current product rules\n",
        "  - Group 2 to a product that tests the\n",
        "hypothesis\n",
        "4. Pick whichever performs better according to a\n",
        "set of KPIs"
      ]
    },
    {
      "cell_type": "markdown",
      "metadata": {
        "id": "fPC6WvvnTqw3",
        "colab_type": "text"
      },
      "source": [
        "Where can A/B testing be used?\n",
        "\n",
        "Users + ideas → A/B test\n",
        "- testing impact of drugs\n",
        "- incentivizing spending\n",
        "- driving user growth\n",
        "- many more!"
      ]
    },
    {
      "cell_type": "markdown",
      "metadata": {
        "id": "I9QeD96WTx36",
        "colab_type": "text"
      },
      "source": [
        "Course progression\n",
        "1. Understanding users — Key Performance Indicators\n",
        "2. Identifying trends — Exploratory Data Analysis\n",
        "3. Optimizing performance — Design of A/B Tests\n",
        "4. Data driven decisions — Analyzing A/B Test Results"
      ]
    },
    {
      "cell_type": "markdown",
      "metadata": {
        "id": "vbPqJ3omT5Y3",
        "colab_type": "text"
      },
      "source": [
        "Key performance indicators (KPIs)\n",
        "- A/B Tests: Measure impact of changes on KPIs\n",
        "- KPIs — metrics important to an organization\n",
        " - likelihood of a side-effect\n",
        "  - revenue\n",
        "  - conversion rate"
      ]
    },
    {
      "cell_type": "markdown",
      "metadata": {
        "id": "27LEbOnyT_IM",
        "colab_type": "text"
      },
      "source": [
        "How to identify KPIs\n",
        "\n",
        "Experience + Domain knowledge + Exploratory data analysis\n",
        "- Experience & Knowledge - What is important to a business\n",
        "- Exploratory Analysis - What metrics and relationships impact these KPIs"
      ]
    },
    {
      "cell_type": "markdown",
      "metadata": {
        "id": "QD07IDkXUFVg",
        "colab_type": "text"
      },
      "source": [
        "Next Up...\n",
        "- Exploratory Data Analysis (EDA)\n",
        "- Identify KPIs and areas for further analysis"
      ]
    },
    {
      "cell_type": "markdown",
      "metadata": {
        "id": "vZ2QCBEZUK2E",
        "colab_type": "text"
      },
      "source": [
        "which of the following do you think is the key component of an A/B test's usefulness?\n",
        "\n",
        "Having the users be randomly assigned to groups."
      ]
    },
    {
      "cell_type": "markdown",
      "metadata": {
        "id": "Fl_RR8e2ULl1",
        "colab_type": "text"
      },
      "source": [
        "which of the following do you think is the key component of an A/B test's usefulness?\n",
        "\n"
      ]
    },
    {
      "cell_type": "markdown",
      "metadata": {
        "id": "NkYwfUUPUkeS",
        "colab_type": "text"
      },
      "source": [
        "Example: meditation app\n",
        "- Services\n",
        "  - Paid subscription\n",
        "  - In-app purchases\n",
        "- Goals/KPIs\n",
        "  - Maintain high free → paid conversion rate"
      ]
    },
    {
      "cell_type": "markdown",
      "metadata": {
        "id": "pQc8lP0bUstI",
        "colab_type": "text"
      },
      "source": [
        "Dataset 1: User demographics\n",
        "\n",
        "Dataset 2: User actions"
      ]
    },
    {
      "cell_type": "code",
      "metadata": {
        "id": "zDyvceJ1S3pB",
        "colab_type": "code",
        "colab": {}
      },
      "source": [
        "import pandas as pd\n",
        "import numpy as np\n",
        "import matplotlib.pyplot as plt\n"
      ],
      "execution_count": 1,
      "outputs": []
    },
    {
      "cell_type": "code",
      "metadata": {
        "id": "maArkIyLU1U4",
        "colab_type": "code",
        "colab": {
          "base_uri": "https://localhost:8080/",
          "height": 124
        },
        "outputId": "884254b8-2916-4c64-8e1b-d83546dd7a37"
      },
      "source": [
        "# load customer_data\n",
        "customer_data = pd.read_csv('https://assets.datacamp.com/production/repositories/1646/datasets/c3a701a4729471ae0b92d8c300b470fd2ec0a73a/user_demographics_v1.csv')\n",
        "# print the head of customer_data\n",
        "print(customer_data.head())"
      ],
      "execution_count": 2,
      "outputs": [
        {
          "output_type": "stream",
          "text": [
            "          uid              reg_date device gender country  age\n",
            "0  54030035.0  2017-06-29T00:00:00Z    and      M     USA   19\n",
            "1  72574201.0  2018-03-05T00:00:00Z    iOS      F     TUR   22\n",
            "2  64187558.0  2016-02-07T00:00:00Z    iOS      M     USA   16\n",
            "3  92513925.0  2017-05-25T00:00:00Z    and      M     BRA   41\n",
            "4  99231338.0  2017-03-26T00:00:00Z    iOS      M     FRA   59\n"
          ],
          "name": "stdout"
        }
      ]
    },
    {
      "cell_type": "code",
      "metadata": {
        "id": "LQl6hC4hVVW1",
        "colab_type": "code",
        "colab": {
          "base_uri": "https://localhost:8080/",
          "height": 124
        },
        "outputId": "d39a806f-4fe7-456e-a2c5-699568a201eb"
      },
      "source": [
        "# load app_purchases\n",
        "app_purchases = pd.read_csv('https://assets.datacamp.com/production/repositories/1646/datasets/5decd183ef3710475958bbc903160fd6354379d5/purchase_data_v1.csv')\n",
        "# print the head of app_purchases\n",
        "print(app_purchases.head())"
      ],
      "execution_count": 3,
      "outputs": [
        {
          "output_type": "stream",
          "text": [
            "         date       uid            sku  price\n",
            "0  2017-07-10  41195147  sku_three_499    499\n",
            "1  2017-07-15  41195147  sku_three_499    499\n",
            "2  2017-11-12  41195147   sku_four_599    599\n",
            "3  2017-09-26  91591874    sku_two_299    299\n",
            "4  2017-12-01  91591874   sku_four_599    599\n"
          ],
          "name": "stdout"
        }
      ]
    },
    {
      "cell_type": "markdown",
      "metadata": {
        "id": "AUjuyq-ZWyVU",
        "colab_type": "text"
      },
      "source": [
        "Merging on different sets of fields"
      ]
    },
    {
      "cell_type": "code",
      "metadata": {
        "id": "n6mnRnGzgJfV",
        "colab_type": "code",
        "colab": {
          "base_uri": "https://localhost:8080/",
          "height": 177
        },
        "outputId": "b2066a86-ef87-43e4-e203-628b0bad4561"
      },
      "source": [
        "# Merge on the 'uid' field\n",
        "uid_combined_data = app_purchases.merge(customer_data, on=['uid'], how='inner')\n",
        "\n",
        "# Examine the results \n",
        "print(uid_combined_data.head())\n",
        "print(len(uid_combined_data))"
      ],
      "execution_count": 4,
      "outputs": [
        {
          "output_type": "stream",
          "text": [
            "         date       uid            sku  price  ... device gender country age\n",
            "0  2017-07-10  41195147  sku_three_499    499  ...    and      M     BRA  17\n",
            "1  2017-07-15  41195147  sku_three_499    499  ...    and      M     BRA  17\n",
            "2  2017-11-12  41195147   sku_four_599    599  ...    and      M     BRA  17\n",
            "3  2017-09-26  91591874    sku_two_299    299  ...    and      M     TUR  17\n",
            "4  2017-12-01  91591874   sku_four_599    599  ...    and      M     TUR  17\n",
            "\n",
            "[5 rows x 9 columns]\n",
            "9006\n"
          ],
          "name": "stdout"
        }
      ]
    },
    {
      "cell_type": "code",
      "metadata": {
        "id": "j_IMc4UM4D02",
        "colab_type": "code",
        "colab": {
          "base_uri": "https://localhost:8080/",
          "height": 70
        },
        "outputId": "dde2c497-6fe9-4244-fb4d-20a346ef4472"
      },
      "source": [
        "uid_combined_data.columns"
      ],
      "execution_count": 5,
      "outputs": [
        {
          "output_type": "execute_result",
          "data": {
            "text/plain": [
              "Index(['date', 'uid', 'sku', 'price', 'reg_date', 'device', 'gender',\n",
              "       'country', 'age'],\n",
              "      dtype='object')"
            ]
          },
          "metadata": {
            "tags": []
          },
          "execution_count": 5
        }
      ]
    },
    {
      "cell_type": "code",
      "metadata": {
        "id": "4u09EN064LPd",
        "colab_type": "code",
        "colab": {
          "base_uri": "https://localhost:8080/",
          "height": 212
        },
        "outputId": "2e55f616-436a-4355-9a42-886c72cd5f8a"
      },
      "source": [
        "['Unnamed: 0', 'date', 'uid', 'sku', 'price', 'reg_date', 'device', 'gender', 'country', 'age', 'first_week_purchases']"
      ],
      "execution_count": 6,
      "outputs": [
        {
          "output_type": "execute_result",
          "data": {
            "text/plain": [
              "['Unnamed: 0',\n",
              " 'date',\n",
              " 'uid',\n",
              " 'sku',\n",
              " 'price',\n",
              " 'reg_date',\n",
              " 'device',\n",
              " 'gender',\n",
              " 'country',\n",
              " 'age',\n",
              " 'first_week_purchases']"
            ]
          },
          "metadata": {
            "tags": []
          },
          "execution_count": 6
        }
      ]
    },
    {
      "cell_type": "code",
      "metadata": {
        "id": "JT0Gdj0Hn8_h",
        "colab_type": "code",
        "colab": {}
      },
      "source": [
        "customer_data['date'] = customer_data.reg_date.str[:10]"
      ],
      "execution_count": 7,
      "outputs": []
    },
    {
      "cell_type": "code",
      "metadata": {
        "id": "UiSwIiDZWvlQ",
        "colab_type": "code",
        "colab": {
          "base_uri": "https://localhost:8080/",
          "height": 177
        },
        "outputId": "481fe18a-4e01-4151-e6f8-26fe351804e7"
      },
      "source": [
        "# Merge on the 'uid' and 'date' field\n",
        "uid_date_combined_data = app_purchases.merge(customer_data, on=['uid', 'date'], how='inner')\n",
        "\n",
        "# Examine the results \n",
        "print(uid_date_combined_data.head())\n",
        "print(len(uid_date_combined_data))"
      ],
      "execution_count": 8,
      "outputs": [
        {
          "output_type": "stream",
          "text": [
            "         date       uid             sku  price  ... device gender country age\n",
            "0  2016-03-30  94055095    sku_four_599    599  ...    iOS      F     BRA  16\n",
            "1  2015-10-28  69627745     sku_one_199    199  ...    and      F     BRA  18\n",
            "2  2017-02-02  11604973  sku_seven_1499    499  ...    and      F     USA  16\n",
            "3  2016-06-05  22495315    sku_four_599    599  ...    and      F     USA  19\n",
            "4  2018-02-17  51365662     sku_two_299    299  ...    iOS      M     TUR  16\n",
            "\n",
            "[5 rows x 9 columns]\n",
            "35\n"
          ],
          "name": "stdout"
        }
      ]
    },
    {
      "cell_type": "markdown",
      "metadata": {
        "id": "27w5bf56euaJ",
        "colab_type": "text"
      },
      "source": [
        "KPI: Conversion Rate\n",
        "- Conversion Rate: Percentage of users who\n",
        "subscribe after the free trial\n",
        "  - Of users who convert within one week? One\n",
        "month?...\n",
        "  - Across all users or just a subset?"
      ]
    },
    {
      "cell_type": "markdown",
      "metadata": {
        "id": "iCb1dFmQe0dm",
        "colab_type": "text"
      },
      "source": [
        "Choosing a KPI\n",
        "- Stability over time\n",
        "- Importance across different user groups\n",
        "- Correlation with other business factors"
      ]
    },
    {
      "cell_type": "markdown",
      "metadata": {
        "id": "1mMxtLWCe8xg",
        "colab_type": "text"
      },
      "source": [
        "KPIs\n",
        "- Reminder: conversion rate is just one KPI\n",
        "- Most companies will have many KPIs\n",
        "- Each serves a different purpose"
      ]
    },
    {
      "cell_type": "markdown",
      "metadata": {
        "id": "cpX4Vma9fCxA",
        "colab_type": "text"
      },
      "source": [
        "Practicing aggregations\n",
        "\n",
        "Notice how the mean is higher than the median? This suggests that we have some users who are making a lot of purchases!"
      ]
    },
    {
      "cell_type": "code",
      "metadata": {
        "id": "EA_8fqpYfDhe",
        "colab_type": "code",
        "colab": {
          "base_uri": "https://localhost:8080/",
          "height": 70
        },
        "outputId": "cc552eed-7370-44f1-a8f6-c23dbc537eed"
      },
      "source": [
        "purchase_data = uid_combined_data\n",
        "# Calculate the mean and median of price and age\n",
        "purchase_summary = purchase_data.agg({'price': ['mean', 'median'], 'age': ['mean', 'median']})\n",
        "\n",
        "# Examine the output \n",
        "print(purchase_summary)"
      ],
      "execution_count": 9,
      "outputs": [
        {
          "output_type": "stream",
          "text": [
            "             price        age\n",
            "mean    406.772596  23.922274\n",
            "median  299.000000  21.000000\n"
          ],
          "name": "stdout"
        }
      ]
    },
    {
      "cell_type": "markdown",
      "metadata": {
        "id": "fHoFwS5MgnQu",
        "colab_type": "text"
      },
      "source": [
        "Grouping & aggregating\n",
        "\n",
        "These values provide a great summary of the customer data which will be useful as you move to optimizing the conversion rate."
      ]
    },
    {
      "cell_type": "code",
      "metadata": {
        "id": "d6zw1530ge45",
        "colab_type": "code",
        "colab": {
          "base_uri": "https://localhost:8080/",
          "height": 141
        },
        "outputId": "d62637d7-81d5-40d6-bc8f-79561fbb97e0"
      },
      "source": [
        "# Group the data \n",
        "grouped_purchase_data = purchase_data.groupby(by = ['device', 'gender'])\n",
        "\n",
        "# Aggregate the data\n",
        "purchase_summary = grouped_purchase_data.agg({'price': ['mean', 'median', 'std']})\n",
        "\n",
        "# Examine the results\n",
        "print(purchase_summary)"
      ],
      "execution_count": 10,
      "outputs": [
        {
          "output_type": "stream",
          "text": [
            "                    price                   \n",
            "                     mean median         std\n",
            "device gender                               \n",
            "and    F       400.747504    299  179.984378\n",
            "       M       416.237308    499  195.001520\n",
            "iOS    F       404.435330    299  181.524952\n",
            "       M       405.272401    299  196.843197\n"
          ],
          "name": "stdout"
        }
      ]
    },
    {
      "cell_type": "markdown",
      "metadata": {
        "id": "D4dUyBaCg4wP",
        "colab_type": "text"
      },
      "source": [
        "Goal - comparing our KPIs\n",
        "- Goal: Examine the KPI \"user conversion rate\"\n",
        "after the free trial\n",
        "- Week One Conversion Rate: Limit to users\n",
        "who convert in their ?rst week after the trial ends"
      ]
    },
    {
      "cell_type": "markdown",
      "metadata": {
        "id": "wauv29FNhyAo",
        "colab_type": "text"
      },
      "source": [
        "How to choose KPI metrics?\n",
        "- Infinitely many potential KPIs\n",
        "- How long does it take to determine\n",
        "  - Monthly Conversion Rate = 1 Month Wait time\n",
        "- Leverage Exploratory Data Analysis\n",
        "  - Reveals relationships between metrics and key results\n",
        "- Keep In Mind How do these KPIs and my Business goals relate"
      ]
    },
    {
      "cell_type": "markdown",
      "metadata": {
        "id": "_iGvWr0Bh4hz",
        "colab_type": "text"
      },
      "source": [
        "Why is conversion rate important?\n",
        "- Strong measure of growth\n",
        "- Potential early warning sign of problems\n",
        "  - Sensitive to changes in the overall ecosystem"
      ]
    },
    {
      "cell_type": "markdown",
      "metadata": {
        "id": "3o4gm0bSh-GB",
        "colab_type": "text"
      },
      "source": [
        "Continue exploring conversion rates\n",
        "- How does this KPI evolve over time?\n",
        "- See how changes can impact different groups differently"
      ]
    },
    {
      "cell_type": "markdown",
      "metadata": {
        "id": "VvYmoVGLiB-W",
        "colab_type": "text"
      },
      "source": [
        "Calculating KPIs\n",
        "\n",
        "Since our average price is 414 cents which is below $4.99 it seems that our purchasers tend towards the lower priced set of options."
      ]
    },
    {
      "cell_type": "code",
      "metadata": {
        "id": "aqrIgVvviCkj",
        "colab_type": "code",
        "colab": {
          "base_uri": "https://localhost:8080/",
          "height": 35
        },
        "outputId": "c33c08ba-4bee-4edd-eee3-cb7937acc300"
      },
      "source": [
        "# Compute max_purchase_date\n",
        "current_date = pd.Timestamp('2018-03-17 00:00:00', tz='UTC')\n",
        "max_purchase_date = current_date - pd.Timedelta(days=28)\n",
        "\n",
        "purchase_data['reg_date'] = pd.to_datetime(purchase_data.reg_date, utc=True)\n",
        "purchase_data['date'] = pd.to_datetime(purchase_data.date, utc=True)\n",
        "# Filter to only include users who registered before our max date\n",
        "purchase_data_filt = purchase_data[purchase_data.reg_date < max_purchase_date]\n",
        "\n",
        "# Filter to contain only purchases within the first 28 days of registration\n",
        "purchase_data_filt = purchase_data_filt[(purchase_data_filt.date <= \n",
        "                        purchase_data_filt.reg_date + pd.Timedelta(days=28))]\n",
        "\n",
        "# Output the mean price paid per purchase\n",
        "print(purchase_data_filt.price.mean())"
      ],
      "execution_count": 11,
      "outputs": [
        {
          "output_type": "stream",
          "text": [
            "414.4237288135593\n"
          ],
          "name": "stdout"
        }
      ]
    },
    {
      "cell_type": "markdown",
      "metadata": {
        "id": "XxhTEvpZo6it",
        "colab_type": "text"
      },
      "source": [
        "Average purchase price by cohort\n",
        "\n",
        "This value seems relatively stable over the past 28 days."
      ]
    },
    {
      "cell_type": "code",
      "metadata": {
        "id": "zaS8oBBzo8Jv",
        "colab_type": "code",
        "colab": {
          "base_uri": "https://localhost:8080/",
          "height": 124
        },
        "outputId": "da4a0155-2840-43ba-9409-f8f04db79267"
      },
      "source": [
        "# Set the max registration date to be one month before today\n",
        "max_reg_date = current_date - pd.Timedelta(days=28)\n",
        "\n",
        "# Find the month 1 values\n",
        "month1 = np.where((purchase_data.reg_date < max_reg_date) &\n",
        "                 (purchase_data.date < purchase_data.reg_date + pd.Timedelta(days=28)),\n",
        "                  purchase_data.price, \n",
        "                  np.NaN)\n",
        "                 \n",
        "# Update the value in the DataFrame\n",
        "purchase_data['month1'] = month1\n",
        "\n",
        "# Group the data by gender and device \n",
        "purchase_data_upd = purchase_data.groupby(by=['gender', 'device'], as_index=False) \n",
        "\n",
        "# Aggregate the month1 and price data \n",
        "purchase_summary = purchase_data_upd.agg(\n",
        "                        {'month1': ['mean', 'median'],\n",
        "                        'price': ['mean', 'median']})\n",
        "\n",
        "# Examine the results \n",
        "print(purchase_summary)"
      ],
      "execution_count": 12,
      "outputs": [
        {
          "output_type": "stream",
          "text": [
            "  gender device      month1              price       \n",
            "                       mean median        mean median\n",
            "0      F    and  388.204545  299.0  400.747504    299\n",
            "1      F    iOS  432.587786  499.0  404.435330    299\n",
            "2      M    and  413.705882  399.0  416.237308    499\n",
            "3      M    iOS  433.313725  499.0  405.272401    299\n"
          ],
          "name": "stdout"
        }
      ]
    },
    {
      "cell_type": "markdown",
      "metadata": {
        "id": "Rha4R1U0xigV",
        "colab_type": "text"
      },
      "source": [
        "# Exploring and Visualizing Customer Behavior\n"
      ]
    },
    {
      "cell_type": "markdown",
      "metadata": {
        "id": "nAM8Cffuxjt7",
        "colab_type": "text"
      },
      "source": [
        "Exploratory Data Analysis\n",
        "- Exploratory Data Analysis (EDA)\n",
        "- Working with time series data\n",
        "- Uncovering trends in KPIs over time"
      ]
    },
    {
      "cell_type": "markdown",
      "metadata": {
        "id": "RVo1EOvyxtJi",
        "colab_type": "text"
      },
      "source": [
        "Example: Week Two Conversion Rate\n",
        "- Week 2 Conversion Rate Users who subscribe in the second week after the free trial\n",
        "- Users must have:\n",
        "  - Completed the free trial\n",
        "  - Not subscribed in the ?rst week\n",
        "  - Had a full second week to subscribe or not"
      ]
    },
    {
      "cell_type": "markdown",
      "metadata": {
        "id": "WnchX1mxyS0F",
        "colab_type": "text"
      },
      "source": [
        "Parsing dates"
      ]
    },
    {
      "cell_type": "code",
      "metadata": {
        "id": "l7XxU_pdyTjB",
        "colab_type": "code",
        "colab": {
          "base_uri": "https://localhost:8080/",
          "height": 0
        },
        "outputId": "e1326583-10f5-42c2-c930-f20a571e7c92"
      },
      "source": [
        "# Provide the correct format for the date\n",
        "date_data_one = ['Saturday January 27, 2017', 'Saturday December 2, 2017']\n",
        "date_data_one = pd.to_datetime(date_data_one, format=\"%A %B %d, %Y\")\n",
        "print(date_data_one)\n",
        "\n",
        "# Provide the correct format for the date\n",
        "date_data_two = ['2017-01-01', '2016-05-03']\n",
        "date_data_two = pd.to_datetime(date_data_two, format=\"%Y-%m-%d\")\n",
        "print(date_data_two)\n",
        "\n",
        "# Provide the correct format for the date\n",
        "date_data_three = ['08/17/1978', '01/07/1976']\n",
        "date_data_three = pd.to_datetime(date_data_three, format=\"%m/%d/%Y\")\n",
        "print(date_data_three)\n",
        "\n",
        "# Provide the correct format for the date\n",
        "date_data_four = ['2016 March 01 01:56', '2016 January 4 02:16']\n",
        "date_data_four = pd.to_datetime(date_data_four, format=\"%Y %B %d %H:%M\")\n",
        "print(date_data_four)"
      ],
      "execution_count": 13,
      "outputs": [
        {
          "output_type": "stream",
          "text": [
            "DatetimeIndex(['2017-01-27', '2017-12-02'], dtype='datetime64[ns]', freq=None)\n",
            "DatetimeIndex(['2017-01-01', '2016-05-03'], dtype='datetime64[ns]', freq=None)\n",
            "DatetimeIndex(['1978-08-17', '1976-01-07'], dtype='datetime64[ns]', freq=None)\n",
            "DatetimeIndex(['2016-03-01 01:56:00', '2016-01-04 02:16:00'], dtype='datetime64[ns]', freq=None)\n"
          ],
          "name": "stdout"
        }
      ]
    },
    {
      "cell_type": "markdown",
      "metadata": {
        "id": "cnnM-Y_Ez_q_",
        "colab_type": "text"
      },
      "source": [
        "Conversion rate over time\n",
        "- Useful Ways to Explore Metrics\n",
        "  - By user type\n",
        "  - Over time"
      ]
    },
    {
      "cell_type": "markdown",
      "metadata": {
        "id": "U39lGTpe0Csk",
        "colab_type": "text"
      },
      "source": [
        "Trends in different cohorts\n",
        "- See how changes interact with different groups\n",
        "- Compare users of different genders\n",
        "- Evaluate the impact of a change across regions\n",
        "- See the impact for different devices"
      ]
    },
    {
      "cell_type": "code",
      "metadata": {
        "id": "Iu2vecmAykg3",
        "colab_type": "code",
        "colab": {}
      },
      "source": [
        "# The maximum date in our dataset\n",
        "current_date = pd.Timestamp('2018-03-17 00:00:00', tz='UTC')\n",
        "\n",
        "\n",
        "# Find the week 1 values\n",
        "first_week_purchases = np.where(\n",
        "                 (purchase_data.date < purchase_data.reg_date + pd.Timedelta(days=28)),\n",
        "                  1, \n",
        "                  0)\n",
        "                 \n",
        "# Update the value in the DataFrame\n",
        "purchase_data['first_week_purchases'] = first_week_purchases"
      ],
      "execution_count": 14,
      "outputs": []
    },
    {
      "cell_type": "code",
      "metadata": {
        "id": "Gp5Kcbos8_kV",
        "colab_type": "code",
        "colab": {
          "base_uri": "https://localhost:8080/",
          "height": 0
        },
        "outputId": "30ff0229-e9e9-4701-d14f-4953efb7037e"
      },
      "source": [
        "# Group the data and aggregate first_week_purchases\n",
        "user_purchases = purchase_data.groupby(by=['reg_date', 'uid']).agg({'first_week_purchases': ['sum']})\n",
        "\n",
        "# Reset the indexes\n",
        "user_purchases.columns = user_purchases.columns.droplevel(level=1)\n",
        "# user_purchases.reset_index(inplace=True)\n",
        "\n",
        "# Find the average number of purchases per day by first-week users\n",
        "user_purchases = user_purchases.groupby(by=['reg_date']).agg({'first_week_purchases': ['mean']})\n",
        "user_purchases.columns = user_purchases.columns.droplevel(level=1)\n",
        "user_purchases.reset_index(inplace=True)\n",
        "\n",
        "# Plot the results\n",
        "user_purchases.plot(x='reg_date', y='first_week_purchases')\n",
        "plt.show()"
      ],
      "execution_count": 15,
      "outputs": [
        {
          "output_type": "display_data",
          "data": {
            "image/png": "[encoded data removed]",
            "text/plain": [
              "<Figure size 432x288 with 1 Axes>"
            ]
          },
          "metadata": {
            "tags": [],
            "needs_background": "light"
          }
        }
      ]
    },
    {
      "cell_type": "markdown",
      "metadata": {
        "id": "u59LwfwH-sGz",
        "colab_type": "text"
      },
      "source": [
        "Pivoting our data\n",
        "\n",
        "There does seem to be an increase in the number of purchases by purchasing users within their first week. Let's now confirm that this is not driven only by one segment of users. "
      ]
    },
    {
      "cell_type": "code",
      "metadata": {
        "id": "N35hf8xA9SU7",
        "colab_type": "code",
        "colab": {
          "base_uri": "https://localhost:8080/",
          "height": 0
        },
        "outputId": "4277f39e-5a3a-470e-ac4f-0b563638858d"
      },
      "source": [
        "# Pivot the data\n",
        "country_pivot = pd.pivot_table(purchase_data, values='first_week_purchases', columns=['country'], index=['reg_date'])\n",
        "print(country_pivot.head())"
      ],
      "execution_count": 16,
      "outputs": [
        {
          "output_type": "stream",
          "text": [
            "country                    BRA  CAN  DEU  FRA  TUR       USA\n",
            "reg_date                                                    \n",
            "2015-01-27 00:00:00+00:00  NaN  NaN  NaN  NaN  NaN  0.000000\n",
            "2015-02-01 00:00:00+00:00  0.0  NaN  NaN  NaN  NaN       NaN\n",
            "2015-02-09 00:00:00+00:00  NaN  NaN  NaN  NaN  NaN  0.083333\n",
            "2015-02-10 00:00:00+00:00  NaN  NaN  NaN  NaN  NaN  0.000000\n",
            "2015-03-01 00:00:00+00:00  NaN  NaN  NaN  NaN  NaN  0.000000\n"
          ],
          "name": "stdout"
        }
      ]
    },
    {
      "cell_type": "code",
      "metadata": {
        "id": "2VEhgB_RAN1d",
        "colab_type": "code",
        "colab": {
          "base_uri": "https://localhost:8080/",
          "height": 0
        },
        "outputId": "f362fba5-95e3-48d8-a2be-751306f5bf4c"
      },
      "source": [
        "# Pivot the data\n",
        "device_pivot = pd.pivot_table(purchase_data, values='first_week_purchases', columns=['device'], index=['reg_date'])\n",
        "print(device_pivot.head())"
      ],
      "execution_count": 17,
      "outputs": [
        {
          "output_type": "stream",
          "text": [
            "device                          and  iOS\n",
            "reg_date                                \n",
            "2015-01-27 00:00:00+00:00       NaN  0.0\n",
            "2015-02-01 00:00:00+00:00  0.000000  NaN\n",
            "2015-02-09 00:00:00+00:00  0.083333  NaN\n",
            "2015-02-10 00:00:00+00:00       NaN  0.0\n",
            "2015-03-01 00:00:00+00:00       NaN  0.0\n"
          ],
          "name": "stdout"
        }
      ]
    },
    {
      "cell_type": "markdown",
      "metadata": {
        "id": "mD5Ywga8AhEM",
        "colab_type": "text"
      },
      "source": [
        "Examining the different cohorts"
      ]
    },
    {
      "cell_type": "code",
      "metadata": {
        "id": "KElDjRfhAuSu",
        "colab_type": "code",
        "colab": {
          "base_uri": "https://localhost:8080/",
          "height": 0
        },
        "outputId": "a9159197-31da-4e7c-f8cb-ff2b64d08b97"
      },
      "source": [
        "# Plot the average first week purchases for each country by registration date\n",
        "country_pivot.reset_index().plot(x='reg_date', y=['USA', 'CAN', 'FRA', 'BRA', 'TUR', 'DEU'])\n",
        "plt.show()"
      ],
      "execution_count": 18,
      "outputs": [
        {
          "output_type": "display_data",
          "data": {
            "image/png": "[encoded data removed]",
            "text/plain": [
              "<Figure size 432x288 with 1 Axes>"
            ]
          },
          "metadata": {
            "tags": [],
            "needs_background": "light"
          }
        }
      ]
    },
    {
      "cell_type": "code",
      "metadata": {
        "id": "U2h5iXBBAhrJ",
        "colab_type": "code",
        "colab": {
          "base_uri": "https://localhost:8080/",
          "height": 0
        },
        "outputId": "7a72631c-c900-47fd-a297-c81d6927833d"
      },
      "source": [
        "# Plot the average first week purchases for each device by registration date\n",
        "device_pivot.reset_index().plot(x='reg_date', y=['and', 'iOS'])\n",
        "plt.show()"
      ],
      "execution_count": 19,
      "outputs": [
        {
          "output_type": "display_data",
          "data": {
            "image/png": "[encoded data removed]",
            "text/plain": [
              "<Figure size 432x288 with 1 Axes>"
            ]
          },
          "metadata": {
            "tags": [],
            "needs_background": "light"
          }
        }
      ]
    },
    {
      "cell_type": "markdown",
      "metadata": {
        "id": "-XP284-iGEjV",
        "colab_type": "text"
      },
      "source": [
        "Further techniques for uncovering trends\n",
        "\n",
        "Subscribers Per Day"
      ]
    },
    {
      "cell_type": "markdown",
      "metadata": {
        "id": "95_qqP2WGJBC",
        "colab_type": "text"
      },
      "source": [
        "Weekly seasonality and our pricing change\n",
        "- Weekly Seasonality: Trends following the\n",
        "day of the week\n",
        "  - Potentially more likely to subscribe on\n",
        "the weekend\n",
        "  - Seasonality can hide larger trends...the\n",
        "impact of our price change?"
      ]
    },
    {
      "cell_type": "markdown",
      "metadata": {
        "id": "Iw9Q2yfSa0HN",
        "colab_type": "text"
      },
      "source": [
        "Smoothing with an exponential moving average\n",
        "- Exponential Moving Average: Weighted moving (rolling) average\n",
        "  - Weights more recent items in the window more\n",
        "  - Applies weights according to an exponential distribution\n",
        "  - Averages back to a central trend without masking any recent movements"
      ]
    },
    {
      "cell_type": "markdown",
      "metadata": {
        "id": "HxTc8Lv0b6uG",
        "colab_type": "text"
      },
      "source": [
        "Data Smoothing Techniques\n",
        "- Trailing Average:\n",
        "  - Smooths seasonality by averaging over the periodicity\n",
        "- Exponential Moving Average:\n",
        "  - Reveals trends by pulling towards the central tendency\n",
        "  - Weights the more recent values relative to the window more heavily\n",
        "- You can use .rolling() and .ewm() for many more methods of smoothing"
      ]
    },
    {
      "cell_type": "markdown",
      "metadata": {
        "id": "_SaZBa3idbYy",
        "colab_type": "text"
      },
      "source": [
        "Investigating the conversion rate drop\n",
        "- Is this drop impacting all users or just a speci?c cohort\n",
        "- This could provide clues on what the issue may be\n",
        "- Ecosystems within our data\n",
        "  - Distinct countries\n",
        "  - Specific device (Android or iOS)"
      ]
    },
    {
      "cell_type": "markdown",
      "metadata": {
        "id": "QPdy8Y3kdkBm",
        "colab_type": "text"
      },
      "source": [
        "Breaking out by Country\n",
        "- All countries experience the drop\n",
        "- It is most pronounced in Brazil & Turkey\n",
        "  - Our two most android heavy countries"
      ]
    },
    {
      "cell_type": "markdown",
      "metadata": {
        "id": "BrK4CmsEeVB5",
        "colab_type": "text"
      },
      "source": [
        "Breaking out by Device\n",
        "- The drop only appears on Android devices"
      ]
    },
    {
      "cell_type": "markdown",
      "metadata": {
        "id": "QlMIiDQkeWag",
        "colab_type": "text"
      },
      "source": [
        "Annotated conversion rate graphs\n",
        "- Android release in Feb/Mar aligns with our dip\n",
        "in conversion rate\n",
        "- This release may contain a bug impacting the\n",
        "conversion rate!"
      ]
    },
    {
      "cell_type": "markdown",
      "metadata": {
        "id": "dvoZaazqecrR",
        "colab_type": "text"
      },
      "source": [
        "Power and limitations of exploratory analysis\n",
        "- Visualize data over time to uncover hidden trends\n",
        "  - While useful it has its limitations\n",
        "- To truly explore relationships in data we need A/B testing"
      ]
    },
    {
      "cell_type": "code",
      "metadata": {
        "id": "uYS49rhJBB5H",
        "colab_type": "code",
        "colab": {
          "base_uri": "https://localhost:8080/",
          "height": 0
        },
        "outputId": "3b08a5b8-aa1d-46b4-c131-3e17bfe571df"
      },
      "source": [
        "# load daily_revenue\n",
        "daily_revenue = pd.read_csv('https://assets.datacamp.com/production/repositories/1646/datasets/3afb49cad9fb91c02b71b52a2ddc0071ea13764c/daily_revenue.csv')\n",
        "# print the head of daily_revenue\n",
        "print(daily_revenue.head())"
      ],
      "execution_count": 20,
      "outputs": [
        {
          "output_type": "stream",
          "text": [
            "   index gender device   revenue                  date country\n",
            "0      1   male    ios  186557.0  2013-09-20T00:00:00Z     USA\n",
            "1      2   male    ios  177217.0  2013-09-21T00:00:00Z     USA\n",
            "2      3   male    ios  177197.0  2013-09-22T00:00:00Z     USA\n",
            "3      4   male    ios  157193.0  2013-09-23T00:00:00Z     USA\n",
            "4      5   male    ios  165592.0  2013-09-24T00:00:00Z     USA\n"
          ],
          "name": "stdout"
        }
      ]
    },
    {
      "cell_type": "markdown",
      "metadata": {
        "id": "-SC1N1DfJF70",
        "colab_type": "text"
      },
      "source": [
        "Seasonality and moving averages\n",
        "\n",
        "Notice that while there is a lot of seasonality, our revenue seems to be somewhat flat over this time period."
      ]
    },
    {
      "cell_type": "code",
      "metadata": {
        "id": "foJJw-jmJDkK",
        "colab_type": "code",
        "colab": {
          "base_uri": "https://localhost:8080/",
          "height": 0
        },
        "outputId": "5e151ad6-e953-42f7-dfbc-cd523d7517d0"
      },
      "source": [
        "# Compute 7_day_rev\n",
        "daily_revenue['7_day_rev'] = daily_revenue.revenue.rolling(window=7,center=False).mean()\n",
        "\n",
        "# Compute 28_day_rev\n",
        "daily_revenue['28_day_rev'] = daily_revenue.revenue.rolling(window=28,center=False).mean()\n",
        "    \n",
        "# Compute 365_day_rev\n",
        "daily_revenue['365_day_rev'] = daily_revenue.revenue.rolling(window=365,center=False).mean()\n",
        "    \n",
        "# Plot date, and revenue, along with the 3 rolling functions (in order)    \n",
        "daily_revenue[:1200].plot(x='date', y=['revenue', '7_day_rev', '28_day_rev', '365_day_rev', ])\n",
        "plt.show()"
      ],
      "execution_count": 21,
      "outputs": [
        {
          "output_type": "display_data",
          "data": {
            "image/png": "[encoded data removed]",
            "text/plain": [
              "<Figure size 432x288 with 1 Axes>"
            ]
          },
          "metadata": {
            "tags": [],
            "needs_background": "light"
          }
        }
      ]
    },
    {
      "cell_type": "markdown",
      "metadata": {
        "id": "2HEorPeTKOE2",
        "colab_type": "text"
      },
      "source": [
        "Exponential rolling average & over/under smoothing\n",
        "\n",
        "Note that the medium window strikes the right balance. Revenue seems to be growing in this product so it must not be the cause of the overall flat revenue trend!"
      ]
    },
    {
      "cell_type": "code",
      "metadata": {
        "id": "3uwv-jE5JSRR",
        "colab_type": "code",
        "colab": {
          "base_uri": "https://localhost:8080/",
          "height": 0
        },
        "outputId": "a95c6008-c258-4613-f3a1-4d5550096fd4"
      },
      "source": [
        "# Calculate 'small_scale'\n",
        "daily_revenue['small_scale'] = daily_revenue.revenue.ewm(span=10).mean()\n",
        "\n",
        "# Calculate 'medium_scale'\n",
        "daily_revenue['medium_scale'] = daily_revenue.revenue.ewm(span=100).mean()\n",
        "\n",
        "# Calculate 'large_scale'\n",
        "daily_revenue['large_scale'] = daily_revenue.revenue.ewm(span=500).mean()\n",
        "\n",
        "# Plot 'date' on the x-axis and, our three averages and 'revenue'\n",
        "# on the y-axis\n",
        "daily_revenue[:1200].plot(x = 'date', y =['revenue', 'small_scale', 'medium_scale', 'large_scale'])\n",
        "plt.show()"
      ],
      "execution_count": 22,
      "outputs": [
        {
          "output_type": "display_data",
          "data": {
            "image/png": "[encoded data removed]",
            "text/plain": [
              "<Figure size 432x288 with 1 Axes>"
            ]
          },
          "metadata": {
            "tags": [],
            "needs_background": "light"
          }
        }
      ]
    },
    {
      "cell_type": "markdown",
      "metadata": {
        "id": "Um_NFvgcfJpL",
        "colab_type": "text"
      },
      "source": [
        "Visualizing user spending\n",
        "\n",
        "Recently, the Product team made some big changes to both the Android & iOS apps. They do not have any direct concerns about the impact of these changes, but want you to monitor the data to make sure that the changes don't hurt company revenue. Additionally, the product team believes that some of these changes may impact female users more than male users. "
      ]
    },
    {
      "cell_type": "markdown",
      "metadata": {
        "id": "x1qMLRSTjaby",
        "colab_type": "text"
      },
      "source": [
        "From this view, it seems like our aggregate revenue is fairly stable, so the changes are most likely not hurting revenue."
      ]
    },
    {
      "cell_type": "code",
      "metadata": {
        "id": "fb7W2rOQhHoj",
        "colab_type": "code",
        "colab": {
          "base_uri": "https://localhost:8080/",
          "height": 0
        },
        "outputId": "d5e0f955-a2f1-4e7b-ccae-72528e7acc08"
      },
      "source": [
        "daily_revenue['month'] = daily_revenue['date'].str[:10].values.astype('datetime64[M]')\n",
        "user_revenue = daily_revenue.groupby(['month', 'device', 'gender'], as_index=False)['revenue'].sum()\n",
        "\n",
        "# Pivot user_revenue\n",
        "pivoted_data = pd.pivot_table(user_revenue, values ='revenue', columns=['device', 'gender'], index='month')\n",
        "pivoted_data = pivoted_data[1:(len(pivoted_data) -1 )]\n",
        "\n",
        "# Create and show the plot\n",
        "pivoted_data.plot()\n",
        "plt.show()"
      ],
      "execution_count": 23,
      "outputs": [
        {
          "output_type": "display_data",
          "data": {
            "image/png": "[encoded data removed]",
            "text/plain": [
              "<Figure size 432x288 with 1 Axes>"
            ]
          },
          "metadata": {
            "tags": [],
            "needs_background": "light"
          }
        }
      ]
    },
    {
      "cell_type": "markdown",
      "metadata": {
        "id": "GFIXVZ2Ejp1a",
        "colab_type": "text"
      },
      "source": [
        "# The Design and Application of A/B Testing"
      ]
    },
    {
      "cell_type": "markdown",
      "metadata": {
        "id": "AZug0Rm6ju7c",
        "colab_type": "text"
      },
      "source": [
        "Overview\n",
        "- Introduction to A/B testing\n",
        "- How to design an experiment\n",
        "- Understand the logic behind A/B testing\n",
        "- Analyze the results of a test"
      ]
    },
    {
      "cell_type": "markdown",
      "metadata": {
        "id": "BXyLK80Lj43n",
        "colab_type": "text"
      },
      "source": [
        "A/B test: an experiment where you...\n",
        "- Test two or more variants against each other\n",
        "- to evaluate which one performs \"best\",\n",
        "- in the context of a randomized experiment"
      ]
    },
    {
      "cell_type": "markdown",
      "metadata": {
        "id": "0A6__PbXj-Fl",
        "colab_type": "text"
      },
      "source": [
        "Control and treatment groups\n",
        "- Testing two or more ideas against each other:\n",
        "- Control: The current state of your product\n",
        "- Treatment(s): The variant(s) that you want\n",
        "to test"
      ]
    },
    {
      "cell_type": "markdown",
      "metadata": {
        "id": "9gqLENIWkCAW",
        "colab_type": "text"
      },
      "source": [
        "A/B Test - improving our app paywall\n",
        "- Question: Which paywall has a higher conversion\n",
        "rate?\n",
        "  - Current Paywall: \"I hope you enjoyed your\n",
        "free-trial, please consider subscribing\" (control)\n",
        "  - Proposed Paywall: “Your free-trial has ended,\n",
        "don’t miss out, subscribe today!” (treatment)"
      ]
    },
    {
      "cell_type": "markdown",
      "metadata": {
        "id": "fJUM9qOdkNxL",
        "colab_type": "text"
      },
      "source": [
        "A/B testing process\n",
        "- Randomly subset the users and show one set\n",
        "the control and one the treatment\n",
        "- Monitor the conversion rates of each group to\n",
        "see which is better"
      ]
    },
    {
      "cell_type": "markdown",
      "metadata": {
        "id": "zdoqaGsKkQsY",
        "colab_type": "text"
      },
      "source": [
        "The importance of randomness\n",
        "- Random assignment helps to...\n",
        "  - isolate the impact of the change made\n",
        "  - reduce the potential impact of confounding variables\n",
        "- Using an assignment criteria may introduce confounders"
      ]
    },
    {
      "cell_type": "markdown",
      "metadata": {
        "id": "WIn-4XgBkWMw",
        "colab_type": "text"
      },
      "source": [
        "A/B testing fiexibility\n",
        "- A/B testing can be use to...\n",
        "  - improve sales within a mobile application\n",
        "  - increase user interactions with a website\n",
        "  - identify the impact of a medical treatment\n",
        "  - optimize an assembly lines efficiency\n",
        "  - and many more amazing things!\n",
        "  - A/B tests leverage the power of randomness to identify causal \n",
        "  - A/B tests can provide statistical summaries such as confidence \n",
        "  - A/B testing can be applied to more than two groups generally."
      ]
    },
    {
      "cell_type": "markdown",
      "metadata": {
        "id": "hAiKCJocxJC6",
        "colab_type": "text"
      },
      "source": [
        "A/B test generalizability\n",
        "\n",
        "good\n",
        "\n",
        "- Using a hash of the randomly assigned user id to determine user groupings.\n",
        "\n",
        "bad\n",
        "\n",
        "- Assigning users to the Test or Variant group based on their signup year.\n",
        "- Randomly assigning users within one country to different groups.\n",
        "- Allowing users to change groups every time they use the service or software."
      ]
    },
    {
      "cell_type": "markdown",
      "metadata": {
        "id": "04c7PdJPkbw_",
        "colab_type": "text"
      },
      "source": [
        "Good problems for A/B testing\n",
        "- Users are impacted individually\n",
        "- Testing changes that can directly impact their behavior\n",
        "- Determining whether changing the song recommendation algorithm for a music service increases user engagement"
      ]
    },
    {
      "cell_type": "markdown",
      "metadata": {
        "id": "xzHow7rkkfs3",
        "colab_type": "text"
      },
      "source": [
        "Bad problems for A/B testing\n",
        "- Cases with network effects among users\n",
        "  - Challenging to segment the users into groups\n",
        "  - Difficult to untangle the impact of the test\n",
        "  - Measuring the impact of a matching engine on user connections for a social network.\n",
        "- Uncovering the impact of a code refactor on product stability.\n",
        "- Determining the long term impact of a product design change on user retention."
      ]
    },
    {
      "cell_type": "markdown",
      "metadata": {
        "id": "2-VXCou5ze6k",
        "colab_type": "text"
      },
      "source": [
        "Increasing our app's revenue with A/B testing\n",
        "- Specific Goals:\n",
        "  - Test change to our consumable purchase paywall to...\n",
        "  - Increase revenue by increasing the purchase rate\n",
        "- General Concepts:\n",
        "  - A/B testing techniques transfer across a variety of contexts\n",
        "  - Keep in mind how you would apply these techniques"
      ]
    },
    {
      "cell_type": "markdown",
      "metadata": {
        "id": "2Hca1NPNzqJ5",
        "colab_type": "text"
      },
      "source": [
        "Response variable\n",
        "- The quantity used to measure the impact of your change\n",
        "- Should either be a KPI or directly related to a KPI\n",
        "- The easier to measure the better"
      ]
    },
    {
      "cell_type": "markdown",
      "metadata": {
        "id": "Fs66nWy4zueL",
        "colab_type": "text"
      },
      "source": [
        "Factors & variants\n",
        "- Factors: The type of variable you are changing\n",
        "  - The paywall color\n",
        "- Variants: Particular changes you are testing\n",
        "  - A red versus blue paywall"
      ]
    },
    {
      "cell_type": "markdown",
      "metadata": {
        "id": "7rmBcIPZ3g0i",
        "colab_type": "text"
      },
      "source": [
        "Experimental unit of our test\n",
        "- The smallest unit you are measuring the change over\n",
        "- Individual users make a convenient experimental unit"
      ]
    },
    {
      "cell_type": "markdown",
      "metadata": {
        "id": "JxqRDDp86loe",
        "colab_type": "text"
      },
      "source": [
        "Experimental unit of our test\n",
        "- User-days: User interactions on a given day\n",
        "  - More convenient than users by itself\n",
        "  - Not required to track user's actions across time\n",
        "  - Can treat simpler actions as responses to the test"
      ]
    },
    {
      "cell_type": "markdown",
      "metadata": {
        "id": "d-gRR6iK6yQN",
        "colab_type": "text"
      },
      "source": [
        "Randomness of experimental units\n",
        "- Best to randomize by individuals regardless of our experimental unit\n",
        "- Otherwise users can have inconsistent experience\n",
        "- This can impact the tests results"
      ]
    },
    {
      "cell_type": "markdown",
      "metadata": {
        "id": "nlrH3a6E65SR",
        "colab_type": "text"
      },
      "source": [
        "Designing your A/B test\n",
        "- Good to understand the qualities of your metrics and experimental units\n",
        "- Important to build intuition about your users and data overall"
      ]
    },
    {
      "cell_type": "markdown",
      "metadata": {
        "id": "LlyH4zKE3lcb",
        "colab_type": "text"
      },
      "source": [
        "Experimental units: Revenue per user day\n",
        "\n",
        "A paywall is a feature of a website or other technology that requires payment from users in order to access additional content or services."
      ]
    },
    {
      "cell_type": "code",
      "metadata": {
        "id": "SJorcx5rY3SF",
        "colab_type": "code",
        "colab": {
          "base_uri": "https://localhost:8080/",
          "height": 124
        },
        "outputId": "da628a5a-f035-4ae5-bfd1-97aac859643c"
      },
      "source": [
        "# load purchase_data\n",
        "purchase_data = pd.read_csv('https://assets.datacamp.com/production/repositories/1646/datasets/5decd183ef3710475958bbc903160fd6354379d5/purchase_data_v1.csv')\n",
        "# print the head of purchase_data\n",
        "print(purchase_data.head())"
      ],
      "execution_count": 24,
      "outputs": [
        {
          "output_type": "stream",
          "text": [
            "         date       uid            sku  price\n",
            "0  2017-07-10  41195147  sku_three_499    499\n",
            "1  2017-07-15  41195147  sku_three_499    499\n",
            "2  2017-11-12  41195147   sku_four_599    599\n",
            "3  2017-09-26  91591874    sku_two_299    299\n",
            "4  2017-12-01  91591874   sku_four_599    599\n"
          ],
          "name": "stdout"
        }
      ]
    },
    {
      "cell_type": "code",
      "metadata": {
        "id": "_InaNeKp34pt",
        "colab_type": "code",
        "colab": {
          "base_uri": "https://localhost:8080/",
          "height": 35
        },
        "outputId": "d390c278-1d37-4e3c-ff50-23b001cdb372"
      },
      "source": [
        "# Extract the 'day'; value from the timestamp\n",
        "purchase_data.date = pd.to_datetime(purchase_data.date).dt.floor('d')\n",
        "\n",
        "# Replace the NaN price values with 0 \n",
        "purchase_data.price = np.where(np.isnan(purchase_data.price), 0, purchase_data.price)\n",
        "\n",
        "# Aggregate the data by 'uid' & 'date'\n",
        "purchase_data_agg = purchase_data.groupby(by=['uid', 'date'], as_index=False)\n",
        "revenue_user_day = purchase_data_agg.sum()\n",
        "\n",
        "# Calculate the final average\n",
        "revenue_user_day = revenue_user_day.price.mean()\n",
        "print(revenue_user_day)"
      ],
      "execution_count": 25,
      "outputs": [
        {
          "output_type": "stream",
          "text": [
            "407.95033407572384\n"
          ],
          "name": "stdout"
        }
      ]
    },
    {
      "cell_type": "markdown",
      "metadata": {
        "id": "dVe5kSIq6-ED",
        "colab_type": "text"
      },
      "source": [
        "A/B testing example - paywall variants\n",
        "- Paywall Text: Test & Control\n",
        "  - Current Paywall: \"I hope you are enjoying the relaxing benefits of our app. Consider making a purchase.\"\n",
        "  - Proposed Paywall Don’t miss out! Try one of our new products!\n",
        "- Questions\n",
        "  - Will updating the paywall text impact our revenue?\n",
        "  - How do our three different consumable prices impact this?"
      ]
    },
    {
      "cell_type": "markdown",
      "metadata": {
        "id": "UUWz0G8t7FYa",
        "colab_type": "text"
      },
      "source": [
        "Considerations in test design\n",
        "1. Can our test be run well in practice?\n",
        "2. Will we be able to derive meaningful results\n",
        "from it?"
      ]
    },
    {
      "cell_type": "markdown",
      "metadata": {
        "id": "hYyhTOw-7JPG",
        "colab_type": "text"
      },
      "source": [
        "Test sensitivity\n",
        "- First question: What size of impact is meaningful to detect\n",
        "  - 1%...?\n",
        "  - 20%...?\n",
        "- Smaller changes = more difficult to detect\n",
        "  - can be hidden by randomness\n",
        "- Sensitivity: The minimum level of change we want to be able to detect in our test\n",
        "  - Evaluate different sensitivity values"
      ]
    },
    {
      "cell_type": "markdown",
      "metadata": {
        "id": "vVECVCsr7Wf1",
        "colab_type": "text"
      },
      "source": [
        "Data variability\n",
        "- Important to understand the variability in your\n",
        "data\n",
        "- Does the amount spent vary a lot among users?\n",
        "  - If it does not then it will be easier to detect a\n",
        "change"
      ]
    },
    {
      "cell_type": "markdown",
      "metadata": {
        "id": "ZD8Dq3wE7sxl",
        "colab_type": "text"
      },
      "source": [
        "Choosing experimental unit & response variable\n",
        "- Primary Goal: Increase revenue\n",
        "- Better Metric: Paywall view to purchase conversion rate\n",
        "  - more granular than overall revenue\n",
        "  - directly related to the our test\n",
        "- Experimental Unit: Paywall views\n",
        "  - simplest to work with\n",
        "  - assuming these interactions are independent"
      ]
    },
    {
      "cell_type": "markdown",
      "metadata": {
        "id": "jUzGpCHb8SFD",
        "colab_type": "text"
      },
      "source": [
        "Finding our baseline conversion rate\n",
        "- Baseline conversion rate: Conversion rate before we run the test"
      ]
    },
    {
      "cell_type": "code",
      "metadata": {
        "id": "3GG2gHvD8o87",
        "colab_type": "code",
        "colab": {
          "base_uri": "https://localhost:8080/",
          "height": 124
        },
        "outputId": "8c8f924f-12b1-4ba8-ef21-23d6750a2dbb"
      },
      "source": [
        "# load demographics_data\n",
        "purchase_data = pd.read_csv('https://assets.datacamp.com/production/repositories/1646/datasets/2751adce60684a03d8b4132adeadab8a0b95ee56/AB_testing_exercise.csv')\n",
        "# print the head of demographics_data\n",
        "print(purchase_data.head())"
      ],
      "execution_count": 26,
      "outputs": [
        {
          "output_type": "stream",
          "text": [
            "        uid country gender  spent  purchases        date  group device\n",
            "0  11115722     MEX      F   1595          5  2016-03-08  GRP B      I\n",
            "1  11122053     USA      M    498          2  2017-07-14  GRP B      I\n",
            "2  11128688     USA      F   2394          6  2017-09-17  GRP A      I\n",
            "3  11130578     USA      F   1197          3  2017-11-30  GRP A      I\n",
            "4  11130759     ESP      M   1297          3  2018-01-10  GRP B      A\n"
          ],
          "name": "stdout"
        }
      ]
    },
    {
      "cell_type": "code",
      "metadata": {
        "id": "Mp7TmoY09OUy",
        "colab_type": "code",
        "colab": {
          "base_uri": "https://localhost:8080/",
          "height": 424
        },
        "outputId": "be322a07-6d21-41e4-bd5a-4a6d22a41af5"
      },
      "source": [
        "purchase_data"
      ],
      "execution_count": 27,
      "outputs": [
        {
          "output_type": "execute_result",
          "data": {
            "text/html": [
              "<div>\n",
              "<style scoped>\n",
              "    .dataframe tbody tr th:only-of-type {\n",
              "        vertical-align: middle;\n",
              "    }\n",
              "\n",
              "    .dataframe tbody tr th {\n",
              "        vertical-align: top;\n",
              "    }\n",
              "\n",
              "    .dataframe thead th {\n",
              "        text-align: right;\n",
              "    }\n",
              "</style>\n",
              "<table border=\"1\" class=\"dataframe\">\n",
              "  <thead>\n",
              "    <tr style=\"text-align: right;\">\n",
              "      <th></th>\n",
              "      <th>uid</th>\n",
              "      <th>country</th>\n",
              "      <th>gender</th>\n",
              "      <th>spent</th>\n",
              "      <th>purchases</th>\n",
              "      <th>date</th>\n",
              "      <th>group</th>\n",
              "      <th>device</th>\n",
              "    </tr>\n",
              "  </thead>\n",
              "  <tbody>\n",
              "    <tr>\n",
              "      <th>0</th>\n",
              "      <td>11115722</td>\n",
              "      <td>MEX</td>\n",
              "      <td>F</td>\n",
              "      <td>1595</td>\n",
              "      <td>5</td>\n",
              "      <td>2016-03-08</td>\n",
              "      <td>GRP B</td>\n",
              "      <td>I</td>\n",
              "    </tr>\n",
              "    <tr>\n",
              "      <th>1</th>\n",
              "      <td>11122053</td>\n",
              "      <td>USA</td>\n",
              "      <td>M</td>\n",
              "      <td>498</td>\n",
              "      <td>2</td>\n",
              "      <td>2017-07-14</td>\n",
              "      <td>GRP B</td>\n",
              "      <td>I</td>\n",
              "    </tr>\n",
              "    <tr>\n",
              "      <th>2</th>\n",
              "      <td>11128688</td>\n",
              "      <td>USA</td>\n",
              "      <td>F</td>\n",
              "      <td>2394</td>\n",
              "      <td>6</td>\n",
              "      <td>2017-09-17</td>\n",
              "      <td>GRP A</td>\n",
              "      <td>I</td>\n",
              "    </tr>\n",
              "    <tr>\n",
              "      <th>3</th>\n",
              "      <td>11130578</td>\n",
              "      <td>USA</td>\n",
              "      <td>F</td>\n",
              "      <td>1197</td>\n",
              "      <td>3</td>\n",
              "      <td>2017-11-30</td>\n",
              "      <td>GRP A</td>\n",
              "      <td>I</td>\n",
              "    </tr>\n",
              "    <tr>\n",
              "      <th>4</th>\n",
              "      <td>11130759</td>\n",
              "      <td>ESP</td>\n",
              "      <td>M</td>\n",
              "      <td>1297</td>\n",
              "      <td>3</td>\n",
              "      <td>2018-01-10</td>\n",
              "      <td>GRP B</td>\n",
              "      <td>A</td>\n",
              "    </tr>\n",
              "    <tr>\n",
              "      <th>...</th>\n",
              "      <td>...</td>\n",
              "      <td>...</td>\n",
              "      <td>...</td>\n",
              "      <td>...</td>\n",
              "      <td>...</td>\n",
              "      <td>...</td>\n",
              "      <td>...</td>\n",
              "      <td>...</td>\n",
              "    </tr>\n",
              "    <tr>\n",
              "      <th>45878</th>\n",
              "      <td>99994149</td>\n",
              "      <td>DEU</td>\n",
              "      <td>F</td>\n",
              "      <td>1897</td>\n",
              "      <td>3</td>\n",
              "      <td>2017-02-05</td>\n",
              "      <td>GRP B</td>\n",
              "      <td>I</td>\n",
              "    </tr>\n",
              "    <tr>\n",
              "      <th>45879</th>\n",
              "      <td>99995092</td>\n",
              "      <td>USA</td>\n",
              "      <td>F</td>\n",
              "      <td>899</td>\n",
              "      <td>1</td>\n",
              "      <td>2017-08-18</td>\n",
              "      <td>GRP B</td>\n",
              "      <td>A</td>\n",
              "    </tr>\n",
              "    <tr>\n",
              "      <th>45880</th>\n",
              "      <td>99996986</td>\n",
              "      <td>BRA</td>\n",
              "      <td>M</td>\n",
              "      <td>2194</td>\n",
              "      <td>6</td>\n",
              "      <td>2014-12-06</td>\n",
              "      <td>GRP B</td>\n",
              "      <td>A</td>\n",
              "    </tr>\n",
              "    <tr>\n",
              "      <th>45881</th>\n",
              "      <td>99997035</td>\n",
              "      <td>USA</td>\n",
              "      <td>M</td>\n",
              "      <td>2196</td>\n",
              "      <td>4</td>\n",
              "      <td>2017-04-05</td>\n",
              "      <td>GRP A</td>\n",
              "      <td>I</td>\n",
              "    </tr>\n",
              "    <tr>\n",
              "      <th>45882</th>\n",
              "      <td>99999383</td>\n",
              "      <td>GBR</td>\n",
              "      <td>F</td>\n",
              "      <td>899</td>\n",
              "      <td>1</td>\n",
              "      <td>2017-09-04</td>\n",
              "      <td>GRP B</td>\n",
              "      <td>I</td>\n",
              "    </tr>\n",
              "  </tbody>\n",
              "</table>\n",
              "<p>45883 rows × 8 columns</p>\n",
              "</div>"
            ],
            "text/plain": [
              "            uid country gender  spent  purchases        date  group device\n",
              "0      11115722     MEX      F   1595          5  2016-03-08  GRP B      I\n",
              "1      11122053     USA      M    498          2  2017-07-14  GRP B      I\n",
              "2      11128688     USA      F   2394          6  2017-09-17  GRP A      I\n",
              "3      11130578     USA      F   1197          3  2017-11-30  GRP A      I\n",
              "4      11130759     ESP      M   1297          3  2018-01-10  GRP B      A\n",
              "...         ...     ...    ...    ...        ...         ...    ...    ...\n",
              "45878  99994149     DEU      F   1897          3  2017-02-05  GRP B      I\n",
              "45879  99995092     USA      F    899          1  2017-08-18  GRP B      A\n",
              "45880  99996986     BRA      M   2194          6  2014-12-06  GRP B      A\n",
              "45881  99997035     USA      M   2196          4  2017-04-05  GRP A      I\n",
              "45882  99999383     GBR      F    899          1  2017-09-04  GRP B      I\n",
              "\n",
              "[45883 rows x 8 columns]"
            ]
          },
          "metadata": {
            "tags": []
          },
          "execution_count": 27
        }
      ]
    },
    {
      "cell_type": "code",
      "metadata": {
        "id": "j8vbq4p--yFx",
        "colab_type": "code",
        "colab": {
          "base_uri": "https://localhost:8080/",
          "height": 53
        },
        "outputId": "16f5b94f-3ec2-44d3-c464-02840f400774"
      },
      "source": [
        "# Merge and group the datasets\n",
        "# purchase_data = demographics_data.merge(paywall_views,  how='inner', on=['uid'])\n",
        "# purchase_data.date = purchase_data.date.dt.floor('d')\n",
        "\n",
        "# Group and aggregate our combined dataset \n",
        "daily_purchase_data = purchase_data.groupby(by=['date'], as_index=False)\n",
        "daily_purchase_data = daily_purchase_data.agg({'purchases': ['sum', 'count']})\n",
        "\n",
        "# Find the mean of each field and then multiply by 1000 to scale the result\n",
        "daily_purchases = daily_purchase_data.purchases['sum'].mean()\n",
        "daily_paywall_views = daily_purchase_data.purchases['count'].mean()\n",
        "# daily_purchases = daily_purchases * 1000\n",
        "daily_paywall_views = daily_paywall_views * 1000\n",
        "\n",
        "print(daily_purchases)\n",
        "print(daily_paywall_views)"
      ],
      "execution_count": 28,
      "outputs": [
        {
          "output_type": "stream",
          "text": [
            "158.44224924012158\n",
            "34865.50151975684\n"
          ],
          "name": "stdout"
        }
      ]
    },
    {
      "cell_type": "markdown",
      "metadata": {
        "id": "imMwuYC_Gu_g",
        "colab_type": "text"
      },
      "source": [
        "Sensitivity"
      ]
    },
    {
      "cell_type": "code",
      "metadata": {
        "id": "LEdQ1FQwGvoy",
        "colab_type": "code",
        "colab": {
          "base_uri": "https://localhost:8080/",
          "height": 70
        },
        "outputId": "aead0ef8-638d-4bed-f568-d31abe159e35"
      },
      "source": [
        "small_sensitivity = 0.1 \n",
        "conversion_rate = 0.03468\n",
        "# Find the conversion rate when increased by the percentage of the sensitivity above\n",
        "small_conversion_rate = conversion_rate * (1 + small_sensitivity) \n",
        "\n",
        "# Apply the new conversion rate to find how many more users per day that translates to\n",
        "small_purchasers = daily_paywall_views * small_conversion_rate\n",
        "\n",
        "# Subtract the initial daily_purcahsers number from this new value to see the lift\n",
        "purchaser_lift = small_purchasers - daily_purchases\n",
        "\n",
        "print(small_conversion_rate)\n",
        "print(small_purchasers)\n",
        "print(purchaser_lift)"
      ],
      "execution_count": 29,
      "outputs": [
        {
          "output_type": "stream",
          "text": [
            "0.03814800000000001\n",
            "1330.0491519756843\n",
            "1171.6069027355627\n"
          ],
          "name": "stdout"
        }
      ]
    },
    {
      "cell_type": "markdown",
      "metadata": {
        "id": "B8g6GF2TIWs4",
        "colab_type": "text"
      },
      "source": [
        "Standard error\n",
        "\n",
        "Notice how closely the standard error is related to our sample size?"
      ]
    },
    {
      "cell_type": "code",
      "metadata": {
        "id": "nG6YWEnKIXv3",
        "colab_type": "code",
        "colab": {
          "base_uri": "https://localhost:8080/",
          "height": 53
        },
        "outputId": "9d8f3ae4-0284-4c2f-dfb4-ec391098ecc3"
      },
      "source": [
        "# Find the number of paywall views \n",
        "n = purchase_data.purchases.count()\n",
        "\n",
        "# Calculate the quantitiy \"v\"\n",
        "v = conversion_rate * (1 - conversion_rate) \n",
        "\n",
        "# Calculate the variance and standard error of the estimate\n",
        "var = v / n \n",
        "se = var**0.5\n",
        "\n",
        "print(var)\n",
        "print(se)"
      ],
      "execution_count": 30,
      "outputs": [
        {
          "output_type": "stream",
          "text": [
            "7.296231196739534e-07\n",
            "0.0008541797935294146\n"
          ],
          "name": "stdout"
        }
      ]
    },
    {
      "cell_type": "markdown",
      "metadata": {
        "id": "YMGAgRhm7V7p",
        "colab_type": "text"
      },
      "source": [
        "Null hypothesis\n",
        "- Hypothesis that control & treatment have the same impact on the response\n",
        "  - Updated paywall does not improve conversion rate\n",
        "  - Any observed difference is due to randomness\n",
        "- Rejecting the Null Hypothesis\n",
        "  - Determine their is a difference between the treatment and control\n",
        "  - Statistically significant result"
      ]
    },
    {
      "cell_type": "markdown",
      "metadata": {
        "id": "snyijOGC7osx",
        "colab_type": "text"
      },
      "source": [
        "Types of error & confidence level\n",
        "- Confidence Level: Probability of not making\n",
        "Type 1 Error\n",
        "- Higher this value, larger test sample needed\n",
        "- Common values: 0.90 & 0.95"
      ]
    },
    {
      "cell_type": "markdown",
      "metadata": {
        "id": "oB5G1R2vEO6H",
        "colab_type": "text"
      },
      "source": [
        "![](https://i.imgur.com/g4Oy8Uj.png)"
      ]
    },
    {
      "cell_type": "markdown",
      "metadata": {
        "id": "c945JpWm7yke",
        "colab_type": "text"
      },
      "source": [
        "Statistical power\n",
        "- Statistical Power: Probability of finding a statistically significant result when the Null Hypothesis is\n",
        "false"
      ]
    },
    {
      "cell_type": "markdown",
      "metadata": {
        "id": "NNAGfpNx75Tn",
        "colab_type": "text"
      },
      "source": [
        "Connecting the Different Components\n",
        "- Estimate our needed sample size from:\n",
        "  - needed level of sensitivity\n",
        "  - our desired test power & confidence level"
      ]
    },
    {
      "cell_type": "markdown",
      "metadata": {
        "id": "lpxBJovzEZZ-",
        "colab_type": "text"
      },
      "source": [
        "![](https://i.imgur.com/EvfAESC.png)"
      ]
    },
    {
      "cell_type": "markdown",
      "metadata": {
        "id": "ep47Ia3m8Bg9",
        "colab_type": "text"
      },
      "source": [
        "Power formula\n",
        "- Sample size increases = Power increases\n",
        "- Confidence level increases = Power decreases"
      ]
    },
    {
      "cell_type": "markdown",
      "metadata": {
        "id": "USArWve1AyPk",
        "colab_type": "text"
      },
      "source": [
        "With these particular values it looks like decreasing our confidence level has a slightly larger impact on the power than increasing our sample size"
      ]
    },
    {
      "cell_type": "code",
      "metadata": {
        "id": "c2qFwTJp8ncV",
        "colab_type": "code",
        "colab": {}
      },
      "source": [
        "from scipy import stats\n",
        "\n",
        "def get_power(n, p1, p2, cl):\n",
        "    alpha = 1 - cl\n",
        "    \n",
        "    qu = stats.norm.ppf(1 - alpha/2)\n",
        "    \n",
        "    diff = abs(p2 - p1)\n",
        "    bp = (p1 + p2) / 2\n",
        "    \n",
        "    v1 = p1 * (1 - p1)\n",
        "    v2 = p2 * (1 - p2)\n",
        "    \n",
        "    bv = bp * (1 - bp)\n",
        "    \n",
        "    power_part_one = stats.norm.cdf((n**0.5 * diff - qu * (2 * bv)**0.5)/ (v1 + v2)**0.5)\n",
        "    power_part_two = 1 - stats.norm.cdf((n**0.5 * diff + qu * (2 * bv)**0.5)/ (v1 + v2)**0.5)\n",
        "    \n",
        "    power = power_part_one + power_part_two\n",
        "    return(power)"
      ],
      "execution_count": 31,
      "outputs": []
    },
    {
      "cell_type": "code",
      "metadata": {
        "id": "3bc6wq9R89MK",
        "colab_type": "code",
        "colab": {
          "base_uri": "https://localhost:8080/",
          "height": 53
        },
        "outputId": "2eff8341-a30b-4be4-dcc5-0479c0c5af93"
      },
      "source": [
        "p1 = 0.1\n",
        "p2 = 0.12\n",
        "cl = 0.95\n",
        "n1 = 1000\n",
        "\n",
        "# Look at the impact of sample size increase on power\n",
        "n_param_one = get_power(n=1000, p1=p1, p2=p2, cl=cl)\n",
        "n_param_two = get_power(n=2000, p1=p1, p2=p2, cl=cl)\n",
        "# Look at the impact of confidence level increase on power\n",
        "alpha_param_one = get_power(n=n1, p1=p1, p2=p2, cl=0.8)\n",
        "alpha_param_two = get_power(n=n1, p1=p1, p2=p2, cl=0.95)\n",
        "    \n",
        "# Compare the ratios\n",
        "print(n_param_two / n_param_one)\n",
        "print(alpha_param_one / alpha_param_two)"
      ],
      "execution_count": 32,
      "outputs": [
        {
          "output_type": "stream",
          "text": [
            "1.7596440001351992\n",
            "1.8857367092232278\n"
          ],
          "name": "stdout"
        }
      ]
    },
    {
      "cell_type": "markdown",
      "metadata": {
        "id": "jTQ9qC0xAPMN",
        "colab_type": "text"
      },
      "source": [
        "Calculating our needed sample size\n",
        "- Baseline Conversion Rate: 0.03468 (calculated previously)\n",
        "- Confidence Level: 0.95 (chosen by us)\n",
        "- Desired Power: 0.80 (chosen by us)\n",
        "- Sensitivity: 0.1 (chosen by us)"
      ]
    },
    {
      "cell_type": "markdown",
      "metadata": {
        "id": "RcLi-uBKAYDm",
        "colab_type": "text"
      },
      "source": [
        "Generality of this function\n",
        "- Function shown specific to conversion rate calculations\n",
        "- Different response variables have different but analogous formulas"
      ]
    },
    {
      "cell_type": "markdown",
      "metadata": {
        "id": "GtbYAqErAb_T",
        "colab_type": "text"
      },
      "source": [
        "Decreasing the needed sample size\n",
        "- Choose a unit of observation with lower variability\n",
        "- Excluding users irrelevant to the process/change\n",
        "- Think through how different factors relate to the sample size"
      ]
    },
    {
      "cell_type": "code",
      "metadata": {
        "id": "6GUcL2Xc8sZu",
        "colab_type": "code",
        "colab": {}
      },
      "source": [
        "# power and confidence level\n",
        "def get_sample_size(power, p1, p2, cl, max_n=1000000):\n",
        "    n = 1 \n",
        "    while n <= max_n:\n",
        "        tmp_power = get_power(n, p1, p2, cl)\n",
        "\n",
        "        if tmp_power >= power: \n",
        "            return n \n",
        "        else: \n",
        "            n = n + 100\n",
        "\n",
        "    return \"Increase Max N Value\""
      ],
      "execution_count": 33,
      "outputs": []
    },
    {
      "cell_type": "code",
      "metadata": {
        "id": "9hJftIKuBG2l",
        "colab_type": "code",
        "colab": {
          "base_uri": "https://localhost:8080/",
          "height": 70
        },
        "outputId": "b4f45143-a4ae-494b-c707-1703e034039b"
      },
      "source": [
        "# Merge the demographics and purchase data to only include paywall views\n",
        "# purchase_data = demographics_data.merge(paywall_views, how='inner', on=['uid'])\n",
        "                            \n",
        "# Find the conversion rate\n",
        "conversion_rate = (sum(purchase_data.purchases) / purchase_data.purchases.count()) / 100\n",
        "            \n",
        "print(conversion_rate)\n",
        "\n",
        "         \n",
        "# Desired Power: 0.8\n",
        "# CL: 0.90\n",
        "# Percent Lift: 0.1\n",
        "p2 = conversion_rate * (1 + 0.1)\n",
        "sample_size = get_sample_size(0.8, conversion_rate, p2, 0.90)\n",
        "print(sample_size)\n",
        "\n",
        "# Desired Power: 0.95\n",
        "# CL 0.90\n",
        "# Percent Lift: 0.1\n",
        "p2 = conversion_rate * (1 + 0.1)\n",
        "sample_size = get_sample_size(0.95, conversion_rate, p2, 0.9)\n",
        "print(sample_size)"
      ],
      "execution_count": 34,
      "outputs": [
        {
          "output_type": "stream",
          "text": [
            "0.0454438463047316\n",
            "27301\n",
            "47701\n"
          ],
          "name": "stdout"
        }
      ]
    },
    {
      "cell_type": "markdown",
      "metadata": {
        "id": "FiMesU-lCU6o",
        "colab_type": "text"
      },
      "source": [
        "#  Analyzing A/B Testing Results"
      ]
    },
    {
      "cell_type": "markdown",
      "metadata": {
        "id": "vEG-vfq2DAHU",
        "colab_type": "text"
      },
      "source": [
        "Analyzing A/B test results\n",
        "- How to analyze an A/B test\n",
        "- Further topics in A/B testing"
      ]
    },
    {
      "cell_type": "markdown",
      "metadata": {
        "id": "XsM3dLkRDCbD",
        "colab_type": "text"
      },
      "source": [
        "Evaluating our paywall test\n",
        "- So far: Run our test for the specified amount of\n",
        "time\n",
        "- Next: Compare the two groups' purchase rates"
      ]
    },
    {
      "cell_type": "markdown",
      "metadata": {
        "id": "yYlfD5VEDH1w",
        "colab_type": "text"
      },
      "source": [
        "Confirming our test results\n",
        "- Crucial to validate your test data\n",
        "  - Does the data look reasonable?\n",
        "  - Ensure you have a random sample"
      ]
    },
    {
      "cell_type": "markdown",
      "metadata": {
        "id": "qV9UibfcDOKM",
        "colab_type": "text"
      },
      "source": [
        "Is the result statistically significant?\n",
        "- Statistical Significance: Are the conversion rates different enough?\n",
        "  - If yes then we reject the null hypothesis\n",
        "  - Conclude that the paywall's have different effects\n",
        "  - If no then it may just be randomness"
      ]
    },
    {
      "cell_type": "markdown",
      "metadata": {
        "id": "zISzyxhlDWP1",
        "colab_type": "text"
      },
      "source": [
        "p-values\n",
        "- probability if the Null Hypothesis is true...\n",
        "- of observing a value as or more extreme...\n",
        "- than the one we observed\n",
        "- Low p-values\n",
        "  - represent potentially signi?cant results\n",
        "  - the observation is unlikely to have happened due to randomness"
      ]
    },
    {
      "cell_type": "markdown",
      "metadata": {
        "id": "LINLNWW6DbpP",
        "colab_type": "text"
      },
      "source": [
        "Interpreting p-values\n",
        "- Controversial concept in some ways\n",
        "- Typically: accept or reject hypothesis based on the p-value\n",
        "- Below table shows the general rules of thumb:"
      ]
    },
    {
      "cell_type": "markdown",
      "metadata": {
        "id": "4Dd8c5o2DfBV",
        "colab_type": "text"
      },
      "source": [
        "Next steps\n",
        "1. Confirm our results\n",
        "2. Explore how to provide useful context for them"
      ]
    },
    {
      "cell_type": "markdown",
      "metadata": {
        "id": "hHoEVq11LHyd",
        "colab_type": "text"
      },
      "source": [
        "Confirming our test results"
      ]
    },
    {
      "cell_type": "code",
      "metadata": {
        "id": "ezWNHJekLMgP",
        "colab_type": "code",
        "colab": {
          "base_uri": "https://localhost:8080/",
          "height": 124
        },
        "outputId": "c173043e-a3e5-441e-c7e3-997b8eb25cd3"
      },
      "source": [
        "# load ab_test_results\n",
        "ab_test_results = pd.read_csv('https://assets.datacamp.com/production/repositories/1646/datasets/2751adce60684a03d8b4132adeadab8a0b95ee56/AB_testing_exercise.csv')\n",
        "# print the head of ab_test_results\n",
        "print(ab_test_results.head())"
      ],
      "execution_count": 35,
      "outputs": [
        {
          "output_type": "stream",
          "text": [
            "        uid country gender  spent  purchases        date  group device\n",
            "0  11115722     MEX      F   1595          5  2016-03-08  GRP B      I\n",
            "1  11122053     USA      M    498          2  2017-07-14  GRP B      I\n",
            "2  11128688     USA      F   2394          6  2017-09-17  GRP A      I\n",
            "3  11130578     USA      F   1197          3  2017-11-30  GRP A      I\n",
            "4  11130759     ESP      M   1297          3  2018-01-10  GRP B      A\n"
          ],
          "name": "stdout"
        }
      ]
    },
    {
      "cell_type": "code",
      "metadata": {
        "id": "bSq0e_z2BLP-",
        "colab_type": "code",
        "colab": {
          "base_uri": "https://localhost:8080/",
          "height": 88
        },
        "outputId": "8d1c3604-49e5-4d53-82de-c1609973c34c"
      },
      "source": [
        "# Find the unique users in each group \n",
        "results = ab_test_results.groupby('group').agg({'uid': pd.Series.nunique}) \n",
        "\n",
        "# Find the overall number of unique users using \"len\" and \"unique\"\n",
        "unique_users = len(ab_test_results.uid.unique()) \n",
        "\n",
        "# Find the percentage in each group\n",
        "results = results / unique_users * 100\n",
        "print(results)"
      ],
      "execution_count": 36,
      "outputs": [
        {
          "output_type": "stream",
          "text": [
            "             uid\n",
            "group           \n",
            "GRP A  50.147113\n",
            "GRP B  49.852887\n"
          ],
          "name": "stdout"
        }
      ]
    },
    {
      "cell_type": "code",
      "metadata": {
        "id": "OddkBnf_LZvQ",
        "colab_type": "code",
        "colab": {
          "base_uri": "https://localhost:8080/",
          "height": 195
        },
        "outputId": "7447a696-9c2c-4402-b9e8-74c10d0dcfa4"
      },
      "source": [
        "# Find the unique users in each group, by device and gender\n",
        "results = ab_test_results.groupby(by=['group', 'device', 'gender']).agg({'uid': pd.Series.nunique}) \n",
        "\n",
        "# Find the overall number of unique users using \"len\" and \"unique\"\n",
        "unique_users = len(ab_test_results.uid.unique())\n",
        "\n",
        "# Find the percentage in each group\n",
        "results = results / unique_users * 100\n",
        "print(results)"
      ],
      "execution_count": 37,
      "outputs": [
        {
          "output_type": "stream",
          "text": [
            "                           uid\n",
            "group device gender           \n",
            "GRP A A      F       12.239827\n",
            "             M       12.795589\n",
            "      I      F       12.542772\n",
            "             M       12.568925\n",
            "GRP B A      F       12.553669\n",
            "             M       12.499183\n",
            "      I      F       12.283417\n",
            "             M       12.516618\n"
          ],
          "name": "stdout"
        }
      ]
    },
    {
      "cell_type": "markdown",
      "metadata": {
        "id": "E5JC5sFSLz7n",
        "colab_type": "text"
      },
      "source": [
        "Thinking critically about p-values\n",
        "\n",
        "The p-value is the probability of observing a value as or more extreme than the one observed under the Null Hypothesis."
      ]
    },
    {
      "cell_type": "markdown",
      "metadata": {
        "id": "qmJDz8toOZb8",
        "colab_type": "text"
      },
      "source": [
        "Revisiting statistical significance\n",
        "- Distribution of expected difference between\n",
        "control and test groups if the Null Hypothesis true\n",
        "- Red line: The observed difference in conversion\n",
        "rates from our test\n",
        "- p-value: Probability of being as or more\n",
        "extreme than the red line on either side of the\n",
        "distribution"
      ]
    },
    {
      "cell_type": "markdown",
      "metadata": {
        "id": "uSgI4oa-OpGQ",
        "colab_type": "text"
      },
      "source": [
        "Calculating our p-value\n",
        "- Observe a small p-value and statistically significant results\n",
        "- Achieved lift is relatively large"
      ]
    },
    {
      "cell_type": "markdown",
      "metadata": {
        "id": "h8_RFkzBOtHt",
        "colab_type": "text"
      },
      "source": [
        "What is a con?dence interval\n",
        "- Range of values for our estimation rather than single number\n",
        "- Provides context for our estimation process\n",
        "- Series of repeated experiments...\n",
        "  - the calculated intervals will contain the true parameter X% of the time\n",
        "- The true conversion rate is a fixed quantity, our estimation and the interval are variable"
      ]
    },
    {
      "cell_type": "markdown",
      "metadata": {
        "id": "dWaRYiInO7D4",
        "colab_type": "text"
      },
      "source": [
        "Confidence interval calculation\n",
        "- Confidence Interval Formula\n",
        "μ± Φ (α + (1-α)/2)× σ\n",
        "- Estimated parameter (difference in conversion rates) follows Normal Distribution\n",
        "- Can estimate the:\n",
        "  - standard deviation ( σ ) and...\n",
        "  - mean ( μ ) of this distribution\n",
        "- α : Desired confidence interval width\n",
        "- Bounds containing X% of the probability around the mean (e.g. 95%) of that distribution"
      ]
    },
    {
      "cell_type": "markdown",
      "metadata": {
        "id": "CegFY5-hPct8",
        "colab_type": "text"
      },
      "source": [
        "Calculating confidence intervals\n",
        "- test_conv : test group conversion rate\n",
        "- con_conv : control group conversion rate\n",
        "- test_size : test group observations\n",
        "- con_size : control group observations"
      ]
    },
    {
      "cell_type": "markdown",
      "metadata": {
        "id": "ht951uQ2Phdz",
        "colab_type": "text"
      },
      "source": [
        "Next steps\n",
        "- Adding context to our test results\n",
        "- Communicating the data through visualizations"
      ]
    },
    {
      "cell_type": "markdown",
      "metadata": {
        "id": "Kk3UB08IPlE5",
        "colab_type": "text"
      },
      "source": [
        "Intuition behind statistical significance\n",
        "\n",
        "To recap we observed that a large lift makes us confident in our observed result, while a small sample size makes us less so, and ultimately high variance can lead to a high p-value!"
      ]
    },
    {
      "cell_type": "code",
      "metadata": {
        "id": "34UXR8fUPlpB",
        "colab_type": "code",
        "colab": {}
      },
      "source": [
        "def get_pvalue(con_conv, test_conv, con_size, test_size):  \n",
        "    lift =  - abs(test_conv - con_conv)\n",
        "\n",
        "    scale_one = con_conv * (1 - con_conv) * (1 / con_size)\n",
        "    scale_two = test_conv * (1 - test_conv) * (1 / test_size)\n",
        "    scale_val = (scale_one + scale_two)**0.5\n",
        "\n",
        "    p_value = 2 * stats.norm.cdf(lift, loc = 0, scale = scale_val )\n",
        "\n",
        "    return p_value"
      ],
      "execution_count": 38,
      "outputs": []
    },
    {
      "cell_type": "code",
      "metadata": {
        "id": "5SXuC2CRPnx4",
        "colab_type": "code",
        "colab": {
          "base_uri": "https://localhost:8080/",
          "height": 70
        },
        "outputId": "b2ec990c-fbe0-4fd5-b1a8-27d70f3b3c30"
      },
      "source": [
        "# Get the p-value\n",
        "p_value = get_pvalue(con_conv=0.1, test_conv=0.17, con_size=1000, test_size=1000)\n",
        "print(p_value)\n",
        "\n",
        "# Get the p-value\n",
        "p_value = get_pvalue(con_conv=0.1, test_conv=0.15, con_size=100, test_size=100)\n",
        "print(p_value)\n",
        "\n",
        "# Get the p-value\n",
        "p_value = get_pvalue(con_conv=0.48, test_conv=0.5, con_size=1000, test_size=1000)\n",
        "print(p_value)"
      ],
      "execution_count": 41,
      "outputs": [
        {
          "output_type": "stream",
          "text": [
            "4.131297741047306e-06\n",
            "0.28366948940702086\n",
            "0.370901935824383\n"
          ],
          "name": "stdout"
        }
      ]
    },
    {
      "cell_type": "markdown",
      "metadata": {
        "id": "9BlMZPyaQTsx",
        "colab_type": "text"
      },
      "source": [
        "Checking for statistical significance\n",
        "\n",
        "It looks like our result is significant. Now we can continue on to provide confidence intervals."
      ]
    },
    {
      "cell_type": "code",
      "metadata": {
        "id": "peZDflD-QUME",
        "colab_type": "code",
        "colab": {
          "base_uri": "https://localhost:8080/",
          "height": 53
        },
        "outputId": "1ca495d0-7d73-4bc5-dfe6-c3caaf689575"
      },
      "source": [
        "cont_conv = 0.09096495570387314\n",
        "test_conv = 0.1020053238686779\n",
        "cont_size = 5329\n",
        "test_size = 5748\n",
        "\n",
        "# Compute the p-value\n",
        "p_value = get_pvalue(con_conv=cont_conv, test_conv=test_conv, con_size=cont_size, test_size=test_size)\n",
        "print(p_value)\n",
        "\n",
        "# Check for statistical significance\n",
        "if p_value >= 0.05:\n",
        "    print(\"Not Significant\")\n",
        "else:\n",
        "    print(\"Significant Result\")"
      ],
      "execution_count": 42,
      "outputs": [
        {
          "output_type": "stream",
          "text": [
            "0.04900185792087508\n",
            "Significant Result\n"
          ],
          "name": "stdout"
        }
      ]
    },
    {
      "cell_type": "markdown",
      "metadata": {
        "id": "hTfTiSZNQzMZ",
        "colab_type": "text"
      },
      "source": [
        "Understanding confidence intervals\n",
        "\n",
        "As our standard deviation decreases so too does the width of our confidence interval."
      ]
    },
    {
      "cell_type": "code",
      "metadata": {
        "id": "1nE8qrQpQ1GD",
        "colab_type": "code",
        "colab": {}
      },
      "source": [
        "def get_ci(value, cl, sd):\n",
        "  loc = stats.norm.ppf(1 - cl/2)\n",
        "  rng_val = stats.norm.cdf(loc - value/sd)\n",
        "\n",
        "  lwr_bnd = value - rng_val\n",
        "  upr_bnd = value + rng_val \n",
        "\n",
        "  return_val = (lwr_bnd, upr_bnd)\n",
        "  return(return_val)"
      ],
      "execution_count": 47,
      "outputs": []
    },
    {
      "cell_type": "code",
      "metadata": {
        "id": "drgHxUsiQ3SH",
        "colab_type": "code",
        "colab": {
          "base_uri": "https://localhost:8080/",
          "height": 70
        },
        "outputId": "ec70b8b1-22e8-4456-a80e-ad3e65ef4b93"
      },
      "source": [
        "# Compute and print the confidence interval\n",
        "confidence_interval  = get_ci(1, 0.975, 0.5)\n",
        "print(confidence_interval)\n",
        "\n",
        "# Compute and print the confidence interval\n",
        "confidence_interval  = get_ci(1, 0.95, 2)\n",
        "print(confidence_interval)\n",
        "\n",
        "# Compute and print the confidence interval\n",
        "confidence_interval  = get_ci(1, 0.95, 0.001)\n",
        "print(confidence_interval)"
      ],
      "execution_count": 49,
      "outputs": [
        {
          "output_type": "stream",
          "text": [
            "(0.9755040421682947, 1.0244959578317054)\n",
            "(0.6690506448818785, 1.3309493551181215)\n",
            "(1.0, 1.0)\n"
          ],
          "name": "stdout"
        }
      ]
    },
    {
      "cell_type": "markdown",
      "metadata": {
        "id": "zHIipCrzRuVV",
        "colab_type": "text"
      },
      "source": [
        "Calculating confidence intervals\n",
        "\n",
        "Notice that our interval is very narrow thanks to our substantial lift and large sample size."
      ]
    },
    {
      "cell_type": "code",
      "metadata": {
        "id": "X3RWL4N4Ruum",
        "colab_type": "code",
        "colab": {
          "base_uri": "https://localhost:8080/",
          "height": 35
        },
        "outputId": "112e40ee-0bad-4326-9c36-e058f6a2befc"
      },
      "source": [
        "test_conv = 0.102005\n",
        "cont_conv = 0.090965\n",
        "test_size = 56350\n",
        "cont_size = 58583\n",
        "\n",
        "# Calculate the mean of our lift distribution \n",
        "lift_mean = test_conv - cont_conv \n",
        "\n",
        "# Calculate variance and standard deviation \n",
        "lift_variance = (1 - test_conv) * test_conv /test_size + (1 - cont_conv) * cont_conv / cont_size\n",
        "lift_sd = lift_variance**0.5\n",
        "\n",
        "# Find the confidence intervals with cl = 0.95\n",
        "confidence_interval = get_ci(lift_mean, 0.95, lift_sd)\n",
        "print(confidence_interval)"
      ],
      "execution_count": 51,
      "outputs": [
        {
          "output_type": "stream",
          "text": [
            "(0.011039999822042502, 0.011040000177957487)\n"
          ],
          "name": "stdout"
        }
      ]
    },
    {
      "cell_type": "markdown",
      "metadata": {
        "id": "4unHTKS-TjQ9",
        "colab_type": "text"
      },
      "source": [
        "Factors to communicate"
      ]
    },
    {
      "cell_type": "markdown",
      "metadata": {
        "id": "Mb7rUX-XTkDC",
        "colab_type": "text"
      },
      "source": [
        "![](https://i.imgur.com/b1SBtJV.png)"
      ]
    },
    {
      "cell_type": "markdown",
      "metadata": {
        "id": "gZwo-tCoTsht",
        "colab_type": "text"
      },
      "source": [
        "Visualizing your results\n",
        "- Histogram: Bucketed counts of observations\n",
        "across values\n",
        "- Histogram of centered and scaled conversion\n",
        "rates for users\n",
        "  - (conv_rate - mean) / sd"
      ]
    },
    {
      "cell_type": "markdown",
      "metadata": {
        "id": "ZdqRhMW1T-V4",
        "colab_type": "text"
      },
      "source": [
        "Plotting the difference of conversion rates\n",
        "- The difference of Normal Distributions is a Normal Distribution\n",
        "  - Mean: Difference of the means\n",
        "  - Variance: Sum of the variances"
      ]
    },
    {
      "cell_type": "markdown",
      "metadata": {
        "id": "fUgDqbj5VNkt",
        "colab_type": "text"
      },
      "source": [
        "Plotting the distribution\n",
        "\n",
        "We see no overlap, which intuitively implies that our test and control conversion rates are significantly distinct."
      ]
    },
    {
      "cell_type": "code",
      "metadata": {
        "id": "wjjIrueQUhBJ",
        "colab_type": "code",
        "colab": {
          "base_uri": "https://localhost:8080/",
          "height": 268
        },
        "outputId": "c2cd8925-5e4a-4172-9f54-8de980064d43"
      },
      "source": [
        "cont_var = 1.411507925080655e-06\n",
        "test_var = 1.6255542142857143e-06\n",
        "\n",
        "# Compute the standard deviations\n",
        "control_sd = cont_var**0.5\n",
        "test_sd = test_var**0.5\n",
        "\n",
        "# Create the range of x values \n",
        "control_line = np.linspace( cont_conv - 3 * control_sd, cont_conv + 3 * control_sd , 100)\n",
        "test_line = np.linspace( test_conv - 3 * test_sd,  test_conv + 3 * test_sd , 100)\n",
        "\n",
        "# Plot the distribution \n",
        "plt.plot(control_line, stats.norm.pdf(control_line, cont_conv, control_sd))\n",
        "plt.plot(test_line, stats.norm.pdf(test_line,test_conv, test_sd))\n",
        "plt.show()"
      ],
      "execution_count": 55,
      "outputs": [
        {
          "output_type": "display_data",
          "data": {
            "image/png": "[encoded data removed]",
            "text/plain": [
              "<Figure size 432x288 with 1 Axes>"
            ]
          },
          "metadata": {
            "tags": [],
            "needs_background": "light"
          }
        }
      ]
    },
    {
      "cell_type": "markdown",
      "metadata": {
        "id": "UGy9wLrEVT0M",
        "colab_type": "text"
      },
      "source": [
        "Plotting the difference distribution\n",
        "\n",
        "This really contextualizes the lift we observed and provides more information than reporting the numerical point estimate alone would."
      ]
    },
    {
      "cell_type": "code",
      "metadata": {
        "id": "7AaQDSEpVUUY",
        "colab_type": "code",
        "colab": {
          "base_uri": "https://localhost:8080/",
          "height": 265
        },
        "outputId": "0e365bd3-cbcc-48ce-e0e2-8227cc49180e"
      },
      "source": [
        "lwr_ci = 0.01103999822042502\n",
        "upr_ci = 0.011040000177957487\n",
        "\n",
        "# Find the lift mean and standard deviation\n",
        "lift_mean = test_conv - cont_conv\n",
        "lift_sd = (test_var + cont_var) ** 0.5\n",
        "\n",
        "# Generate the range of x-values\n",
        "lift_line = np.linspace(lift_mean - 3 * lift_sd, lift_mean + 3 * lift_sd, 100)\n",
        "\n",
        "# Plot the lift distribution\n",
        "plt.plot(lift_line, stats.norm.pdf(lift_line, lift_mean, lift_sd))\n",
        "\n",
        "# Add the annotation lines\n",
        "plt.axvline(x = lift_mean, color = 'green')\n",
        "plt.axvline(x = lwr_ci, color = 'red')\n",
        "plt.axvline(x = upr_ci, color = 'red')\n",
        "plt.show()"
      ],
      "execution_count": 58,
      "outputs": [
        {
          "output_type": "display_data",
          "data": {
            "image/png": "[encoded data removed]",
            "text/plain": [
              "<Figure size 432x288 with 1 Axes>"
            ]
          },
          "metadata": {
            "tags": [],
            "needs_background": "light"
          }
        }
      ]
    }
  ]
}